{
  "nbformat": 4,
  "nbformat_minor": 0,
  "metadata": {
    "colab": {
      "name": "Ex5.1.ipynb",
      "provenance": [],
      "collapsed_sections": [],
      "authorship_tag": "ABX9TyMI2/VpCzZx04sy1vhKvOnG",
      "include_colab_link": true
    },
    "kernelspec": {
      "name": "python3",
      "display_name": "Python 3"
    },
    "language_info": {
      "name": "python"
    }
  },
  "cells": [
    {
      "cell_type": "markdown",
      "metadata": {
        "id": "view-in-github",
        "colab_type": "text"
      },
      "source": [
        "<a href=\"https://colab.research.google.com/github/Alecia113/NLP-Ex/blob/main/Ex5_1.ipynb\" target=\"_parent\"><img src=\"https://colab.research.google.com/assets/colab-badge.svg\" alt=\"Open In Colab\"/></a>"
      ]
    },
    {
      "cell_type": "code",
      "metadata": {
        "id": "S4eYpGmOhF85"
      },
      "source": [
        ""
      ],
      "execution_count": null,
      "outputs": []
    },
    {
      "cell_type": "markdown",
      "metadata": {
        "id": "GyJ0EurQEfVe"
      },
      "source": [
        "## E1. Briefly describe the difference between Stemming and Lemmatisation.\n",
        "Please write down your answer below in your own words with **examples**"
      ]
    },
    {
      "cell_type": "markdown",
      "metadata": {
        "id": "nxvu2s-QEy4c"
      },
      "source": [
        "Your answer: Stemming 是去除先后坠取词根。 Lemmatisation 过去式，复数，比较级找原型。（粗浅理解）"
      ]
    },
    {
      "cell_type": "markdown",
      "metadata": {
        "id": "z9dPCF1BMNpv"
      },
      "source": [
        "## E2. Preprocessing and Model Saving\n",
        "In this exercise, you are to preprocess the train and test data, and apply different pre-trained embeddings.\n",
        "\n",
        "**Note**: We won't mark your exercise based on the test set performance, we will only check whether the preprocessing part and embedding part are correct.\n",
        "注意：我们不会根据测试集的性能给你的练习打分，我们只检查预处理部分和嵌入部分是否正确。\n"
      ]
    },
    {
      "cell_type": "code",
      "metadata": {
        "id": "BlGFg9jv8xwF"
      },
      "source": [
        "#precrocessing part + embedding part (correct)"
      ],
      "execution_count": 1,
      "outputs": []
    },
    {
      "cell_type": "code",
      "metadata": {
        "id": "jKxN3z5FPRcw"
      },
      "source": [
        "import torch\n",
        "#You can enable GPU here (cuda); or just CPU\n",
        "device = torch.device(\"cuda\" if torch.cuda.is_available() else \"cpu\") "
      ],
      "execution_count": 1,
      "outputs": []
    },
    {
      "cell_type": "markdown",
      "metadata": {
        "id": "DC69XgVlLuPi"
      },
      "source": [
        "### Download Dataset"
      ]
    },
    {
      "cell_type": "code",
      "metadata": {
        "id": "zl7OaslvLuPo"
      },
      "source": [
        "# Code to download file into Colaboratory:\n",
        "!pip install -U -q PyDrive\n",
        "from pydrive.auth import GoogleAuth\n",
        "from pydrive.drive import GoogleDrive\n",
        "from google.colab import auth\n",
        "from oauth2client.client import GoogleCredentials\n",
        "# Authenticate and create the PyDrive client.\n",
        "auth.authenticate_user()\n",
        "gauth = GoogleAuth()\n",
        "gauth.credentials = GoogleCredentials.get_application_default()\n",
        "drive = GoogleDrive(gauth)\n",
        "\n",
        "id = '1gNfBqguzBu8cHKMPc8C44GbvD443dNC5'\n",
        "downloaded = drive.CreateFile({'id':id}) \n",
        "downloaded.GetContentFile('twitter.csv')  \n",
        "\n",
        "import pandas as pd\n",
        "df = pd.read_csv(\"twitter.csv\")\n",
        "df_pick = df.sample(400,random_state=24)\n",
        "\n",
        "raw_text = df_pick[\"Text\"].tolist()\n",
        "raw_label = df_pick[\"Label\"].tolist()\n",
        "\n",
        "from sklearn.model_selection import train_test_split\n",
        "text_train,text_test,label_train,label_test = train_test_split(raw_text,raw_label,test_size=0.25,random_state=42) #test_size=0.25表示取了四分之一的数据来测试模型"
      ],
      "execution_count": 14,
      "outputs": []
    },
    {
      "cell_type": "markdown",
      "metadata": {
        "id": "L8BWMe11-kqv"
      },
      "source": [
        "#Test"
      ]
    },
    {
      "cell_type": "code",
      "metadata": {
        "id": "dq29f8ai-mTb"
      },
      "source": [
        ""
      ],
      "execution_count": 3,
      "outputs": []
    },
    {
      "cell_type": "code",
      "metadata": {
        "colab": {
          "base_uri": "https://localhost:8080/"
        },
        "id": "LSn21NSd-ZLd",
        "outputId": "b176e0c2-b532-4eab-b190-f72fcd2d7bdd"
      },
      "source": [
        "len(label_train)#300"
      ],
      "execution_count": 4,
      "outputs": [
        {
          "output_type": "execute_result",
          "data": {
            "text/plain": [
              "300"
            ]
          },
          "metadata": {
            "tags": []
          },
          "execution_count": 4
        }
      ]
    },
    {
      "cell_type": "code",
      "metadata": {
        "colab": {
          "base_uri": "https://localhost:8080/"
        },
        "id": "_chIboPj-UCt",
        "outputId": "02547563-5000-4977-c4f4-088690b6a153"
      },
      "source": [
        "len(label_test) #100"
      ],
      "execution_count": 15,
      "outputs": [
        {
          "output_type": "execute_result",
          "data": {
            "text/plain": [
              "100"
            ]
          },
          "metadata": {
            "tags": []
          },
          "execution_count": 15
        }
      ]
    },
    {
      "cell_type": "code",
      "metadata": {
        "colab": {
          "base_uri": "https://localhost:8080/"
        },
        "id": "5V9TSomB-LL5",
        "outputId": "a727075c-bbf3-4e6b-9315-4e4ec9f00880"
      },
      "source": [
        "len(text_train)#300"
      ],
      "execution_count": 6,
      "outputs": [
        {
          "output_type": "execute_result",
          "data": {
            "text/plain": [
              "300"
            ]
          },
          "metadata": {
            "tags": []
          },
          "execution_count": 6
        }
      ]
    },
    {
      "cell_type": "code",
      "metadata": {
        "colab": {
          "base_uri": "https://localhost:8080/"
        },
        "id": "54SnhoVz9teB",
        "outputId": "f5be3266-68ec-49f7-8da6-682b61c0aadd"
      },
      "source": [
        "len(text_test)  #100"
      ],
      "execution_count": 7,
      "outputs": [
        {
          "output_type": "execute_result",
          "data": {
            "text/plain": [
              "100"
            ]
          },
          "metadata": {
            "tags": []
          },
          "execution_count": 7
        }
      ]
    },
    {
      "cell_type": "code",
      "metadata": {
        "id": "aHyRxq-A9T2v",
        "colab": {
          "base_uri": "https://localhost:8080/",
          "height": 419
        },
        "outputId": "3cb3ab46-c48b-4633-cb7b-2f95d41e54a1"
      },
      "source": [
        "df  #16202 rows × 6 columns"
      ],
      "execution_count": 8,
      "outputs": [
        {
          "output_type": "execute_result",
          "data": {
            "text/html": [
              "<div>\n",
              "<style scoped>\n",
              "    .dataframe tbody tr th:only-of-type {\n",
              "        vertical-align: middle;\n",
              "    }\n",
              "\n",
              "    .dataframe tbody tr th {\n",
              "        vertical-align: top;\n",
              "    }\n",
              "\n",
              "    .dataframe thead th {\n",
              "        text-align: right;\n",
              "    }\n",
              "</style>\n",
              "<table border=\"1\" class=\"dataframe\">\n",
              "  <thead>\n",
              "    <tr style=\"text-align: right;\">\n",
              "      <th></th>\n",
              "      <th>Unnamed: 0</th>\n",
              "      <th>Tweet_ID</th>\n",
              "      <th>Previous</th>\n",
              "      <th>User_ID</th>\n",
              "      <th>Text</th>\n",
              "      <th>Label</th>\n",
              "    </tr>\n",
              "  </thead>\n",
              "  <tbody>\n",
              "    <tr>\n",
              "      <th>0</th>\n",
              "      <td>0</td>\n",
              "      <td>567080871472017408</td>\n",
              "      <td>5.670786e+17</td>\n",
              "      <td>2941145694</td>\n",
              "      <td>@truaemusic The followers of the religion give...</td>\n",
              "      <td>racism</td>\n",
              "    </tr>\n",
              "    <tr>\n",
              "      <th>1</th>\n",
              "      <td>1</td>\n",
              "      <td>566098518616449024</td>\n",
              "      <td>5.660874e+17</td>\n",
              "      <td>2941145694</td>\n",
              "      <td>@Love___Egypt @washingtonpost All the land tha...</td>\n",
              "      <td>racism</td>\n",
              "    </tr>\n",
              "    <tr>\n",
              "      <th>2</th>\n",
              "      <td>2</td>\n",
              "      <td>554672350361571328</td>\n",
              "      <td>NaN</td>\n",
              "      <td>2941145694</td>\n",
              "      <td>@CamilleHughes16 @edbarber101658 @_Watch_Obser...</td>\n",
              "      <td>racism</td>\n",
              "    </tr>\n",
              "    <tr>\n",
              "      <th>3</th>\n",
              "      <td>3</td>\n",
              "      <td>569878129772081153</td>\n",
              "      <td>5.698451e+17</td>\n",
              "      <td>2941145694</td>\n",
              "      <td>@KellyTurner99 @brushyblues @buellerishere The...</td>\n",
              "      <td>racism</td>\n",
              "    </tr>\n",
              "    <tr>\n",
              "      <th>4</th>\n",
              "      <td>4</td>\n",
              "      <td>568541747849998337</td>\n",
              "      <td>NaN</td>\n",
              "      <td>2941145694</td>\n",
              "      <td>@buellerishere Who cares. ISIS does what Moham...</td>\n",
              "      <td>racism</td>\n",
              "    </tr>\n",
              "    <tr>\n",
              "      <th>...</th>\n",
              "      <td>...</td>\n",
              "      <td>...</td>\n",
              "      <td>...</td>\n",
              "      <td>...</td>\n",
              "      <td>...</td>\n",
              "      <td>...</td>\n",
              "    </tr>\n",
              "    <tr>\n",
              "      <th>16197</th>\n",
              "      <td>16197</td>\n",
              "      <td>571505156325392384</td>\n",
              "      <td>5.715047e+17</td>\n",
              "      <td>13857342</td>\n",
              "      <td>@scaryjen @Alfuriuskj @Nayadrikj undead 4ever.</td>\n",
              "      <td>none</td>\n",
              "    </tr>\n",
              "    <tr>\n",
              "      <th>16198</th>\n",
              "      <td>16198</td>\n",
              "      <td>572338390630154240</td>\n",
              "      <td>NaN</td>\n",
              "      <td>2438299764</td>\n",
              "      <td>Here's a suggestion, let's make Manu and Colin...</td>\n",
              "      <td>none</td>\n",
              "    </tr>\n",
              "    <tr>\n",
              "      <th>16199</th>\n",
              "      <td>16199</td>\n",
              "      <td>574763524297117696</td>\n",
              "      <td>5.747632e+17</td>\n",
              "      <td>2941145694</td>\n",
              "      <td>@ardiem1m @Alfonso_AraujoG @MaxBlumenthal @old...</td>\n",
              "      <td>none</td>\n",
              "    </tr>\n",
              "    <tr>\n",
              "      <th>16200</th>\n",
              "      <td>16200</td>\n",
              "      <td>572335728392208384</td>\n",
              "      <td>NaN</td>\n",
              "      <td>126292381</td>\n",
              "      <td>Oh I knew it. Fuuuck. More restaurants. Ok I s...</td>\n",
              "      <td>none</td>\n",
              "    </tr>\n",
              "    <tr>\n",
              "      <th>16201</th>\n",
              "      <td>16201</td>\n",
              "      <td>570417661672206336</td>\n",
              "      <td>5.703072e+17</td>\n",
              "      <td>13857342</td>\n",
              "      <td>@Kickyfast @bonegolem @Totalbiscuit @srhbutts ...</td>\n",
              "      <td>none</td>\n",
              "    </tr>\n",
              "  </tbody>\n",
              "</table>\n",
              "<p>16202 rows × 6 columns</p>\n",
              "</div>"
            ],
            "text/plain": [
              "       Unnamed: 0  ...   Label\n",
              "0               0  ...  racism\n",
              "1               1  ...  racism\n",
              "2               2  ...  racism\n",
              "3               3  ...  racism\n",
              "4               4  ...  racism\n",
              "...           ...  ...     ...\n",
              "16197       16197  ...    none\n",
              "16198       16198  ...    none\n",
              "16199       16199  ...    none\n",
              "16200       16200  ...    none\n",
              "16201       16201  ...    none\n",
              "\n",
              "[16202 rows x 6 columns]"
            ]
          },
          "metadata": {
            "tags": []
          },
          "execution_count": 8
        }
      ]
    },
    {
      "cell_type": "code",
      "metadata": {
        "id": "U9dZpX9o9ZAp",
        "colab": {
          "base_uri": "https://localhost:8080/",
          "height": 419
        },
        "outputId": "1297569e-52b6-4403-d242-e1cba99cb664"
      },
      "source": [
        "df_pick #400 rows × 6 columns "
      ],
      "execution_count": 9,
      "outputs": [
        {
          "output_type": "execute_result",
          "data": {
            "text/html": [
              "<div>\n",
              "<style scoped>\n",
              "    .dataframe tbody tr th:only-of-type {\n",
              "        vertical-align: middle;\n",
              "    }\n",
              "\n",
              "    .dataframe tbody tr th {\n",
              "        vertical-align: top;\n",
              "    }\n",
              "\n",
              "    .dataframe thead th {\n",
              "        text-align: right;\n",
              "    }\n",
              "</style>\n",
              "<table border=\"1\" class=\"dataframe\">\n",
              "  <thead>\n",
              "    <tr style=\"text-align: right;\">\n",
              "      <th></th>\n",
              "      <th>Unnamed: 0</th>\n",
              "      <th>Tweet_ID</th>\n",
              "      <th>Previous</th>\n",
              "      <th>User_ID</th>\n",
              "      <th>Text</th>\n",
              "      <th>Label</th>\n",
              "    </tr>\n",
              "  </thead>\n",
              "  <tbody>\n",
              "    <tr>\n",
              "      <th>8875</th>\n",
              "      <td>8875</td>\n",
              "      <td>575595916066861056</td>\n",
              "      <td>NaN</td>\n",
              "      <td>573660240</td>\n",
              "      <td>#MKR always needs an evil team for ratings. Ka...</td>\n",
              "      <td>none</td>\n",
              "    </tr>\n",
              "    <tr>\n",
              "      <th>1583</th>\n",
              "      <td>1583</td>\n",
              "      <td>566494631513178113</td>\n",
              "      <td>5.664927e+17</td>\n",
              "      <td>2941145694</td>\n",
              "      <td>@discerningmumin Islam is a pile of manure tha...</td>\n",
              "      <td>racism</td>\n",
              "    </tr>\n",
              "    <tr>\n",
              "      <th>1269</th>\n",
              "      <td>1269</td>\n",
              "      <td>555151223276331008</td>\n",
              "      <td>5.551128e+17</td>\n",
              "      <td>2941145694</td>\n",
              "      <td>@Salon @TheMuslimGuy So when the subject of Is...</td>\n",
              "      <td>racism</td>\n",
              "    </tr>\n",
              "    <tr>\n",
              "      <th>2009</th>\n",
              "      <td>2009</td>\n",
              "      <td>572328892419080193</td>\n",
              "      <td>NaN</td>\n",
              "      <td>2459169938</td>\n",
              "      <td>RT @Craigles60Craig: So do you think pink undi...</td>\n",
              "      <td>sexism</td>\n",
              "    </tr>\n",
              "    <tr>\n",
              "      <th>6505</th>\n",
              "      <td>6505</td>\n",
              "      <td>566479391098957824</td>\n",
              "      <td>5.664790e+17</td>\n",
              "      <td>13857342</td>\n",
              "      <td>@tarah @girlziplocked @hypatiadotca @justkelly...</td>\n",
              "      <td>none</td>\n",
              "    </tr>\n",
              "    <tr>\n",
              "      <th>...</th>\n",
              "      <td>...</td>\n",
              "      <td>...</td>\n",
              "      <td>...</td>\n",
              "      <td>...</td>\n",
              "      <td>...</td>\n",
              "      <td>...</td>\n",
              "    </tr>\n",
              "    <tr>\n",
              "      <th>11535</th>\n",
              "      <td>11535</td>\n",
              "      <td>572967035048611841</td>\n",
              "      <td>5.727425e+17</td>\n",
              "      <td>2941145694</td>\n",
              "      <td>@DianH4 LOL. The prophet was suppose to create...</td>\n",
              "      <td>none</td>\n",
              "    </tr>\n",
              "    <tr>\n",
              "      <th>4107</th>\n",
              "      <td>4107</td>\n",
              "      <td>562434124313792512</td>\n",
              "      <td>NaN</td>\n",
              "      <td>2756873076</td>\n",
              "      <td>RT @Feminazi_Front: @She_TheWolf @brotheryello...</td>\n",
              "      <td>sexism</td>\n",
              "    </tr>\n",
              "    <tr>\n",
              "      <th>11862</th>\n",
              "      <td>11862</td>\n",
              "      <td>451002787212820480</td>\n",
              "      <td>NaN</td>\n",
              "      <td>930620467</td>\n",
              "      <td>RT @beadsland: What find truly astounding is n...</td>\n",
              "      <td>none</td>\n",
              "    </tr>\n",
              "    <tr>\n",
              "      <th>1767</th>\n",
              "      <td>1767</td>\n",
              "      <td>576622046957871104</td>\n",
              "      <td>5.766202e+17</td>\n",
              "      <td>2941145694</td>\n",
              "      <td>@dankmtl Again, idiot, none of that changes th...</td>\n",
              "      <td>racism</td>\n",
              "    </tr>\n",
              "    <tr>\n",
              "      <th>5067</th>\n",
              "      <td>5067</td>\n",
              "      <td>554067736179924992</td>\n",
              "      <td>5.539878e+17</td>\n",
              "      <td>930620467</td>\n",
              "      <td>RT @Hayles_Comet I'm not sexist but I'm starti...</td>\n",
              "      <td>sexism</td>\n",
              "    </tr>\n",
              "  </tbody>\n",
              "</table>\n",
              "<p>400 rows × 6 columns</p>\n",
              "</div>"
            ],
            "text/plain": [
              "       Unnamed: 0  ...   Label\n",
              "8875         8875  ...    none\n",
              "1583         1583  ...  racism\n",
              "1269         1269  ...  racism\n",
              "2009         2009  ...  sexism\n",
              "6505         6505  ...    none\n",
              "...           ...  ...     ...\n",
              "11535       11535  ...    none\n",
              "4107         4107  ...  sexism\n",
              "11862       11862  ...    none\n",
              "1767         1767  ...  racism\n",
              "5067         5067  ...  sexism\n",
              "\n",
              "[400 rows x 6 columns]"
            ]
          },
          "metadata": {
            "tags": []
          },
          "execution_count": 9
        }
      ]
    },
    {
      "cell_type": "code",
      "metadata": {
        "colab": {
          "base_uri": "https://localhost:8080/",
          "height": 69
        },
        "id": "NM9umRgW9kct",
        "outputId": "eb75d618-bd57-4970-e2fa-93af87acf332"
      },
      "source": [
        "raw_text  \n",
        "'''\n",
        " '@antizholim Tripple price, no customers.',\n",
        " '@BristolBen I think Arquette is a dummy who believes it. Not a Valenti who knowingly lies.',\n",
        " 'RT @mugnezee Not sexist , but watching girls ice hockey is really painful .. What are you doing ???',\n",
        " 'Oh well. Back to promo work #MKR #MKR2015',\n",
        " '\n",
        "'''"
      ],
      "execution_count": 10,
      "outputs": [
        {
          "output_type": "execute_result",
          "data": {
            "application/vnd.google.colaboratory.intrinsic+json": {
              "type": "string"
            },
            "text/plain": [
              "\"\\n '@antizholim Tripple price, no customers.',\\n '@BristolBen I think Arquette is a dummy who believes it. Not a Valenti who knowingly lies.',\\n 'RT @mugnezee Not sexist , but watching girls ice hockey is really painful .. What are you doing ???',\\n 'Oh well. Back to promo work #MKR #MKR2015',\\n '\\n\""
            ]
          },
          "metadata": {
            "tags": []
          },
          "execution_count": 10
        }
      ]
    },
    {
      "cell_type": "code",
      "metadata": {
        "id": "9HWNVaS29rd1",
        "colab": {
          "base_uri": "https://localhost:8080/",
          "height": 35
        },
        "outputId": "0ec99bdc-4e24-43d9-c4a1-a9d16381b184"
      },
      "source": [
        "raw_label \n",
        "'''\n",
        "'none',\n",
        " 'none',\n",
        " 'none',\n",
        " 'none',\n",
        " 'racism',种族主义\n",
        " 'sexism',性别歧视\n",
        " 'sexism',\n",
        " 'none',\n",
        " '''"
      ],
      "execution_count": 16,
      "outputs": [
        {
          "output_type": "execute_result",
          "data": {
            "application/vnd.google.colaboratory.intrinsic+json": {
              "type": "string"
            },
            "text/plain": [
              "\"\\n'none',\\n 'none',\\n 'none',\\n 'none',\\n 'racism',种族主义\\n 'sexism',性别歧视\\n 'sexism',\\n 'none',\\n \""
            ]
          },
          "metadata": {
            "tags": []
          },
          "execution_count": 16
        }
      ]
    },
    {
      "cell_type": "markdown",
      "metadata": {
        "id": "i92SvLGOLuPv"
      },
      "source": [
        "### Preprocessing [Complete this section]"
      ]
    },
    {
      "cell_type": "markdown",
      "metadata": {
        "id": "Xfp_5N2fLuPw"
      },
      "source": [
        "**Case Folding**折叠箱"
      ]
    },
    {
      "cell_type": "code",
      "metadata": {
        "id": "y-Y21vK7-63e"
      },
      "source": [
        "#你都做完lower了还在这看什么呢？？？"
      ],
      "execution_count": 12,
      "outputs": []
    },
    {
      "cell_type": "code",
      "metadata": {
        "id": "l9LggrTtLuPx"
      },
      "source": [
        "text_train = [s.lower() for s in text_train]\n",
        "text_test = [s.lower() for s in text_test]"
      ],
      "execution_count": 3,
      "outputs": []
    },
    {
      "cell_type": "markdown",
      "metadata": {
        "id": "Me80HG-E_GGq"
      },
      "source": [
        "**Test**"
      ]
    },
    {
      "cell_type": "code",
      "metadata": {
        "id": "ITsbuvRV_KJQ"
      },
      "source": [
        "#2.1"
      ],
      "execution_count": 14,
      "outputs": []
    },
    {
      "cell_type": "code",
      "metadata": {
        "colab": {
          "base_uri": "https://localhost:8080/",
          "height": 35
        },
        "id": "bWjE89II--d5",
        "outputId": "674d161e-f21e-4194-e70c-5b1e7277304a"
      },
      "source": [
        "text_train[99]"
      ],
      "execution_count": 15,
      "outputs": [
        {
          "output_type": "execute_result",
          "data": {
            "application/vnd.google.colaboratory.intrinsic+json": {
              "type": "string"
            },
            "text/plain": [
              "'rt @syazlicious: best describes kat and andre #mkr http://t.co/qaa6bwi4pm'"
            ]
          },
          "metadata": {
            "tags": []
          },
          "execution_count": 15
        }
      ]
    },
    {
      "cell_type": "code",
      "metadata": {
        "colab": {
          "base_uri": "https://localhost:8080/",
          "height": 52
        },
        "id": "VBxwWjZd-uQ9",
        "outputId": "bb106e0a-9deb-40af-db7d-c77d41623094"
      },
      "source": [
        "text_test[99]"
      ],
      "execution_count": 16,
      "outputs": [
        {
          "output_type": "execute_result",
          "data": {
            "application/vnd.google.colaboratory.intrinsic+json": {
              "type": "string"
            },
            "text/plain": [
              "'then q&amp;a for both of us keynote speakers got hijacked to show harassment happening live. both of us talked about diff aspects of harassment.'"
            ]
          },
          "metadata": {
            "tags": []
          },
          "execution_count": 16
        }
      ]
    },
    {
      "cell_type": "code",
      "metadata": {
        "id": "Z1wHGYF4AIDI",
        "colab": {
          "base_uri": "https://localhost:8080/",
          "height": 154
        },
        "outputId": "a73be291-2eb2-4b12-bef0-c630c29b1a96"
      },
      "source": [
        "'''\n",
        "[\"i'm thinking that daesh have no choice but to try to take back the \"\n",
        " 'intersection of hw 1 and hw 47 near tal afar.',\n",
        " \"@mikeage what isn't? ;p\",\n",
        " \"i was planning on stopping by portland again, but i don't think i'm going to \"\n",
        " 'have the time for that. too much to do when i get back.',\n",
        " '@directhex http://t.co/caxxus108l',\n",
        " \"did they drug colin's serving or...? #mkr\",\n",
        " 'rt @dubhe80: @maja_stina raised by women, majority of coworkers r '\n",
        " 'women.\"interpret\" my words as you wish. no matter how much you twist em, …',\n",
        " 'rt @tatibresolin: oh if only colin washed his hair! #mkr',\n",
        " '@maxblumenthal @mehdirhasan @tnr imagine a muslim journalist making a case '\n",
        " 'for why isis is not islamic. no self interest there. lol.',\n",
        " 'watch tarts with poorly constructed personalities deconstruct a tart. #mkr',\n",
        " \"@johnnyrejection @espn yeah, men never comment on athlete's bodies, ever\"]\n",
        "-\n",
        "['rt @sports2inflatio: @soundscaper fathers are disposable, remember that. '\n",
        " '#adviceforyoungfeminists http://t.co/pecdm6bhpg',\n",
        " \"mmm bitter-sweet victory. the 'models' are toast but we still have kat and \"\n",
        " 'andre. #mkr',\n",
        " 'an excellent read: http://t.co/rg5ocec4rm',\n",
        " '@kryten2x4b1 http://t.co/vqasiuufei',\n",
        " 'rt @girlziplocked: fyi @wadhwa says @tldr committed libel asking women to '\n",
        " 'talk about their feelings re: @wadhwa. #stopwadhwa2015 http://t…',\n",
        " '@psychscientists @geekyjessica can you explain why what she described there '\n",
        " 'is wrong?',\n",
        " 'oh so pastry and kurd on the side #mkr',\n",
        " 'this is bad cooking and good tv all in one. #mkr',\n",
        " '@larrywest42 nah. most of the trees here are pretty short.',\n",
        " \"@dllvllhllvllb @hyperion5182 @politibunny @theblockbot she's not on the \"\n",
        " \"autoblocker, and i don't run blockbot. blocking manually for now. :)\"]\n",
        "\n",
        " ['im thinking that daesh have no choice but to try to take back the '\n",
        " 'intersection of hw 1 and hw 47 near tal afar',\n",
        " 'mikeage what isnt p',\n",
        " 'i was planning on stopping by portland again but i dont think im going to '\n",
        " 'have the time for that too much to do when i get back',\n",
        " 'directhex httptcocaxxus108l',\n",
        " 'did they drug colins serving or mkr',\n",
        " 'rt dubhe80 maja_stina raised by women majority of coworkers r womeninterpret '\n",
        " 'my words as you wish no matter how much you twist em ',\n",
        " 'rt tatibresolin oh if only colin washed his hair mkr',\n",
        " 'maxblumenthal mehdirhasan tnr imagine a muslim journalist making a case for '\n",
        " 'why isis is not islamic no self interest there lol',\n",
        " 'watch tarts with poorly constructed personalities deconstruct a tart mkr',\n",
        " 'johnnyrejection espn yeah men never comment on athletes bodies ever']\n",
        "-\n",
        "['rt sports2inflatio soundscaper fathers are disposable remember that '\n",
        " 'adviceforyoungfeminists httptcopecdm6bhpg',\n",
        " 'mmm bittersweet victory the models are toast but we still have kat and andre '\n",
        " 'mkr',\n",
        " 'an excellent read httptcorg5ocec4rm',\n",
        " 'kryten2x4b1 httptcovqasiuufei',\n",
        " 'rt girlziplocked fyi wadhwa says tldr committed libel asking women to talk '\n",
        " 'about their feelings re wadhwa stopwadhwa2015 httpt',\n",
        " 'psychscientists geekyjessica can you explain why what she described there is '\n",
        " 'wrong',\n",
        " 'oh so pastry and kurd on the side mkr',\n",
        " 'this is bad cooking and good tv all in one mkr',\n",
        " 'larrywest42 nah most of the trees here are pretty short',\n",
        " 'dllvllhllvllb hyperion5182 politibunny theblockbot shes not on the '\n",
        " 'autoblocker and i dont run blockbot blocking manually for now ']\n",
        "\n",
        "\n",
        " '''"
      ],
      "execution_count": 17,
      "outputs": [
        {
          "output_type": "execute_result",
          "data": {
            "application/vnd.google.colaboratory.intrinsic+json": {
              "type": "string"
            },
            "text/plain": [
              "'\\n[\"i\\'m thinking that daesh have no choice but to try to take back the \"\\n \\'intersection of hw 1 and hw 47 near tal afar.\\',\\n \"@mikeage what isn\\'t? ;p\",\\n \"i was planning on stopping by portland again, but i don\\'t think i\\'m going to \"\\n \\'have the time for that. too much to do when i get back.\\',\\n \\'@directhex http://t.co/caxxus108l\\',\\n \"did they drug colin\\'s serving or...? #mkr\",\\n \\'rt @dubhe80: @maja_stina raised by women, majority of coworkers r \\'\\n \\'women.\"interpret\" my words as you wish. no matter how much you twist em, …\\',\\n \\'rt @tatibresolin: oh if only colin washed his hair! #mkr\\',\\n \\'@maxblumenthal @mehdirhasan @tnr imagine a muslim journalist making a case \\'\\n \\'for why isis is not islamic. no self interest there. lol.\\',\\n \\'watch tarts with poorly constructed personalities deconstruct a tart. #mkr\\',\\n \"@johnnyrejection @espn yeah, men never comment on athlete\\'s bodies, ever\"]\\n-\\n[\\'rt @sports2inflatio: @soundscaper fathers are disposable, remember that. \\'\\n \\'#adviceforyoungfeminists http://t.co/pecdm6bhpg\\',\\n \"mmm bitter-sweet victory. the \\'models\\' are toast but we still have kat and \"\\n \\'andre. #mkr\\',\\n \\'an excellent read: http://t.co/rg5ocec4rm\\',\\n \\'@kryten2x4b1 http://t.co/vqasiuufei\\',\\n \\'rt @girlziplocked: fyi @wadhwa says @tldr committed libel asking women to \\'\\n \\'talk about their feelings re: @wadhwa. #stopwadhwa2015 http://t…\\',\\n \\'@psychscientists @geekyjessica can you explain why what she described there \\'\\n \\'is wrong?\\',\\n \\'oh so pastry and kurd on the side #mkr\\',\\n \\'this is bad cooking and good tv all in one. #mkr\\',\\n \\'@larrywest42 nah. most of the trees here are pretty short.\\',\\n \"@dllvllhllvllb @hyperion5182 @politibunny @theblockbot she\\'s not on the \"\\n \"autoblocker, and i don\\'t run blockbot. blocking manually for now. :)\"]\\n\\n [\\'im thinking that daesh have no choice but to try to take back the \\'\\n \\'intersection of hw 1 and hw 47 near tal afar\\',\\n \\'mikeage what isnt p\\',\\n \\'i was planning on stopping by portland again but i dont think im going to \\'\\n \\'have the time for that too much to do when i get back\\',\\n \\'directhex httptcocaxxus108l\\',\\n \\'did they drug colins serving or mkr\\',\\n \\'rt dubhe80 maja_stina raised by women majority of coworkers r womeninterpret \\'\\n \\'my words as you wish no matter how much you twist em \\',\\n \\'rt tatibresolin oh if only colin washed his hair mkr\\',\\n \\'maxblumenthal mehdirhasan tnr imagine a muslim journalist making a case for \\'\\n \\'why isis is not islamic no self interest there lol\\',\\n \\'watch tarts with poorly constructed personalities deconstruct a tart mkr\\',\\n \\'johnnyrejection espn yeah men never comment on athletes bodies ever\\']\\n-\\n[\\'rt sports2inflatio soundscaper fathers are disposable remember that \\'\\n \\'adviceforyoungfeminists httptcopecdm6bhpg\\',\\n \\'mmm bittersweet victory the models are toast but we still have kat and andre \\'\\n \\'mkr\\',\\n \\'an excellent read httptcorg5ocec4rm\\',\\n \\'kryten2x4b1 httptcovqasiuufei\\',\\n \\'rt girlziplocked fyi wadhwa says tldr committed libel asking women to talk \\'\\n \\'about their feelings re wadhwa stopwadhwa2015 httpt\\',\\n \\'psychscientists geekyjessica can you explain why what she described there is \\'\\n \\'wrong\\',\\n \\'oh so pastry and kurd on the side mkr\\',\\n \\'this is bad cooking and good tv all in one mkr\\',\\n \\'larrywest42 nah most of the trees here are pretty short\\',\\n \\'dllvllhllvllb hyperion5182 politibunny theblockbot shes not on the \\'\\n \\'autoblocker and i dont run blockbot blocking manually for now \\']\\n\\n\\n '"
            ]
          },
          "metadata": {
            "tags": []
          },
          "execution_count": 17
        }
      ]
    },
    {
      "cell_type": "markdown",
      "metadata": {
        "id": "hb4GVZYCLuP1"
      },
      "source": [
        "**Remove punctuations [Please complete this section]**"
      ]
    },
    {
      "cell_type": "code",
      "metadata": {
        "id": "Vl4MgL1XLuP2",
        "colab": {
          "base_uri": "https://localhost:8080/"
        },
        "outputId": "41686440-76de-4016-932f-ff0f535f6374"
      },
      "source": [
        "#删标点\n",
        "import re\n",
        "import pprint\n",
        "def remove_punctuation_re(x):\n",
        "    # Please complete this\n",
        "    x = re.sub(r'[^\\w\\s]', '', str(x))\n",
        "    #re.replace('\"','')\n",
        "    #re.replace('','')\n",
        "    #>>> print (re.sub(r'([^:\\n]*:[^:\\n]*\\n)\\s*:(.+)', r'\\1\\2', st))\n",
        "    return x\n",
        "    \n",
        "text_train = [remove_punctuation_re(s) for s in text_train]\n",
        "text_test = [remove_punctuation_re(s) for s in text_test]\n",
        "pprint.pprint(text_train[10:20])\n",
        "#print('-')\n",
        "#pprint.pprint(text_test[10:20])"
      ],
      "execution_count": 4,
      "outputs": [
        {
          "output_type": "stream",
          "text": [
            "['im thinking that daesh have no choice but to try to take back the '\n",
            " 'intersection of hw 1 and hw 47 near tal afar',\n",
            " 'mikeage what isnt p',\n",
            " 'i was planning on stopping by portland again but i dont think im going to '\n",
            " 'have the time for that too much to do when i get back',\n",
            " 'directhex httptcocaxxus108l',\n",
            " 'did they drug colins serving or mkr',\n",
            " 'rt dubhe80 maja_stina raised by women majority of coworkers r womeninterpret '\n",
            " 'my words as you wish no matter how much you twist em ',\n",
            " 'rt tatibresolin oh if only colin washed his hair mkr',\n",
            " 'maxblumenthal mehdirhasan tnr imagine a muslim journalist making a case for '\n",
            " 'why isis is not islamic no self interest there lol',\n",
            " 'watch tarts with poorly constructed personalities deconstruct a tart mkr',\n",
            " 'johnnyrejection espn yeah men never comment on athletes bodies ever']\n"
          ],
          "name": "stdout"
        }
      ]
    },
    {
      "cell_type": "code",
      "metadata": {
        "id": "tCJ4DDqE_SYe"
      },
      "source": [
        ""
      ],
      "execution_count": 18,
      "outputs": []
    },
    {
      "cell_type": "markdown",
      "metadata": {
        "id": "YvIc4FCRLuQC"
      },
      "source": [
        "**Tokenization [Please complete this section]**"
      ]
    },
    {
      "cell_type": "code",
      "metadata": {
        "colab": {
          "base_uri": "https://localhost:8080/"
        },
        "id": "eQUgZfcJDO6Q",
        "outputId": "ba93673e-0749-4950-e842-9eff00bc5368"
      },
      "source": [
        "len(text_train)"
      ],
      "execution_count": 19,
      "outputs": [
        {
          "output_type": "execute_result",
          "data": {
            "text/plain": [
              "300"
            ]
          },
          "metadata": {
            "tags": []
          },
          "execution_count": 19
        }
      ]
    },
    {
      "cell_type": "code",
      "metadata": {
        "colab": {
          "base_uri": "https://localhost:8080/"
        },
        "id": "ewO3TpkRNNth",
        "outputId": "0db40baa-e1bb-4352-e00d-0d5a8dc37c81"
      },
      "source": [
        "text_train[1]\n",
        "len(text_train[1])"
      ],
      "execution_count": 20,
      "outputs": [
        {
          "output_type": "execute_result",
          "data": {
            "text/plain": [
              "125"
            ]
          },
          "metadata": {
            "tags": []
          },
          "execution_count": 20
        }
      ]
    },
    {
      "cell_type": "code",
      "metadata": {
        "colab": {
          "base_uri": "https://localhost:8080/",
          "height": 35
        },
        "id": "rMH5Ih5cH3Vd",
        "outputId": "434e5976-9c30-48e3-b870-e5a84599e6d9"
      },
      "source": [
        "text_train[1]"
      ],
      "execution_count": 21,
      "outputs": [
        {
          "output_type": "execute_result",
          "data": {
            "application/vnd.google.colaboratory.intrinsic+json": {
              "type": "string"
            },
            "text/plain": [
              "'sevilzadeh mohammed led 17 major military expeditions most offensive he raped robbed murdered lied slaved and was a pedophile'"
            ]
          },
          "metadata": {
            "tags": []
          },
          "execution_count": 21
        }
      ]
    },
    {
      "cell_type": "code",
      "metadata": {
        "colab": {
          "base_uri": "https://localhost:8080/"
        },
        "id": "2_-GVk2iNqsJ",
        "outputId": "5487f71a-5f94-42e2-95e8-47283d00e822"
      },
      "source": [
        "#【最终要的】\n",
        "import nltk\n",
        "nltk.download('punkt')\n",
        "from nltk.tokenize import TweetTokenizer\n",
        "\n",
        "tknzr = TweetTokenizer()\n",
        "\n",
        "train_toke = tknzr.tokenize(str(text_train))\n",
        "test_toke = tknzr.tokenize(str(text_test))\n",
        "#pprint.pprint(tknzr.tokenize(str(text_train))) # 5524\n",
        "#pprint.pprint(tknzr.tokenize(str(text_test))) # 1829\n",
        "#pprint.pprint(train_toke)\n",
        "#pprint.pprint(test_toke)"
      ],
      "execution_count": 22,
      "outputs": [
        {
          "output_type": "stream",
          "text": [
            "[nltk_data] Downloading package punkt to /root/nltk_data...\n",
            "[nltk_data]   Package punkt is already up-to-date!\n"
          ],
          "name": "stdout"
        }
      ]
    },
    {
      "cell_type": "code",
      "metadata": {
        "colab": {
          "base_uri": "https://localhost:8080/"
        },
        "id": "-4PunvHPOH9h",
        "outputId": "cb05eff7-c342-4f53-a31d-cad08ee651f8"
      },
      "source": [
        "len(tknzr.tokenize(str(text_test)))"
      ],
      "execution_count": 23,
      "outputs": [
        {
          "output_type": "execute_result",
          "data": {
            "text/plain": [
              "1829"
            ]
          },
          "metadata": {
            "tags": []
          },
          "execution_count": 23
        }
      ]
    },
    {
      "cell_type": "code",
      "metadata": {
        "colab": {
          "base_uri": "https://localhost:8080/"
        },
        "id": "aKnQXrsKOEO3",
        "outputId": "48b6f807-9681-4115-af9c-d45a9af3e579"
      },
      "source": [
        "len(tknzr.tokenize(str(text_train)))"
      ],
      "execution_count": 24,
      "outputs": [
        {
          "output_type": "execute_result",
          "data": {
            "text/plain": [
              "5524"
            ]
          },
          "metadata": {
            "tags": []
          },
          "execution_count": 24
        }
      ]
    },
    {
      "cell_type": "code",
      "metadata": {
        "colab": {
          "base_uri": "https://localhost:8080/"
        },
        "id": "hht4CoV-YfJW",
        "outputId": "e4bdd453-dc66-4b17-f4e4-4d27a9ef68f3"
      },
      "source": [
        "import nltk\n",
        "nltk.download('punkt')\n",
        "from nltk.tokenize import word_tokenize, sent_tokenize\n"
      ],
      "execution_count": 25,
      "outputs": [
        {
          "output_type": "stream",
          "text": [
            "[nltk_data] Downloading package punkt to /root/nltk_data...\n",
            "[nltk_data]   Package punkt is already up-to-date!\n"
          ],
          "name": "stdout"
        }
      ]
    },
    {
      "cell_type": "code",
      "metadata": {
        "id": "wh9D21_JnDyk"
      },
      "source": [
        "#要 去除了反而不行了\n",
        "\n",
        "import nltk\n",
        "nltk.download('punkt')\n",
        "from nltk.tokenize import word_tokenize, sent_tokenize\n",
        "\n",
        "\n",
        "train_tok = []\n",
        "tokenized_sentence1 =sent_tokenize(str(text_train))\n",
        "token_word1 = word_tokenize(str(tokenized_sentence1))\n",
        "train_tok.append(token_word1)\n",
        "\n",
        "pprint.pprint(train_tok)\n",
        "\n",
        "#pprint.pprint(train_tok)\n",
        "#pprint.pprint(len(train_tok)) \n",
        "#pprint.pprint(len(train_tok[0]))#5139\n",
        "\n",
        "test_tok = []\n",
        "tokenized_sentence2 =sent_tokenize(str(text_test))\n",
        "token_word2 = word_tokenize(str(tokenized_sentence2))\n",
        "test_tok.append(token_word2)\n",
        "\n",
        "#pprint.pprint(test_tok)\n",
        "#pprint.pprint(len(test_tok)) #1\n",
        "#pprint.pprint(len(test_tok[0]))#1695"
      ],
      "execution_count": null,
      "outputs": []
    },
    {
      "cell_type": "code",
      "metadata": {
        "id": "LL9aJXN3l9N0"
      },
      "source": [
        "# 去除了反而不行了\n",
        "\n",
        "import nltk\n",
        "nltk.download('punkt')\n",
        "from nltk.tokenize import word_tokenize, sent_tokenize\n",
        "\n",
        "\n",
        "\n",
        "tokenized_sentence1 =sent_tokenize(str(text_train))\n",
        "train_tok = word_tokenize(str(tokenized_sentence1))\n",
        "pprint.pprint(train_tok)\n",
        "\n",
        "#pprint.pprint(train_tok)\n",
        "#pprint.pprint(len(train_tok)) \n",
        "#pprint.pprint(len(train_tok[0]))#5139\n",
        "\n",
        "\n",
        "tokenized_sentence2 =sent_tokenize(str(text_test))\n",
        "test_tok = word_tokenize(str(tokenized_sentence2))\n",
        "\n",
        "\n",
        "#pprint.pprint(test_tok)\n",
        "#pprint.pprint(len(test_tok)) #1\n",
        "#pprint.pprint(len(test_tok[0]))#1695"
      ],
      "execution_count": null,
      "outputs": []
    },
    {
      "cell_type": "code",
      "metadata": {
        "colab": {
          "base_uri": "https://localhost:8080/"
        },
        "id": "oaF8tZQvF3O7",
        "outputId": "fae18e9d-d07c-4488-b26a-9d84e6835a09"
      },
      "source": [
        "#两个版本了\n",
        "import nltk\n",
        "nltk.download('punkt')\n",
        "from nltk.tokenize import word_tokenize, sent_tokenize\n",
        "\n",
        "train_tok=[]\n",
        "\n",
        "tokenized_sentence1 =sent_tokenize(str(text_train))\n",
        "token_word1 = word_tokenize(str(tokenized_sentence1))\n",
        "train_tok.append(token_word1)\n",
        "\n",
        "#pprint.pprint(train_tok)\n",
        "#pprint.pprint(len(train_tok)) \n",
        "#pprint.pprint(len(train_tok[0]))#5139\n",
        "\n",
        "test_tok=[]\n",
        "\n",
        "tokenized_sentence2 =sent_tokenize(str(text_test))\n",
        "token_word2 = word_tokenize(str(tokenized_sentence2))\n",
        "test_tok.append(token_word2)\n",
        "\n",
        "\n",
        "#pprint.pprint(test_tok)\n",
        "#pprint.pprint(len(test_tok)) #1\n",
        "#pprint.pprint(len(test_tok[0]))#1695"
      ],
      "execution_count": 27,
      "outputs": [
        {
          "output_type": "stream",
          "text": [
            "[nltk_data] Downloading package punkt to /root/nltk_data...\n",
            "[nltk_data]   Package punkt is already up-to-date!\n"
          ],
          "name": "stdout"
        }
      ]
    },
    {
      "cell_type": "code",
      "metadata": {
        "colab": {
          "base_uri": "https://localhost:8080/"
        },
        "id": "LO71JvhQGlg-",
        "outputId": "b50d7cac-070d-428c-f45c-d76ba6fcc0db"
      },
      "source": [
        "len(train_tok)"
      ],
      "execution_count": 28,
      "outputs": [
        {
          "output_type": "execute_result",
          "data": {
            "text/plain": [
              "1"
            ]
          },
          "metadata": {
            "tags": []
          },
          "execution_count": 28
        }
      ]
    },
    {
      "cell_type": "code",
      "metadata": {
        "id": "V3I1iHIWLuQD",
        "colab": {
          "base_uri": "https://localhost:8080/",
          "height": 86
        },
        "outputId": "5bf445c1-c577-4372-da36-ea9ff0ca9ec4"
      },
      "source": [
        "'''\n",
        "import nltk\n",
        "nltk.download('punkt')\n",
        "\n",
        "from nltk.tokenize import word_tokenize\n",
        "\n",
        "#Please complete this\n",
        "def tokenization(corpus):\n",
        "  text_train = word_tokenize(text_train)#只能一句句的去做处理，不能直接将文件丢进去。\n",
        "  text_test = word_tokenize(text_test)\n",
        "  return text_train, text_test\n",
        "\n",
        "text_train_1  =[]\n",
        "text_test_1  =[]\n",
        "for i in range(len(text_train)):\n",
        "  text_train_1.append(tokenization(text_train[i]))\n",
        "\n",
        "pprint.pprint(text_train[10:20])\n",
        "print('-')\n",
        "pprint.pprint(text_test[10:20])\n",
        "'''"
      ],
      "execution_count": 29,
      "outputs": [
        {
          "output_type": "execute_result",
          "data": {
            "application/vnd.google.colaboratory.intrinsic+json": {
              "type": "string"
            },
            "text/plain": [
              "\"\\nimport nltk\\nnltk.download('punkt')\\n\\nfrom nltk.tokenize import word_tokenize\\n\\n#Please complete this\\ndef tokenization(corpus):\\n  text_train = word_tokenize(text_train)#只能一句句的去做处理，不能直接将文件丢进去。\\n  text_test = word_tokenize(text_test)\\n  return text_train, text_test\\n\\ntext_train_1  =[]\\ntext_test_1  =[]\\nfor i in range(len(text_train)):\\n  text_train_1.append(tokenization(text_train[i]))\\n\\npprint.pprint(text_train[10:20])\\nprint('-')\\npprint.pprint(text_test[10:20])\\n\""
            ]
          },
          "metadata": {
            "tags": []
          },
          "execution_count": 29
        }
      ]
    },
    {
      "cell_type": "markdown",
      "metadata": {
        "id": "ucmu2pWTLuQG"
      },
      "source": [
        "**Remove stopwords [Please complete this section]**"
      ]
    },
    {
      "cell_type": "code",
      "metadata": {
        "colab": {
          "base_uri": "https://localhost:8080/"
        },
        "id": "isQJaSJ3VyyF",
        "outputId": "3b0a8d3c-1d08-418d-eb28-0a61bd911095"
      },
      "source": [
        "my_sent = \"Natural Language Processing is fun but challenging.\"\n",
        "tokens = word_tokenize(my_sent)\n",
        "\n",
        "stop_words = sw.words()\n",
        "filtered_sentence = [w for w in tokens if not w in stop_words]\n",
        "\n",
        "print(filtered_sentence)"
      ],
      "execution_count": 8,
      "outputs": [
        {
          "output_type": "stream",
          "text": [
            "['Natural', 'Language', 'Processing', 'fun', 'challenging', '.']\n"
          ],
          "name": "stdout"
        }
      ]
    },
    {
      "cell_type": "code",
      "metadata": {
        "id": "S_JlaxCaX1OX"
      },
      "source": [
        "import nltk\n",
        "nltk.download('punkt')\n",
        "from nltk.tokenize import word_tokenize, sent_tokenize\n",
        "import pprint\n",
        "'''\n",
        "test_toke\n",
        "train_toke 短\n",
        "\n",
        "train_tok\n",
        "test_tok\n",
        "长\n",
        "'''\n"
      ],
      "execution_count": null,
      "outputs": []
    },
    {
      "cell_type": "markdown",
      "metadata": {
        "id": "A27qf-wdalTP"
      },
      "source": [
        "#很大的问题\n"
      ]
    },
    {
      "cell_type": "code",
      "metadata": {
        "id": "98wnepKeV0Ua"
      },
      "source": [
        "#非tweet\n",
        "nltk.download('stopwords')\n",
        "from nltk.corpus import stopwords as sw\n",
        "stop_words = sw.words()\n",
        "\n",
        "text_train_ns=[]\n",
        "for tokens in train_tok:\n",
        "    filtered_sentence = [w for w in tokens if not w in stop_words]\n",
        "    text_train_ns.append(filtered_sentence)\n",
        "pprint.pprint(text_train_ns)\n",
        "\n",
        "text_test_ns=[]\n",
        "for tokens in test_tok:\n",
        "    #Please complete this\n",
        "    filtered_sentence = [w for w in tokens if not w in stop_words]\n",
        "    text_test_ns.append(filtered_sentence)\n",
        "\n",
        "#tweet的分词好像就不太行"
      ],
      "execution_count": null,
      "outputs": []
    },
    {
      "cell_type": "code",
      "metadata": {
        "id": "hB1jh-P9fC66"
      },
      "source": [
        ""
      ],
      "execution_count": null,
      "outputs": []
    },
    {
      "cell_type": "code",
      "metadata": {
        "id": "4blOZaW7LuQH"
      },
      "source": [
        "#tweet 这个就不太行\n",
        "nltk.download('stopwords')\n",
        "from nltk.corpus import stopwords as sw\n",
        "stop_words = sw.words()\n",
        "\n",
        "text_train_ns1=[]\n",
        "for tokens in train_toke:\n",
        "    filtered_sentence = [w for w in tokens if not w in stop_words]\n",
        "    text_train_ns1.append(filtered_sentence)\n",
        "pprint.pprint(text_train_ns1)\n",
        "\n",
        "text_test_ns1=[]\n",
        "for tokens in test_toke:\n",
        "    #Please complete this\n",
        "    filtered_sentence = [w for w in tokens if not w in stop_words]\n",
        "    text_test_ns1.append(filtered_sentence)\n",
        "\n",
        "#tweet的分词好像就不太行"
      ],
      "execution_count": null,
      "outputs": []
    },
    {
      "cell_type": "markdown",
      "metadata": {
        "id": "QqFS0duZLuQM"
      },
      "source": [
        "**Lemmatisation [Please complete this section]**"
      ]
    },
    {
      "cell_type": "code",
      "metadata": {
        "id": "4lPKPkuXbW9g"
      },
      "source": [
        "#要\n",
        "nltk.download('wordnet')\n",
        "\n",
        "from nltk.stem import WordNetLemmatizer\n",
        "\n",
        "lemmatizer = WordNetLemmatizer()\n",
        "\n",
        "text_train_le = []\n",
        "for tokens in text_train_ns:\n",
        "    lemma_sentence = [lemmatizer.lemmatize(w) for w in tokens ]\n",
        "    text_train_le.append(lemma_sentence)\n",
        "  \n",
        "pprint.pprint(text_train_le)\n",
        "\n",
        "text_test_le = []\n",
        "for tokens in text_test_ns:\n",
        "  lemma_sentence = [lemmatizer.lemmatize(w) for w in tokens]\n",
        "  text_test_le.append(lemma_sentence)\n",
        "    #Please complete this\n",
        "\n",
        "pprint.pprint(text_test_le)\n",
        "\n"
      ],
      "execution_count": null,
      "outputs": []
    },
    {
      "cell_type": "code",
      "metadata": {
        "id": "6BTXGVwjLuQN"
      },
      "source": [
        ""
      ],
      "execution_count": null,
      "outputs": []
    },
    {
      "cell_type": "markdown",
      "metadata": {
        "id": "MpQvfCJHLuQQ"
      },
      "source": [
        "**Label Encoding [Please complete this section]**"
      ]
    },
    {
      "cell_type": "code",
      "metadata": {
        "id": "gjPY0sc6ej1V"
      },
      "source": [
        "#例子\n",
        "from sklearn.preprocessing import LabelEncoder\n",
        "\n",
        "lEnc = LabelEncoder()\n",
        "lEnc.fit(labels)    #['Positive', 'Positive', 'Negative', 'Negative']\n",
        "label_encoded = lEnc.transform(labels)\n",
        "print(label_encoded)    #将好变为1坏变为0"
      ],
      "execution_count": null,
      "outputs": []
    },
    {
      "cell_type": "code",
      "metadata": {
        "id": "7A8iRogHfnuu"
      },
      "source": [
        "import numpy as np\n",
        "\n",
        "from sklearn.preprocessing import LabelEncoder\n",
        "\n",
        "unique_labels = np.unique(label_train)  #lEnc.fit(labels)  \n",
        "unique_labels "
      ],
      "execution_count": null,
      "outputs": []
    },
    {
      "cell_type": "code",
      "metadata": {
        "id": "FkcRYxaZLuQQ",
        "colab": {
          "base_uri": "https://localhost:8080/"
        },
        "outputId": "5ee56baf-be7d-4740-bf4e-88ccff8d1284"
      },
      "source": [
        "#出来了https://blog.csdn.net/weixin_38278334/article/details/82971752?ops_request_misc=%257B%2522request%255Fid%2522%253A%2522161838894616780269822484%2522%252C%2522scm%2522%253A%252220140713.130102334..%2522%257D&request_id=161838894616780269822484&biz_id=0&utm_medium=distribute.pc_search_result.none-task-blog-2~all~baidu_landing_v2~default-1-82971752.first_rank_v2_pc_rank_v29&utm_term=fit_transform+用法\n",
        "\n",
        "import numpy as np\n",
        "\n",
        "from sklearn.preprocessing import LabelEncoder\n",
        "\n",
        "unique_labels = np.unique(label_train)    #lEnc.fit(labels)  \n",
        "\n",
        "lEnc = LabelEncoder() #一样\n",
        "# Please encode the labels (Do NOT add new lines of code in this section)\n",
        "# Hint: Try to understand the difference between fit_transform and transform\n",
        "label_train_encoded = lEnc.fit_transform(label_train)\n",
        "label_test_encoded = lEnc.fit_transform(label_test)\n",
        "\n",
        "n_class = len(unique_labels)\n",
        "print(unique_labels)\n",
        "print(lEnc.transform(unique_labels))  #label_encoded"
      ],
      "execution_count": 17,
      "outputs": [
        {
          "output_type": "stream",
          "text": [
            "['none' 'racism' 'sexism']\n",
            "[0 1 2]\n"
          ],
          "name": "stdout"
        }
      ]
    },
    {
      "cell_type": "markdown",
      "metadata": {
        "id": "ISP1ipGf9r8f"
      },
      "source": [
        "Sample output for Label Encoding (Only for format reference)\n",
        "\n",
        "![WeChat Image_20210403214048.png](data:image/png;base64,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)"
      ]
    },
    {
      "cell_type": "markdown",
      "metadata": {
        "id": "brgyXIhALuQT"
      },
      "source": [
        "### Embeddings [Complete this section]"
      ]
    },
    {
      "cell_type": "markdown",
      "metadata": {
        "id": "ltZvof0NLuQX"
      },
      "source": [
        "**Get Word List**"
      ]
    },
    {
      "cell_type": "markdown",
      "metadata": {
        "id": "vPzQh3GxgnG0"
      },
      "source": [
        "Get Word List的输出示例（由于下面的图片不是完整的打印结果，所以仅作格式参考。但格式很清楚。)"
      ]
    },
    {
      "cell_type": "code",
      "metadata": {
        "id": "O1V_W5PvLuQa",
        "colab": {
          "base_uri": "https://localhost:8080/"
        },
        "outputId": "006c44f9-367c-4517-92e5-6145921196ef"
      },
      "source": [
        "word_set = set() \n",
        "for sent in text_train_le:    #sentences\n",
        "    for word in sent:\n",
        "        word_set.add(word)\n",
        "word_set.add('[PAD]')\n",
        "word_set.add('[UNKNOWN]')\n",
        "\n",
        "word_list = list(word_set) \n",
        "word_list.sort()\n",
        "print(word_list)\n",
        "\n",
        "word_index = {}\n",
        "ind = 0\n",
        "for word in word_list:\n",
        "    word_index[word] = ind\n",
        "    ind += 1\n",
        "print(word_index)\n",
        "\n",
        "\n",
        "#'\""
      ],
      "execution_count": 18,
      "outputs": [
        {
          "output_type": "stream",
          "text": [
            "[\"'\", \"''\", \"'0xjared\", \"'17\", \"'absolutely\", \"'after\", \"'alihadi68\", \"'amberhasalamb\", \"'amohedin\", \"'anasmechch\", \"'and\", \"'antizholim\", \"'arab_fury\", \"'argh\", \"'argonblue\", \"'asem_1994\", \"'at\", \"'bahai144\", \"'benkuchera\", \"'bhamdailynews\", \"'biebervalue\", \"'blackopal80\", \"'bristolben\", \"'bruciebabe\", \"'burcucekmece\", \"'but\", \"'buttercupashby\", \"'can\", \"'celine\", \"'cemcfarland\", \"'channel7\", \"'christophheer52\", \"'chuckpfarrer\", \"'colin\", \"'come\", \"'cringing\", \"'curious\", \"'damnitscloudy\", \"'dankmtl\", \"'darchmare\", \"'darrenkopp\", \"'desertfox899\", \"'dianh4\", \"'did\", \"'directhex\", \"'discerningmumin\", \"'do\", \"'doammuslims\", \"'dont\", \"'edgeofthesandbx\", \"'eloisepeace\", \"'even\", \"'exposefalsehood\", \"'f3ew\", \"'farbenstau\", \"'finalbroadcast\", \"'floss\", \"'foodie_ben\", \"'freebsdglri\", \"'fuck\", \"'gbabeuf\", \"'glennf\", \"'go\", \"'goosenetworkusa\", \"'halalflaws\", \"'haroonstyles\", \"'having\", \"'hdmovieus\", \"'how\", \"'howtogetawaywithmurder\", \"'httptcofdylhlkdcv\", \"'httptcoltoxypkwww\", \"'httptcozjbwagvnrg\", \"'i\", \"'if\", \"'ilivundrurbed\", \"'im\", \"'important\", \"'is\", \"'it\", \"'jihadi_11\", \"'johnnyrejection\", \"'just\", \"'justdavidvideos\", \"'kaitlynburnell\", \"'kamaluf\", \"'kat\", \"'kim\", \"'lactualaloupe\", \"'ldstarr18\", \"'lemon\", \"'lessons\", \"'lithobolos\", \"'love\", \"'lucaswj\", \"'lynnemcgranger\", \"'madasahatter_17\", \"'mattstratton\", \"'maxblumenthal\", \"'meatgirls\", \"'mechasauce\", \"'mikeage\", \"'misfitinchains\", \"'mistertodd\", \"'mkr\", \"'mmmm\", \"'most\", \"'muslim\", \"'muslimtwo\", \"'myersnfl\", \"'mykitchenrules\", \"'nader_haq\", \"'neilasaurus\", \"'new_babylonia\", \"'no\", \"'nomcookiesnom\", \"'not\", \"'notchrissmith\", \"'nscottg\", \"'obsurfer84\", \"'oh\", \"'out\", \"'owais00\", \"'p8952_\", \"'pardusxy\", \"'peerworker\", \"'pnibbler\", \"'politicalant\", \"'possibly\", \"'pretty\", \"'promo\", \"'proudpatriot101\", \"'psychbarakat\", \"'r\", \"'randomhero30\", \"'raniakhalek\", \"'rape\", \"'rayyoosheh\", \"'realryansipple\", \"'rennie93\", \"'reza_rahman\", \"'rt\", \"'rudawenglish\", \"'saifullah666\", \"'salon\", \"'saltnburnem\", \"'samkitsengupta\", \"'semzyxx\", \"'seriously\", \"'sevilzadeh\", \"'shermertron\", \"'slagkick\", \"'so\", \"'sorry\", \"'spacequeentbh\", \"'sumersloan\", \"'swiftonsecurity\", \"'tarah\", \"'that\", \"'the\", \"'thedoubleclicks\", \"'thegeek_chick\", \"'their\", \"'thelindsayellis\", \"'thelmasleaze\", \"'themirai\", \"'these\", \"'they\", \"'things\", \"'this\", \"'those\", \"'tobyrobertbull\", \"'toodles\", \"'transic_nyc\", \"'truaemusic\", \"'uplay\", \"'vandaliser\", \"'venomous9\", \"'vex0rian\", \"'warriorsialkot\", \"'watan71969\", \"'watch\", \"'we\", \"'wetsprocket\", \"'what\", \"'who\", \"'witch_sniffer\", \"'with\", \"'wow\", \"'yeah\", \"'yes\", \"'you\", \"'your\", \"'yousufpoosuf\", \"'yum\", ',', '0', '06jank', '1', '11', '12', '14', '1400', '15', '17', '1shadeofritch', '2', '2027279099', '22000', '2ndbestidiot', '3', '3outof10', '4', '44', '47', '4x', '5', '6', '7', '80', '800', '90', '911', '98halima', '99', '[', '[PAD]', '[UNKNOWN]', ']', '__chris33__', '_marisajane', '``', 'abducted', 'abdul_a95', 'aberration', 'ability', 'ablahad', 'able', 'absolutely', 'abuse', 'ac360', 'accept', 'acceptable', 'accepted', 'accessorizing', 'account', 'achieve', 'across', 'actoractress', 'actually', 'adjective', 'admits', 'adult', 'afar', 'afraid', 'ago', 'agree', 'ahahahaha', 'air', 'airstrikes', 'aisle', 'ajwatamr', 'akheemv', 'aledthomas22', 'alihashem_tv', 'alive', 'all_hailcaesar', 'allegedly', 'allstatejackie', 'ally', 'along', 'already', 'alternet', 'amaze', 'amazing', 'amazingly', 'ameliagreenhall', 'american', 'amp', 'amymek', 'andcamping', 'andre', 'angelemichelle', 'anitaingle', 'annoying', 'another', 'answer', 'anti', 'antiharassment', 'anyone', 'anything', 'apartheid', 'arabic', 'arabthomness', 'archangel_dux', 'arena', 'argument', 'armedyoure', 'armenian', 'armpit', 'army', 'arquette', 'article', 'asad', 'ask', 'asked', 'askgoog', 'askhermore', 'asshole', 'astounding', 'athlete', 'attack', 'attacked', 'attacking', 'attracted', 'attractive', 'attributing', 'attrocities', 'auntysoapbox', 'australia', 'away', 'awful', 'awkward', 'awww', 'b', 'babbling', 'back', 'backing', 'backwards', 'bad', 'bag', 'baghdad', 'bamboozled', 'banter', 'barackobama', 'basically', 'bastendorfgames', 'batchelorshow', 'bcz', 'beadsland', 'beat', 'beautiful', 'beautifula', 'beavis', 'beckles', 'begun', 'behaving', 'behead', 'behind', 'belief', 'believe', 'best', 'better', 'beyond', 'bgs', 'biebervalue', 'big', 'bigot', 'bigotry', 'bigtime', 'bilalighumman', 'bill', 'bimbo', 'bimbolines', 'bit', 'bitch', 'bixs', 'blabber', 'block', 'blocked', 'bloke', 'blonde', 'blondemoment', 'blow', 'blumenthal', 'body', 'book', 'booted', 'boring', 'bos', 'bottle', 'bought', 'bout', 'bowl', 'boy', 'bq281473', 'breakfast', 'brekky', 'bringing', 'british', 'broke', 'bronny25', 'bruh', 'brushyblues', 'bsilverstrim77', 'budlightbro', 'built', 'bullied', 'burn', 'burning', 'burqua', 'bus', 'business', 'buttercupashby', 'butthead', 'button', 'buying', 'c2e2', 'call', 'cambrian_man', 'campagnebds', 'canned', 'cant', 'captive', 'car', 'card', 'case', 'cashing', 'castrating', 'catwalk', 'cause', 'caved', 'ccot', 'cdnkhadija', 'celebrating', 'celine', 'century', 'challenge', 'chance', 'change', 'changed', 'changing', 'channel', 'channel7', 'chaos', 'character', 'cheeseplus', 'chef', 'cheney', 'chicken', 'child', 'chloeandkelly', 'choice', 'christ', 'christian', 'christiansyazidis', 'christmas', 'chriswarcraft', 'chuck', 'chuckle', 'churner', 'cia', 'cityofmandurah', 'civilian', 'cjsajulga', 'claim', 'claiming', 'clarify', 'clearly', 'close', 'colin', 'colins', 'colonelkickhead', 'come', 'comedian', 'coming', 'comment', 'committed', 'compensation', 'competition', 'complains', 'completely', 'compromise', 'concerned', 'conclusion', 'conducting', 'configuration', 'confuse', 'conserv_miss', 'consider', 'conspiracy', 'constant', 'constantly', 'constructed', 'content', 'contradicted', 'contributing', 'cook', 'cooked', 'cooking', 'cordial', 'cornflakes', 'could', 'country', 'couple', 'court', 'coworkers', 'coz', 'crabfest15', 'crap', 'crash', 'created', 'creates', 'creating', 'credibility', 'cretin', 'critiquing', 'culture', 'cunt', 'cup', 'curd', 'curious', 'customer', 'cut', 'cuz', 'cytheria', 'd20', 'daesh', 'damn', 'danhickey2199', 'danis', 'data', 'dave', 'davidjo52951945', 'davidsgallant', 'dc', 'dead', 'deal', 'death', 'declared', 'deconstruct', 'deconstructing', 'deduction', 'defend', 'definitely', 'delicate', 'demanded', 'dentist', 'describes', 'desire', 'desk', 'desperately', 'dessert', 'destined', 'destroys', 'deusexjuice', 'devops', 'dick', 'dictatorship', 'didazahra', 'didnt', 'difference', 'different', 'direct', 'direction', 'directly', 'discrimination', 'disgrace', 'disgusted', 'disgusting', 'dish', 'disheartened', 'disturbing', 'divisiveness', 'dkim', 'doctor', 'doesnt', 'dogging', 'doh', 'dolly', 'domestic', 'done', 'dont', 'double', 'draskos', 'drdisco_', 'dream', 'dreamer', 'dreaminpng', 'drive', 'drivemaneuveroperate', 'driver', 'driving', 'dropped', 'dry', 'dubhe80', 'duckiemcphee', 'dude', 'due', 'dumb', 'dumbest', 'dummy', 'dye', 'dying', 'ear', 'earth', 'easier', 'easy', 'eat', 'ebola', 'ebooks', 'economics', 'econtried', 'edible', 'efficient', 'effort', 'egypt', 'egyptian', 'either', 'else', 'email', 'emilie', 'empty', 'endless', 'enemy', 'engaging', 'enough', 'enslaved', 'entertaining', 'entree', 'ep', 'episode', 'equal', 'equalpay', 'espn', 'eternity', 'etsho127', 'evacuated', 'evans', 'even', 'eventually', 'ever', 'every', 'everyone', 'everything', 'evidence', 'evilsunbro', 'ew', 'except', 'excited', 'excuse', 'executed', 'expect', 'expedition', 'expertise', 'explain', 'explained', 'expression', 'exterminate', 'extreme', 'eye', 'eyesmkr', 'ezidi', 'ezidipress', 'ezidis', 'face', 'faced', 'fact', 'faded', 'fail', 'fair', 'fan', 'fanatic', 'fascist', 'fat', 'feardept', 'feel', 'feeling', 'female', 'femfreefriday', 'feminism', 'feminist', 'fetch', 'fetish', 'fewer', 'fight', 'fighting', 'filthy', 'finally', 'find', 'fine', 'finger', 'first', 'flip', 'flying', 'folk', 'followed', 'food', 'foot', 'forbidden', 'force', 'forced', 'ford', 'form', 'formula', 'fought', 'foxnews', 'foxnewspolitics', 'free', 'freebsd', 'freebsdgirl', 'freedom', 'freezer', 'fried', 'friend', 'fuck', 'fucking', 'fucktards', 'fun', 'funding', 'fyoudbag', 'gailsimone', 'gal', 'game', 'gamergate', 'gangraped', 'gap', 'garbage', 'garydlum', 'gaters', 'gatery', 'gator', 'gbazov', 'gel', 'genius', 'genocide', 'get', 'getting', 'gg', 'ggautoblocker', 'ggreenwald', 'gilmore', 'girl', 'girlziplocked', 'give', 'given', 'giving', 'glad', 'glhf', 'glove', 'go', 'god', 'going', 'gon', 'gone', 'good', 'goodluck', 'gosh', 'got', 'govt', 'grafana', 'grahamdavida', 'great', 'greater', 'greenlinerzjm', 'grin', 'gross', 'ground', 'group', 'grow', 'grown', 'guardian', 'gueensland', 'guess', 'guilt', 'gulf', 'gumboots', 'guy', 'hadith', 'haha', 'hair', 'halalflaws', 'hamas', 'hand', 'handle', 'happen', 'happened', 'happens', 'happy', 'happycampers', 'harassed', 'harassment', 'haroonstyles', 'harshly', 'hate', 'hated', 'hatefilled', 'hating', 'hatred', 'havent', 'hawaiinshirts', 'hayles_comet', 'he', 'head', 'heart', 'hell', 'hello', 'help', 'helping', 'here', 'hide', 'hilarious', 'himat', 'hit', 'hitler', 'hockey', 'holder', 'home', 'homophobe', 'honestly', 'hope', 'hoping', 'hostage', 'however', 'hows', 'ht', 'http', 'httpstco6kgw1lejfr', 'httpstcoum5svjgazu', 'httpstcoxufwsigxfk', 'httpt', 'httptco', 'httptco1pl9gqrdp7', 'httptco4u', 'httptco5vsf5jroi6', 'httptco8xldnwbvzx', 'httptcobwr6ap0ooo', 'httptcocaxxus108l', 'httptcocbcr9u4fc9', 'httptcodajgdn1wy3', 'httptcoddecobanzx', 'httptcoganrh4k87a', 'httptcogbvojnmbcv', 'httptcoglncgkuukp', 'httptcoh8f7n04q5o', 'httptcom4jcka5ir0', 'httptcom5j2tpksm5', 'httptcomdb4iu9whd', 'httptcomxuw3hz4tb', 'httptconleyqfnkyp', 'httptcontojwo4lnt', 'httptcoocsy7crghf', 'httptcopfs5zlkt07', 'httptcopnhzjrhhqr', 'httptcoq95ei17sua', 'httptcoqaa6bwi4pm', 'httptcoqmdsdtfvya', 'httptcoqv', 'httptcorbthvmh9jj', 'httptcospmvzcjj6o', 'httptcot65iytpvdk', 'httptcotfsodcowbx', 'httptcoumkitlb5h9', 'httptcouq19q6pnaq', 'httptcovanp6y7clr', 'httptcowhy3a8o33z', 'httptcoyspbfitztb', 'hugged', 'human', 'humanistfury', 'humanity', 'hungrycampers', 'hw', 'hypatiadotca', 'hypocrite', 'ice', 'id', 'idea', 'ideaology', 'ideaor', 'ideology', 'idiot', 'idiotim', 'idontneedfeminism', 'ied', 'ignorance', 'ignorant', 'ignoring', 'ihatethiskid', 'illegal', 'ilovebreakfast', 'iloveobama', 'imagine', 'imperialism', 'implies', 'info', 'information', 'input', 'instant', 'instead', 'insufferable', 'insulted', 'insulting', 'integration', 'intel', 'interact', 'interest', 'interesting', 'international', 'internet', 'intersection', 'intolerance', 'invented', 'iraq', 'iron', 'isi', 'isisutterly', 'islam', 'islamdefense', 'islamic', 'islamist', 'isnt', 'israel', 'israeliregime', 'issue', 'itll', 'itsbariecool', 'itsfact', 'ive', 'ivyexec', 'izrinhariri', 'jac', 'jealous', 'jeffreygoldberg', 'jennykutner', 'jeremiahfelt', 'jew', 'jhamby', 'jihadis', 'jimcramer', 'jncatron', 'job', 'johncantile', 'johnnygjokaj', 'joke', 'journalist', 'judge', 'juliet777777', 'justhonest', 'justkelly_ok', 'kardashian', 'kat', 'katampandre', 'katandandre', 'katie', 'katieandnikki', 'keep', 'keyboard', 'keynote', 'kid', 'kidding', 'kill', 'killa', 'killed', 'killerblondes', 'killing', 'kind', 'kirkuk', 'kmactane', 'knew', 'know', 'knowingly', 'kobane', 'kuffir', 'kurd', 'kurdish', 'lad', 'lady', 'lajouetreine', 'large', 'last', 'latest', 'laugh', 'launcher', 'law', 'lazy', 'lb', 'le', 'lead', 'leaning', 'led', 'left', 'legitimately', 'lemon', 'lesson', 'letting', 'level', 'liar', 'liberate', 'libya', 'license', 'licking', 'lie', 'lied', 'life', 'light', 'like', 'likely', 'lilbeastunleash', 'lime', 'line', 'link', 'lipstick', 'lisamromano', 'lissasauras', 'listen', 'lithobolos', 'little', 'live', 'liver', 'lol', 'long', 'loo', 'look', 'looked', 'looking', 'lose', 'loser', 'lost', 'lot', 'love', 'low', 'lt3', 'luck', 'lunatic', 'm_m_myers', 'maajidnawaz', 'mad', 'madasahatter_17', 'maddr11', 'made', 'magazine', 'magnus919', 'maja_stina', 'major', 'majority', 'make', 'making', 'mami_mermelada', 'man', 'manbabies', 'manu', 'manure', 'many', 'map', 'marc_leibowitz', 'market', 'markimbriaco', 'maroon', 'marriage', 'married', 'masontillidie', 'math', 'matter', 'mattybboi83', 'maxblumenthal', 'maxcaras', 'may', 'maybe', 'mccheesy904', 'mean', 'meaning', 'meatball', 'medium', 'meh', 'mehdirhasan', 'mellym09', 'melting', 'mention', 'menu', 'messed', 'microbrain', 'middle', 'military', 'militia', 'minasmith64', 'minister', 'minority', 'miskelayla', 'miss', 'missed', 'missing', 'mkr', 'mkr2015', 'mkrkat', 'mmmm', 'model', 'moderate', 'modern', 'mohammed', 'monday', 'month', 'moron', 'mosul', 'mouth', 'moving', 'much', 'mugnezee', 'multiple', 'murde', 'murder', 'murdered', 'murtaza', 'muslim', 'mutilated', 'mykitchenrules', 'mystrongstate', 'naga', 'nainfidels', 'naminglisting', 'narîn', 'nasty', 'naturally', 'nazi', 'near', 'necessarily', 'need', 'needarethinkinformat', 'negated', 'negotiate', 'never', 'new', 'newscoverup', 'next', 'nice', 'nigelbigmeech', 'night', 'nikki', 'nobody', 'noise', 'none', 'nooo', 'nope', 'note', 'nothing', 'notsexist', 'novorossiyan', 'number', 'number10gov', 'nytimes', 'obamacare', 'obamas', 'obviously', 'occasion', 'offense', 'offensive', 'offering', 'oh', 'oil', 'oktar', 'old', 'oldgfatherclock', 'one', 'open', 'opener', 'opinion', 'opponent', 'opposed', 'optional', 'oreilly', 'org', 'origin', 'others', 'outside', 'overweight', 'p', 'page', 'painful', 'pakistan', 'paknsave', 'palestine', 'pancake', 'paraketa', 'parent', 'paris', 'participate', 'passport', 'past', 'pastor', 'patrickosgood', 'pawarnhoff', 'pay', 'paying', 'pc', 'peace', 'peacenothate_', 'pedophile', 'pedophilia', 'penalty', 'people', 'peopleschoice', 'perfect', 'period', 'perk', 'perl', 'personality', 'pervious', 'peymaneh123', 'phxken', 'pie', 'piece', 'pile', 'pilgars', 'pilot', 'pissing', 'pjnet', 'plane', 'planning', 'playing', 'playstations', 'please', 'pleasing', 'point', 'pole', 'police', 'political', 'politicalant', 'politics_pr', 'poor', 'poorly', 'population', 'portland', 'possible', 'post', 'posting', 'power', 'present', 'pressure', 'pretend', 'pretty', 'previous', 'price', 'prime', 'prisonersofwar', 'pro', 'probably', 'problem', 'problematic', 'producer', 'production', 'profile', 'project', 'promise', 'promo', 'promogirls', 'promoted', 'proof', 'propaganda', 'prophet', 'prospect', 'protecting', 'prove', 'provide', 'provision', 'psog', 'psogeco', 'public', 'punch', 'purse', 'put', 'question', 'questionsformen', 'quietly', 'quit', 'quite', 'quran', 'r', 'race', 'racist', 'raised', 'random', 'ransom', 'rape', 'raped', 'rapper', 'rapperguydmv', 'raqqa', 'raqqa_sl', 'rate', 'rather', 'ratio', 'ravenhuwolf', 'raw', 'react', 'read', 'readable', 'real', 'really', 'realtalk', 'reason', 'reasonably', 'rebel', 'recall', 'reckless', 'recognize', 'recommends', 'record', 'recruit', 'recuperate', 'redux', 'reevaluate', 'reference', 'referring', 'refine', 'regarding', 'regulation', 'rejected', 'relationship', 'release', 'religion', 'religious', 'relisha', 'reload', 'remember', 'reminded', 'rennie93', 'repeatedly', 'repetition', 'replacement', 'report', 'reputation', 'request', 'resorting', 'respond', 'restaurant', 'retreat', 'revolting', 'rigged', 'right', 'rinehart33', 'rip', 'rjennromao', 'rkhayer', 'rkinglive2dance', 'rob', 'robbed', 'robert', 'robinriedstra', 'roll', 'roof', 'room', 'rooshv', 'rose', 'rotherham', 'rougek68', 'round', 'routinely', 'rt', 'rts', 'rudawenglish', 'rudd', 'rude', 'rudoren', 'ruin', 'run', 'running', 'russian', 'said', 'sajid_fairooz', 'sake', 'salmon', 'salon', 'salty', 'santa', 'sarah_jane666', 'sas', 'satire', 'saudi', 'sausage', 'save', 'saw', 'say', 'scared', 'schmeezi', 'school', 'score', 'scratch', 'screencaps', 'script', 'scripted', 'scroll', 'scum', 'season', 'see', 'seen', 'segment', 'self', 'selfies', 'selling', 'sellout', 'semite', 'semzyxx', 'sensitive', 'sent', 'serious', 'serlasco', 'serve', 'served', 'service', 'serving', 'set', 'setup', 'sex', 'sexhonest', 'sexism', 'sexist', 'sexually', 'shami_is_back', 'shaz', 'shell', 'sherri', 'shia', 'shingal', 'shirt', 'shit', 'shoe0nhead', 'short', 'shovel', 'show', 'shower', 'shred', 'shut', 'sick', 'side', 'sighhhh', 'simpson', 'since', 'singer', 'sinjar', 'sirgoldenrod', 'six', 'skank', 'slap', 'slave', 'slaved', 'sleep', 'sleeping', 'slide', 'slightly', 'sloshedtrain2', 'slow', 'smack', 'smackem', 'small', 'smarter', 'smash', 'sold', 'soldier', 'someone', 'something', 'sometimes', 'somewhat', 'soon', 'sorbent', 'sorbet', 'sorry', 'sorrynotsorry', 'sound', 'source', 'space', 'spacekatgal', 'spam', 'spatchcock', 'speak', 'speaking', 'speech', 'spiritual', 'spoiled', 'sport', 'sports2inflatio', 'sputnik', 'srhbutts', 'stalin', 'stand', 'standard', 'standing', 'starius', 'started', 'starting', 'state', 'statistic', 'stats', 'stay', 'stayed', 'staying', 'step', 'steve', 'stiff', 'still', 'stood', 'stop', 'stopping', 'stopwadhwa2015', 'story', 'strategically', 'streaming', 'stretch', 'strike', 'strong', 'struggle', 'student', 'stuff', 'stupid', 'stylist', 'subject', 'subtle', 'success', 'suck', 'sudixitca', 'suicide', 'super', 'superior', 'support', 'supported', 'sure', 'surgery', 'swallow', 'switching', 'syazlicious', 'syria', 'systemic', 'tacky', 'taken', 'taking', 'tal', 'taliban', 'talk', 'talladega', 'taqiyya', 'tart', 'tasteless', 'tatibresolin', 'tbh', 'tbielawa', 'tcot', 'teach', 'teaching', 'team', 'tell', 'telling', 'tempting', 'terrible', 'terror', 'terrorism', 'terrorist', 'testicle', 'texasarlington', 'thanks', 'thatll', 'thats', 'theckman', 'thegoodguysau', 'themselvespffft', 'themuslimguy', 'thequinnspiracy', 'there', 'theyre', 'thing', 'think', 'thinking', 'third', 'thought', 'threw', 'throw', 'tied', 'tim', 'time', 'timespan', 'tiny', 'tip', 'tnr', 'today', 'todayreal', 'told', 'tolerate', 'tomato', 'tonight', 'tool', 'top', 'total', 'train', 'translator', 'treating', 'trend', 'tried', 'tripple', 'trolley', 'troop', 'trophy', 'truly', 'try', 'trying', 'turf', 'turk', 'tv', 'tw', 'tweet', 'twist', 'twista202', 'twitter', 'two', 'typed', 'typically', 'typo', 'u', 'ugly', 'ukraine', 'ukrainian', 'ultrafundamentalist', 'unacceptable', 'unapologetic', 'unashamed', 'uncalled', 'understand', 'understands', 'unfair', 'uninvolved', 'university', 'update', 'upon', 'use', 'user', 'username', 'usually', 'valenti', 'value', 'vc', 'vcs', 'venereveritas13', 'versa', 'verse', 'via', 'vice', 'victim', 'victorymonk', 'video', 'videobeautiful', 'violence', 'voice', 'vonta624', 'vote', 'voted', 'w', 'wadhwa', 'wait', 'waiting', 'wakeuplibsgtjoenbc', 'walk', 'wan', 'wanted', 'washed', 'washingtonpost', 'wasnt', 'watched', 'watching', 'way', 'week', 'weekly', 'well', 'went', 'werent', 'west', 'western', 'wheat', 'wheel', 'whereisyourdignity', 'whether', 'whiny', 'white', 'whiteblack', 'whitening', 'whole', 'wi', 'wife', 'win', 'wing', 'wish', 'without', 'witty', 'wizardryofozil', 'wks', 'wnba', 'wnyc', 'wocracial', 'woman', 'womenagainstfeminism', 'womeninterpret', 'word', 'work', 'worker', 'working', 'worse', 'worst', 'would', 'wouldnt', 'wouldve', 'wow', 'wrecking', 'write', 'writer', 'writing', 'wrong', 'xmjee', 'yall', 'yawn', 'yeah', 'year', 'yes', 'yesallwomen', 'yesyouresexist', 'yet', 'yield', 'youd', 'youll', 'young', 'youre', 'youtube', 'ypg', 'zaibatsunews', 'zene55', 'zero', 'zython86']\n",
            "{\"'\": 0, \"''\": 1, \"'0xjared\": 2, \"'17\": 3, \"'absolutely\": 4, \"'after\": 5, \"'alihadi68\": 6, \"'amberhasalamb\": 7, \"'amohedin\": 8, \"'anasmechch\": 9, \"'and\": 10, \"'antizholim\": 11, \"'arab_fury\": 12, \"'argh\": 13, \"'argonblue\": 14, \"'asem_1994\": 15, \"'at\": 16, \"'bahai144\": 17, \"'benkuchera\": 18, \"'bhamdailynews\": 19, \"'biebervalue\": 20, \"'blackopal80\": 21, \"'bristolben\": 22, \"'bruciebabe\": 23, \"'burcucekmece\": 24, \"'but\": 25, \"'buttercupashby\": 26, \"'can\": 27, \"'celine\": 28, \"'cemcfarland\": 29, \"'channel7\": 30, \"'christophheer52\": 31, \"'chuckpfarrer\": 32, \"'colin\": 33, \"'come\": 34, \"'cringing\": 35, \"'curious\": 36, \"'damnitscloudy\": 37, \"'dankmtl\": 38, \"'darchmare\": 39, \"'darrenkopp\": 40, \"'desertfox899\": 41, \"'dianh4\": 42, \"'did\": 43, \"'directhex\": 44, \"'discerningmumin\": 45, \"'do\": 46, \"'doammuslims\": 47, \"'dont\": 48, \"'edgeofthesandbx\": 49, \"'eloisepeace\": 50, \"'even\": 51, \"'exposefalsehood\": 52, \"'f3ew\": 53, \"'farbenstau\": 54, \"'finalbroadcast\": 55, \"'floss\": 56, \"'foodie_ben\": 57, \"'freebsdglri\": 58, \"'fuck\": 59, \"'gbabeuf\": 60, \"'glennf\": 61, \"'go\": 62, \"'goosenetworkusa\": 63, \"'halalflaws\": 64, \"'haroonstyles\": 65, \"'having\": 66, \"'hdmovieus\": 67, \"'how\": 68, \"'howtogetawaywithmurder\": 69, \"'httptcofdylhlkdcv\": 70, \"'httptcoltoxypkwww\": 71, \"'httptcozjbwagvnrg\": 72, \"'i\": 73, \"'if\": 74, \"'ilivundrurbed\": 75, \"'im\": 76, \"'important\": 77, \"'is\": 78, \"'it\": 79, \"'jihadi_11\": 80, \"'johnnyrejection\": 81, \"'just\": 82, \"'justdavidvideos\": 83, \"'kaitlynburnell\": 84, \"'kamaluf\": 85, \"'kat\": 86, \"'kim\": 87, \"'lactualaloupe\": 88, \"'ldstarr18\": 89, \"'lemon\": 90, \"'lessons\": 91, \"'lithobolos\": 92, \"'love\": 93, \"'lucaswj\": 94, \"'lynnemcgranger\": 95, \"'madasahatter_17\": 96, \"'mattstratton\": 97, \"'maxblumenthal\": 98, \"'meatgirls\": 99, \"'mechasauce\": 100, \"'mikeage\": 101, \"'misfitinchains\": 102, \"'mistertodd\": 103, \"'mkr\": 104, \"'mmmm\": 105, \"'most\": 106, \"'muslim\": 107, \"'muslimtwo\": 108, \"'myersnfl\": 109, \"'mykitchenrules\": 110, \"'nader_haq\": 111, \"'neilasaurus\": 112, \"'new_babylonia\": 113, \"'no\": 114, \"'nomcookiesnom\": 115, \"'not\": 116, \"'notchrissmith\": 117, \"'nscottg\": 118, \"'obsurfer84\": 119, \"'oh\": 120, \"'out\": 121, \"'owais00\": 122, \"'p8952_\": 123, \"'pardusxy\": 124, \"'peerworker\": 125, \"'pnibbler\": 126, \"'politicalant\": 127, \"'possibly\": 128, \"'pretty\": 129, \"'promo\": 130, \"'proudpatriot101\": 131, \"'psychbarakat\": 132, \"'r\": 133, \"'randomhero30\": 134, \"'raniakhalek\": 135, \"'rape\": 136, \"'rayyoosheh\": 137, \"'realryansipple\": 138, \"'rennie93\": 139, \"'reza_rahman\": 140, \"'rt\": 141, \"'rudawenglish\": 142, \"'saifullah666\": 143, \"'salon\": 144, \"'saltnburnem\": 145, \"'samkitsengupta\": 146, \"'semzyxx\": 147, \"'seriously\": 148, \"'sevilzadeh\": 149, \"'shermertron\": 150, \"'slagkick\": 151, \"'so\": 152, \"'sorry\": 153, \"'spacequeentbh\": 154, \"'sumersloan\": 155, \"'swiftonsecurity\": 156, \"'tarah\": 157, \"'that\": 158, \"'the\": 159, \"'thedoubleclicks\": 160, \"'thegeek_chick\": 161, \"'their\": 162, \"'thelindsayellis\": 163, \"'thelmasleaze\": 164, \"'themirai\": 165, \"'these\": 166, \"'they\": 167, \"'things\": 168, \"'this\": 169, \"'those\": 170, \"'tobyrobertbull\": 171, \"'toodles\": 172, \"'transic_nyc\": 173, \"'truaemusic\": 174, \"'uplay\": 175, \"'vandaliser\": 176, \"'venomous9\": 177, \"'vex0rian\": 178, \"'warriorsialkot\": 179, \"'watan71969\": 180, \"'watch\": 181, \"'we\": 182, \"'wetsprocket\": 183, \"'what\": 184, \"'who\": 185, \"'witch_sniffer\": 186, \"'with\": 187, \"'wow\": 188, \"'yeah\": 189, \"'yes\": 190, \"'you\": 191, \"'your\": 192, \"'yousufpoosuf\": 193, \"'yum\": 194, ',': 195, '0': 196, '06jank': 197, '1': 198, '11': 199, '12': 200, '14': 201, '1400': 202, '15': 203, '17': 204, '1shadeofritch': 205, '2': 206, '2027279099': 207, '22000': 208, '2ndbestidiot': 209, '3': 210, '3outof10': 211, '4': 212, '44': 213, '47': 214, '4x': 215, '5': 216, '6': 217, '7': 218, '80': 219, '800': 220, '90': 221, '911': 222, '98halima': 223, '99': 224, '[': 225, '[PAD]': 226, '[UNKNOWN]': 227, ']': 228, '__chris33__': 229, '_marisajane': 230, '``': 231, 'abducted': 232, 'abdul_a95': 233, 'aberration': 234, 'ability': 235, 'ablahad': 236, 'able': 237, 'absolutely': 238, 'abuse': 239, 'ac360': 240, 'accept': 241, 'acceptable': 242, 'accepted': 243, 'accessorizing': 244, 'account': 245, 'achieve': 246, 'across': 247, 'actoractress': 248, 'actually': 249, 'adjective': 250, 'admits': 251, 'adult': 252, 'afar': 253, 'afraid': 254, 'ago': 255, 'agree': 256, 'ahahahaha': 257, 'air': 258, 'airstrikes': 259, 'aisle': 260, 'ajwatamr': 261, 'akheemv': 262, 'aledthomas22': 263, 'alihashem_tv': 264, 'alive': 265, 'all_hailcaesar': 266, 'allegedly': 267, 'allstatejackie': 268, 'ally': 269, 'along': 270, 'already': 271, 'alternet': 272, 'amaze': 273, 'amazing': 274, 'amazingly': 275, 'ameliagreenhall': 276, 'american': 277, 'amp': 278, 'amymek': 279, 'andcamping': 280, 'andre': 281, 'angelemichelle': 282, 'anitaingle': 283, 'annoying': 284, 'another': 285, 'answer': 286, 'anti': 287, 'antiharassment': 288, 'anyone': 289, 'anything': 290, 'apartheid': 291, 'arabic': 292, 'arabthomness': 293, 'archangel_dux': 294, 'arena': 295, 'argument': 296, 'armedyoure': 297, 'armenian': 298, 'armpit': 299, 'army': 300, 'arquette': 301, 'article': 302, 'asad': 303, 'ask': 304, 'asked': 305, 'askgoog': 306, 'askhermore': 307, 'asshole': 308, 'astounding': 309, 'athlete': 310, 'attack': 311, 'attacked': 312, 'attacking': 313, 'attracted': 314, 'attractive': 315, 'attributing': 316, 'attrocities': 317, 'auntysoapbox': 318, 'australia': 319, 'away': 320, 'awful': 321, 'awkward': 322, 'awww': 323, 'b': 324, 'babbling': 325, 'back': 326, 'backing': 327, 'backwards': 328, 'bad': 329, 'bag': 330, 'baghdad': 331, 'bamboozled': 332, 'banter': 333, 'barackobama': 334, 'basically': 335, 'bastendorfgames': 336, 'batchelorshow': 337, 'bcz': 338, 'beadsland': 339, 'beat': 340, 'beautiful': 341, 'beautifula': 342, 'beavis': 343, 'beckles': 344, 'begun': 345, 'behaving': 346, 'behead': 347, 'behind': 348, 'belief': 349, 'believe': 350, 'best': 351, 'better': 352, 'beyond': 353, 'bgs': 354, 'biebervalue': 355, 'big': 356, 'bigot': 357, 'bigotry': 358, 'bigtime': 359, 'bilalighumman': 360, 'bill': 361, 'bimbo': 362, 'bimbolines': 363, 'bit': 364, 'bitch': 365, 'bixs': 366, 'blabber': 367, 'block': 368, 'blocked': 369, 'bloke': 370, 'blonde': 371, 'blondemoment': 372, 'blow': 373, 'blumenthal': 374, 'body': 375, 'book': 376, 'booted': 377, 'boring': 378, 'bos': 379, 'bottle': 380, 'bought': 381, 'bout': 382, 'bowl': 383, 'boy': 384, 'bq281473': 385, 'breakfast': 386, 'brekky': 387, 'bringing': 388, 'british': 389, 'broke': 390, 'bronny25': 391, 'bruh': 392, 'brushyblues': 393, 'bsilverstrim77': 394, 'budlightbro': 395, 'built': 396, 'bullied': 397, 'burn': 398, 'burning': 399, 'burqua': 400, 'bus': 401, 'business': 402, 'buttercupashby': 403, 'butthead': 404, 'button': 405, 'buying': 406, 'c2e2': 407, 'call': 408, 'cambrian_man': 409, 'campagnebds': 410, 'canned': 411, 'cant': 412, 'captive': 413, 'car': 414, 'card': 415, 'case': 416, 'cashing': 417, 'castrating': 418, 'catwalk': 419, 'cause': 420, 'caved': 421, 'ccot': 422, 'cdnkhadija': 423, 'celebrating': 424, 'celine': 425, 'century': 426, 'challenge': 427, 'chance': 428, 'change': 429, 'changed': 430, 'changing': 431, 'channel': 432, 'channel7': 433, 'chaos': 434, 'character': 435, 'cheeseplus': 436, 'chef': 437, 'cheney': 438, 'chicken': 439, 'child': 440, 'chloeandkelly': 441, 'choice': 442, 'christ': 443, 'christian': 444, 'christiansyazidis': 445, 'christmas': 446, 'chriswarcraft': 447, 'chuck': 448, 'chuckle': 449, 'churner': 450, 'cia': 451, 'cityofmandurah': 452, 'civilian': 453, 'cjsajulga': 454, 'claim': 455, 'claiming': 456, 'clarify': 457, 'clearly': 458, 'close': 459, 'colin': 460, 'colins': 461, 'colonelkickhead': 462, 'come': 463, 'comedian': 464, 'coming': 465, 'comment': 466, 'committed': 467, 'compensation': 468, 'competition': 469, 'complains': 470, 'completely': 471, 'compromise': 472, 'concerned': 473, 'conclusion': 474, 'conducting': 475, 'configuration': 476, 'confuse': 477, 'conserv_miss': 478, 'consider': 479, 'conspiracy': 480, 'constant': 481, 'constantly': 482, 'constructed': 483, 'content': 484, 'contradicted': 485, 'contributing': 486, 'cook': 487, 'cooked': 488, 'cooking': 489, 'cordial': 490, 'cornflakes': 491, 'could': 492, 'country': 493, 'couple': 494, 'court': 495, 'coworkers': 496, 'coz': 497, 'crabfest15': 498, 'crap': 499, 'crash': 500, 'created': 501, 'creates': 502, 'creating': 503, 'credibility': 504, 'cretin': 505, 'critiquing': 506, 'culture': 507, 'cunt': 508, 'cup': 509, 'curd': 510, 'curious': 511, 'customer': 512, 'cut': 513, 'cuz': 514, 'cytheria': 515, 'd20': 516, 'daesh': 517, 'damn': 518, 'danhickey2199': 519, 'danis': 520, 'data': 521, 'dave': 522, 'davidjo52951945': 523, 'davidsgallant': 524, 'dc': 525, 'dead': 526, 'deal': 527, 'death': 528, 'declared': 529, 'deconstruct': 530, 'deconstructing': 531, 'deduction': 532, 'defend': 533, 'definitely': 534, 'delicate': 535, 'demanded': 536, 'dentist': 537, 'describes': 538, 'desire': 539, 'desk': 540, 'desperately': 541, 'dessert': 542, 'destined': 543, 'destroys': 544, 'deusexjuice': 545, 'devops': 546, 'dick': 547, 'dictatorship': 548, 'didazahra': 549, 'didnt': 550, 'difference': 551, 'different': 552, 'direct': 553, 'direction': 554, 'directly': 555, 'discrimination': 556, 'disgrace': 557, 'disgusted': 558, 'disgusting': 559, 'dish': 560, 'disheartened': 561, 'disturbing': 562, 'divisiveness': 563, 'dkim': 564, 'doctor': 565, 'doesnt': 566, 'dogging': 567, 'doh': 568, 'dolly': 569, 'domestic': 570, 'done': 571, 'dont': 572, 'double': 573, 'draskos': 574, 'drdisco_': 575, 'dream': 576, 'dreamer': 577, 'dreaminpng': 578, 'drive': 579, 'drivemaneuveroperate': 580, 'driver': 581, 'driving': 582, 'dropped': 583, 'dry': 584, 'dubhe80': 585, 'duckiemcphee': 586, 'dude': 587, 'due': 588, 'dumb': 589, 'dumbest': 590, 'dummy': 591, 'dye': 592, 'dying': 593, 'ear': 594, 'earth': 595, 'easier': 596, 'easy': 597, 'eat': 598, 'ebola': 599, 'ebooks': 600, 'economics': 601, 'econtried': 602, 'edible': 603, 'efficient': 604, 'effort': 605, 'egypt': 606, 'egyptian': 607, 'either': 608, 'else': 609, 'email': 610, 'emilie': 611, 'empty': 612, 'endless': 613, 'enemy': 614, 'engaging': 615, 'enough': 616, 'enslaved': 617, 'entertaining': 618, 'entree': 619, 'ep': 620, 'episode': 621, 'equal': 622, 'equalpay': 623, 'espn': 624, 'eternity': 625, 'etsho127': 626, 'evacuated': 627, 'evans': 628, 'even': 629, 'eventually': 630, 'ever': 631, 'every': 632, 'everyone': 633, 'everything': 634, 'evidence': 635, 'evilsunbro': 636, 'ew': 637, 'except': 638, 'excited': 639, 'excuse': 640, 'executed': 641, 'expect': 642, 'expedition': 643, 'expertise': 644, 'explain': 645, 'explained': 646, 'expression': 647, 'exterminate': 648, 'extreme': 649, 'eye': 650, 'eyesmkr': 651, 'ezidi': 652, 'ezidipress': 653, 'ezidis': 654, 'face': 655, 'faced': 656, 'fact': 657, 'faded': 658, 'fail': 659, 'fair': 660, 'fan': 661, 'fanatic': 662, 'fascist': 663, 'fat': 664, 'feardept': 665, 'feel': 666, 'feeling': 667, 'female': 668, 'femfreefriday': 669, 'feminism': 670, 'feminist': 671, 'fetch': 672, 'fetish': 673, 'fewer': 674, 'fight': 675, 'fighting': 676, 'filthy': 677, 'finally': 678, 'find': 679, 'fine': 680, 'finger': 681, 'first': 682, 'flip': 683, 'flying': 684, 'folk': 685, 'followed': 686, 'food': 687, 'foot': 688, 'forbidden': 689, 'force': 690, 'forced': 691, 'ford': 692, 'form': 693, 'formula': 694, 'fought': 695, 'foxnews': 696, 'foxnewspolitics': 697, 'free': 698, 'freebsd': 699, 'freebsdgirl': 700, 'freedom': 701, 'freezer': 702, 'fried': 703, 'friend': 704, 'fuck': 705, 'fucking': 706, 'fucktards': 707, 'fun': 708, 'funding': 709, 'fyoudbag': 710, 'gailsimone': 711, 'gal': 712, 'game': 713, 'gamergate': 714, 'gangraped': 715, 'gap': 716, 'garbage': 717, 'garydlum': 718, 'gaters': 719, 'gatery': 720, 'gator': 721, 'gbazov': 722, 'gel': 723, 'genius': 724, 'genocide': 725, 'get': 726, 'getting': 727, 'gg': 728, 'ggautoblocker': 729, 'ggreenwald': 730, 'gilmore': 731, 'girl': 732, 'girlziplocked': 733, 'give': 734, 'given': 735, 'giving': 736, 'glad': 737, 'glhf': 738, 'glove': 739, 'go': 740, 'god': 741, 'going': 742, 'gon': 743, 'gone': 744, 'good': 745, 'goodluck': 746, 'gosh': 747, 'got': 748, 'govt': 749, 'grafana': 750, 'grahamdavida': 751, 'great': 752, 'greater': 753, 'greenlinerzjm': 754, 'grin': 755, 'gross': 756, 'ground': 757, 'group': 758, 'grow': 759, 'grown': 760, 'guardian': 761, 'gueensland': 762, 'guess': 763, 'guilt': 764, 'gulf': 765, 'gumboots': 766, 'guy': 767, 'hadith': 768, 'haha': 769, 'hair': 770, 'halalflaws': 771, 'hamas': 772, 'hand': 773, 'handle': 774, 'happen': 775, 'happened': 776, 'happens': 777, 'happy': 778, 'happycampers': 779, 'harassed': 780, 'harassment': 781, 'haroonstyles': 782, 'harshly': 783, 'hate': 784, 'hated': 785, 'hatefilled': 786, 'hating': 787, 'hatred': 788, 'havent': 789, 'hawaiinshirts': 790, 'hayles_comet': 791, 'he': 792, 'head': 793, 'heart': 794, 'hell': 795, 'hello': 796, 'help': 797, 'helping': 798, 'here': 799, 'hide': 800, 'hilarious': 801, 'himat': 802, 'hit': 803, 'hitler': 804, 'hockey': 805, 'holder': 806, 'home': 807, 'homophobe': 808, 'honestly': 809, 'hope': 810, 'hoping': 811, 'hostage': 812, 'however': 813, 'hows': 814, 'ht': 815, 'http': 816, 'httpstco6kgw1lejfr': 817, 'httpstcoum5svjgazu': 818, 'httpstcoxufwsigxfk': 819, 'httpt': 820, 'httptco': 821, 'httptco1pl9gqrdp7': 822, 'httptco4u': 823, 'httptco5vsf5jroi6': 824, 'httptco8xldnwbvzx': 825, 'httptcobwr6ap0ooo': 826, 'httptcocaxxus108l': 827, 'httptcocbcr9u4fc9': 828, 'httptcodajgdn1wy3': 829, 'httptcoddecobanzx': 830, 'httptcoganrh4k87a': 831, 'httptcogbvojnmbcv': 832, 'httptcoglncgkuukp': 833, 'httptcoh8f7n04q5o': 834, 'httptcom4jcka5ir0': 835, 'httptcom5j2tpksm5': 836, 'httptcomdb4iu9whd': 837, 'httptcomxuw3hz4tb': 838, 'httptconleyqfnkyp': 839, 'httptcontojwo4lnt': 840, 'httptcoocsy7crghf': 841, 'httptcopfs5zlkt07': 842, 'httptcopnhzjrhhqr': 843, 'httptcoq95ei17sua': 844, 'httptcoqaa6bwi4pm': 845, 'httptcoqmdsdtfvya': 846, 'httptcoqv': 847, 'httptcorbthvmh9jj': 848, 'httptcospmvzcjj6o': 849, 'httptcot65iytpvdk': 850, 'httptcotfsodcowbx': 851, 'httptcoumkitlb5h9': 852, 'httptcouq19q6pnaq': 853, 'httptcovanp6y7clr': 854, 'httptcowhy3a8o33z': 855, 'httptcoyspbfitztb': 856, 'hugged': 857, 'human': 858, 'humanistfury': 859, 'humanity': 860, 'hungrycampers': 861, 'hw': 862, 'hypatiadotca': 863, 'hypocrite': 864, 'ice': 865, 'id': 866, 'idea': 867, 'ideaology': 868, 'ideaor': 869, 'ideology': 870, 'idiot': 871, 'idiotim': 872, 'idontneedfeminism': 873, 'ied': 874, 'ignorance': 875, 'ignorant': 876, 'ignoring': 877, 'ihatethiskid': 878, 'illegal': 879, 'ilovebreakfast': 880, 'iloveobama': 881, 'imagine': 882, 'imperialism': 883, 'implies': 884, 'info': 885, 'information': 886, 'input': 887, 'instant': 888, 'instead': 889, 'insufferable': 890, 'insulted': 891, 'insulting': 892, 'integration': 893, 'intel': 894, 'interact': 895, 'interest': 896, 'interesting': 897, 'international': 898, 'internet': 899, 'intersection': 900, 'intolerance': 901, 'invented': 902, 'iraq': 903, 'iron': 904, 'isi': 905, 'isisutterly': 906, 'islam': 907, 'islamdefense': 908, 'islamic': 909, 'islamist': 910, 'isnt': 911, 'israel': 912, 'israeliregime': 913, 'issue': 914, 'itll': 915, 'itsbariecool': 916, 'itsfact': 917, 'ive': 918, 'ivyexec': 919, 'izrinhariri': 920, 'jac': 921, 'jealous': 922, 'jeffreygoldberg': 923, 'jennykutner': 924, 'jeremiahfelt': 925, 'jew': 926, 'jhamby': 927, 'jihadis': 928, 'jimcramer': 929, 'jncatron': 930, 'job': 931, 'johncantile': 932, 'johnnygjokaj': 933, 'joke': 934, 'journalist': 935, 'judge': 936, 'juliet777777': 937, 'justhonest': 938, 'justkelly_ok': 939, 'kardashian': 940, 'kat': 941, 'katampandre': 942, 'katandandre': 943, 'katie': 944, 'katieandnikki': 945, 'keep': 946, 'keyboard': 947, 'keynote': 948, 'kid': 949, 'kidding': 950, 'kill': 951, 'killa': 952, 'killed': 953, 'killerblondes': 954, 'killing': 955, 'kind': 956, 'kirkuk': 957, 'kmactane': 958, 'knew': 959, 'know': 960, 'knowingly': 961, 'kobane': 962, 'kuffir': 963, 'kurd': 964, 'kurdish': 965, 'lad': 966, 'lady': 967, 'lajouetreine': 968, 'large': 969, 'last': 970, 'latest': 971, 'laugh': 972, 'launcher': 973, 'law': 974, 'lazy': 975, 'lb': 976, 'le': 977, 'lead': 978, 'leaning': 979, 'led': 980, 'left': 981, 'legitimately': 982, 'lemon': 983, 'lesson': 984, 'letting': 985, 'level': 986, 'liar': 987, 'liberate': 988, 'libya': 989, 'license': 990, 'licking': 991, 'lie': 992, 'lied': 993, 'life': 994, 'light': 995, 'like': 996, 'likely': 997, 'lilbeastunleash': 998, 'lime': 999, 'line': 1000, 'link': 1001, 'lipstick': 1002, 'lisamromano': 1003, 'lissasauras': 1004, 'listen': 1005, 'lithobolos': 1006, 'little': 1007, 'live': 1008, 'liver': 1009, 'lol': 1010, 'long': 1011, 'loo': 1012, 'look': 1013, 'looked': 1014, 'looking': 1015, 'lose': 1016, 'loser': 1017, 'lost': 1018, 'lot': 1019, 'love': 1020, 'low': 1021, 'lt3': 1022, 'luck': 1023, 'lunatic': 1024, 'm_m_myers': 1025, 'maajidnawaz': 1026, 'mad': 1027, 'madasahatter_17': 1028, 'maddr11': 1029, 'made': 1030, 'magazine': 1031, 'magnus919': 1032, 'maja_stina': 1033, 'major': 1034, 'majority': 1035, 'make': 1036, 'making': 1037, 'mami_mermelada': 1038, 'man': 1039, 'manbabies': 1040, 'manu': 1041, 'manure': 1042, 'many': 1043, 'map': 1044, 'marc_leibowitz': 1045, 'market': 1046, 'markimbriaco': 1047, 'maroon': 1048, 'marriage': 1049, 'married': 1050, 'masontillidie': 1051, 'math': 1052, 'matter': 1053, 'mattybboi83': 1054, 'maxblumenthal': 1055, 'maxcaras': 1056, 'may': 1057, 'maybe': 1058, 'mccheesy904': 1059, 'mean': 1060, 'meaning': 1061, 'meatball': 1062, 'medium': 1063, 'meh': 1064, 'mehdirhasan': 1065, 'mellym09': 1066, 'melting': 1067, 'mention': 1068, 'menu': 1069, 'messed': 1070, 'microbrain': 1071, 'middle': 1072, 'military': 1073, 'militia': 1074, 'minasmith64': 1075, 'minister': 1076, 'minority': 1077, 'miskelayla': 1078, 'miss': 1079, 'missed': 1080, 'missing': 1081, 'mkr': 1082, 'mkr2015': 1083, 'mkrkat': 1084, 'mmmm': 1085, 'model': 1086, 'moderate': 1087, 'modern': 1088, 'mohammed': 1089, 'monday': 1090, 'month': 1091, 'moron': 1092, 'mosul': 1093, 'mouth': 1094, 'moving': 1095, 'much': 1096, 'mugnezee': 1097, 'multiple': 1098, 'murde': 1099, 'murder': 1100, 'murdered': 1101, 'murtaza': 1102, 'muslim': 1103, 'mutilated': 1104, 'mykitchenrules': 1105, 'mystrongstate': 1106, 'naga': 1107, 'nainfidels': 1108, 'naminglisting': 1109, 'narîn': 1110, 'nasty': 1111, 'naturally': 1112, 'nazi': 1113, 'near': 1114, 'necessarily': 1115, 'need': 1116, 'needarethinkinformat': 1117, 'negated': 1118, 'negotiate': 1119, 'never': 1120, 'new': 1121, 'newscoverup': 1122, 'next': 1123, 'nice': 1124, 'nigelbigmeech': 1125, 'night': 1126, 'nikki': 1127, 'nobody': 1128, 'noise': 1129, 'none': 1130, 'nooo': 1131, 'nope': 1132, 'note': 1133, 'nothing': 1134, 'notsexist': 1135, 'novorossiyan': 1136, 'number': 1137, 'number10gov': 1138, 'nytimes': 1139, 'obamacare': 1140, 'obamas': 1141, 'obviously': 1142, 'occasion': 1143, 'offense': 1144, 'offensive': 1145, 'offering': 1146, 'oh': 1147, 'oil': 1148, 'oktar': 1149, 'old': 1150, 'oldgfatherclock': 1151, 'one': 1152, 'open': 1153, 'opener': 1154, 'opinion': 1155, 'opponent': 1156, 'opposed': 1157, 'optional': 1158, 'oreilly': 1159, 'org': 1160, 'origin': 1161, 'others': 1162, 'outside': 1163, 'overweight': 1164, 'p': 1165, 'page': 1166, 'painful': 1167, 'pakistan': 1168, 'paknsave': 1169, 'palestine': 1170, 'pancake': 1171, 'paraketa': 1172, 'parent': 1173, 'paris': 1174, 'participate': 1175, 'passport': 1176, 'past': 1177, 'pastor': 1178, 'patrickosgood': 1179, 'pawarnhoff': 1180, 'pay': 1181, 'paying': 1182, 'pc': 1183, 'peace': 1184, 'peacenothate_': 1185, 'pedophile': 1186, 'pedophilia': 1187, 'penalty': 1188, 'people': 1189, 'peopleschoice': 1190, 'perfect': 1191, 'period': 1192, 'perk': 1193, 'perl': 1194, 'personality': 1195, 'pervious': 1196, 'peymaneh123': 1197, 'phxken': 1198, 'pie': 1199, 'piece': 1200, 'pile': 1201, 'pilgars': 1202, 'pilot': 1203, 'pissing': 1204, 'pjnet': 1205, 'plane': 1206, 'planning': 1207, 'playing': 1208, 'playstations': 1209, 'please': 1210, 'pleasing': 1211, 'point': 1212, 'pole': 1213, 'police': 1214, 'political': 1215, 'politicalant': 1216, 'politics_pr': 1217, 'poor': 1218, 'poorly': 1219, 'population': 1220, 'portland': 1221, 'possible': 1222, 'post': 1223, 'posting': 1224, 'power': 1225, 'present': 1226, 'pressure': 1227, 'pretend': 1228, 'pretty': 1229, 'previous': 1230, 'price': 1231, 'prime': 1232, 'prisonersofwar': 1233, 'pro': 1234, 'probably': 1235, 'problem': 1236, 'problematic': 1237, 'producer': 1238, 'production': 1239, 'profile': 1240, 'project': 1241, 'promise': 1242, 'promo': 1243, 'promogirls': 1244, 'promoted': 1245, 'proof': 1246, 'propaganda': 1247, 'prophet': 1248, 'prospect': 1249, 'protecting': 1250, 'prove': 1251, 'provide': 1252, 'provision': 1253, 'psog': 1254, 'psogeco': 1255, 'public': 1256, 'punch': 1257, 'purse': 1258, 'put': 1259, 'question': 1260, 'questionsformen': 1261, 'quietly': 1262, 'quit': 1263, 'quite': 1264, 'quran': 1265, 'r': 1266, 'race': 1267, 'racist': 1268, 'raised': 1269, 'random': 1270, 'ransom': 1271, 'rape': 1272, 'raped': 1273, 'rapper': 1274, 'rapperguydmv': 1275, 'raqqa': 1276, 'raqqa_sl': 1277, 'rate': 1278, 'rather': 1279, 'ratio': 1280, 'ravenhuwolf': 1281, 'raw': 1282, 'react': 1283, 'read': 1284, 'readable': 1285, 'real': 1286, 'really': 1287, 'realtalk': 1288, 'reason': 1289, 'reasonably': 1290, 'rebel': 1291, 'recall': 1292, 'reckless': 1293, 'recognize': 1294, 'recommends': 1295, 'record': 1296, 'recruit': 1297, 'recuperate': 1298, 'redux': 1299, 'reevaluate': 1300, 'reference': 1301, 'referring': 1302, 'refine': 1303, 'regarding': 1304, 'regulation': 1305, 'rejected': 1306, 'relationship': 1307, 'release': 1308, 'religion': 1309, 'religious': 1310, 'relisha': 1311, 'reload': 1312, 'remember': 1313, 'reminded': 1314, 'rennie93': 1315, 'repeatedly': 1316, 'repetition': 1317, 'replacement': 1318, 'report': 1319, 'reputation': 1320, 'request': 1321, 'resorting': 1322, 'respond': 1323, 'restaurant': 1324, 'retreat': 1325, 'revolting': 1326, 'rigged': 1327, 'right': 1328, 'rinehart33': 1329, 'rip': 1330, 'rjennromao': 1331, 'rkhayer': 1332, 'rkinglive2dance': 1333, 'rob': 1334, 'robbed': 1335, 'robert': 1336, 'robinriedstra': 1337, 'roll': 1338, 'roof': 1339, 'room': 1340, 'rooshv': 1341, 'rose': 1342, 'rotherham': 1343, 'rougek68': 1344, 'round': 1345, 'routinely': 1346, 'rt': 1347, 'rts': 1348, 'rudawenglish': 1349, 'rudd': 1350, 'rude': 1351, 'rudoren': 1352, 'ruin': 1353, 'run': 1354, 'running': 1355, 'russian': 1356, 'said': 1357, 'sajid_fairooz': 1358, 'sake': 1359, 'salmon': 1360, 'salon': 1361, 'salty': 1362, 'santa': 1363, 'sarah_jane666': 1364, 'sas': 1365, 'satire': 1366, 'saudi': 1367, 'sausage': 1368, 'save': 1369, 'saw': 1370, 'say': 1371, 'scared': 1372, 'schmeezi': 1373, 'school': 1374, 'score': 1375, 'scratch': 1376, 'screencaps': 1377, 'script': 1378, 'scripted': 1379, 'scroll': 1380, 'scum': 1381, 'season': 1382, 'see': 1383, 'seen': 1384, 'segment': 1385, 'self': 1386, 'selfies': 1387, 'selling': 1388, 'sellout': 1389, 'semite': 1390, 'semzyxx': 1391, 'sensitive': 1392, 'sent': 1393, 'serious': 1394, 'serlasco': 1395, 'serve': 1396, 'served': 1397, 'service': 1398, 'serving': 1399, 'set': 1400, 'setup': 1401, 'sex': 1402, 'sexhonest': 1403, 'sexism': 1404, 'sexist': 1405, 'sexually': 1406, 'shami_is_back': 1407, 'shaz': 1408, 'shell': 1409, 'sherri': 1410, 'shia': 1411, 'shingal': 1412, 'shirt': 1413, 'shit': 1414, 'shoe0nhead': 1415, 'short': 1416, 'shovel': 1417, 'show': 1418, 'shower': 1419, 'shred': 1420, 'shut': 1421, 'sick': 1422, 'side': 1423, 'sighhhh': 1424, 'simpson': 1425, 'since': 1426, 'singer': 1427, 'sinjar': 1428, 'sirgoldenrod': 1429, 'six': 1430, 'skank': 1431, 'slap': 1432, 'slave': 1433, 'slaved': 1434, 'sleep': 1435, 'sleeping': 1436, 'slide': 1437, 'slightly': 1438, 'sloshedtrain2': 1439, 'slow': 1440, 'smack': 1441, 'smackem': 1442, 'small': 1443, 'smarter': 1444, 'smash': 1445, 'sold': 1446, 'soldier': 1447, 'someone': 1448, 'something': 1449, 'sometimes': 1450, 'somewhat': 1451, 'soon': 1452, 'sorbent': 1453, 'sorbet': 1454, 'sorry': 1455, 'sorrynotsorry': 1456, 'sound': 1457, 'source': 1458, 'space': 1459, 'spacekatgal': 1460, 'spam': 1461, 'spatchcock': 1462, 'speak': 1463, 'speaking': 1464, 'speech': 1465, 'spiritual': 1466, 'spoiled': 1467, 'sport': 1468, 'sports2inflatio': 1469, 'sputnik': 1470, 'srhbutts': 1471, 'stalin': 1472, 'stand': 1473, 'standard': 1474, 'standing': 1475, 'starius': 1476, 'started': 1477, 'starting': 1478, 'state': 1479, 'statistic': 1480, 'stats': 1481, 'stay': 1482, 'stayed': 1483, 'staying': 1484, 'step': 1485, 'steve': 1486, 'stiff': 1487, 'still': 1488, 'stood': 1489, 'stop': 1490, 'stopping': 1491, 'stopwadhwa2015': 1492, 'story': 1493, 'strategically': 1494, 'streaming': 1495, 'stretch': 1496, 'strike': 1497, 'strong': 1498, 'struggle': 1499, 'student': 1500, 'stuff': 1501, 'stupid': 1502, 'stylist': 1503, 'subject': 1504, 'subtle': 1505, 'success': 1506, 'suck': 1507, 'sudixitca': 1508, 'suicide': 1509, 'super': 1510, 'superior': 1511, 'support': 1512, 'supported': 1513, 'sure': 1514, 'surgery': 1515, 'swallow': 1516, 'switching': 1517, 'syazlicious': 1518, 'syria': 1519, 'systemic': 1520, 'tacky': 1521, 'taken': 1522, 'taking': 1523, 'tal': 1524, 'taliban': 1525, 'talk': 1526, 'talladega': 1527, 'taqiyya': 1528, 'tart': 1529, 'tasteless': 1530, 'tatibresolin': 1531, 'tbh': 1532, 'tbielawa': 1533, 'tcot': 1534, 'teach': 1535, 'teaching': 1536, 'team': 1537, 'tell': 1538, 'telling': 1539, 'tempting': 1540, 'terrible': 1541, 'terror': 1542, 'terrorism': 1543, 'terrorist': 1544, 'testicle': 1545, 'texasarlington': 1546, 'thanks': 1547, 'thatll': 1548, 'thats': 1549, 'theckman': 1550, 'thegoodguysau': 1551, 'themselvespffft': 1552, 'themuslimguy': 1553, 'thequinnspiracy': 1554, 'there': 1555, 'theyre': 1556, 'thing': 1557, 'think': 1558, 'thinking': 1559, 'third': 1560, 'thought': 1561, 'threw': 1562, 'throw': 1563, 'tied': 1564, 'tim': 1565, 'time': 1566, 'timespan': 1567, 'tiny': 1568, 'tip': 1569, 'tnr': 1570, 'today': 1571, 'todayreal': 1572, 'told': 1573, 'tolerate': 1574, 'tomato': 1575, 'tonight': 1576, 'tool': 1577, 'top': 1578, 'total': 1579, 'train': 1580, 'translator': 1581, 'treating': 1582, 'trend': 1583, 'tried': 1584, 'tripple': 1585, 'trolley': 1586, 'troop': 1587, 'trophy': 1588, 'truly': 1589, 'try': 1590, 'trying': 1591, 'turf': 1592, 'turk': 1593, 'tv': 1594, 'tw': 1595, 'tweet': 1596, 'twist': 1597, 'twista202': 1598, 'twitter': 1599, 'two': 1600, 'typed': 1601, 'typically': 1602, 'typo': 1603, 'u': 1604, 'ugly': 1605, 'ukraine': 1606, 'ukrainian': 1607, 'ultrafundamentalist': 1608, 'unacceptable': 1609, 'unapologetic': 1610, 'unashamed': 1611, 'uncalled': 1612, 'understand': 1613, 'understands': 1614, 'unfair': 1615, 'uninvolved': 1616, 'university': 1617, 'update': 1618, 'upon': 1619, 'use': 1620, 'user': 1621, 'username': 1622, 'usually': 1623, 'valenti': 1624, 'value': 1625, 'vc': 1626, 'vcs': 1627, 'venereveritas13': 1628, 'versa': 1629, 'verse': 1630, 'via': 1631, 'vice': 1632, 'victim': 1633, 'victorymonk': 1634, 'video': 1635, 'videobeautiful': 1636, 'violence': 1637, 'voice': 1638, 'vonta624': 1639, 'vote': 1640, 'voted': 1641, 'w': 1642, 'wadhwa': 1643, 'wait': 1644, 'waiting': 1645, 'wakeuplibsgtjoenbc': 1646, 'walk': 1647, 'wan': 1648, 'wanted': 1649, 'washed': 1650, 'washingtonpost': 1651, 'wasnt': 1652, 'watched': 1653, 'watching': 1654, 'way': 1655, 'week': 1656, 'weekly': 1657, 'well': 1658, 'went': 1659, 'werent': 1660, 'west': 1661, 'western': 1662, 'wheat': 1663, 'wheel': 1664, 'whereisyourdignity': 1665, 'whether': 1666, 'whiny': 1667, 'white': 1668, 'whiteblack': 1669, 'whitening': 1670, 'whole': 1671, 'wi': 1672, 'wife': 1673, 'win': 1674, 'wing': 1675, 'wish': 1676, 'without': 1677, 'witty': 1678, 'wizardryofozil': 1679, 'wks': 1680, 'wnba': 1681, 'wnyc': 1682, 'wocracial': 1683, 'woman': 1684, 'womenagainstfeminism': 1685, 'womeninterpret': 1686, 'word': 1687, 'work': 1688, 'worker': 1689, 'working': 1690, 'worse': 1691, 'worst': 1692, 'would': 1693, 'wouldnt': 1694, 'wouldve': 1695, 'wow': 1696, 'wrecking': 1697, 'write': 1698, 'writer': 1699, 'writing': 1700, 'wrong': 1701, 'xmjee': 1702, 'yall': 1703, 'yawn': 1704, 'yeah': 1705, 'year': 1706, 'yes': 1707, 'yesallwomen': 1708, 'yesyouresexist': 1709, 'yet': 1710, 'yield': 1711, 'youd': 1712, 'youll': 1713, 'young': 1714, 'youre': 1715, 'youtube': 1716, 'ypg': 1717, 'zaibatsunews': 1718, 'zene55': 1719, 'zero': 1720, 'zython86': 1721}\n"
          ],
          "name": "stdout"
        }
      ]
    },
    {
      "cell_type": "markdown",
      "metadata": {
        "id": "Kt-zErr0-OJC"
      },
      "source": [
        "Sample output for Get Word List (Only for format reference since the following pic is not a full print result. But the format is clear to see.)\n",
        "\n",
        "![WeChat Image_20210403214048.png](data:image/png;base64,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)"
      ]
    },
    {
      "cell_type": "markdown",
      "metadata": {
        "id": "GcB7P5DZqo_1"
      },
      "source": [
        "**padding and encoding [Please complete this section]**"
      ]
    },
    {
      "cell_type": "code",
      "metadata": {
        "id": "LqmFH55BzFPR"
      },
      "source": [
        "#给的\n",
        "#转化句子到单词索引 convert the sentences--> word index\n",
        "len_list = [len(s) for s in sentences] # 每句话的长度都是多少，然后设置成个list\n",
        "seq_length = max(len_list)    #提取出最长的\n",
        "\n",
        "def encode_and_add_padding(sentences, seq_length, word_index):#句子，最长的长度，不重复单词对应的索引\n",
        "  sent_encoded = []\n",
        "  for sent in sentences:\n",
        "    temp_encoded = [word_index[word] for word in sent] #这是不添加PAD的时候的index索引，根据单词对应出来的\n",
        "    if len(temp_encoded) < seq_length:\n",
        "      temp_encoded += [word_index['[PAD]']] * (seq_length - len(temp_encoded))#word_index['[PAD]']取出括号里的index\n",
        "    sent_encoded.append(temp_encoded)\n",
        "  return sent_encoded\n",
        "\n",
        "sent_encoded = encode_and_add_padding(sentences, seq_length, word_index)\n",
        "print(sent_encoded)                       "
      ],
      "execution_count": null,
      "outputs": []
    },
    {
      "cell_type": "code",
      "metadata": {
        "id": "PwyLQcojqqRv"
      },
      "source": [
        "# The sequence length is pre-defined, you can't change this value for this exercise\n",
        "seq_length = 16\n",
        "\n",
        "# Please Complete this function\n",
        "# Hint: You should pay attention to: (1) if the sentence length > seq_length (2) if the word not in word_index dictionary\n",
        "def encode_and_add_padding(sentences, seq_length, word_index):\n",
        "    sent_encoded = []\n",
        "    for sent in text_train_le:\n",
        "      temp_encoded = [word_index[word] for word in sent]\n",
        "      if len(temp_encoded) < seq_length:\n",
        "        temp_encoded += [word_index['[PAD]']] * (seq_length - len(temp_encoded))\n",
        "        sent_encoded.append(temp_encoded)\n",
        "      elif len(temp_encoded) > seq_length:\n",
        "        temp_encoded += [word_index['[UNKNOWN]']] * (len(temp_encoded) - seq_length)    #再找资料验证\n",
        "        sent_encoded.append(temp_encoded)\n",
        "\n",
        "    return sent_encoded\n",
        "\n",
        "train_pad_encoded = encode_and_add_padding(text_train_le, seq_length, word_index )\n",
        "test_pad_encoded = encode_and_add_padding(text_test_le, seq_length, word_index )"
      ],
      "execution_count": 22,
      "outputs": []
    },
    {
      "cell_type": "markdown",
      "metadata": {
        "id": "rUA2H0-HLuQe"
      },
      "source": [
        "**Download Embeddings [Please complete this section]**\n",
        "\n",
        "You can find the details from https://github.com/RaRe-Technologies/gensim-data"
      ]
    },
    {
      "cell_type": "code",
      "metadata": {
        "id": "856alejrLuQe",
        "colab": {
          "base_uri": "https://localhost:8080/"
        },
        "outputId": "0d1a2462-86e1-4a06-e774-3937c5e08d3f"
      },
      "source": [
        "import gensim.downloader as api\n",
        "word_emb_model = api.load(\"glove-twitter-50\") # Download an embedding other than glove-twitter-25"
      ],
      "execution_count": 23,
      "outputs": [
        {
          "output_type": "stream",
          "text": [
            "[==================================================] 100.0% 199.5/199.5MB downloaded\n"
          ],
          "name": "stdout"
        }
      ]
    },
    {
      "cell_type": "markdown",
      "metadata": {
        "id": "sCZMaK0zLuQj"
      },
      "source": [
        "**Get embeddings**"
      ]
    },
    {
      "cell_type": "code",
      "metadata": {
        "id": "bdSLmjkSLuQk"
      },
      "source": [
        "# Get the Embedding lookup table\n",
        "import numpy as np\n",
        "emb_dim = word_emb_model.vector_size\n",
        "\n",
        "emb_table = []\n",
        "for i, word in enumerate(word_list):\n",
        "    if word in word_emb_model:\n",
        "        emb_table.append(word_emb_model[word])\n",
        "    else:\n",
        "        emb_table.append([0]*emb_dim)\n",
        "emb_table = np.array(emb_table)"
      ],
      "execution_count": 24,
      "outputs": []
    },
    {
      "cell_type": "markdown",
      "metadata": {
        "id": "yJ96KxTcLuQo"
      },
      "source": [
        "### Model"
      ]
    },
    {
      "cell_type": "code",
      "metadata": {
        "id": "jCZG8wAXLuQp"
      },
      "source": [
        "vocab_size = len(word_list)\n",
        "n_hidden = 50\n",
        "total_epoch = 100\n",
        "learning_rate = 0.01"
      ],
      "execution_count": 25,
      "outputs": []
    },
    {
      "cell_type": "code",
      "metadata": {
        "id": "NRrSAS-DLuQs",
        "colab": {
          "base_uri": "https://localhost:8080/",
          "height": 396
        },
        "outputId": "7b0e1b20-c673-47c6-af47-09ae9e61f71c"
      },
      "source": [
        "import torch\n",
        "#You can enable GPU here (cuda); or just CPU\n",
        "device = torch.device(\"cuda\" if torch.cuda.is_available() else \"cpu\")\n",
        "\n",
        "import numpy as np\n",
        "\n",
        "import torch.nn as nn\n",
        "import torch.nn.functional as F\n",
        "import torch.optim as optim\n",
        "from sklearn.metrics import accuracy_score\n",
        "\n",
        "class Model(nn.Module):\n",
        "    def __init__(self):\n",
        "        super(Model, self).__init__()\n",
        "        self.emb = nn.Embedding(vocab_size, emb_dim)\n",
        "        self.emb.weight.data.copy_(torch.from_numpy(emb_table))\n",
        "        self.emb.weight.requires_grad = False\n",
        "        self.lstm = nn.LSTM(emb_dim, n_hidden, num_layers=2, batch_first =True, dropout=0.2)\n",
        "        self.linear = nn.Linear(n_hidden,n_class)\n",
        "\n",
        "    def forward(self, x):\n",
        "        x = self.emb(x)\n",
        "        x,_ = self.lstm(x)\n",
        "        x = self.linear(x[:,-1,:])\n",
        "        return x\n",
        "\n",
        "\n",
        "model = Model().to(device)\n",
        "criterion = nn.CrossEntropyLoss()\n",
        "optimizer = optim.Adam(model.parameters(), lr=learning_rate)\n",
        "\n",
        "input_torch = torch.from_numpy(np.array(train_pad_encoded)).to(device)  #1,6758\n",
        "target_torch = torch.from_numpy(np.array(label_train_encoded)).view(-1).to(device)  #300\n",
        "\n",
        "\n",
        "for epoch in range(total_epoch):  \n",
        "    \n",
        "    model.train()\n",
        "    optimizer.zero_grad()\n",
        "    outputs = model(input_torch) \n",
        "    loss = criterion(outputs, target_torch)\n",
        "    loss.backward()\n",
        "    optimizer.step()\n",
        "    \n",
        "    if epoch%10 == 9:\n",
        "        predicted = torch.argmax(outputs, -1)\n",
        "        acc= accuracy_score(predicted.cpu().numpy(),target_torch.cpu().numpy())\n",
        "\n",
        "        print('Epoch: %d, loss: %.5f, train_acc: %.2f' %(epoch + 1, loss.item(), acc))\n",
        "\n",
        "print('Finished Training')\n"
      ],
      "execution_count": 26,
      "outputs": [
        {
          "output_type": "error",
          "ename": "ValueError",
          "evalue": "ignored",
          "traceback": [
            "\u001b[0;31m---------------------------------------------------------------------------\u001b[0m",
            "\u001b[0;31mValueError\u001b[0m                                Traceback (most recent call last)",
            "\u001b[0;32m<ipython-input-26-85a700706c7c>\u001b[0m in \u001b[0;36m<module>\u001b[0;34m()\u001b[0m\n\u001b[1;32m     39\u001b[0m     \u001b[0moptimizer\u001b[0m\u001b[0;34m.\u001b[0m\u001b[0mzero_grad\u001b[0m\u001b[0;34m(\u001b[0m\u001b[0;34m)\u001b[0m\u001b[0;34m\u001b[0m\u001b[0;34m\u001b[0m\u001b[0m\n\u001b[1;32m     40\u001b[0m     \u001b[0moutputs\u001b[0m \u001b[0;34m=\u001b[0m \u001b[0mmodel\u001b[0m\u001b[0;34m(\u001b[0m\u001b[0minput_torch\u001b[0m\u001b[0;34m)\u001b[0m\u001b[0;34m\u001b[0m\u001b[0;34m\u001b[0m\u001b[0m\n\u001b[0;32m---> 41\u001b[0;31m     \u001b[0mloss\u001b[0m \u001b[0;34m=\u001b[0m \u001b[0mcriterion\u001b[0m\u001b[0;34m(\u001b[0m\u001b[0moutputs\u001b[0m\u001b[0;34m,\u001b[0m \u001b[0mtarget_torch\u001b[0m\u001b[0;34m)\u001b[0m\u001b[0;34m\u001b[0m\u001b[0;34m\u001b[0m\u001b[0m\n\u001b[0m\u001b[1;32m     42\u001b[0m     \u001b[0mloss\u001b[0m\u001b[0;34m.\u001b[0m\u001b[0mbackward\u001b[0m\u001b[0;34m(\u001b[0m\u001b[0;34m)\u001b[0m\u001b[0;34m\u001b[0m\u001b[0;34m\u001b[0m\u001b[0m\n\u001b[1;32m     43\u001b[0m     \u001b[0moptimizer\u001b[0m\u001b[0;34m.\u001b[0m\u001b[0mstep\u001b[0m\u001b[0;34m(\u001b[0m\u001b[0;34m)\u001b[0m\u001b[0;34m\u001b[0m\u001b[0;34m\u001b[0m\u001b[0m\n",
            "\u001b[0;32m/usr/local/lib/python3.7/dist-packages/torch/nn/modules/module.py\u001b[0m in \u001b[0;36m_call_impl\u001b[0;34m(self, *input, **kwargs)\u001b[0m\n\u001b[1;32m    887\u001b[0m             \u001b[0mresult\u001b[0m \u001b[0;34m=\u001b[0m \u001b[0mself\u001b[0m\u001b[0;34m.\u001b[0m\u001b[0m_slow_forward\u001b[0m\u001b[0;34m(\u001b[0m\u001b[0;34m*\u001b[0m\u001b[0minput\u001b[0m\u001b[0;34m,\u001b[0m \u001b[0;34m**\u001b[0m\u001b[0mkwargs\u001b[0m\u001b[0;34m)\u001b[0m\u001b[0;34m\u001b[0m\u001b[0;34m\u001b[0m\u001b[0m\n\u001b[1;32m    888\u001b[0m         \u001b[0;32melse\u001b[0m\u001b[0;34m:\u001b[0m\u001b[0;34m\u001b[0m\u001b[0;34m\u001b[0m\u001b[0m\n\u001b[0;32m--> 889\u001b[0;31m             \u001b[0mresult\u001b[0m \u001b[0;34m=\u001b[0m \u001b[0mself\u001b[0m\u001b[0;34m.\u001b[0m\u001b[0mforward\u001b[0m\u001b[0;34m(\u001b[0m\u001b[0;34m*\u001b[0m\u001b[0minput\u001b[0m\u001b[0;34m,\u001b[0m \u001b[0;34m**\u001b[0m\u001b[0mkwargs\u001b[0m\u001b[0;34m)\u001b[0m\u001b[0;34m\u001b[0m\u001b[0;34m\u001b[0m\u001b[0m\n\u001b[0m\u001b[1;32m    890\u001b[0m         for hook in itertools.chain(\n\u001b[1;32m    891\u001b[0m                 \u001b[0m_global_forward_hooks\u001b[0m\u001b[0;34m.\u001b[0m\u001b[0mvalues\u001b[0m\u001b[0;34m(\u001b[0m\u001b[0;34m)\u001b[0m\u001b[0;34m,\u001b[0m\u001b[0;34m\u001b[0m\u001b[0;34m\u001b[0m\u001b[0m\n",
            "\u001b[0;32m/usr/local/lib/python3.7/dist-packages/torch/nn/modules/loss.py\u001b[0m in \u001b[0;36mforward\u001b[0;34m(self, input, target)\u001b[0m\n\u001b[1;32m   1046\u001b[0m         \u001b[0;32massert\u001b[0m \u001b[0mself\u001b[0m\u001b[0;34m.\u001b[0m\u001b[0mweight\u001b[0m \u001b[0;32mis\u001b[0m \u001b[0;32mNone\u001b[0m \u001b[0;32mor\u001b[0m \u001b[0misinstance\u001b[0m\u001b[0;34m(\u001b[0m\u001b[0mself\u001b[0m\u001b[0;34m.\u001b[0m\u001b[0mweight\u001b[0m\u001b[0;34m,\u001b[0m \u001b[0mTensor\u001b[0m\u001b[0;34m)\u001b[0m\u001b[0;34m\u001b[0m\u001b[0;34m\u001b[0m\u001b[0m\n\u001b[1;32m   1047\u001b[0m         return F.cross_entropy(input, target, weight=self.weight,\n\u001b[0;32m-> 1048\u001b[0;31m                                ignore_index=self.ignore_index, reduction=self.reduction)\n\u001b[0m\u001b[1;32m   1049\u001b[0m \u001b[0;34m\u001b[0m\u001b[0m\n\u001b[1;32m   1050\u001b[0m \u001b[0;34m\u001b[0m\u001b[0m\n",
            "\u001b[0;32m/usr/local/lib/python3.7/dist-packages/torch/nn/functional.py\u001b[0m in \u001b[0;36mcross_entropy\u001b[0;34m(input, target, weight, size_average, ignore_index, reduce, reduction)\u001b[0m\n\u001b[1;32m   2691\u001b[0m     \u001b[0;32mif\u001b[0m \u001b[0msize_average\u001b[0m \u001b[0;32mis\u001b[0m \u001b[0;32mnot\u001b[0m \u001b[0;32mNone\u001b[0m \u001b[0;32mor\u001b[0m \u001b[0mreduce\u001b[0m \u001b[0;32mis\u001b[0m \u001b[0;32mnot\u001b[0m \u001b[0;32mNone\u001b[0m\u001b[0;34m:\u001b[0m\u001b[0;34m\u001b[0m\u001b[0;34m\u001b[0m\u001b[0m\n\u001b[1;32m   2692\u001b[0m         \u001b[0mreduction\u001b[0m \u001b[0;34m=\u001b[0m \u001b[0m_Reduction\u001b[0m\u001b[0;34m.\u001b[0m\u001b[0mlegacy_get_string\u001b[0m\u001b[0;34m(\u001b[0m\u001b[0msize_average\u001b[0m\u001b[0;34m,\u001b[0m \u001b[0mreduce\u001b[0m\u001b[0;34m)\u001b[0m\u001b[0;34m\u001b[0m\u001b[0;34m\u001b[0m\u001b[0m\n\u001b[0;32m-> 2693\u001b[0;31m     \u001b[0;32mreturn\u001b[0m \u001b[0mnll_loss\u001b[0m\u001b[0;34m(\u001b[0m\u001b[0mlog_softmax\u001b[0m\u001b[0;34m(\u001b[0m\u001b[0minput\u001b[0m\u001b[0;34m,\u001b[0m \u001b[0;36m1\u001b[0m\u001b[0;34m)\u001b[0m\u001b[0;34m,\u001b[0m \u001b[0mtarget\u001b[0m\u001b[0;34m,\u001b[0m \u001b[0mweight\u001b[0m\u001b[0;34m,\u001b[0m \u001b[0;32mNone\u001b[0m\u001b[0;34m,\u001b[0m \u001b[0mignore_index\u001b[0m\u001b[0;34m,\u001b[0m \u001b[0;32mNone\u001b[0m\u001b[0;34m,\u001b[0m \u001b[0mreduction\u001b[0m\u001b[0;34m)\u001b[0m\u001b[0;34m\u001b[0m\u001b[0;34m\u001b[0m\u001b[0m\n\u001b[0m\u001b[1;32m   2694\u001b[0m \u001b[0;34m\u001b[0m\u001b[0m\n\u001b[1;32m   2695\u001b[0m \u001b[0;34m\u001b[0m\u001b[0m\n",
            "\u001b[0;32m/usr/local/lib/python3.7/dist-packages/torch/nn/functional.py\u001b[0m in \u001b[0;36mnll_loss\u001b[0;34m(input, target, weight, size_average, ignore_index, reduce, reduction)\u001b[0m\n\u001b[1;32m   2383\u001b[0m     \u001b[0;32mif\u001b[0m \u001b[0minput\u001b[0m\u001b[0;34m.\u001b[0m\u001b[0msize\u001b[0m\u001b[0;34m(\u001b[0m\u001b[0;36m0\u001b[0m\u001b[0;34m)\u001b[0m \u001b[0;34m!=\u001b[0m \u001b[0mtarget\u001b[0m\u001b[0;34m.\u001b[0m\u001b[0msize\u001b[0m\u001b[0;34m(\u001b[0m\u001b[0;36m0\u001b[0m\u001b[0;34m)\u001b[0m\u001b[0;34m:\u001b[0m\u001b[0;34m\u001b[0m\u001b[0;34m\u001b[0m\u001b[0m\n\u001b[1;32m   2384\u001b[0m         raise ValueError(\n\u001b[0;32m-> 2385\u001b[0;31m             \u001b[0;34m\"Expected input batch_size ({}) to match target batch_size ({}).\"\u001b[0m\u001b[0;34m.\u001b[0m\u001b[0mformat\u001b[0m\u001b[0;34m(\u001b[0m\u001b[0minput\u001b[0m\u001b[0;34m.\u001b[0m\u001b[0msize\u001b[0m\u001b[0;34m(\u001b[0m\u001b[0;36m0\u001b[0m\u001b[0;34m)\u001b[0m\u001b[0;34m,\u001b[0m \u001b[0mtarget\u001b[0m\u001b[0;34m.\u001b[0m\u001b[0msize\u001b[0m\u001b[0;34m(\u001b[0m\u001b[0;36m0\u001b[0m\u001b[0;34m)\u001b[0m\u001b[0;34m)\u001b[0m\u001b[0;34m\u001b[0m\u001b[0;34m\u001b[0m\u001b[0m\n\u001b[0m\u001b[1;32m   2386\u001b[0m         )\n\u001b[1;32m   2387\u001b[0m     \u001b[0;32mif\u001b[0m \u001b[0mdim\u001b[0m \u001b[0;34m==\u001b[0m \u001b[0;36m2\u001b[0m\u001b[0;34m:\u001b[0m\u001b[0;34m\u001b[0m\u001b[0;34m\u001b[0m\u001b[0m\n",
            "\u001b[0;31mValueError\u001b[0m: Expected input batch_size (1) to match target batch_size (300)."
          ]
        }
      ]
    },
    {
      "cell_type": "markdown",
      "metadata": {
        "id": "nh4UNBcM-2nC"
      },
      "source": [
        "Sample output for model training (Only for format reference)\n",
        "\n",
        "![WeChat Image_20210403214048.png](data:image/png;base64,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)"
      ]
    },
    {
      "cell_type": "markdown",
      "metadata": {
        "id": "nWTw2QWfN0Xc"
      },
      "source": [
        "### Save and Load the model [Complete this section]"
      ]
    },
    {
      "cell_type": "markdown",
      "metadata": {
        "id": "abct4WjhO4Bq"
      },
      "source": [
        "**Save the model [Complete this part]**"
      ]
    },
    {
      "cell_type": "code",
      "metadata": {
        "id": "wtRTlXOb2Mu-"
      },
      "source": [
        "#例子\n",
        "#模型训练完要存了。 存在也给名为'filename.pt' \n",
        "torch.save(model, 'filename.pt')"
      ],
      "execution_count": null,
      "outputs": []
    },
    {
      "cell_type": "code",
      "metadata": {
        "id": "gPRrmNS5ONQB"
      },
      "source": [
        "torch.save(model,'lab5.pt')"
      ],
      "execution_count": 27,
      "outputs": []
    },
    {
      "cell_type": "markdown",
      "metadata": {
        "id": "75fQ4jx5ON-t"
      },
      "source": [
        "**Load the model**"
      ]
    },
    {
      "cell_type": "code",
      "metadata": {
        "id": "e3OQC2G82PTq"
      },
      "source": [
        "#例子\n",
        "#得跑完，存完，才能加载模型权重\n",
        "the_saved_model = torch.load('filename.pt')\n",
        "the_saved_model.eval() #展示出来eval"
      ],
      "execution_count": null,
      "outputs": []
    },
    {
      "cell_type": "code",
      "metadata": {
        "id": "F1AUVT1uOQm6",
        "colab": {
          "base_uri": "https://localhost:8080/"
        },
        "outputId": "4ce5febe-43c6-4d02-bbfd-bb02fc375b9c"
      },
      "source": [
        "model2 = torch.load('lab5.pt')\n",
        "model2.eval()"
      ],
      "execution_count": 28,
      "outputs": [
        {
          "output_type": "execute_result",
          "data": {
            "text/plain": [
              "Model(\n",
              "  (emb): Embedding(1722, 50)\n",
              "  (lstm): LSTM(50, 50, num_layers=2, batch_first=True, dropout=0.2)\n",
              "  (linear): Linear(in_features=50, out_features=3, bias=True)\n",
              ")"
            ]
          },
          "metadata": {
            "tags": []
          },
          "execution_count": 28
        }
      ]
    },
    {
      "cell_type": "markdown",
      "metadata": {
        "id": "nwYMhviBLuQw"
      },
      "source": [
        "### Testing"
      ]
    },
    {
      "cell_type": "code",
      "metadata": {
        "id": "UoueHNI1LuQx",
        "colab": {
          "base_uri": "https://localhost:8080/",
          "height": 345
        },
        "outputId": "c5107a73-523a-40ef-c797-f437dfa762bc"
      },
      "source": [
        "input_torch = torch.from_numpy(np.array(test_pad_encoded)).to(device)\n",
        "\n",
        "outputs = model2(input_torch) \n",
        "predicted = torch.argmax(outputs, -1)\n",
        "\n",
        "from sklearn.metrics import classification_report\n",
        "print(classification_report(label_test_encoded,predicted.cpu().numpy()))"
      ],
      "execution_count": 29,
      "outputs": [
        {
          "output_type": "error",
          "ename": "ValueError",
          "evalue": "ignored",
          "traceback": [
            "\u001b[0;31m---------------------------------------------------------------------------\u001b[0m",
            "\u001b[0;31mValueError\u001b[0m                                Traceback (most recent call last)",
            "\u001b[0;32m<ipython-input-29-6f0c9d307b6a>\u001b[0m in \u001b[0;36m<module>\u001b[0;34m()\u001b[0m\n\u001b[1;32m      5\u001b[0m \u001b[0;34m\u001b[0m\u001b[0m\n\u001b[1;32m      6\u001b[0m \u001b[0;32mfrom\u001b[0m \u001b[0msklearn\u001b[0m\u001b[0;34m.\u001b[0m\u001b[0mmetrics\u001b[0m \u001b[0;32mimport\u001b[0m \u001b[0mclassification_report\u001b[0m\u001b[0;34m\u001b[0m\u001b[0;34m\u001b[0m\u001b[0m\n\u001b[0;32m----> 7\u001b[0;31m \u001b[0mprint\u001b[0m\u001b[0;34m(\u001b[0m\u001b[0mclassification_report\u001b[0m\u001b[0;34m(\u001b[0m\u001b[0mlabel_test_encoded\u001b[0m\u001b[0;34m,\u001b[0m\u001b[0mpredicted\u001b[0m\u001b[0;34m.\u001b[0m\u001b[0mcpu\u001b[0m\u001b[0;34m(\u001b[0m\u001b[0;34m)\u001b[0m\u001b[0;34m.\u001b[0m\u001b[0mnumpy\u001b[0m\u001b[0;34m(\u001b[0m\u001b[0;34m)\u001b[0m\u001b[0;34m)\u001b[0m\u001b[0;34m)\u001b[0m\u001b[0;34m\u001b[0m\u001b[0;34m\u001b[0m\u001b[0m\n\u001b[0m",
            "\u001b[0;32m/usr/local/lib/python3.7/dist-packages/sklearn/metrics/_classification.py\u001b[0m in \u001b[0;36mclassification_report\u001b[0;34m(y_true, y_pred, labels, target_names, sample_weight, digits, output_dict, zero_division)\u001b[0m\n\u001b[1;32m   1969\u001b[0m     \"\"\"\n\u001b[1;32m   1970\u001b[0m \u001b[0;34m\u001b[0m\u001b[0m\n\u001b[0;32m-> 1971\u001b[0;31m     \u001b[0my_type\u001b[0m\u001b[0;34m,\u001b[0m \u001b[0my_true\u001b[0m\u001b[0;34m,\u001b[0m \u001b[0my_pred\u001b[0m \u001b[0;34m=\u001b[0m \u001b[0m_check_targets\u001b[0m\u001b[0;34m(\u001b[0m\u001b[0my_true\u001b[0m\u001b[0;34m,\u001b[0m \u001b[0my_pred\u001b[0m\u001b[0;34m)\u001b[0m\u001b[0;34m\u001b[0m\u001b[0;34m\u001b[0m\u001b[0m\n\u001b[0m\u001b[1;32m   1972\u001b[0m \u001b[0;34m\u001b[0m\u001b[0m\n\u001b[1;32m   1973\u001b[0m     \u001b[0mlabels_given\u001b[0m \u001b[0;34m=\u001b[0m \u001b[0;32mTrue\u001b[0m\u001b[0;34m\u001b[0m\u001b[0;34m\u001b[0m\u001b[0m\n",
            "\u001b[0;32m/usr/local/lib/python3.7/dist-packages/sklearn/metrics/_classification.py\u001b[0m in \u001b[0;36m_check_targets\u001b[0;34m(y_true, y_pred)\u001b[0m\n\u001b[1;32m     78\u001b[0m     \u001b[0my_pred\u001b[0m \u001b[0;34m:\u001b[0m \u001b[0marray\u001b[0m \u001b[0;32mor\u001b[0m \u001b[0mindicator\u001b[0m \u001b[0mmatrix\u001b[0m\u001b[0;34m\u001b[0m\u001b[0;34m\u001b[0m\u001b[0m\n\u001b[1;32m     79\u001b[0m     \"\"\"\n\u001b[0;32m---> 80\u001b[0;31m     \u001b[0mcheck_consistent_length\u001b[0m\u001b[0;34m(\u001b[0m\u001b[0my_true\u001b[0m\u001b[0;34m,\u001b[0m \u001b[0my_pred\u001b[0m\u001b[0;34m)\u001b[0m\u001b[0;34m\u001b[0m\u001b[0;34m\u001b[0m\u001b[0m\n\u001b[0m\u001b[1;32m     81\u001b[0m     \u001b[0mtype_true\u001b[0m \u001b[0;34m=\u001b[0m \u001b[0mtype_of_target\u001b[0m\u001b[0;34m(\u001b[0m\u001b[0my_true\u001b[0m\u001b[0;34m)\u001b[0m\u001b[0;34m\u001b[0m\u001b[0;34m\u001b[0m\u001b[0m\n\u001b[1;32m     82\u001b[0m     \u001b[0mtype_pred\u001b[0m \u001b[0;34m=\u001b[0m \u001b[0mtype_of_target\u001b[0m\u001b[0;34m(\u001b[0m\u001b[0my_pred\u001b[0m\u001b[0;34m)\u001b[0m\u001b[0;34m\u001b[0m\u001b[0;34m\u001b[0m\u001b[0m\n",
            "\u001b[0;32m/usr/local/lib/python3.7/dist-packages/sklearn/utils/validation.py\u001b[0m in \u001b[0;36mcheck_consistent_length\u001b[0;34m(*arrays)\u001b[0m\n\u001b[1;32m    210\u001b[0m     \u001b[0;32mif\u001b[0m \u001b[0mlen\u001b[0m\u001b[0;34m(\u001b[0m\u001b[0muniques\u001b[0m\u001b[0;34m)\u001b[0m \u001b[0;34m>\u001b[0m \u001b[0;36m1\u001b[0m\u001b[0;34m:\u001b[0m\u001b[0;34m\u001b[0m\u001b[0;34m\u001b[0m\u001b[0m\n\u001b[1;32m    211\u001b[0m         raise ValueError(\"Found input variables with inconsistent numbers of\"\n\u001b[0;32m--> 212\u001b[0;31m                          \" samples: %r\" % [int(l) for l in lengths])\n\u001b[0m\u001b[1;32m    213\u001b[0m \u001b[0;34m\u001b[0m\u001b[0m\n\u001b[1;32m    214\u001b[0m \u001b[0;34m\u001b[0m\u001b[0m\n",
            "\u001b[0;31mValueError\u001b[0m: Found input variables with inconsistent numbers of samples: [100, 1]"
          ]
        }
      ]
    },
    {
      "cell_type": "markdown",
      "metadata": {
        "id": "6GD58ttk_FMV"
      },
      "source": [
        "Sample output for Testing (Only for format reference)\n",
        "\n",
        "![WeChat Image_20210403214048.png](data:image/png;base64,iVBORw0KGgoAAAANSUhEUgAAAioAAADuCAYAAAAX1iw4AAAAAXNSR0IArs4c6QAAAARnQU1BAACxjwv8YQUAAAAJcEhZcwAAFiUAABYlAUlSJPAAAD9pSURBVHhe7Z3rzxTF9rbff8UPJsb4wU9mY4gaAkYiEAgGjAZBMIAhIEZBEBAQBSGIioBbs0UF3OAJERQQNwcRUWAriKDb8wEjiqBBUfFY7++qZ+qhpqZ6pmdoeHq67yuZwNPT09OzqmrVXatWV/0/I4QQQgiRUyRUhBBCCJFbJFSEEEIIkVskVIQQQgiRWyRUhBBCCJFbJFSEEEIIkVskVIQQQgiRWyRUhBBCCJFbJFSEEEIIkVskVIQQheCnn34yb7zxhlm3bp0ZP368+fjjjyvvVPPBBx+YV1991dx///1m0aJFlaNCiLwioSJKwdGjR80111xjZs6caX7//ffK0dbI8loiO7755huzZMkSM2PGDHP55Zebjz76qPJONRs3bjT33XefLcO5c+dWjp55vv/+ezNr1ixz4YUXmnPPPdeMGzfO1qWQ999/32zYsKHylxBCQkWUgj///NM6/3379lWOtE6W1xLZgyC4/vrrE4WK4+mnnz5rQuWXX34xkydPNi+99JKtP8ePHzcjR460oglOnjxpRcwVV1xhRQz3JkTWUP+oi+2GhIoQolDkUah8+umnZvjw4fbeYvz9999WvBw6dMieJ6EisubEiRPmoYceklARIq/QETA1kNRRNEOW1xLZk0ehwr1wT43qDJ3ITTfdJKEiMuW3334zy5Yts7lbEiqilLjcgClTptgExgkTJtjwdd++fW3SIh077Nmzx8yfP98MHTrU5gj89ddfZu3atebiiy82l112mTl48KA9DwiPP/fcc/a98847zzYwvseH63J9vuecc86xYXP/+4COYcCAAeaCCy6w57z55puVd6rh+1asWGG/j/MGDRpkO7HPP/+8ckb6a/38889m8eLFNheBe8cu/r1jB/Jb+O3vvvuuzZWol7OQJz755BNbdqNHjzaTJk2yv3XXrl3W9hdddJHZvHlz5cxT5eOmM6677jrz4YcfVt49BXZ1uRvY684776zq0LnOO++8Yz/PdTgHW3311VeVM6rhs3kRKnwHdSV8UY/83+jISqh89tlnZtSoUdZe2HXq1KnmySefrLzbgWtjPXr0sPdEPaQ++jjb8x7nUJZMe9J2gVH6o48+aq9Pm8Hm1HXK5/zzzzfz5s2znaSDMrvxxhvtffG9tAF3ra6iUdt3ZejXFdo+xygryszZ4fbbb7c2vPfee2095TdiY74DmOqj7b/wwgu2rfCdlA/1P6wPafxIGn+aVAfdvbcDEiritOFpCxpDnz59bCdDZ0ajQbRcffXVnR36l19+aXbs2GGd2j333GOef/5523BpoIS73Xw9znH58uVmzpw55scff7TX4j3m9H/44Qd7DjDfilPh+/gMDfOqq64yX3zxReWMU7gOIElccP3HHnvM/Prrr/b73n77besAYh1rvWvxHkINp4ajwUGtXr3a/j4nQrADNuDFd/IbceZ8ht+dZ44dO2bL8MEHH7Q2eOWVV2wHyLTFtGnTzMMPP1w505itW7d2CkzK56233jLXXnttVflQnsOGDTOPP/64tb2zA0/j8BnYv3+/rUfUJ45RPk899ZR13LFk5jwJFcfZjKhQn6hbzl78vXDhQtvmnE35l2kABIUrH8qLsvDbGHW8X79+tj1wztdff20FEJ0vUF50mHSQ/fv3t3WDTppr0qao93w/HD582IwYMcKeTxl+99139vtpx11Jmra/cuXKmrry+uuvd3b22GHTpk1m4MCBVsD/97//tdfCDmPGjOm013vvvWf/5nevWrXKficvRA5+g2tBWj+Sxp86qIOc676jnZBQEZlA47jhhhtqRAIOl6cw3IgCOEbHg0OIwTVoyL7D5PNcZ8uWLfZvHACihM7PgRPFUdCxhbgOIEmo4FzD97g2Diek3rW2bdtWE17FwdPx+iIEGzDa9O2C4ztbHefpwm9HmOIMXefnQ9lRhmF9WLp0qX05sMnEiROrRt04bUSPEyFuhOqLknpOt4hCxR2PjYzdy9VH8mGwn28b7IugdMd4soiojl8+2Jn2Q54M0EFShtRLHz5DR0gbdPC7EKE88s3nQlwbQND4HDhwwH4HEYmuIk3bj9UVPuOECvAv4sL3ScB5iDv3G7mWL8SBAcCQIUOsPSCtHwGuV8+fOiRUROnBUdFoQ0fM6MlvpEDDwpH6nbQPYiQUN8DncCrAdZkKYCSfBhpnkrgAGjmNff369VUCKUbStXAks2fPtvcZwrljx47tdOKcE57HOe0kVBgdJ9k/qQPic7fccot9yoUX/8fmaWBk/tprr9loDlMRSfPtRRQqzYAooX0xyv7f//4XbWeMznkKqd7j9UQUiCyE9+zu0RcwnINQYZooBvWA+uA6YgefQ/QgrrqKNG0/Vleoy9jB1UH+RQiE9Y7fhgghogSxtu/aAr6vGT8CnFfPnzokVETpweHQaEOnFnPQsUbvw/uxESMv97nQSTTCOVc+lwQjxAULFph//OMfVlz5OTM+Sdeq9x2hHfiNoSPic+0kVOrZn/dj5cfLfS5NmQChcQTqpZdeakfsO3futJ9h6if2/di4zEIF6LTID0LQXXLJJTZKhR0daX57vTLms/49NrI57xPBidWH7t27NyyrM02jth+zV2gf/o0JldA2XCtWvs6mrg7E2kWsHsXuLQaflVARpYaGQ+PyGxDQ2GIjgHoNi1EFIwo/NBpCRIURWizMHKNe42cE+u2331b+6nDydIZJ4dSka7mREKPVkNAOMWfFOWkcTh7gXn0nHcLImTB4vfJxo8hwaiGEUPfNN99sc6Ec9Zxu2DEkkdbBZ0Gsg4nh6lZYN5qBuuxPpR05csQmW2Ivd5w62qiNEVEhahZGGdw9hhGVejYnokIZxnK+upK0bT9WV8I2wL8xocLfRKZcbkms7fs2bcaPQNp6zH1IqIhSg6MiScyFN4EGx5xqOB/bqGHRoHgyIHSQNE7yUIBEssGDB9c4Bc5Zs2ZNTRjUOQIaegjvMX/vO3fAaYQOBepdi5yN6dOnV32/s4OfaBpzVlyvKEKFOXdGpmGOCjb2j/FUA9GSsLx4kohOzdl6+/btlXc6qOd0yy5UyK0I8yRoF3R+7vv37t1rpyMQMT5EFkgKBabaaIfhdA7lR8frclmgkc1pA+RkhTkqwPW6aoVn7J2m7TMtFNYVBlR+G+BfEmnD6S1+s5+HxXX9PC3ABkS/XNtI60cgbT0O2wz+1S/DPCOhIjIBR8Uo5IEHHrAOjgbGY4xXXnllzZ4rZNDXG83xWUaAnOPECg6UBupGP3zWPbWAeOFvvpfPhY9YAo6akUhs9E7DJd+BJyPcEwr8y1NHJLWF1LsW7916662dT7E4O/A0hT9ywwY8EunbgOulmWvOA9xrOLLz4Xc988wzNeXD0xX+qBrHzNMidAR0VjwpQbSMKR7swOuuu+7qjKjwPo+N8jgnj0hT1qGIYeSa9Ci0T6N6mCXcC/fU6PFz6js5G3Q8YeeZFkQkNiUigL2cTclJceXFtZk6C9sYtnaDAaCcyT1xT9ZxDmVK2fp2S2Nz3sNH7N69u7Ns6exffPHFs1IGMdK2fYQdQoIBEveKPRAfTGdR/7An1yKKiBjATs7u+EB/UIOw4Fr+k0HYFN/p2n5aPwJp67Eb3DGt5a6X9Ih/3pBQEZmAUGF0QYNmtMXcM43RFw000HB+Omk9CRo+HTnrELg1OHAOPjQ2fx0I1lNhJO43WK4dmxv3R0t0kDgqGjvrRPB+uP4BpLkW0KHS0Satf0AnFH4WR+aO1YtUdDX+fbpXUo4BThhn6Na54V8cdwjOEkeNrbAZ5eBP82B3Hnt37xOFIWLD6JVOAAcMsXvj5ZcPdsW+4TlJ9fB0SaozfscFSffVSsSHp97uuOMOez1sxgv7hp0SHSBin/Vvkta5oS1RZiwDwP2E66ikbRMOBi1EabgnvpfIgt/GzjZp2z7/J8+H+scLu5EDhKjkOFNblCEiBR+EYMGmXDNc2wnbEMX597//XXU9P4cIGvkRrhPavV495h6YTuJ6F198sV3HpZG4yQsSKiITGFEx9ROGkoUQogwQBSFqxaPf9YhFU0V9JFTEacNomlG1U/XhaFEIIYpMGFlKiij50dQ8R07zhoSKEEIIIXKLhIoQQgghcouEihBCCCFyi4SKEEIIIXKLhIoQQgghcouEihBCCCFyi4SKEEIIIXKLhIoQQgghcouEihBCCCFyi4SKEEIIIXKLhIoQQgghcouEihBCCCFyi4SKEEIIIXKLhIoQQgghcouEihBCCCFyi4SKEEIIIXKLhIoQQgghcouEihBCCCFyi4SKEEIIIXKLhIoQQgghcouEihBCCCFyi4SKEEIIIXKLhIoQQgghcouEihBCCCFyi4SKEEIIIXKLhIoQQgghcouEihBCCCFyi4SKEEIIIXKLhIoQQgghcouEihBCCCFyi4SKEEIIIXKLhEqB+f77782dd95pzjvvPHPFFVeYV1991fz999+Vd4UPdsE+2Al7YTfs1yxHjx41/fr1M+ecc07N6957762cZczKlSuj51x66aXm008/rZxVDrKqp2lsmrZ8ysCff/5pnnvuOXPxxRebCy+80Dz00EPm119/rbybHtX5roUye/TRR205nnvuuWbChAk1vmvu3LlR27/++uuVM/KNhEpB+fnnn80tt9xiHcVvv/1m3n//fXPllVeaN998s3KG8KHBYh/shL2wGw3+l19+qZyRjg8//NBMnDjROl6chXvhpD/66CN7Dp3w/PnzzQsvvGCdvDuHz65YscJ2IGUhq3qa1qZpyqcMYK9nnnnGXHPNNebrr782P/30k7n55pvNAw880HT9U53vOmg/t956q1m4cKH58ccfzYkTJ8yYMWPM4sWLK2d0CNKnnnrKlrNfPrx+//33yln5RkKloGzcuNFcffXV5siRI5UjxixfvtzcdNNNTXe+RYcGPmzYMPP0009XjhjzzTffmKuuuqrpEcdbb71lO1sfrkWn4KIEOJfVq1fXOOe1a9eaL774ovJXOciqnqa1aZryKQOHDh0y/fv3r6rf2KVPnz5NCzbV+a7jpZdeMpMmTbIiH7AvYnDfvn32b6Ad0aZOnjxZOdJ+SKgUEFTy5MmTzbx586qc74EDB0zv3r1LNXJMw969e03Pnj2r7EKDnzFjRo0NG4Ez+Ouvvyp/dYwk16xZU+WMeT90Gox2EEpl6iyzrKdpbZqmfMrA+vXrzcCBA82xY8cqR4wdjY8cObJKsKdBdb5rQIAg6CnLenAegqadkVApID/88IONBoQV2M0lt8u85NmCkd6QIUPM8ePHK0c6IHQ9duxYOxpsFUaWq1atauiMy9hZnul6msamacunaDDVhkj0Q//YYPbs2fZ1OvZQnT87HD582EbA9uzZUzkSBwH67LPPmhdffNH06NHD5rEMHz7cfPnll5Uz8o+ESgGhAvbq1atmnp85yQEDBjQ9Yio6zOfGphqwE/bCbq3CNYgQ1APHvmTJkpqweNE5k/U0rU3TlE/RcJEsEixDOHa608Oq82cH8nsQ9AcPHrTJtCRExx4E4P9Tp06102yUPdNEy5Yts4MzBgXtgIRKASFk3r17dwmVlCQ5Z+x0OkKFiME999xjRzT1wIFs2bKl8ld5OJP1NI1N05ZP0XBTBmdCqKjOnz1oNzzpQxI0tkT0kW9HRGzKlCmdeSuUybp166pEoZvmazRtlBckVAqIIirNcaYiKtu2bbOPfNaDaSWcSjuFYbPiTNXTtDZNUz5F5ExGVFTnzx60G6ZxwvwTptOYUm2U40VZ+4+P5xkJlQLSaO4/7BjKTr0clVadNqMXknEbjVgIkY8aNarmu8vAmaqnaWyatnyKSr0clZiASYPq/NnFTf2EgsQJ/Ubth3JutazPNhIqBcSNmPTUTzqyfOrH4TrhRs4CkXQ6I9h25kzV0zQ2TVs+RQUxkdVTPw7V+bNLUjItQoWydccRNLQzPx/FidKlS5dWjuQbCZWCQjgwtj4FCzO5uUvRAQ72uuuuq3LQJPvhdFkjohXoZGP5FyGnG2pvd85EPU1j07TlU1SYHujbt2/NOiqMxFt9Ekd1/uyC0J82bZqNjvn5J5QfC/m5qTX82uDBg6vaGD6PKHK71H8JlYLCPHBsxc+33367cobwwWGHK9P6CWlAZn23bt1SNW7OYYnqeufiqHHYZXbaaerpu+++a+2+aNGiKoccI61N05RPkWFEHVuZlvwSF92iI5w5c6a5/PLLUy1xrzp/9qFt8MgxUSrahkum9VcY/vjjj80NN9xgIyusZ8OS+6wS3MrK212FhEqBIQTo76Gya9eulqYxygB28ff6ueuuu6zz9mlGqDCqocOtF5HhO+kYbrvttprFsMpEo3rajFBJa9M05VN0sKW/1w/12xfmzQoV1fmugfZBRJjEWsoSAeqXI1A248aNs22Msp41a5Ztd+2ChIoQQgghcouEihBCCCFyi4SKEEIIIXKLhIoQQgghcouEihBCCCFyi4SKEEIIIXKLhIoQQgghcouEihBCCCFyi4SKEEIIIXKLhIoQQgghcouESglg/5QNGzZU/hIxwiX0WdK91SWmv/rqq87lqnndeOONdr8NH7d8Oft0sD8Ke66wFHYZCZfQpxz8JfTT4jbFw57+a+zYsXZPIUe4dDxLurP/SdnI2g4HDx40o0aN6lzKffPmzVXlyP/ZU2vQoEG2XC666KLS2j5rnP9K2r6g3eu8hEpBYR8N9nPA8eM4Wt26vSzENiVsZdMu9tTo37+/FYY4BzYB49oc88UK5bFkyRLrLDiP8/n+UNAUnaRNCVvZLPDAgQNm+/btVvj4r+PHj3d2mPwb24zP38StDGRtB+o4u2CzmSR1nnLo1atX5w6+wE7ZkydPtjuT8/2ffPKJ3aGcTtOVj2gOdkFGiPfs2dOKv1i7KUKdl1ApKFROHPShQ4fM8OHDJVTqwI6jw4YNq7IRzhQnigNuBnYxZfM83/Hyf46567sdZJcvX27/BjrpiRMnmsWLF1eOlIONGzfaDs7fgh67tLK77u7du82ePXsqf8WhPSAa/XJFHPXp08dGZMpClnagsxwxYkTVaB6B8uSTT3ZGshg4IUjDjnTLli22nXEN0TyIQmzHzsgMSmNCpQh1XkKl4LhOUUIlmb1799oRid9oGWnMmDHDzJs3r6nRHnZmF9rwMxz3ywCHsm3btspfHcydO9dGFsoCu/Mywg5tTGSkd+/eTTvR/fv3N/zM+vXrzcCBA82xY8cqR4w5ceKEGTlyZKnaSJZ2oC6zey8DoyScH2JXcn8UTwc7dOhQG/kSrYP9BgwYEBUqRajzEioFR0KlMURBhgwZUuNoV65cWZPf0Ag6SkYvOAzX+eKY77///rrTOkRUJk2aVCNeigwjQUbTOFKfo0ePmn79+jUdzcLmO3fuNOPHj7f5LuRArFq1qqpjRAgijhBJDspp9uzZ9tWMKG1nsrTD0qVLbbSEqEk9Pv/8c/vyIaIS3odonnpCpQh1XkKl4EioNIbplthUAzaj8Tcz2qPRv/baa6Zbt25m6tSp5oMPPrCOPCnJDRBCy5YtMw8++GDbzBlnAdMD5DGEztU53Wbr7Lp162xSLqFuyuGzzz6ziZskEYKL4BC5CuFYrA4UkSzt4Do8Pkd0hDwIciXSJEUjzmfOnBntXEVzJAmVotR5CZWCI6HSmKQG24pQAZ76QfzMnz/fZtgjWJKuwXfg2G+77TbbwZYJok88pZOVUKFjjI3YXbTMtYV2d9qnS5Z2cNdCoCxYsMDmdpE3Qa4QSdEk18ZAwCAgiWbWEzMiHUlCpSh1XkKl4LiKKqGSTJYRFUQKORduuui7776zQoVkw6SEQaIoRFxIKm12uqOdyTqiEgMxxPz8p59+qohKhSzt4PwLOSp+/UZ8kECelONFmfOkm0RKNiQJFUVURFvgHImESjL1clSaacjOOTOK90G0sK5KozLAyfCEFk8hlYFGOSqh020FlzPkkmzrzdfHnHlRycoO9T5DfQ/bD+fv2LHDrF271v5fZEOSUIEi1HkJlYIjodKYrJ76wdZET/zrOLC/cwpcDzGzb98++7cj7FSLjhvtZfHUD+XFujR0gD4ub+Lw4cP2bz3100GWdkhKpuU64XEihs8//3xVef/xxx+lys06E9QTKnrqR+QeCZXGMLIndO3byK2jUi8JNsR1vJs2baoc6QCnTKTFrZHinEq4ZgpOhu/0HUrRYRGw2DoqrClDsmVakqaLEC7+qJ4F+fr27VuzpgSf5b2ykKUdeCz88ssvrxKWYZ0HRCOP7oeihHsgiiZap55QKUKdl1ApOHTCTCcwmm/G8ZcNGnG4Mu2UKVOqbIaT5WmeelMSRGeYtiCZkKRCnHK46izX5NpuZVqcOqt08oQKK0j6o82iw7RYbGVaPwmTrQWwOx1f0sib46y0SRlxTWxIZCZc5ZbjsVU6y7Y6aho7ILx5KgcRQo5PEtiep60YoXMtl0yLAHV1HiEyZ84cmzBOp+peDASmT59uR/iidcj34kkrFtnD/j5FqPMSKgXFRVJ4osR/tcuc5NmGBuvv9cPCVDRonzRCBXDO7O/j9vohPyUcudCZ4ihY64NyYcSzdevWGidTBuiw/L1+du3aVeVA0wgVQOjgkN3+Sdg09ogs1/D3PaFcfUFaFhrZIa1QAQS3q89s2UH99+s80ZbYPky8wvwJkR4XSQltGkYW273OS6gIIYQQIrdIqAghhBAit0ioCCGEECK3SKgIIYQQIrdIqAghhBAit0ioCCGEECK3SKgIIYQQIrdIqAghhBAit0ioCCGEECK3SKgIIYQQIrdIqBSYgwcPmlGjRtklrVk2edasWXbJZVFLuIQ+S7pnYSv2Who7dmzNTsBuSWu33Dv/rlixopRLuYdL6MeWvU9D0jLt2J8tC3z8tsGy4ps3b27pO9uZcFl1lsBnKfxWYGuO0O68/I3wsC9/s6cV77Hc/ul8p0hv0zTlk2ckVAoKm7rdcMMN5rPPPrOVmd2A2XMm3GhPdBDblHDChAmdu+62AnbHadB5hjvLcpzyoFwAQUPZsLEeHUhZSNqUsNF+SjHYhHD79u1W+Piv48ePW5s7KGs2zKONsLcSn+nVq5fd2K0sYI/YRnWt1D/Of+qpp+x1Qtv7e/iwUzb7+lDn+X424mS3cNqCXz4iPWlsmrZ88oyESkHB8YcbU+HI+/Tp03CDsbLx448/mmHDhlXZi4ZPgz+dEQedLR1guAU+omT06NE1GxXyN+ISB1IWNm7caEXDkSNHKkeMWb58ud1Qs1mRuHv3brtrbz2w/YgRI+yuvQ4ECrvOhlGXIsMuxv3796+q34hE/EMY/WsE5USZnTx5snKkFt5DkIYCdMuWLbadUS6iOdLaNE355B0JlYJCqI/O0He+bLU+dOjQph1R0dm7d6/p2bNnlV0YhcyYMcPMmzevpdEetmbKYefOneb666+vujZChLJhhOPDcTrosggVRnOMBkMbI6h79+7ddD3dv39/w8/g1K+77jobZSkz69evNwMHDjTHjh2rHDHmxIkTZuTIkTUDnEbQETKyrwfnULfZldyP2Hz44YfWJ5VJnGdFWpumKZ+8I6FSUL799ls7Qgo7AObly+6kQ1avXm2GDBlSY5eVK1dG8xsagdMg9MpoFWcRChXeJ+I1ffp0G3J3vPvuu+aRRx6pcjpFhhEfIz86TR9EXr9+/ZqOZiFCEIbjx4+3+S7M169atarKnkuXLrWj0HYeXWYB9Q+R6If+8RWzZ8+2r2bEOQLn2WefNS+++KLNtSLvZ/jw4TVTaZ9//rl9+TD6D+9DpCeNTdOWT56RUCkJOJ5//vOfNnlOVLN48eLoVAMjywEDBjQ92qPD5Jp0kDGhAggUcmAuu+wyO/3BlAUipUzTDzhKpsbC0DU2w+7NjuzXrVtnk3KZ1qC+k59FkqGr864jJtrIqJP8DBIKTyeBtx1xkSzsEMKxZqfdKK+pU6eatWvX2muTa7Rs2TIr/hGdSXDezJkza8pftE7Mpq2WT56QUCkJjE4Z5ZdltN4MSc65FaFCw1+4cGGn4EgSKpQDjuPRRx+1HSYJt2XqLAGb8LuzEirYLza6dNEyFyrH3gsWLLB5SCTTIhJJ4CW5tgw4O2QlVIiMIRJ93+KmkcJomYN6joAkmlmmOn8mSbJpK+WTNyRUSgCjR6YxJFLiZBVRwb48YuznnsSECk6E5M3XXnvN/k1nuXXrVhtd2bBhgz1WBrKOqMTA7uRikEDuOmhyVPzkTcpj0aJFLecjtRtZR1SS4FpMMcWgzKnrZbD32aJZm9Yrn7whoVJwyFNhXl4iJZl6OSrNOG3XwYZrFbiXe0yZp3smTpxoRzU+RAR4AsZPcCwyjXJUQgHTCtibp1v4Fwfupn5CEEVZddDtQL0clZh9WoHrhNfiO3bs2GGjiRIp2dCqTWPlk1ckVAoMkRSmFnyRwv//+OOPyl8CzsRTP45YRIUOOOYgYucWGTeyz+KpH8pryZIl1ln7uFyUw4cP27+TkmkRKmVKss3yqR9sTDn6+Q6UJ6IHe/swBf38889XlTf+SAOp1mlk02bKJ69IqBQUnvph8aYwOZNOgEWBxCkY2TMd4Dtot46Kv95GK8TEB8KIx5PDCA6RFjrVdsrGP114bDK2jgoRJ5L+0pI0XYRw8SMlPMIcrmuD02bqhynAskBd69u3b9WTVURfsWG4vk8jsPngwYOrypA2RZTSj4rFBk7APbRLUmfeSGPTtOWTZyRUCghOmVEqjgcH7l44Z5S1G12KU9Cww5Vpw1V8cQjdunVrqnEjCpnG8BM1uSaPJjOiYbE5QBixUq1Wpu1Ymda3F49tY3fERJJtOI7tKCOuifhAlIer3HIeTwYROSCXyCXTIpY+/vjjylnFB/vEVqb1VzQl4sUTJAi7eotEYjcWKqTTxJ4s3z5//vyqlZ3pNOfMmWOfyPJ9EgMB2kI4DSoak9amacon70ioFBAqa1KuRCwXQ3Q4bnJE3F4/LKLkr3ECzQiVWBnwN8eBTpnEW3+vHzoOXxiVBWzi7/Wza9euzs4S0ggVwHbY0NmUiEHsSSocNR0y66ywpsSNN97YdBShCGBLf68f6rdf/9IKFcB+CG3KMLavGIOk2D5MvMJcGZGOZmzaqHzyjoSKEEIIIXKLhIoQQgghcouEihBCCCFyi4SKEEIIIXKLhIoQQgghcouEihBCCCFyi4SKEEIIIXKLhIoQQgghcouEihBCCCFyi4SKEEIIIXKLhIoQQgghcouEihBCCCFyi4SKEEIIIXKLhIoQQgghcouEihBCCCFyi4SKEEIIIXKLhIoQQgghcouEihBCCCFyi4SKEEIIIXKLhIoQQgghcouEihBCCCFyi4SKEEIIIXKLhIoQQgghcouEihBCCCFyi4SKEEIIIXKLhIoQQgghcouEihBCCCFyi4SKEEIIIXKLhIoQQgghcouEihBCCCFyi4SKEEIIIXKLhIoQQgghcouEihBCCCFyi4SKEEKUkD///NM899xz5uKLLzYXXniheeihh8yvv/5aebd5Dh48aEaNGmXOPfdce83Nmzebv//+u/KuMb/99ptZsWKFfe+cc84x11xzjXn33Xcr74okfvrpJ/PEE0+YX375pXKkmq+++srceOON1u5JNs26rM82EipCCFEyEBDPPPOM7di+/vpr2xnefPPN5oEHHrCdWrO8/vrr5uqrrzZvv/22+euvv8z27dtNr169zJdffmnf55pcm+/44Ycf7PcfOHDA9O/fX2IlgZdeesn069fPCoubbropKlS+/fZbW4ZPPfWUtfGrr75qrrzySvPxxx9Xzsi+rLsCCRUhhCgZhw4dsiIBgeF4//33TZ8+fcxHH31UOZIOhMeIESPMW2+9VTlirEB58sknzc8//9z59+DBg2uuvXbtWjN58mTz+++/V44IB8Lk+++/t9GPJKHy8MMPV72H8LjrrrvMvffe2ylCsizrrkJCRQghSsb69evNwIEDzbFjxypHjDlx4oQZOXKkefrppytH0vHmm2+a6667zhw/frxypBbOGTJkSM05RFUGDRpkDh8+XDkiQiiPmFDBltg0LK8tW7ZUlW2WZd1VFE6ooOBRoBdddJGdB+3Ro4edmwtDXPzNcd6vN1/K/N+4cePMeeedVzO3hxrt3r27GTBggFW+wL/8zXHeZ6RA2G3WrFmmb9++Zvfu3Tb0hurlmlTAH3/80X6WOVzOdffEb4jNJRLKI8TH9TjviiuusH+7+WB3X7zn7g1Hwd+8ktS5EKIcMOIOIxn4j9mzZ9uX8yVpWLp0qbnlllvMyZMnK0dqwf/QMdJB+uCrGO23y8i+K0gSKp9++qm5/PLLzd69eytHOvjwww9t38C/kGVZdxWFEioUxLRp08yjjz7a2bkzJ4fa9wuTgkEAIEC++eYb+/fWrVvNsGHDbBjT8cUXX9hGtGHDBitsEBhjx4614UoHlWHo0KGdQgWOHj1qj9H4+Nz+/fvNpk2brGggwWzBggXmk08+Me+8845VuoTmgDDenXfe2Slc3FwiitiHuUtGIVyDeyeJ7aqrrrL360CwTZgwobOyAqE/wrHMIQshygl+ko5r7ty5lSOn4FgzAxnX4fE5fA0DvtjgicgJ+Ra+j+I9cis4HyEj4iQJFfq0nj171og8N1DFplmWdVdSOKGCegwjIxSI3xCYn0M0+I2Gz/iiAYFB1GPRokWdje2PP/4wM2bMsILCQaW4/vrrq4QK/+eYX4GoDFQKIiskQMUgsxsh40Ml9cNzCCtEiT8fjBjj3hFEPggqwoAOrsPnhRDlxfmiLDovdy0ECgMw/AsDoT179tikTpJrgYHT6NGjzfTp0+1gEP+6Zs0ac/fdd9vONowKiFMkCRX6NBe59/GFSpZl3ZUUMkeFhkJhMY0ydepUO4XiC5XVq1c3TOCiMdH4GjWgZoUKkZV6IIqYblq3bp0VNUwD+UIFB9BoPthBAtu8efPs7+R8Hg3EQQghykuWo2zn1/BJfjQaP8YgD//jBnqImPHjx9spbx6TZeqdKG+ssxWnSBIqiqi0MUynEGIcPny47ewJR86cObNKqFDwsYLziYmNGLzfjFDx7yMEYcGUEdM6q1atshGSxx9/vEqo8Pm0lQtR8uCDD9rIEXZB5AghRL28hUa+0afeZ5I6WB+mtYkQ+yJHVJNkx3o5KvSBrv/Jqqy7kkIJFRQ7nbw/NwoURhhRaZRERMPhkTs/xyNGVkKF0OiYMWPsnK2fQ0Il9YUKYoPcGvfYXyP4PgQb00ByBkIIyPJJkKRkWq5TL8kW/0vEhSl2RXqTSRIqeuqnTaFTZoW+sBMPhQoKlAI+cuRI5UgHCB03NeNCZmFB0rheeeWVzlwPoiCsxugLFR61u/baa5sSKpxL+DS8J77fv4ek9Qj4zcz5hg0ecTJx4kQ77VNPmAkhygNRVp4MCdfWCHP30kDkl5G975PwNUz9LF68uHKkIw/w5Zdf7vRRLrfOz7cTteD/Y0IFG4drrGDbMLcyy7LuKgolVDA+OR0uokLnjfDo3bu3VZkvvPCCVaE8BjxlyhQbVXFRBoQHBUzjcZAIRkIYjxRTAXjxBBBPzrhKwPWYZuL6REJ4YofKc+mll1px4FQs98ITQ35l8eH7ecLIRVQQSjt37rTihRHLtm3brEhxlZOoCvfK33znfffdl7jCI/dL1r0QQgB+I7ZaKb7F+TZ8ENPmiBCmGZLAL/K0IiN0ruWSaVmp1l8hlSkIotT4zO+++876MPyWEy6iFmz5yCOP2Okxv29yxFampR/xBUiass47hRIqGJ2C4tE4HnmjYMjNeOONN0y3bt3s0zquYHh8mYIi0ZY9EhAEsWkeOn/e4xzO5dFnhI4PjZLv5BwiOowwyHAnkvPee+9ZxevWMHGv2Nwg38U98z7X45FpGjqOgmx5971USH8NGNTyrl27opWOc6nEaaeKhBDlwPkRt/9L6NvSChUI/Sl+MByt+3vS8J0M5EJfKk5BJMXvM3i5dbF8wr1+Yv1Yo7LOO4VLphUdoLRxLoif//znP5WjQgghRHshoVJQUMznn3++fcRZ0RQhhBDtioSKEEIIIXKLhIoQQgghcouEihBCCCFyi4SKEEIIIXKLhIoQQgghcouEihBCCCFyi4SKEEIIIXKLhIoQQgghcouEihD/h7/9wnnnnWf3LgmXqk7D0aNH7Rbr4dLXvNjrxCdc+jppr6aig52xN3bH/uHu583AUu4sdshS4dh1woQJieXInidPPPFEzWZvZSFcVp0l8LFfqxw8eNBu0OqWyN+8eXPdcnzppZfs7smiPo3qaRo/knVZn20kVIT4P9gskg0o2diSPTAQFXRyzXZi7LPBbtVsX0AH6V4rV66s2l02tpkY3+9v4lYGWDX5lltusfbG7tgfOyTtMl4PrnXrrbeahQsX2o062cp+zJgxVTv4Ah0kYhKHHduVtgwgIGIb1T3wwAO2PjYL7YdNCNnIlY30tm/fbnr16mU3Uo3BPkDsIRTb80x0kKaepvEjWZd1VyChIkoPndqwYcPsJmAOdrNmx9Kk3a6TYMt6OlsfroWj8EeXbJAZ256dDrtdnEcWbNy40XZwR44cqRwxZvny5S0JCBz7pEmTOjdbw47smL5v3z77t4PrIh4ZVZZVqBw6dMjushtu/d+nT58qQZ0GdqBnV2TqvgOBwq7tse07sDeDgJ49e0qo1CFNPU3jR7Is666ibYQKRv/jjz8qfwmRHXv37rVO02+01LcZM2bY0HQz0xAnT560I0oHn12zZk3VTrJscz9kyJAqYQRbtmwxAwcONMeOHascKTbszjt58uQaGx84cMD07t27KSeKo8Zhr1+/vnKkMdi/rEIFO4V1jQjUyJEja+plI4h+scM89ToNTEHcf//9VshIqDQmqZ6m9SNZlnVX0RZChYbAHD8OH+XOVuI7duwwixYtMhdccEFVCAsF77Yb5zM9evSwDcO97+BvjvM+54Vze3v27DHz5883Q4cONffdd5/tfNauXWvn+C677DI7H+vgOwkvE6Jjnn3KlCl2FN0sjAQZebt74jf4c4nOGfMeLxcep7Lxd/fu3aucO7+H38V7zP1jP+aQCbXToYoOVq9ebRt86GiZrhk7dmx0VJgW6sGqVauqOmKmhQh7I5B8mDbq27dvdJv2IsJInKhVKC5cnk8z0azDhw/bESLtNi1JHUAZYMSNSEQsOqijs2fPtq9mxPnSpUtT+xSmJMhHok1hfwmVxiTV07R+JMuy7iraQqg4o06fPt3OryEYKAjCV8y5jR492jo3CmLatGk2mc517ryP2vcLk+shAMaNG2c7Ev7eunWrDf/jPIHQJWJo6tSp5p577jHPP/+8DVMTihs+fLj9P1B5CGPS4Gh8CCA6Ps7hnpqBMB6NmKkIcHOJviPn+pxDJ+rg/hFKfgdHKJ0EK8KxiCxGqQMGDLBzmJzXDpXzbIHtYo4AB4HNKPNW4RrY3icWwQH+Rmy2kp/RjtDGyGMIfy/2xu7YLi3UacQNAwjavxs01EuKTuoAio6LZMVEAseasYnzzXyOMvAHRmFSNNdkN3fnp7C/hEpjkuppGj+SZVl3JW0z9YNR3QiLAnBKECd0/fXX28KhUFCPYdYzn/WdIQIHR+iH4/kM4THm83yoJC5JLMa2bdvM+PHjqwqb+yLaw1x7M5DZTaa8D9/Py4ff4s/FI674Lj9qhK1CtUyHjIgS1SQ1WOx+OkKFckHkEmb1ofzC6BeUTagk/d5WhArXINqJsCf0TVtA8NMGiHC6tuLD9csoVPi9/O4sOi93LQTKggUL7MCPgRGRLZI6fb/JANOPkmH/2D2IapLqaRo/kmVZdyVtJVScQ+NfZ3hfqDhoKPzNNAoREaZQ3GeBzjoMhSVBJSFK44sAhxtNxBwq39fKtAHX5HGzdevW2dEH00Dh9ZlrZErKJW0S+fET2QBnLaGSjjMVUUHEErkLUUSlgywjKlyDxzNJqPVhMML0Umhr4Prt4qizJMtRtusIiVq7aDS4wZrLP2LKh6l23x9h/9g9iGqS6qkiKjkEozqHxr/O8KFQeeedd2wImKkXOnvCjDNnzqxyhs00kHrnukbqX9vB/XBfzXRyOG4EyKBBg2xew/79+83jjz9u78GHxo4DwBEwL7xkyZIqJwFMOyGUEDCcz3wmU2R+FEl0UC9HpdWGjLAlGTeW3Flvbpm6G+tUiwh1tl6OSqxdJZFkOyd6YtdK6gDKQL28hbS+Eep9xrcv/3e5dbFXM99ZNpLqaVo/klVZdyWFEiqEHenkw7lR/7NAxxRGG5KgkiQVpivsWJSC72smosJ5rPnA8/D+UyN8P68QBAg5NYRSmZMPoaNE5BCSZaTJnPGuXbtS/eayERuZOKHR7FM/DtcJxzpIPfXTgRvtZfHUT1IyLf4Bm8aSbJM6gDKQ5ZMgScm0XKdeki3vt0tH2ZUk1VM99ZND0ggVjpNAGoqDUKjQMVHA/toNgNDZtGlT5a8OGjUmkmpJ8vWnhnC6RDtIjk0L90/4NLwnvj9WmegI+Q08Hx8mawJCZs6cObZyxqatxCmwJbb37UxdQGiEU2ppoTyTpnGoH+HaCJQR6x9Qb8okJpmqia2jwqJ5sbySJBA9TNEyevTrOxFExDrRyhDKu6xCBbvwQIKfMxLL3UsDkV9G9r6wdD6QadUkGvlW0UFSPU3rR7Is666iLYQKBidy4QzNvy4iQpiY6RIaCcYnp8NFVBAsCA9GZ6hMFn9CheIASbDjGm7KhI6JAuYpIR/C//WiL3wHq2ESveBJIyrKhg0bbLSDVQPTwvcjOlxEBce7c+dO24EyYiHfwXe23A+VkemcWNSGY9w3qpnr8sJhk9Am4VILdSpcmTZMwiRy1a1bt6j4COEcQtpJ58ZWlKSM2sVxZAX1NLYyrZ+ESaI7dqe+16u7nEf7J8LJeS6ZNrYCJ23skUcesWI0bPNlAP8RW62Ujs/5OnwQ0+aIEKYZksC2PF2Fr+FaLpkWAZq00jLnsJYKOYTNCNKy0aiepvEjaco677SFUEFR4vQZoTIC41/+doqc/6MqcXoUFNMcHKNgyFl54403rKMjwuEKBlFBQZFoy9QIgsA9NgfuO/1XUmIlBU+jO911VMJ1T3hkmoaOoyBqEzZoRvuxaScqLHkrYcXm84w6m1lroixQL1zdoQwRrZSrTzNCBUdBh1svIhPu0eHXvzJBm6Kjc3v9hFOUaYUKcC5tGZvyFBAOOmw3zbTtIoMt/f1fqN++rdIKFQj9KfU6SXTH7M8xUU3aeprGjzQq67zTNlM/Ij0INoQbKttFW1DmVOBrr73WhmqFEEKIdkBCpaB89913NirgVuhltMpIkymOdgn3CSGEEBIqQgghhMgtEipCCCGEyC0SKkIIIYTILRIqQgghhMgtEipCCCGEyC0SKkIIIYTILRIqQgghhMgthRIqH3zwgV2plSXsuwpWM2Ul3Mcee8x8/vnnlaNCCCGEaIVcCRX27WEJYJZtZvnmZmGDQHaJ7MrlmFk6/5577qnZpEvkm3AJfZZ0b2VJdeowW6yHS1/zYj8bn3Dpa5Z/LyPhEvqUQ6uLErKUO8uDs1Q4dp0wYUJNObItxahRo+z7LCfO0u98rmyEy6qfrh0OHjzYaVeuuXnz5qpyZMn2FStW2PdoD2Wu883A4PeJJ55I3DwzjR/JuqzPNrkSKhiTaMi+ffsqR5oHkdKMUGHvoKx3T+V6bLYlodI+xDYlpJNrtm6wTQE7/7I3Ch2ke7G5pV8fYpuJ8f1Jm7gVlaRNCdPspxTCtdggdOHChXZDQrayHzNmTNUOvtiX67OPFttK4Kznz59vhRLlUBYQELGN6mIbOKaB9sMmhGwmiV23b99uevXq1bmRKtfk2nwHG8Hy/ez6zgZ6Eitx6JsY9CAsknb5TuNHsi7rrqBwOSrNCBUcGcpSQqXc0Kmx27Vfb4iMsWMpDrgZ2ISQztaHa+Eo/NElG2TGtmenw24X55EFREHp4I4cOVI5Yszy5csTHXM9cOyTJk3q3GwNO7Jjuj/wQbTMmzevqizoOCn/vXv3Vo4Un0OHDlmR4Ndv6m2fPn2a9lvYb8SIEVUbcCJQnnzyyc69xvh78ODBNddmN/fJkye3FEEvOtR/Bjn0UUntIY0fybKsu4pcCRWcB049DNU2Q1qhgjNbtmyZGT9+fNMOsRFcT0KlfaCD6tmzZ1V50chnzJhR06k14uTJk3ZE6eCza9asqdpJ9vjx42bIkCE19XTLli126vLYsWOVI8WGzolOKrQxI+3evXs31X5oczjs9evXV47UknSOK+ulS5dWjhQfbBDWNQZuI0eOTD3QcxD9Yh8x6nUSnEOdD8+hrAcNGmQOHz5cOSJCKI+YUEnrR7Is666iaaGCiGCraeYY586da38o/+cY4Sb3njMADsjN/TOHRoUOt6F217zgggvsZ5PCvpzn5rIJhzE6InxFJ+O2Ied7eRFOJNTFd44bN87mDjjcPYevWGXw5/969OhhRwB+RwSEj1G93BNzgFx/ypQpTQsVxBMjb76H+2FDQX8u0Tlad7/OTu73dO/eveo7nQ14D/vTYTKHTKidDlV0QAJ2zIkyXTN27NjOUWErILxXrVpV1RFTV8lhCkfwtIu+fftGt2kvIozEiVqFwsHl+TQTzaKjY4S4Z8+eypFaXPvBkYfgy3iVBUbcYSSDOjp79mz78utrIxB4jXwKvoqOkQ7SB3/FaL9ZX1km8O+xvimtH8myrLuKliIqzHONHj3aOhQ6V+bknVMhpEQ41/145oKJWuCwOUZ48Nprr60aYTqcI4kJFUY99913n42C8J04OebZHnnkEdshu86cQiWawVM3hPQ5FwcUGy3RODg3rAAOnB8hTZwf4oQdiRE9hJgd7r4ocDo07oN7DEfoaSCMhxDjvsHNJfqOnO/jHDpRB3ZFtPkdHKF0BBb25t4ZuSAGEY2c1w6V82yB7WKOgLqEzU43woftfWIRHOBvxGaSUC8aTAeQxxD+XjdwwXZpoU4jbkjoJJmWQUOYFO0iJ4sWLaqq/26aL1YHioiLZMWEGceasQN2xPfxOcrAHxj5SdG0AcrH9/u8R26FP+gStSQJlTR+JMuy7kpaEioo5zvuuKOzY8TRM68M27Zt60ygQkzQsYeiBNEQEw4YDMPFKi2iiNGtHxmhoG677bYqJU+h4qh8R4SIihUUBZokVPg8Do0Iig8Njt/kRgYIMxonzs6BYLn99ttrKlAjyOwmU96H3xM6bOzjz8VjZ+yPI3bwm0O1TDkRPRDVJDVY7H46QoVy4QmwcBRJ+YXRL/AdTBlI+r2tCBWuQTQTYU/EhLaA4KcNEN10bQX/dMkll5idO3daAc+ga86cOda3hKPOouL8bBadl7sWPnDBggXWD2JXBnckdZJcC/hEBrfTp0+37YLyIcJ799132842jAqIU9AOYmWSxo9kWdZdScs5KggNRvpUQBo5P5gKyONnLlQeduoODBgLFTqjho4LiG64KI4jSajEOvZYQVGgSUKFe+bew9EwTnT48OGdU010/IzSfJHA9VrNUUFYMN20bt06M2vWLDsNFP4e5hqHDh3ambS5Y8eOqkQ2wFlLqKTjTEVU6BSZugtRRKWDLCMqXIPpWT/aCQySiJY4W9OJMvigXXE+UUfeS3LmRSTLUbbz2Uzp4/8dbqDn5x8hYoiuE+lCVPK4LAOqWGcrTkE7iJWJIiopQDEzWsQR0KGjqAn1IVQcGIqwXuwVM5Cr9DFHjRB48MEHO6d+EEN05KFjolBDB8f1YgVFgSYJFecsY/fuNyy+K7w212tFqOC4ESAkl5HXsH//fvP444/X/B4aPg4AR4BIW7JkSZWTABeBQsBwPsIKoRebcis79XJUWm3I1FcEbJh/AfXmlgmPN1tv2hXqbL0clZgfSCLJdq4d17uWS0osk4ivl7cQ85VJ1PtMUgfrQ9lTB0L/JU6RZMe0fiSrsu5KWhYqRDhYZ4LGTQIohiCz2E+AIxrBOS7C0ggKIkmowK5du2zny/wzL6Z4XEjXQaGGHXsrQoWICmFkN72VBN+VhVDBRqz5wJwtoz5H7PcAAoRHKrE3dgiho0TkICAZOTJnjP2ooKKa2MjECY1mn/pxuE44VpfTZusXHTfay+Kpn6RkWoQKNq2XZMv38FkXoSwDCISsngRJSqblOvWSbClzyp7Haf2ItKgGO8aEip76SQGVj2kX1kAgEkBl9Rf4AQzDUybhKB5xERvZ1xMqOH6SdnEqMWHhwPCh8dMKFb6DZ87BNaIwRwW4d6dO6eQQGP70FiFOIiPNOFrOJXzqrycBsd8D3CuVlIz5cHoKEDLMvVMGcgL1wZbY3rezS7AMp9TSQnkmTeNQt8K1ESgjHHaY6Fl0iIjG1lGhrYeDkHrQHqdNm1a1fgTQVhHrzi9hb8oZYQPYGkHf7Pe1O9iFJ0P8gSVCjehTzDfXg8hvuBI3dqUuM63q4KGHl19+ubN8yA+iA221jZUF6mtMqKT1I1mWdVfRslABxIkLKeGQwzVJMBTRFqaGqJT8TYIbT+TEIhUu38U3qIPPIhpQgXQgdNC8SODycwi4J6afXCEB18OJhR02zotFiHhSgPdYFZf8EAf3iBPdvXu3fZ8XavXFF1/svD6/l6iRPyX1r3/9y16XRuqr2HrQMfJ7XEQFm5LwRwfKb/KTlIHvpzIynROLWHGM0B72crbCYWPD0A4ivjKtn4QJRK66desWFR8hnMM0YdK5sRUlKaN2cRxZQT1l1I29sTX295MwgQ4Ou1Pf69VdziP3hCgv57lkWn8FTsLll156qdm0aZNtZzyhyPc1ipwWDfxHbLVSOj7n2/BBbGeCCHE5eTGwLU9X4Wu4lkumxXf6K6RSxjxFSSTAPUHJE5P1yrTsYEuebKXPw7YhafxImrLOO6clVKiMbgNAOlE/P8WBoTkHRYfj5t9YeDaWD+KPcOmo//Of/1T+6gAj42hoAEDUJPys6zB4haqUz+PU3Pon4d4UQEMj4Y4EMNY1QTSEDYv7d+u7UBlwmEwbkEPzySefVM5qDJ/j89wrUzU82s334yjIlg9HfIxEYvPq3B95K2HF5vMItnph8LJCudPIsTvlyKiEBu3TjFDBUdAB1hsthnt0lK2zdPjtJzZFmVaoAOci7rEpbRoH7bcbPu/2POEcIr5+Z1omfFvEptLTChVwa0nhI12Scii6/frOd9JfhD5NnII+zPVd7kU/6Q/MIY0faVTWeee0hMrZZPny5Xaahs7XOTFC9oyYWH9EnIJRKqIMle2iLQhGKjBr2BCqFUIIIdqBthEqqD9GRyTZOXXJ/1GGbrE3cQpCq0QFGOFgK0arjDSZ4gijRkIIIUReaRuhIoQQQojyIaEihBBCiNwioSKEEEKI3CKhIoQQQojcIqEihBBCiNwioSKEEEKI3CKhIoQQQojcIqEihBBCiNwioSKEEEKI3CKhIoQQQojcIqEihBBCiNwioSKEEEKI3CKhIoQQQojcIqEihBBCiNwioSKEEEKI3CKhIoQQQojcIqEihBBCiNwioSKEEEKI3CKhIoQQQojcIqEihBBCiNwioSKEEEKI3CKhIoQQQojcIqEihBBCiNwioSKEEEKI3CKhIoQQQojcIqEihBBCiNwioSKEEEKI3CKhIoQQQojcIqEihBBCiJxizP8H/5pWMD0zNwgAAAAASUVORK5CYII=)"
      ]
    }
  ]
}