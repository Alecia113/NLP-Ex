{
  "nbformat": 4,
  "nbformat_minor": 0,
  "metadata": {
    "colab": {
      "name": "E11.1.ipynb",
      "provenance": [],
      "collapsed_sections": [],
      "authorship_tag": "ABX9TyM6YssamlQRpwcUF/txp9wr",
      "include_colab_link": true
    },
    "kernelspec": {
      "name": "python3",
      "display_name": "Python 3"
    },
    "language_info": {
      "name": "python"
    }
  },
  "cells": [
    {
      "cell_type": "markdown",
      "metadata": {
        "id": "view-in-github",
        "colab_type": "text"
      },
      "source": [
        "<a href=\"https://colab.research.google.com/github/Alecia113/NLP-Ex/blob/main/E11_1.ipynb\" target=\"_parent\"><img src=\"https://colab.research.google.com/assets/colab-badge.svg\" alt=\"Open In Colab\"/></a>"
      ]
    },
    {
      "cell_type": "code",
      "metadata": {
        "id": "MgyMY8FU5Hk5"
      },
      "source": [
        ""
      ],
      "execution_count": null,
      "outputs": []
    },
    {
      "cell_type": "markdown",
      "metadata": {
        "id": "C4xteNApjplg"
      },
      "source": [
        "# Exercise"
      ]
    },
    {
      "cell_type": "markdown",
      "metadata": {
        "id": "edjjkL_SjrL0"
      },
      "source": [
        "## E1. What is an advantage of the transformer model over RNNs?"
      ]
    },
    {
      "cell_type": "markdown",
      "metadata": {
        "id": "JjozONcUjsRm"
      },
      "source": [
        "Your Answer:"
      ]
    },
    {
      "cell_type": "markdown",
      "metadata": {
        "id": "MdmzzhI5iP93"
      },
      "source": [
        "## E2 Test with Transformer\n",
        "Try different number of heads in Multi-head Attention, **or** different number of encoders, and record the test performance. Draw a graph to show the test performance (or validation losses/ppls) vs number of heads, or the test performance (or validation losses/ppls) vs number of encoders, (you can keep epochs = 3)"
      ]
    },
    {
      "cell_type": "code",
      "metadata": {
        "colab": {
          "base_uri": "https://localhost:8080/"
        },
        "id": "pyX-hEG1U6m6",
        "outputId": "69a259d4-8327-44d3-95d9-b390d3992681"
      },
      "source": [
        ""
      ],
      "execution_count": null,
      "outputs": [
        {
          "output_type": "stream",
          "text": [
            "====================================================================================================\n",
            "Training the model with following configs: number of heads=1 & number of encoders=2\n",
            "====================================================================================================\n"
          ],
          "name": "stdout"
        },
        {
          "output_type": "stream",
          "text": [
            "/usr/local/lib/python3.7/dist-packages/torch/optim/lr_scheduler.py:370: UserWarning: To get the last learning rate computed by the scheduler, please use `get_last_lr()`.\n",
            "  \"please use `get_last_lr()`.\", UserWarning)\n"
          ],
          "name": "stderr"
        },
        {
          "output_type": "stream",
          "text": [
            "| epoch   1 |   200/ 2981 batches | lr 5.00 | ms/batch 16.59 | loss  8.10 | ppl  3293.66\n",
            "| epoch   1 |   400/ 2981 batches | lr 5.00 | ms/batch 16.48 | loss  6.84 | ppl   931.45\n",
            "| epoch   1 |   600/ 2981 batches | lr 5.00 | ms/batch 16.43 | loss  6.40 | ppl   598.88\n",
            "| epoch   1 |   800/ 2981 batches | lr 5.00 | ms/batch 16.45 | loss  6.26 | ppl   521.21\n",
            "| epoch   1 |  1000/ 2981 batches | lr 5.00 | ms/batch 16.48 | loss  6.14 | ppl   464.30\n",
            "| epoch   1 |  1200/ 2981 batches | lr 5.00 | ms/batch 16.44 | loss  6.12 | ppl   455.28\n",
            "| epoch   1 |  1400/ 2981 batches | lr 5.00 | ms/batch 16.52 | loss  6.07 | ppl   432.11\n",
            "| epoch   1 |  1600/ 2981 batches | lr 5.00 | ms/batch 16.39 | loss  6.07 | ppl   432.40\n",
            "| epoch   1 |  1800/ 2981 batches | lr 5.00 | ms/batch 16.43 | loss  5.97 | ppl   390.74\n",
            "| epoch   1 |  2000/ 2981 batches | lr 5.00 | ms/batch 16.45 | loss  5.97 | ppl   393.29\n",
            "| epoch   1 |  2200/ 2981 batches | lr 5.00 | ms/batch 16.45 | loss  5.86 | ppl   349.20\n",
            "| epoch   1 |  2400/ 2981 batches | lr 5.00 | ms/batch 16.50 | loss  5.90 | ppl   366.15\n",
            "| epoch   1 |  2600/ 2981 batches | lr 5.00 | ms/batch 16.50 | loss  5.92 | ppl   370.68\n",
            "| epoch   1 |  2800/ 2981 batches | lr 5.00 | ms/batch 16.50 | loss  5.81 | ppl   335.14\n",
            "-----------------------------------------------------------------------------------------\n",
            "| end of epoch   1 | time: 51.30s | valid loss  5.74 | valid ppl   311.30\n",
            "-----------------------------------------------------------------------------------------\n",
            "| epoch   2 |   200/ 2981 batches | lr 4.51 | ms/batch 16.66 | loss  5.82 | ppl   337.62\n",
            "| epoch   2 |   400/ 2981 batches | lr 4.51 | ms/batch 16.60 | loss  5.79 | ppl   327.39\n",
            "| epoch   2 |   600/ 2981 batches | lr 4.51 | ms/batch 16.53 | loss  5.62 | ppl   276.08\n",
            "| epoch   2 |   800/ 2981 batches | lr 4.51 | ms/batch 16.45 | loss  5.66 | ppl   285.85\n",
            "| epoch   2 |  1000/ 2981 batches | lr 4.51 | ms/batch 16.48 | loss  5.60 | ppl   271.14\n",
            "| epoch   2 |  1200/ 2981 batches | lr 4.51 | ms/batch 16.50 | loss  5.63 | ppl   278.35\n",
            "| epoch   2 |  1400/ 2981 batches | lr 4.51 | ms/batch 16.53 | loss  5.63 | ppl   279.50\n",
            "| epoch   2 |  1600/ 2981 batches | lr 4.51 | ms/batch 16.50 | loss  5.67 | ppl   289.51\n",
            "| epoch   2 |  1800/ 2981 batches | lr 4.51 | ms/batch 16.50 | loss  5.60 | ppl   271.72\n",
            "| epoch   2 |  2000/ 2981 batches | lr 4.51 | ms/batch 16.51 | loss  5.62 | ppl   276.91\n",
            "| epoch   2 |  2200/ 2981 batches | lr 4.51 | ms/batch 16.48 | loss  5.52 | ppl   250.14\n",
            "| epoch   2 |  2400/ 2981 batches | lr 4.51 | ms/batch 16.48 | loss  5.58 | ppl   265.05\n",
            "| epoch   2 |  2600/ 2981 batches | lr 4.51 | ms/batch 16.46 | loss  5.59 | ppl   269.01\n",
            "| epoch   2 |  2800/ 2981 batches | lr 4.51 | ms/batch 16.52 | loss  5.52 | ppl   249.42\n",
            "-----------------------------------------------------------------------------------------\n",
            "| end of epoch   2 | time: 51.40s | valid loss  5.61 | valid ppl   272.97\n",
            "-----------------------------------------------------------------------------------------\n",
            "| epoch   3 |   200/ 2981 batches | lr 4.29 | ms/batch 16.56 | loss  5.56 | ppl   258.74\n",
            "| epoch   3 |   400/ 2981 batches | lr 4.29 | ms/batch 16.44 | loss  5.55 | ppl   258.02\n",
            "| epoch   3 |   600/ 2981 batches | lr 4.29 | ms/batch 16.48 | loss  5.37 | ppl   214.42\n",
            "| epoch   3 |   800/ 2981 batches | lr 4.29 | ms/batch 16.45 | loss  5.42 | ppl   226.39\n",
            "| epoch   3 |  1000/ 2981 batches | lr 4.29 | ms/batch 16.55 | loss  5.37 | ppl   215.68\n",
            "| epoch   3 |  1200/ 2981 batches | lr 4.29 | ms/batch 16.45 | loss  5.41 | ppl   223.26\n",
            "| epoch   3 |  1400/ 2981 batches | lr 4.29 | ms/batch 16.46 | loss  5.43 | ppl   228.64\n",
            "| epoch   3 |  1600/ 2981 batches | lr 4.29 | ms/batch 16.49 | loss  5.47 | ppl   238.45\n",
            "| epoch   3 |  1800/ 2981 batches | lr 4.29 | ms/batch 16.49 | loss  5.39 | ppl   220.21\n",
            "| epoch   3 |  2000/ 2981 batches | lr 4.29 | ms/batch 16.47 | loss  5.42 | ppl   226.10\n",
            "| epoch   3 |  2200/ 2981 batches | lr 4.29 | ms/batch 16.50 | loss  5.31 | ppl   202.32\n",
            "| epoch   3 |  2400/ 2981 batches | lr 4.29 | ms/batch 16.44 | loss  5.39 | ppl   218.73\n",
            "| epoch   3 |  2600/ 2981 batches | lr 4.29 | ms/batch 16.44 | loss  5.40 | ppl   221.59\n",
            "| epoch   3 |  2800/ 2981 batches | lr 4.29 | ms/batch 16.48 | loss  5.34 | ppl   207.57\n",
            "-----------------------------------------------------------------------------------------\n",
            "| end of epoch   3 | time: 51.31s | valid loss  5.58 | valid ppl   264.85\n",
            "-----------------------------------------------------------------------------------------\n",
            "=========================================================================================\n",
            "| End of training | test loss  5.49 | test ppl   242.43\n",
            "=========================================================================================\n",
            "====================================================================================================\n",
            "Training the model with following configs: number of heads=2 & number of encoders=2\n",
            "====================================================================================================\n",
            "| epoch   1 |   200/ 2981 batches | lr 5.00 | ms/batch 16.60 | loss  8.01 | ppl  3023.51\n",
            "| epoch   1 |   400/ 2981 batches | lr 5.00 | ms/batch 16.43 | loss  6.78 | ppl   877.72\n",
            "| epoch   1 |   600/ 2981 batches | lr 5.00 | ms/batch 16.49 | loss  6.36 | ppl   578.57\n",
            "| epoch   1 |   800/ 2981 batches | lr 5.00 | ms/batch 16.44 | loss  6.23 | ppl   507.32\n",
            "| epoch   1 |  1000/ 2981 batches | lr 5.00 | ms/batch 16.46 | loss  6.12 | ppl   453.27\n",
            "| epoch   1 |  1200/ 2981 batches | lr 5.00 | ms/batch 16.48 | loss  6.09 | ppl   442.78\n",
            "| epoch   1 |  1400/ 2981 batches | lr 5.00 | ms/batch 16.51 | loss  6.04 | ppl   419.46\n",
            "| epoch   1 |  1600/ 2981 batches | lr 5.00 | ms/batch 16.46 | loss  6.05 | ppl   422.10\n",
            "| epoch   1 |  1800/ 2981 batches | lr 5.00 | ms/batch 16.51 | loss  5.96 | ppl   385.92\n",
            "| epoch   1 |  2000/ 2981 batches | lr 5.00 | ms/batch 16.50 | loss  5.96 | ppl   387.14\n",
            "| epoch   1 |  2200/ 2981 batches | lr 5.00 | ms/batch 16.52 | loss  5.85 | ppl   345.93\n",
            "| epoch   1 |  2400/ 2981 batches | lr 5.00 | ms/batch 16.52 | loss  5.89 | ppl   360.44\n",
            "| epoch   1 |  2600/ 2981 batches | lr 5.00 | ms/batch 16.52 | loss  5.89 | ppl   361.67\n",
            "| epoch   1 |  2800/ 2981 batches | lr 5.00 | ms/batch 16.51 | loss  5.80 | ppl   328.97\n",
            "-----------------------------------------------------------------------------------------\n",
            "| end of epoch   1 | time: 51.35s | valid loss  5.78 | valid ppl   322.38\n",
            "-----------------------------------------------------------------------------------------\n",
            "| epoch   2 |   200/ 2981 batches | lr 4.51 | ms/batch 16.62 | loss  5.81 | ppl   332.50\n",
            "| epoch   2 |   400/ 2981 batches | lr 4.51 | ms/batch 16.53 | loss  5.77 | ppl   321.03\n",
            "| epoch   2 |   600/ 2981 batches | lr 4.51 | ms/batch 16.54 | loss  5.60 | ppl   269.69\n",
            "| epoch   2 |   800/ 2981 batches | lr 4.51 | ms/batch 16.59 | loss  5.64 | ppl   281.19\n",
            "| epoch   2 |  1000/ 2981 batches | lr 4.51 | ms/batch 16.50 | loss  5.59 | ppl   266.53\n",
            "| epoch   2 |  1200/ 2981 batches | lr 4.51 | ms/batch 16.49 | loss  5.62 | ppl   275.63\n",
            "| epoch   2 |  1400/ 2981 batches | lr 4.51 | ms/batch 16.51 | loss  5.63 | ppl   278.43\n",
            "| epoch   2 |  1600/ 2981 batches | lr 4.51 | ms/batch 16.54 | loss  5.66 | ppl   286.39\n",
            "| epoch   2 |  1800/ 2981 batches | lr 4.51 | ms/batch 16.50 | loss  5.59 | ppl   267.54\n",
            "| epoch   2 |  2000/ 2981 batches | lr 4.51 | ms/batch 16.57 | loss  5.62 | ppl   275.93\n",
            "| epoch   2 |  2200/ 2981 batches | lr 4.51 | ms/batch 16.53 | loss  5.51 | ppl   247.65\n",
            "| epoch   2 |  2400/ 2981 batches | lr 4.51 | ms/batch 16.54 | loss  5.58 | ppl   266.23\n",
            "| epoch   2 |  2600/ 2981 batches | lr 4.51 | ms/batch 16.52 | loss  5.59 | ppl   268.30\n",
            "| epoch   2 |  2800/ 2981 batches | lr 4.51 | ms/batch 16.50 | loss  5.52 | ppl   249.04\n",
            "-----------------------------------------------------------------------------------------\n",
            "| end of epoch   2 | time: 51.47s | valid loss  5.60 | valid ppl   269.13\n",
            "-----------------------------------------------------------------------------------------\n",
            "| epoch   3 |   200/ 2981 batches | lr 4.29 | ms/batch 16.59 | loss  5.56 | ppl   258.60\n",
            "| epoch   3 |   400/ 2981 batches | lr 4.29 | ms/batch 16.52 | loss  5.55 | ppl   257.12\n",
            "| epoch   3 |   600/ 2981 batches | lr 4.29 | ms/batch 16.54 | loss  5.36 | ppl   213.77\n",
            "| epoch   3 |   800/ 2981 batches | lr 4.29 | ms/batch 16.53 | loss  5.42 | ppl   225.61\n",
            "| epoch   3 |  1000/ 2981 batches | lr 4.29 | ms/batch 16.54 | loss  5.38 | ppl   216.27\n",
            "| epoch   3 |  1200/ 2981 batches | lr 4.29 | ms/batch 16.54 | loss  5.41 | ppl   224.15\n",
            "| epoch   3 |  1400/ 2981 batches | lr 4.29 | ms/batch 16.58 | loss  5.43 | ppl   228.42\n",
            "| epoch   3 |  1600/ 2981 batches | lr 4.29 | ms/batch 16.59 | loss  5.47 | ppl   238.06\n",
            "| epoch   3 |  1800/ 2981 batches | lr 4.29 | ms/batch 16.55 | loss  5.41 | ppl   223.71\n",
            "| epoch   3 |  2000/ 2981 batches | lr 4.29 | ms/batch 16.57 | loss  5.43 | ppl   227.81\n",
            "| epoch   3 |  2200/ 2981 batches | lr 4.29 | ms/batch 16.55 | loss  5.33 | ppl   205.93\n",
            "| epoch   3 |  2400/ 2981 batches | lr 4.29 | ms/batch 16.58 | loss  5.40 | ppl   220.63\n",
            "| epoch   3 |  2600/ 2981 batches | lr 4.29 | ms/batch 16.55 | loss  5.41 | ppl   224.28\n",
            "| epoch   3 |  2800/ 2981 batches | lr 4.29 | ms/batch 16.52 | loss  5.35 | ppl   209.66\n",
            "-----------------------------------------------------------------------------------------\n",
            "| end of epoch   3 | time: 51.53s | valid loss  5.50 | valid ppl   245.62\n",
            "-----------------------------------------------------------------------------------------\n",
            "=========================================================================================\n",
            "| End of training | test loss  5.41 | test ppl   223.52\n",
            "=========================================================================================\n",
            "====================================================================================================\n",
            "Training the model with following configs: number of heads=4 & number of encoders=2\n",
            "====================================================================================================\n",
            "| epoch   1 |   200/ 2981 batches | lr 5.00 | ms/batch 16.59 | loss  8.05 | ppl  3131.99\n",
            "| epoch   1 |   400/ 2981 batches | lr 5.00 | ms/batch 16.49 | loss  6.81 | ppl   904.42\n",
            "| epoch   1 |   600/ 2981 batches | lr 5.00 | ms/batch 16.51 | loss  6.37 | ppl   584.99\n",
            "| epoch   1 |   800/ 2981 batches | lr 5.00 | ms/batch 16.53 | loss  6.23 | ppl   509.31\n",
            "| epoch   1 |  1000/ 2981 batches | lr 5.00 | ms/batch 16.54 | loss  6.10 | ppl   447.87\n",
            "| epoch   1 |  1200/ 2981 batches | lr 5.00 | ms/batch 16.53 | loss  6.08 | ppl   436.66\n",
            "| epoch   1 |  1400/ 2981 batches | lr 5.00 | ms/batch 16.53 | loss  6.03 | ppl   416.90\n",
            "| epoch   1 |  1600/ 2981 batches | lr 5.00 | ms/batch 16.50 | loss  6.04 | ppl   421.49\n",
            "| epoch   1 |  1800/ 2981 batches | lr 5.00 | ms/batch 16.53 | loss  5.95 | ppl   384.13\n",
            "| epoch   1 |  2000/ 2981 batches | lr 5.00 | ms/batch 16.56 | loss  5.95 | ppl   385.42\n",
            "| epoch   1 |  2200/ 2981 batches | lr 5.00 | ms/batch 16.53 | loss  5.84 | ppl   345.04\n",
            "| epoch   1 |  2400/ 2981 batches | lr 5.00 | ms/batch 16.58 | loss  5.89 | ppl   360.58\n",
            "| epoch   1 |  2600/ 2981 batches | lr 5.00 | ms/batch 16.55 | loss  5.89 | ppl   360.92\n",
            "| epoch   1 |  2800/ 2981 batches | lr 5.00 | ms/batch 16.57 | loss  5.79 | ppl   327.54\n",
            "-----------------------------------------------------------------------------------------\n",
            "| end of epoch   1 | time: 51.49s | valid loss  5.72 | valid ppl   305.84\n",
            "-----------------------------------------------------------------------------------------\n",
            "| epoch   2 |   200/ 2981 batches | lr 4.51 | ms/batch 16.63 | loss  5.80 | ppl   329.43\n",
            "| epoch   2 |   400/ 2981 batches | lr 4.51 | ms/batch 16.55 | loss  5.77 | ppl   321.22\n",
            "| epoch   2 |   600/ 2981 batches | lr 4.51 | ms/batch 16.60 | loss  5.60 | ppl   269.65\n",
            "| epoch   2 |   800/ 2981 batches | lr 4.51 | ms/batch 16.58 | loss  5.63 | ppl   278.99\n",
            "| epoch   2 |  1000/ 2981 batches | lr 4.51 | ms/batch 16.59 | loss  5.58 | ppl   264.81\n",
            "| epoch   2 |  1200/ 2981 batches | lr 4.51 | ms/batch 16.64 | loss  5.61 | ppl   273.31\n",
            "| epoch   2 |  1400/ 2981 batches | lr 4.51 | ms/batch 16.51 | loss  5.62 | ppl   276.95\n",
            "| epoch   2 |  1600/ 2981 batches | lr 4.51 | ms/batch 16.52 | loss  5.66 | ppl   288.27\n",
            "| epoch   2 |  1800/ 2981 batches | lr 4.51 | ms/batch 16.54 | loss  5.60 | ppl   269.69\n",
            "| epoch   2 |  2000/ 2981 batches | lr 4.51 | ms/batch 16.50 | loss  5.61 | ppl   274.11\n",
            "| epoch   2 |  2200/ 2981 batches | lr 4.51 | ms/batch 16.52 | loss  5.51 | ppl   247.54\n",
            "| epoch   2 |  2400/ 2981 batches | lr 4.51 | ms/batch 16.55 | loss  5.58 | ppl   265.71\n",
            "| epoch   2 |  2600/ 2981 batches | lr 4.51 | ms/batch 16.51 | loss  5.60 | ppl   269.27\n",
            "| epoch   2 |  2800/ 2981 batches | lr 4.51 | ms/batch 16.55 | loss  5.52 | ppl   249.14\n",
            "-----------------------------------------------------------------------------------------\n",
            "| end of epoch   2 | time: 51.54s | valid loss  5.60 | valid ppl   269.59\n",
            "-----------------------------------------------------------------------------------------\n",
            "| epoch   3 |   200/ 2981 batches | lr 4.29 | ms/batch 16.63 | loss  5.56 | ppl   259.81\n",
            "| epoch   3 |   400/ 2981 batches | lr 4.29 | ms/batch 16.54 | loss  5.56 | ppl   260.59\n",
            "| epoch   3 |   600/ 2981 batches | lr 4.29 | ms/batch 16.57 | loss  5.37 | ppl   214.85\n",
            "| epoch   3 |   800/ 2981 batches | lr 4.29 | ms/batch 16.56 | loss  5.43 | ppl   227.05\n",
            "| epoch   3 |  1000/ 2981 batches | lr 4.29 | ms/batch 16.54 | loss  5.38 | ppl   216.14\n",
            "| epoch   3 |  1200/ 2981 batches | lr 4.29 | ms/batch 16.57 | loss  5.41 | ppl   224.58\n",
            "| epoch   3 |  1400/ 2981 batches | lr 4.29 | ms/batch 16.51 | loss  5.44 | ppl   231.02\n",
            "| epoch   3 |  1600/ 2981 batches | lr 4.29 | ms/batch 16.57 | loss  5.48 | ppl   240.95\n",
            "| epoch   3 |  1800/ 2981 batches | lr 4.29 | ms/batch 16.56 | loss  5.42 | ppl   225.17\n",
            "| epoch   3 |  2000/ 2981 batches | lr 4.29 | ms/batch 16.54 | loss  5.45 | ppl   231.96\n",
            "| epoch   3 |  2200/ 2981 batches | lr 4.29 | ms/batch 16.55 | loss  5.34 | ppl   208.71\n",
            "| epoch   3 |  2400/ 2981 batches | lr 4.29 | ms/batch 16.60 | loss  5.42 | ppl   225.71\n",
            "| epoch   3 |  2600/ 2981 batches | lr 4.29 | ms/batch 16.52 | loss  5.43 | ppl   228.13\n",
            "| epoch   3 |  2800/ 2981 batches | lr 4.29 | ms/batch 16.54 | loss  5.36 | ppl   212.46\n",
            "-----------------------------------------------------------------------------------------\n",
            "| end of epoch   3 | time: 51.52s | valid loss  5.52 | valid ppl   250.39\n",
            "-----------------------------------------------------------------------------------------\n",
            "=========================================================================================\n",
            "| End of training | test loss  5.43 | test ppl   227.60\n",
            "=========================================================================================\n",
            "====================================================================================================\n",
            "Training the model with following configs: number of heads=8 & number of encoders=2\n",
            "====================================================================================================\n",
            "| epoch   1 |   200/ 2981 batches | lr 5.00 | ms/batch 16.75 | loss  8.06 | ppl  3149.67\n",
            "| epoch   1 |   400/ 2981 batches | lr 5.00 | ms/batch 16.70 | loss  6.80 | ppl   899.68\n",
            "| epoch   1 |   600/ 2981 batches | lr 5.00 | ms/batch 16.67 | loss  6.37 | ppl   584.16\n",
            "| epoch   1 |   800/ 2981 batches | lr 5.00 | ms/batch 16.66 | loss  6.23 | ppl   509.30\n",
            "| epoch   1 |  1000/ 2981 batches | lr 5.00 | ms/batch 16.72 | loss  6.10 | ppl   448.09\n",
            "| epoch   1 |  1200/ 2981 batches | lr 5.00 | ms/batch 16.66 | loss  6.08 | ppl   437.84\n",
            "| epoch   1 |  1400/ 2981 batches | lr 5.00 | ms/batch 16.72 | loss  6.03 | ppl   415.67\n",
            "| epoch   1 |  1600/ 2981 batches | lr 5.00 | ms/batch 16.70 | loss  6.04 | ppl   421.60\n",
            "| epoch   1 |  1800/ 2981 batches | lr 5.00 | ms/batch 16.69 | loss  5.95 | ppl   384.01\n",
            "| epoch   1 |  2000/ 2981 batches | lr 5.00 | ms/batch 16.70 | loss  5.95 | ppl   385.00\n",
            "| epoch   1 |  2200/ 2981 batches | lr 5.00 | ms/batch 16.73 | loss  5.85 | ppl   345.73\n",
            "| epoch   1 |  2400/ 2981 batches | lr 5.00 | ms/batch 16.67 | loss  5.89 | ppl   361.74\n",
            "| epoch   1 |  2600/ 2981 batches | lr 5.00 | ms/batch 16.69 | loss  5.88 | ppl   359.42\n",
            "| epoch   1 |  2800/ 2981 batches | lr 5.00 | ms/batch 16.71 | loss  5.80 | ppl   331.08\n",
            "-----------------------------------------------------------------------------------------\n",
            "| end of epoch   1 | time: 51.94s | valid loss  5.70 | valid ppl   300.27\n",
            "-----------------------------------------------------------------------------------------\n",
            "| epoch   2 |   200/ 2981 batches | lr 4.51 | ms/batch 16.80 | loss  5.80 | ppl   329.56\n",
            "| epoch   2 |   400/ 2981 batches | lr 4.51 | ms/batch 16.67 | loss  5.77 | ppl   320.69\n",
            "| epoch   2 |   600/ 2981 batches | lr 4.51 | ms/batch 16.74 | loss  5.60 | ppl   269.34\n",
            "| epoch   2 |   800/ 2981 batches | lr 4.51 | ms/batch 16.68 | loss  5.64 | ppl   280.41\n",
            "| epoch   2 |  1000/ 2981 batches | lr 4.51 | ms/batch 16.72 | loss  5.58 | ppl   265.42\n",
            "| epoch   2 |  1200/ 2981 batches | lr 4.51 | ms/batch 16.68 | loss  5.62 | ppl   275.67\n",
            "| epoch   2 |  1400/ 2981 batches | lr 4.51 | ms/batch 16.72 | loss  5.63 | ppl   278.50\n",
            "| epoch   2 |  1600/ 2981 batches | lr 4.51 | ms/batch 16.71 | loss  5.67 | ppl   289.00\n",
            "| epoch   2 |  1800/ 2981 batches | lr 4.51 | ms/batch 16.67 | loss  5.59 | ppl   267.87\n",
            "| epoch   2 |  2000/ 2981 batches | lr 4.51 | ms/batch 16.72 | loss  5.63 | ppl   277.40\n",
            "| epoch   2 |  2200/ 2981 batches | lr 4.51 | ms/batch 16.68 | loss  5.52 | ppl   250.15\n",
            "| epoch   2 |  2400/ 2981 batches | lr 4.51 | ms/batch 16.72 | loss  5.59 | ppl   267.15\n",
            "| epoch   2 |  2600/ 2981 batches | lr 4.51 | ms/batch 16.70 | loss  5.60 | ppl   269.31\n",
            "| epoch   2 |  2800/ 2981 batches | lr 4.51 | ms/batch 16.70 | loss  5.53 | ppl   251.01\n",
            "-----------------------------------------------------------------------------------------\n",
            "| end of epoch   2 | time: 51.97s | valid loss  5.58 | valid ppl   265.81\n",
            "-----------------------------------------------------------------------------------------\n",
            "| epoch   3 |   200/ 2981 batches | lr 4.29 | ms/batch 16.76 | loss  5.56 | ppl   260.70\n",
            "| epoch   3 |   400/ 2981 batches | lr 4.29 | ms/batch 16.66 | loss  5.56 | ppl   259.75\n",
            "| epoch   3 |   600/ 2981 batches | lr 4.29 | ms/batch 16.71 | loss  5.38 | ppl   216.53\n",
            "| epoch   3 |   800/ 2981 batches | lr 4.29 | ms/batch 16.67 | loss  5.44 | ppl   230.78\n",
            "| epoch   3 |  1000/ 2981 batches | lr 4.29 | ms/batch 16.70 | loss  5.40 | ppl   221.65\n",
            "| epoch   3 |  1200/ 2981 batches | lr 4.29 | ms/batch 16.67 | loss  5.45 | ppl   232.29\n",
            "| epoch   3 |  1400/ 2981 batches | lr 4.29 | ms/batch 16.67 | loss  5.46 | ppl   235.48\n",
            "| epoch   3 |  1600/ 2981 batches | lr 4.29 | ms/batch 16.67 | loss  5.50 | ppl   244.93\n",
            "| epoch   3 |  1800/ 2981 batches | lr 4.29 | ms/batch 16.69 | loss  5.44 | ppl   230.50\n",
            "| epoch   3 |  2000/ 2981 batches | lr 4.29 | ms/batch 16.66 | loss  5.47 | ppl   237.72\n",
            "| epoch   3 |  2200/ 2981 batches | lr 4.29 | ms/batch 16.69 | loss  5.36 | ppl   211.74\n",
            "| epoch   3 |  2400/ 2981 batches | lr 4.29 | ms/batch 16.69 | loss  5.43 | ppl   227.39\n",
            "| epoch   3 |  2600/ 2981 batches | lr 4.29 | ms/batch 16.67 | loss  5.45 | ppl   233.12\n",
            "| epoch   3 |  2800/ 2981 batches | lr 4.29 | ms/batch 16.70 | loss  5.40 | ppl   221.15\n",
            "-----------------------------------------------------------------------------------------\n",
            "| end of epoch   3 | time: 51.92s | valid loss  5.50 | valid ppl   245.91\n",
            "-----------------------------------------------------------------------------------------\n",
            "=========================================================================================\n",
            "| End of training | test loss  5.41 | test ppl   224.74\n",
            "=========================================================================================\n"
          ],
          "name": "stdout"
        }
      ]
    },
    {
      "cell_type": "code",
      "metadata": {
        "colab": {
          "base_uri": "https://localhost:8080/",
          "height": 573
        },
        "id": "PBzOECAJVC2X",
        "outputId": "d0387a0c-24c3-4e61-ff79-6de15215c959"
      },
      "source": [
        ""
      ],
      "execution_count": null,
      "outputs": [
        {
          "output_type": "display_data",
          "data": {
            "image/png": "[encoded data removed]",
            "text/plain": [
              "<Figure size 432x288 with 1 Axes>"
            ]
          },
          "metadata": {
            "tags": [],
            "needs_background": "light"
          }
        },
        {
          "output_type": "display_data",
          "data": {
            "image/png": "[encoded data removed]",
            "text/plain": [
              "<Figure size 432x288 with 1 Axes>"
            ]
          },
          "metadata": {
            "tags": [],
            "needs_background": "light"
          }
        }
      ]
    }
  ]
}