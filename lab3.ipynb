{
  "nbformat": 4,
  "nbformat_minor": 0,
  "metadata": {
    "colab": {
      "name": "lab3.ipynb",
      "provenance": [],
      "collapsed_sections": [],
      "authorship_tag": "ABX9TyMM1ITwDoL+u5JSrkGpYc7i",
      "include_colab_link": true
    },
    "kernelspec": {
      "name": "python3",
      "display_name": "Python 3"
    },
    "language_info": {
      "name": "python"
    }
  },
  "cells": [
    {
      "cell_type": "markdown",
      "metadata": {
        "id": "view-in-github",
        "colab_type": "text"
      },
      "source": [
        "<a href=\"https://colab.research.google.com/github/Alecia113/NLP-Ex/blob/main/lab3.ipynb\" target=\"_parent\"><img src=\"https://colab.research.google.com/assets/colab-badge.svg\" alt=\"Open In Colab\"/></a>"
      ]
    },
    {
      "cell_type": "code",
      "metadata": {
        "id": "48n7zPtg22SD"
      },
      "source": [
        ""
      ],
      "execution_count": null,
      "outputs": []
    },
    {
      "cell_type": "markdown",
      "metadata": {
        "id": "KF-vRmAYVpMk"
      },
      "source": [
        "##E1. Briefly describe the impact of window size selection on the Word2Vec?\n",
        "Please write down your answer below with your own words. "
      ]
    },
    {
      "cell_type": "code",
      "metadata": {
        "cellView": "form",
        "id": "jMj_HobwXgR8"
      },
      "source": [
        "#@Lab01 - E1\n",
        "\n",
        "Answer = \"Window sizes are divided into two main categories, small window sizes (2-15) and larger window sizes (15-50). The impact for Word2Vec is that if the small window is chosen the vector is trained. If AB is similar, then AB can be replaced with each other. If the vectors trained with the large window. The AB similarity of words represents their spatial location. the ABs belong to the same general class of words.\" #@param {type:\"raw\"}"
      ],
      "execution_count": null,
      "outputs": []
    },
    {
      "cell_type": "markdown",
      "metadata": {
        "id": "eq26RDjdzTpJ"
      },
      "source": [
        "##E2. CBOW implementation with PyTorch nn.Module and torch.optim\n",
        "\n",
        "In the tutorial, we learned how to train a word2vec skip-gram model in pytorch with manually updates the parameters (weights). \n",
        "\n",
        "\n",
        "In this Lab 03 E2, please:\n",
        "\n",
        "1.   use the \"NN Model (**nn.Module**)\" and the \"Optimiser (**torch.optim**)\" (that we learned in the above sections) to train a word2vec **CBOW (NOT Skip Gram)** model  on the provided toy data with widow_size=1 and embedding_size=2. \n",
        "2.   visualize (plot) the trained embeddings for each word in the vocabulary\n",
        "\n",
        "\n",
        "\n",
        "Note: The embedding size should 2. The code for the preprocessing and the hyperparmeter setup are provided. Have fun!\n"
      ]
    },
    {
      "cell_type": "code",
      "metadata": {
        "id": "OkqaE_i_WQL2"
      },
      "source": [
        "import matplotlib\n",
        "import matplotlib.pyplot as plt\n",
        "import numpy as np\n",
        "import torch\n",
        "import torch.nn as nn\n",
        "import torch.optim as optim\n",
        "from random import shuffle\n",
        "\n",
        "# Raw data - sentences\n",
        "# Let's create toy data for simplicity \n",
        "sentences = [\"he likes cat\",\n",
        "             \"he likes dog\",\n",
        "             \"he likes animal\",\n",
        "             \"dog cat animal\",\n",
        "             \"she likes cat\",\n",
        "             \"she dislikes dog\",\n",
        "             \"cat likes fish\",\n",
        "             \"cat likes milk\",\n",
        "             \"dog likes bone\",\n",
        "             \"dog dislikes fish\",\n",
        "             \"dog likes milk\",\n",
        "             \"she likes movie\",\n",
        "             \"she likes music\",\n",
        "             \"he likes game\",\n",
        "             \"he likes movie\",\n",
        "             \"cat dislikes dog\"]\n",
        "\n",
        "# convert all sentences to unique word list\n",
        "word_list = \" \".join(sentences).split()\n",
        "word_list = list(set(word_list))\n",
        "\n",
        "\n",
        "# make dictionary so that we can reference each index of unique word\n",
        "word_dict = {w: i for i, w in enumerate(word_list)}\n",
        "\n",
        "# make window size=1 for cbow\n",
        "# i.e.) he likes cat\n",
        "#   -> ([likes], he), ([he, cat], likes), ([likes], cat)\n",
        "#   -> ([likes, likes], he), ([he, cat], likes), ([likes, likes], cat)\n",
        "# Double the input when the word doesn't have two neighbours\n",
        "# This will make your input have the same size, which will make it easier when you write the CBOW model code\n",
        "# But this trick only works when window_size = 1\n",
        "\n",
        "cbow = []\n",
        "\n",
        "for sentence in sentences:\n",
        "    sentence = sentence.split()\n",
        "    for i in range(len(sentence)):\n",
        "        centre = word_dict[sentence[i]]\n",
        "        if i > 0 and i < len(sentence)-1:\n",
        "            context = [word_dict[sentence[i - 1]], word_dict[sentence[i + 1]]]\n",
        "        elif i == 0:\n",
        "            context = [word_dict[sentence[i + 1]], word_dict[sentence[i + 1]]]\n",
        "        else:\n",
        "            context = [word_dict[sentence[i - 1]], word_dict[sentence[i - 1]]]\n",
        "\n",
        "        cbow.append([context, centre])\n",
        "\n",
        "# hyperparameter\n",
        "voc_size = len(word_list)\n",
        "learning_rate = 0.1\n",
        "batch_size = 16\n",
        "embedding_size = 2\n",
        "no_of_epochs = 5000"
      ],
      "execution_count": null,
      "outputs": []
    },
    {
      "cell_type": "code",
      "metadata": {
        "id": "fUPtvPgjmNGf",
        "colab": {
          "base_uri": "https://localhost:8080/"
        },
        "outputId": "d29aed36-463a-4559-a9d9-ce74086eb14b"
      },
      "source": [
        "# Read the requirement carefully and implement the code by your own to fulfill the requirement.\n",
        "# You need to prepare batch data by yourself\n",
        "# You can refer to the code from the labs\n",
        "# Please try to make your code tidy with decent comments\n",
        " #prepare batch\n",
        "\n",
        "voc_size = len(word_list)   #13\n",
        "\n",
        "def prepare_batch(data_temp):\n",
        "    x1 = []   #window1\n",
        "    x2 = [] #window2 context\n",
        "    #data_temp = cbow\n",
        "\n",
        "    inputs = []\n",
        "    labels = []\n",
        "    inputs1 = []\n",
        "\n",
        "    for i in range(len(data_temp)):  # data = data_temp\n",
        "      input1_temp = [0]*voc_size\n",
        "      input1_temp[data_temp[i][0][0]] = 1     #48  first context word\n",
        "      x1.append(input1_temp)      #48\n",
        "      labels.append(data_temp[i][1])  # centre index   48 \n",
        " \n",
        "      input2_temp = [0]*voc_size\n",
        "      input2_temp[data_temp[i][0][1]] = 1   #second context word 48\n",
        "      x2.append(input2_temp)  \n",
        "\n",
        "      inputs1.append(x1[i])\n",
        "      inputs1.append(x2[i])\n",
        "      inputs.append(inputs1)\n",
        "      inputs1 = []  \n",
        "\n",
        "    return np.array(inputs), np.array(labels)\n",
        "\n",
        "\n",
        "import torch\n",
        "import torch.nn as nn\n",
        "import torch.nn.functional as F\n",
        "from sklearn.metrics import accuracy_score\n",
        "from random import shuffle\n",
        "\n",
        "class Cbow_linear(nn.Module):\n",
        "  def __init__(self,inputs, outputs):\n",
        "    super(Cbow_linear,self).__init__()\n",
        "    self.linear1 = nn.Linear(voc_size, embedding_size)\n",
        "    self.linear2 = nn.Linear(embedding_size, voc_size)\n",
        "\n",
        "  def forward(self, x):\n",
        "    x1 = self.linear1(x[:,0])\n",
        "    x2 = self.linear1(x[:,1])\n",
        "    x = (F.relu(x1) + F.relu(x2))/2\n",
        "    x = self.linear2(x)\n",
        "\n",
        "    return x\n",
        "    \n",
        "model = Cbow_linear(voc_size, embedding_size)  # model = cbow_net\n",
        "#print(model)\n",
        "\n",
        "\n",
        "#opt\n",
        "criterion = nn.CrossEntropyLoss() \n",
        "optimiser = optim.SGD(model.parameters(), lr=learning_rate)#, momentum=0.9\n",
        "\n",
        "for epoch in range(no_of_epochs):\n",
        "  shuffle(cbow)\n",
        "  loss_sum = 0\n",
        "\n",
        "  for ind in range(0,len(cbow),batch_size):     #ind: 0,16,32\n",
        "    data_temp = cbow[ind : min(ind+batch_size,len(cbow))] # 3times \n",
        "    inputs_temp, labels_temp = prepare_batch(data_temp)\n",
        "\n",
        "    inputs_torch = torch.from_numpy(inputs_temp).float()\n",
        "    labels_torch = torch.from_numpy(labels_temp)\n",
        "\n",
        "    \n",
        "\n",
        "    log_softmax = F.log_softmax(model.forward(inputs_torch),dim = 1)\n",
        "    loss = F.nll_loss(log_softmax, labels_torch)\n",
        "    \n",
        "    #GD\n",
        "    optimiser.zero_grad()#j\n",
        "    loss.backward()\n",
        "    optimiser.step()\n",
        "\n",
        "    loss_sum += loss.item()# if have not (end == 0)\n",
        "\n",
        "  if epoch % 500 == 499: \n",
        "    print('Epoch: %d, loss: %.4f' %(epoch + 1, loss_sum))\n"
      ],
      "execution_count": null,
      "outputs": [
        {
          "output_type": "stream",
          "text": [
            "Epoch: 500, loss: 4.7574\n",
            "Epoch: 1000, loss: 4.3807\n",
            "Epoch: 1500, loss: 4.2270\n",
            "Epoch: 2000, loss: 4.1435\n",
            "Epoch: 2500, loss: 4.0860\n",
            "Epoch: 3000, loss: 4.0539\n",
            "Epoch: 3500, loss: 4.0208\n",
            "Epoch: 4000, loss: 4.0220\n",
            "Epoch: 4500, loss: 4.0097\n",
            "Epoch: 5000, loss: 3.9759\n"
          ],
          "name": "stdout"
        }
      ]
    },
    {
      "cell_type": "code",
      "metadata": {
        "colab": {
          "base_uri": "https://localhost:8080/",
          "height": 267
        },
        "id": "-_029RJr1Ay_",
        "outputId": "a8008126-9d06-4676-d924-aabbaf343b14"
      },
      "source": [
        "# Get the trained projection matrix\n",
        "trained_embeddings = model.linear1.weight.view(13,2).data.numpy()\n",
        "# Visualise result\n",
        "for i, label in enumerate(word_list):\n",
        "    x, y = trained_embeddings[i]\n",
        "    # print (label, \" : \", x, \" \" , y) # uncomment to see the detailed vector info\n",
        "    plt.scatter(x, y)\n",
        "    plt.annotate(label, xy=(x, y), xytext=(5, 2),\n",
        "                 textcoords='offset points', ha='right', va='bottom')\n",
        "\n",
        "plt.show()"
      ],
      "execution_count": null,
      "outputs": [
        {
          "output_type": "display_data",
          "data": {
            "image/png": "[encoded data removed]",
            "text/plain": [
              "<Figure size 432x288 with 1 Axes>"
            ]
          },
          "metadata": {
            "tags": [],
            "needs_background": "light"
          }
        }
      ]
    }
  ]
}