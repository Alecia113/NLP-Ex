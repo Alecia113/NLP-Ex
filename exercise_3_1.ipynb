{
  "nbformat": 4,
  "nbformat_minor": 0,
  "metadata": {
    "colab": {
      "name": "exercise_3.1.ipynb",
      "provenance": [],
      "collapsed_sections": [],
      "authorship_tag": "ABX9TyNHylgFbL+ocRtW6vlKmgz3",
      "include_colab_link": true
    },
    "kernelspec": {
      "name": "python3",
      "display_name": "Python 3"
    },
    "language_info": {
      "name": "python"
    }
  },
  "cells": [
    {
      "cell_type": "markdown",
      "metadata": {
        "id": "view-in-github",
        "colab_type": "text"
      },
      "source": [
        "<a href=\"https://colab.research.google.com/github/Alecia113/NLP-Ex/blob/main/exercise_3_1.ipynb\" target=\"_parent\"><img src=\"https://colab.research.google.com/assets/colab-badge.svg\" alt=\"Open In Colab\"/></a>"
      ]
    },
    {
      "cell_type": "markdown",
      "metadata": {
        "id": "lJPx2i5C0Bfc"
      },
      "source": [
        "# Exercise\n",
        "Please complete the following **two questions** E1 and E2 and and submit your **\"ipynb\" file to Canvas**. (You can download it using \"File\" > \"Download .ipynb\"). Please make sure all code required to run your solution properly must be included in the submission file.\n",
        "\n",
        "\n",
        "\n"
      ]
    },
    {
      "cell_type": "markdown",
      "metadata": {
        "id": "KF-vRmAYVpMk"
      },
      "source": [
        "##E1. Briefly describe the impact of window size selection on the Word2Vec?\n",
        "Please write down your answer below with your own words. "
      ]
    },
    {
      "cell_type": "code",
      "metadata": {
        "cellView": "form",
        "id": "jMj_HobwXgR8"
      },
      "source": [
        "#@Lab01 - E1\n",
        "\n",
        "Answer = \" Type your answer in here \" #@param {type:\"raw\"}"
      ],
      "execution_count": null,
      "outputs": []
    },
    {
      "cell_type": "markdown",
      "metadata": {
        "id": "eq26RDjdzTpJ"
      },
      "source": [
        "##E2. CBOW implementation with PyTorch nn.Module and torch.optim\n",
        "\n",
        "In the tutorial, we learned how to train a word2vec skip-gram model in pytorch with either manually updates the parameters (weights) in it or using nn.Module and torch.optim. \n",
        "\n",
        "In this Lab 03 E2, please:\n",
        "\n",
        "1.   use the \"NN Model (**nn.Module**)\" and the \"Optimiser (**torch.optim**)\" (that we learned in the above sections) to train a word2vec **CBOW (NOT Skip Gram)** model  on the provided toy data with widow_size=1 and embedding_size=2. And you are also encouraged to research on **nn.Embedding** and use it in this exercise but it is not required.\n",
        "2.   visualize (plot) the trained embeddings for each word in the vocabulary\n",
        "\n",
        "\n",
        "\n",
        "Note: The embedding size should 2. The code for the preprocessing and the hyperparameter setup are provided. Have fun!\n"
      ]
    },
    {
      "cell_type": "markdown",
      "metadata": {
        "id": "x__yy4V1mNZo"
      },
      "source": [
        "### Your Solution"
      ]
    },
    {
      "cell_type": "code",
      "metadata": {
        "id": "fUPtvPgjmNGf"
      },
      "source": [
        "# Read the requirement carefully and implement the code by your own to fulfill the requirement.\n",
        "# You can refer to the code from the labs\n",
        "# Please try to make your code tidy with decent comments\n",
        " "
      ],
      "execution_count": null,
      "outputs": []
    },
    {
      "cell_type": "markdown",
      "metadata": {
        "id": "g-k1W8RQIxO5"
      },
      "source": [
        "### Sample Output"
      ]
    },
    {
      "cell_type": "code",
      "metadata": {
        "colab": {
          "base_uri": "https://localhost:8080/"
        },
        "id": "v3TcOy0vAmsb",
        "outputId": "53a8be64-9e2e-4e89-9a2e-c590b6564d1a"
      },
      "source": [
        "# The sample output for model training log (only for format reference)"
      ],
      "execution_count": null,
      "outputs": [
        {
          "output_type": "stream",
          "text": [
            "Epoch: 500, loss: 4.4944\n",
            "Epoch: 1000, loss: 4.1465\n",
            "Epoch: 1500, loss: 4.0476\n",
            "Epoch: 2000, loss: 4.0518\n",
            "Epoch: 2500, loss: 4.0087\n",
            "Epoch: 3000, loss: 4.0032\n",
            "Epoch: 3500, loss: 4.0064\n",
            "Epoch: 4000, loss: 4.0014\n",
            "Epoch: 4500, loss: 4.0442\n",
            "Epoch: 5000, loss: 4.0085\n"
          ],
          "name": "stdout"
        }
      ]
    },
    {
      "cell_type": "code",
      "metadata": {
        "id": "PkWJO3LkI-I_",
        "colab": {
          "base_uri": "https://localhost:8080/",
          "height": 267
        },
        "outputId": "918a2013-f171-416e-f3ca-ea00be9e3fc7"
      },
      "source": [
        "# The sample output for trained embedding visualization (only for format reference)"
      ],
      "execution_count": null,
      "outputs": [
        {
          "output_type": "display_data",
          "data": {
            "image/png": "[encoded data removed]",
            "text/plain": [
              "<Figure size 432x288 with 1 Axes>"
            ]
          },
          "metadata": {
            "tags": [],
            "needs_background": "light"
          }
        }
      ]
    }
  ]
}