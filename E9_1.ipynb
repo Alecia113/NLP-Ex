{
  "nbformat": 4,
  "nbformat_minor": 0,
  "metadata": {
    "colab": {
      "name": "E9.1.ipynb",
      "provenance": [],
      "collapsed_sections": [],
      "authorship_tag": "ABX9TyPFgT0aN43cy3/4b4zwfZhQ",
      "include_colab_link": true
    },
    "kernelspec": {
      "name": "python3",
      "display_name": "Python 3"
    },
    "language_info": {
      "name": "python"
    }
  },
  "cells": [
    {
      "cell_type": "markdown",
      "metadata": {
        "id": "view-in-github",
        "colab_type": "text"
      },
      "source": [
        "<a href=\"https://colab.research.google.com/github/Alecia113/NLP-Ex/blob/main/E9_1.ipynb\" target=\"_parent\"><img src=\"https://colab.research.google.com/assets/colab-badge.svg\" alt=\"Open In Colab\"/></a>"
      ]
    },
    {
      "cell_type": "markdown",
      "metadata": {
        "id": "sQbtE0AYpvtX"
      },
      "source": [
        "# Exercise\n",
        "\n",
        "\n"
      ]
    },
    {
      "cell_type": "markdown",
      "metadata": {
        "id": "-RTKeIuVb7-l"
      },
      "source": [
        "## E1. Explain the difference between coreference and anaphora with the example. (Your answer will not be marked if you do not add the example)"
      ]
    },
    {
      "cell_type": "markdown",
      "metadata": {
        "id": "Bf0yB6zn743s"
      },
      "source": [
        " 用**例子**解释**核心推理**和**拟人**之间的**区别**。如果你不添加例子，你的答案将不会被评分\n",
        " coreference ————anaphora"
      ]
    },
    {
      "cell_type": "markdown",
      "metadata": {
        "id": "G3LY2lrab9Rh"
      },
      "source": [
        "Your answer: coreference： 代指； Hospital ……it ； anaphora：重复， Hospital…… hospital……"
      ]
    },
    {
      "cell_type": "markdown",
      "metadata": {
        "id": "tKEtDEnBbihp"
      },
      "source": [
        "## E2. Try Bi-LSTM with CRF!\n",
        "\n",
        "Now we will apply the Bi-LSTM CRF model we just learned to CoNLL 2003 NER dataset using the pretrained glove embeddings. Please go through and complete the [Function for accuracy] section. \n",
        "现在我们将把刚刚学到的Bi-LSTM CRF模型应用于CoNLL 2003 NER数据集，使用预训练的手套嵌入。请浏览并完成[准确性的功能]部分。"
      ]
    },
    {
      "cell_type": "markdown",
      "metadata": {
        "id": "P6QUEMm70NZI"
      },
      "source": [
        "### Download Dataset"
      ]
    },
    {
      "cell_type": "code",
      "metadata": {
        "id": "lBdXq695pyuS"
      },
      "source": [
        "!pip install -U -q PyDrive\n",
        "from pydrive.auth import GoogleAuth\n",
        "from pydrive.drive import GoogleDrive\n",
        "from google.colab import auth\n",
        "from oauth2client.client import GoogleCredentials\n",
        "\n",
        "# Authenticate\n",
        "drive = None\n",
        "def authenticate():\n",
        "    global drive\n",
        "    auth.authenticate_user()\n",
        "    gauth = GoogleAuth()\n",
        "    gauth.credentials = GoogleCredentials.get_application_default()\n",
        "    drive = GoogleDrive(gauth)\n",
        "\n",
        "#Download files\n",
        "def downloadFiles(fileIds):\n",
        "    authenticate()\n",
        "    for fileId in fileIds:    \n",
        "        downloaded = drive.CreateFile({\"id\": fileId[1]})\n",
        "        downloaded.GetContentFile(fileId[0])"
      ],
      "execution_count": 1,
      "outputs": []
    },
    {
      "cell_type": "code",
      "metadata": {
        "id": "egNMhYx7qFs7"
      },
      "source": [
        "#Download file if not existing\n",
        "try:\n",
        "  _ = open(\"train.txt\", \"r\")\n",
        "except:\n",
        "  downloadFiles([[\"train.txt\", \"1UmNHdUZxjfcuIzCcAKuBvfBXdSWFv47i\"]])\n",
        "\n",
        "try:\n",
        "  _ = open(\"validation.txt\", \"r\")\n",
        "except:\n",
        "  downloadFiles([[\"validation.txt\", \"11bZIh5V9m2nZJ5s5xQ_gxHEHkAEhV8eQ\"]])\n",
        "\n",
        "try:\n",
        "  _ = open(\"test.txt\", \"r\")\n",
        "except:\n",
        "  downloadFiles([[\"test.txt\", \"1V-LQuJWT62aCytYuhZuaxvICsqiF1rdK\"]])"
      ],
      "execution_count": 2,
      "outputs": []
    },
    {
      "cell_type": "code",
      "metadata": {
        "id": "KsURxyItqNCT"
      },
      "source": [
        "def read_data(file_name, n_sample):\n",
        "    f = open(file_name)\n",
        "    documents = f.readlines()\n",
        "\n",
        "    input_data = []\n",
        "    target_data = []\n",
        "\n",
        "    temp1 = []\n",
        "    temp2 = []\n",
        "    for i in documents:\n",
        "        if i == '\\n':\n",
        "            input_data.append(temp1)\n",
        "            target_data.append(temp2)\n",
        "            temp1 = []\n",
        "            temp2 = []\n",
        "        else:\n",
        "            temp1.append(i.replace('\\n','').split(' ')[0].lower())\n",
        "            temp2.append(i.replace('\\n','').split(' ')[3])\n",
        "    return input_data[:n_sample], target_data[:n_sample]\n",
        "\n",
        "train_data, target_y_train = read_data(\"train.txt\",400)   # ['york', ',', 'england', '1996-08-22']]一维一句话，二维一个token \n",
        "# ['I-PER', 'O', 'O', 'O', 'O', 'O', 'O', 'O', 'O', 'O', 'O', 'O', 'O'],400 ,['I-ORG', 'O', 'I-MISC', 'O', 'O', 'O', 'I-MISC', 'O', 'O']一句话的标签；看起来像IO没看到B\n",
        "validation_data, target_y_validation = read_data(\"validation.txt\",50) #验证['london', '1996-08-30'],['I-LOC', 'O']\n",
        "test_data, target_y_test = read_data(\"test.txt\",50) #['nadim', 'ladki']['I-PER', 'I-PER']"
      ],
      "execution_count": 3,
      "outputs": []
    },
    {
      "cell_type": "code",
      "metadata": {
        "id": "GASvK913tAmB",
        "colab": {
          "base_uri": "https://localhost:8080/"
        },
        "outputId": "cf506002-1d24-46cf-9979-23d87c3c74f4"
      },
      "source": [
        "#给的例子\n",
        "print(len(train_data))\n",
        "print(train_data[1])\n",
        "print(target_y_train[1])"
      ],
      "execution_count": 4,
      "outputs": [
        {
          "output_type": "stream",
          "text": [
            "400\n",
            "['eu', 'rejects', 'german', 'call', 'to', 'boycott', 'british', 'lamb', '.']\n",
            "['I-ORG', 'O', 'I-MISC', 'O', 'O', 'O', 'I-MISC', 'O', 'O']\n"
          ],
          "name": "stdout"
        }
      ]
    },
    {
      "cell_type": "markdown",
      "metadata": {
        "id": "HBQkEN8M3GbG"
      },
      "source": [
        "### Preprocess"
      ]
    },
    {
      "cell_type": "markdown",
      "metadata": {
        "id": "2cCqGvJchOdR"
      },
      "source": [
        "#### Generate word_to_ix and tag_to_ix"
      ]
    },
    {
      "cell_type": "code",
      "metadata": {
        "id": "1MWAK0NV3INF",
        "colab": {
          "base_uri": "https://localhost:8080/",
          "height": 35
        },
        "outputId": "5438e6e2-6a9b-4b9a-bf40-1648b3cb722a"
      },
      "source": [
        "word_to_ix = {}     #进行了一波预处理\n",
        "for sentence in train_data+validation_data+test_data:\n",
        "    for word in sentence:\n",
        "        word = word.lower()\n",
        "        if word not in word_to_ix:\n",
        "            word_to_ix[word] = len(word_to_ix)\n",
        "word_list = list(word_to_ix.keys())   #2351 token对应inde; index .keys 把关键的元素取出来。就是不要index;按顺序取的感觉\n",
        "\n",
        "START_TAG = \"<START>\"\n",
        "STOP_TAG = \"<STOP>\"\n",
        "tag_to_ix = {START_TAG:0, STOP_TAG:1}     #如下 ；还是BIO\n",
        "for tags in target_y_train+target_y_validation:     #['O', 'O', 'O', 'I-ORG']\n",
        "    for tag in tags:      #每一个的词的tag\n",
        "        if tag not in tag_to_ix:\n",
        "            tag_to_ix[tag] = len(tag_to_ix) #就是又匹配上重新复制了。\n",
        "\n",
        "'''\n",
        "{'<START>': 0,\n",
        " '<STOP>': 1,\n",
        " 'B-LOC': 7,\n",
        " 'B-MISC': 8,\n",
        " 'I-LOC': 6,\n",
        " 'I-MISC': 4,\n",
        " 'I-ORG': 3,\n",
        " 'I-PER': 5,\n",
        " 'O': 2}\n",
        " '''"
      ],
      "execution_count": 5,
      "outputs": [
        {
          "output_type": "execute_result",
          "data": {
            "application/vnd.google.colaboratory.intrinsic+json": {
              "type": "string"
            },
            "text/plain": [
              "\"\\n{'<START>': 0,\\n '<STOP>': 1,\\n 'B-LOC': 7,\\n 'B-MISC': 8,\\n 'I-LOC': 6,\\n 'I-MISC': 4,\\n 'I-ORG': 3,\\n 'I-PER': 5,\\n 'O': 2}\\n \""
            ]
          },
          "metadata": {
            "tags": []
          },
          "execution_count": 5
        }
      ]
    },
    {
      "cell_type": "markdown",
      "metadata": {
        "id": "GEswz2QjhXBM"
      },
      "source": [
        "#### Generate Embedding Matrix 把word变成word-embedding"
      ]
    },
    {
      "cell_type": "code",
      "metadata": {
        "id": "-Oz6KVyjsxM9",
        "colab": {
          "base_uri": "https://localhost:8080/"
        },
        "outputId": "43b19680-36c0-4a42-9a41-f3fab01ff89e"
      },
      "source": [
        "import gensim.downloader as api\n",
        "import numpy as np   #要加的\n",
        "word_emb_model = api.load(\"glove-twitter-25\") \n",
        "\n",
        "EMBEDDING_DIM = 25      #补充到25了\n",
        "\n",
        "embedding_matrix = []\n",
        "for word in word_list:\n",
        "    try:\n",
        "        embedding_matrix.append(word_emb_model.wv[word])\n",
        "    except:\n",
        "        embedding_matrix.append([0]*EMBEDDING_DIM)\n",
        "embedding_matrix = np.array(embedding_matrix) #熟悉的节奏lookup tablel; 2维度\n",
        "embedding_matrix.shape            #(2351, 25)"
      ],
      "execution_count": 6,
      "outputs": [
        {
          "output_type": "stream",
          "text": [
            "[==================================================] 100.0% 104.8/104.8MB downloaded\n"
          ],
          "name": "stdout"
        },
        {
          "output_type": "stream",
          "text": [
            "/usr/local/lib/python3.7/dist-packages/ipykernel_launcher.py:10: DeprecationWarning: Call to deprecated `wv` (Attribute will be removed in 4.0.0, use self instead).\n",
            "  # Remove the CWD from sys.path while we load stuff.\n"
          ],
          "name": "stderr"
        },
        {
          "output_type": "execute_result",
          "data": {
            "text/plain": [
              "(2351, 25)"
            ]
          },
          "metadata": {
            "tags": []
          },
          "execution_count": 6
        }
      ]
    },
    {
      "cell_type": "markdown",
      "metadata": {
        "id": "wlchZJO8hdXa"
      },
      "source": [
        "#### convert dataset into idxs   将数据集转换为idxs"
      ]
    },
    {
      "cell_type": "code",
      "metadata": {
        "id": "fRs6mouFwEx4"
      },
      "source": [
        "def to_index(data, to_ix):\n",
        "    input_index_list = []\n",
        "    for sent in data:         #sent 每句话\n",
        "        input_index_list.append([to_ix[w] for w in sent])       #w是每个词    查询：【】词加'' word_to_ix['near'] 返回的是每个词的ind\n",
        "    return input_index_list         # 把每个词的inde，又丢进list，一句话都是由inde组成，把这个数据集全都改成了index的模式\n",
        "\n",
        "train_input_index =  to_index(train_data,word_to_ix)    # 句子toke，词字典['eu', 'rejects', 'german', 'call', 'to', 'boycott', 'british', 'lamb', '.']]-词典\n",
        "train_output_index = to_index(target_y_train,tag_to_ix)   #每句没词类别，BIO类别典 ['I-ORG', 'O', 'I-MISC', 'O', 'O', 'O', 'I-MISC', 'O', 'O']]-标签【真是】-表典\n",
        "val_input_index = to_index(validation_data,word_to_ix)    # 句子toke，词字典\n",
        "val_output_index = to_index(target_y_validation,tag_to_ix)    #每句没词类别，BIO类别典\n",
        "test_input_index = to_index(test_data,word_to_ix)   # 句子toke，词字典\n",
        "test_output_index = to_index(target_y_test,tag_to_ix)   #每句没词类别，BIO类别典"
      ],
      "execution_count": 7,
      "outputs": []
    },
    {
      "cell_type": "code",
      "metadata": {
        "colab": {
          "base_uri": "https://localhost:8080/"
        },
        "id": "Hv-rteXE5qNV",
        "outputId": "2edc7ab4-7c88-4ecd-87d7-3a78f562fa40"
      },
      "source": [
        "train_data[:2]\n"
      ],
      "execution_count": 45,
      "outputs": [
        {
          "output_type": "execute_result",
          "data": {
            "text/plain": [
              "[['-docstart-'],\n",
              " ['eu', 'rejects', 'german', 'call', 'to', 'boycott', 'british', 'lamb', '.']]"
            ]
          },
          "metadata": {
            "tags": []
          },
          "execution_count": 45
        }
      ]
    },
    {
      "cell_type": "markdown",
      "metadata": {
        "id": "WXEscWBrhjgb"
      },
      "source": [
        "### Model"
      ]
    },
    {
      "cell_type": "code",
      "metadata": {
        "colab": {
          "base_uri": "https://localhost:8080/",
          "height": 35
        },
        "id": "TIdywNKBjBD1",
        "outputId": "c07e78b5-d8f9-4f32-df0d-ce3a5bf5e37a"
      },
      "source": [
        "'''\n",
        "随机数据\n",
        "\n",
        "为CPU中设置种子，生成随机数\n",
        "torch.manual_seed(number)   用的这\n",
        "为特定GPU设置种子，生成随机数\n",
        "torch.cuda.manual_seed(number)\n",
        "为所有GPU设置种子，生成随机数\n",
        "torch.cuda.manual_seed_all()\n",
        "\n",
        "在需要生成随机数据的实验中，每次实验都需要生成数据。设置随机种子是为了确保每次生成固定的随机数，这就使得每次实验结果显示一致了，有利于实验的比较和改进。\n",
        "'''\n",
        "'''tag_to_ix\n",
        "{'<START>': 0,\n",
        " '<STOP>': 1,\n",
        " 'B-LOC': 7,\n",
        " 'B-MISC': 8,\n",
        " 'I-LOC': 6,\n",
        " 'I-MISC': 4,\n",
        " 'I-ORG': 3,\n",
        " 'I-PER': 5,\n",
        " 'O': 2}\n",
        " '''"
      ],
      "execution_count": 8,
      "outputs": [
        {
          "output_type": "execute_result",
          "data": {
            "application/vnd.google.colaboratory.intrinsic+json": {
              "type": "string"
            },
            "text/plain": [
              "\"tag_to_ix\\n{'<START>': 0,\\n '<STOP>': 1,\\n 'B-LOC': 7,\\n 'B-MISC': 8,\\n 'I-LOC': 6,\\n 'I-MISC': 4,\\n 'I-ORG': 3,\\n 'I-PER': 5,\\n 'O': 2}\\n \""
            ]
          },
          "metadata": {
            "tags": []
          },
          "execution_count": 8
        }
      ]
    },
    {
      "cell_type": "code",
      "metadata": {
        "colab": {
          "base_uri": "https://localhost:8080/"
        },
        "id": "lHvCh0aymKwK",
        "outputId": "514d54a6-0be7-4bf2-968f-64c1a83d5bfc"
      },
      "source": [
        "import torch\n",
        "import torch.autograd as autograd\n",
        "import torch.nn as nn\n",
        "import torch.optim as optim\n",
        "\n",
        "torch.manual_seed(1)      #手册"
      ],
      "execution_count": 9,
      "outputs": [
        {
          "output_type": "execute_result",
          "data": {
            "text/plain": [
              "<torch._C.Generator at 0x7fb3a8422a90>"
            ]
          },
          "metadata": {
            "tags": []
          },
          "execution_count": 9
        }
      ]
    },
    {
      "cell_type": "code",
      "metadata": {
        "id": "lfWgfSG-lqv6"
      },
      "source": [
        "device = torch.device(\"cuda\" if torch.cuda.is_available() else \"cpu\")\n",
        "HIDDEN_DIM = 50\n",
        "\n",
        "model = BiLSTM_CRF(len(word_to_ix), tag_to_ix, EMBEDDING_DIM, HIDDEN_DIM).to(device)    #2351, 类别的词典， 50 隐藏原。\n",
        "optimizer = optim.SGD(model.parameters(), lr=0.01, weight_decay=1e-4)"
      ],
      "execution_count": null,
      "outputs": []
    },
    {
      "cell_type": "code",
      "metadata": {
        "colab": {
          "base_uri": "https://localhost:8080/"
        },
        "id": "PwnOXJ3oGKwF",
        "outputId": "fc4ea265-a6c6-48a6-f464-fdd78115f05f"
      },
      "source": [
        "torch.randn(9,9)"
      ],
      "execution_count": 12,
      "outputs": [
        {
          "output_type": "execute_result",
          "data": {
            "text/plain": [
              "tensor([[ 1.1899,  0.8165, -0.9135,  1.3851, -0.8138, -0.9276,  1.1120,  0.6155,\n",
              "          0.6043],\n",
              "        [-0.1034, -0.1512, -2.1021, -0.6200, -1.4782, -1.1334, -0.1010, -0.5603,\n",
              "          1.2858],\n",
              "        [ 0.8168,  0.2053,  0.3051,  0.5357, -0.4312,  0.1573, -0.2334, -0.0135,\n",
              "          1.8606],\n",
              "        [-1.9804,  1.7986,  0.1018,  0.3400, -0.6447, -1.7765,  0.3539,  1.1996,\n",
              "         -0.3030],\n",
              "        [-1.7618,  0.6348, -0.8044, -1.0371, -1.8716,  0.5431,  0.6607,  2.2952,\n",
              "          0.6749],\n",
              "        [ 1.7133, -1.7943, -1.5208, -0.9832,  1.5113,  0.6419,  0.4730, -0.4286,\n",
              "          0.5514],\n",
              "        [-1.5474,  0.7575,  0.1065,  0.2692,  1.3248,  1.7460,  1.8550, -0.7064,\n",
              "          2.5571],\n",
              "        [ 0.7705, -0.2127,  0.5269,  1.6193, -0.9640,  0.1415, -0.1637, -0.3582,\n",
              "         -0.0594],\n",
              "        [-2.4919,  0.2389,  1.3440,  0.1032,  1.1004, -0.3417,  0.9473,  0.6223,\n",
              "         -0.4481]])"
            ]
          },
          "metadata": {
            "tags": []
          },
          "execution_count": 12
        }
      ]
    },
    {
      "cell_type": "code",
      "metadata": {
        "colab": {
          "base_uri": "https://localhost:8080/"
        },
        "id": "wnmhdtdGQW65",
        "outputId": "3f5dd0c5-4554-459c-9625-5ee94b61ed81"
      },
      "source": [
        "A = torch.randn(2, 1, 50 // 2).to(device) # （2，1，25）  #init_hidden\n",
        "A #torch.Size([2, 1, 25])   一维：第一个25 二维25 三维词  一组词又丢进一个list ；\n",
        "B = torch.randn(2, 50 // 2).to(device)   #为什么要用1？，中间再嵌套进一个list\n",
        "B\n",
        "C = torch.randn(2, 1, 50 // 2).to(device),torch.randn(2, 1, 50 // 2).to(device) #hidden = 随机返回两个【2，1，25】\n",
        "C"
      ],
      "execution_count": 13,
      "outputs": [
        {
          "output_type": "execute_result",
          "data": {
            "text/plain": [
              "(tensor([[[-0.7030, -0.8268,  0.1012,  0.1952, -1.1796, -1.4423,  0.0748,\n",
              "            0.3531, -0.0192,  1.1033,  0.5368,  0.9805, -1.1940, -0.4919,\n",
              "            2.2788,  0.4707,  0.1450, -2.3442, -0.4619, -0.3686,  0.3682,\n",
              "            0.4850,  0.2936, -0.4139, -0.3978]],\n",
              " \n",
              "         [[-1.9291,  0.9264,  0.9134, -0.7902, -0.5831, -0.0339, -0.5396,\n",
              "            1.6091, -0.0328,  0.3861,  1.0473, -0.7327, -0.9168, -0.8262,\n",
              "           -0.2221, -1.7949,  0.7299,  0.7806, -2.2049, -1.4975, -0.9023,\n",
              "            0.5935,  0.3314, -1.0592, -0.6280]]]),\n",
              " tensor([[[ 0.0402,  0.4647, -3.3793,  0.9732, -1.6804,  1.3299,  0.1383,\n",
              "            1.0735,  1.3015, -0.6293, -0.0683,  0.6945,  1.2996,  0.4201,\n",
              "            2.4291,  1.3981,  1.5365,  0.9193,  0.3453, -0.5506,  1.3261,\n",
              "            0.5883, -1.2548,  1.3883,  1.1528]],\n",
              " \n",
              "         [[-0.3997,  0.9738,  1.5453,  0.8202, -0.1630, -0.8551, -0.7517,\n",
              "           -1.2308, -1.0655, -0.0639,  0.2609,  1.2374, -1.5462,  0.7172,\n",
              "            0.7770, -0.0097,  0.2604, -0.1120, -1.7404, -0.0340,  0.5267,\n",
              "           -0.0861, -1.6190,  0.7630,  0.2276]]]))"
            ]
          },
          "metadata": {
            "tags": []
          },
          "execution_count": 13
        }
      ]
    },
    {
      "cell_type": "code",
      "metadata": {
        "colab": {
          "base_uri": "https://localhost:8080/"
        },
        "id": "-qJJ3YURRrch",
        "outputId": "02fc8a48-50bc-412a-bdc1-7eeabdbf5e26"
      },
      "source": [
        "D = torch.full((1, len(tag_to_ix)), -10000.).to(device)#tensor([[-10000., -10000., -10000., -10000., -10000., -10000., -10000., -10000., -10000.]])\n",
        "D.shape #torch.Size([1, 9]) torch.full创建全相同的张量"
      ],
      "execution_count": 14,
      "outputs": [
        {
          "output_type": "execute_result",
          "data": {
            "text/plain": [
              "torch.Size([1, 9])"
            ]
          },
          "metadata": {
            "tags": []
          },
          "execution_count": 14
        }
      ]
    },
    {
      "cell_type": "code",
      "metadata": {
        "colab": {
          "base_uri": "https://localhost:8080/"
        },
        "id": "gA047tbcSzTo",
        "outputId": "f5b71274-4b45-442e-8b8b-bc065b8ac79c"
      },
      "source": [
        "tag_to_ix"
      ],
      "execution_count": 15,
      "outputs": [
        {
          "output_type": "execute_result",
          "data": {
            "text/plain": [
              "{'<START>': 0,\n",
              " '<STOP>': 1,\n",
              " 'B-LOC': 7,\n",
              " 'B-MISC': 8,\n",
              " 'I-LOC': 6,\n",
              " 'I-MISC': 4,\n",
              " 'I-ORG': 3,\n",
              " 'I-PER': 5,\n",
              " 'O': 2}"
            ]
          },
          "metadata": {
            "tags": []
          },
          "execution_count": 15
        }
      ]
    },
    {
      "cell_type": "code",
      "metadata": {
        "colab": {
          "base_uri": "https://localhost:8080/"
        },
        "id": "fZY9AmITSvWv",
        "outputId": "378e8f5b-492a-4369-9cf6-c0edc9d1becb"
      },
      "source": [
        "[tag_to_ix[START_TAG]]"
      ],
      "execution_count": 16,
      "outputs": [
        {
          "output_type": "execute_result",
          "data": {
            "text/plain": [
              "[0]"
            ]
          },
          "metadata": {
            "tags": []
          },
          "execution_count": 16
        }
      ]
    },
    {
      "cell_type": "code",
      "metadata": {
        "colab": {
          "base_uri": "https://localhost:8080/"
        },
        "id": "NKz_AWnxSfE1",
        "outputId": "4c1cc32c-60d7-4c7d-a6bd-032fe43a15c9"
      },
      "source": [
        "D[0][[tag_to_ix[START_TAG]]] = 0 # 【取出来】【tensor([-10000.])取出第几个词】\n",
        "D#tensor([[     0., -10000., -10000., -10000., -10000., -10000., -10000., -10000., -10000.]])\n",
        "#forward_var = init_alphas = D"
      ],
      "execution_count": 17,
      "outputs": [
        {
          "output_type": "execute_result",
          "data": {
            "text/plain": [
              "tensor([[     0., -10000., -10000., -10000., -10000., -10000., -10000., -10000.,\n",
              "         -10000.]])"
            ]
          },
          "metadata": {
            "tags": []
          },
          "execution_count": 17
        }
      ]
    },
    {
      "cell_type": "code",
      "metadata": {
        "id": "wgPaPYmPTd4R"
      },
      "source": [
        "for sentence in train_data+validation_data+test_data:\n",
        "  print(sentence)#所有data的sentence\n",
        "#sentence就是sentence"
      ],
      "execution_count": null,
      "outputs": []
    },
    {
      "cell_type": "code",
      "metadata": {
        "id": "OQp8wEXbWl0A",
        "colab": {
          "base_uri": "https://localhost:8080/"
        },
        "outputId": "613cf618-8af5-4233-9639-24b2c84050a0"
      },
      "source": [
        "vocab_size = len(word_to_ix)\n",
        "vocab_size"
      ],
      "execution_count": 19,
      "outputs": [
        {
          "output_type": "execute_result",
          "data": {
            "text/plain": [
              "2351"
            ]
          },
          "metadata": {
            "tags": []
          },
          "execution_count": 19
        }
      ]
    },
    {
      "cell_type": "code",
      "metadata": {
        "colab": {
          "base_uri": "https://localhost:8080/"
        },
        "id": "vx4QQf5UWzpn",
        "outputId": "5ad7d267-9f95-4f82-e424-bc959302edd6"
      },
      "source": [
        "embedding_dim = EMBEDDING_DIM = 25  \n",
        "embedding_dim"
      ],
      "execution_count": 20,
      "outputs": [
        {
          "output_type": "execute_result",
          "data": {
            "text/plain": [
              "25"
            ]
          },
          "metadata": {
            "tags": []
          },
          "execution_count": 20
        }
      ]
    },
    {
      "cell_type": "code",
      "metadata": {
        "colab": {
          "base_uri": "https://localhost:8080/"
        },
        "id": "oTMC8Vb2W-jC",
        "outputId": "07df266b-f9b4-4f62-f8b2-0a664715781e"
      },
      "source": [
        "word_embeds = nn.Embedding(vocab_size, embedding_dim) # 2351，25\n",
        "word_embeds"
      ],
      "execution_count": 21,
      "outputs": [
        {
          "output_type": "execute_result",
          "data": {
            "text/plain": [
              "Embedding(2351, 25)"
            ]
          },
          "metadata": {
            "tags": []
          },
          "execution_count": 21
        }
      ]
    },
    {
      "cell_type": "code",
      "metadata": {
        "colab": {
          "base_uri": "https://localhost:8080/"
        },
        "id": "A5awqjTYXE-s",
        "outputId": "8b06865c-f180-49b2-adee-710ee39f6d83"
      },
      "source": [
        "len(sentence) #71句"
      ],
      "execution_count": 22,
      "outputs": [
        {
          "output_type": "execute_result",
          "data": {
            "text/plain": [
              "71"
            ]
          },
          "metadata": {
            "tags": []
          },
          "execution_count": 22
        }
      ]
    },
    {
      "cell_type": "code",
      "metadata": {
        "id": "yIXREK26XJAu"
      },
      "source": [
        "#word_embeds(sentence).view(len(sentence),1,-1) #TypeError: embedding(): argument 'indices' (position 2) must be Tensor, not list"
      ],
      "execution_count": 23,
      "outputs": []
    },
    {
      "cell_type": "code",
      "metadata": {
        "colab": {
          "base_uri": "https://localhost:8080/"
        },
        "id": "Ls89tecFX1cu",
        "outputId": "48cc4251-4696-4d71-f88b-3565f00ac113"
      },
      "source": [
        "word_embeds"
      ],
      "execution_count": 24,
      "outputs": [
        {
          "output_type": "execute_result",
          "data": {
            "text/plain": [
              "Embedding(2351, 25)"
            ]
          },
          "metadata": {
            "tags": []
          },
          "execution_count": 24
        }
      ]
    },
    {
      "cell_type": "code",
      "metadata": {
        "colab": {
          "base_uri": "https://localhost:8080/",
          "height": 168
        },
        "id": "CoCBr5AXU9Lx",
        "outputId": "43f79041-3912-48eb-ad81-f59bb6610c4d"
      },
      "source": [
        " feats = self._get_lstm_features(sentence)"
      ],
      "execution_count": 25,
      "outputs": [
        {
          "output_type": "error",
          "ename": "NameError",
          "evalue": "ignored",
          "traceback": [
            "\u001b[0;31m---------------------------------------------------------------------------\u001b[0m",
            "\u001b[0;31mNameError\u001b[0m                                 Traceback (most recent call last)",
            "\u001b[0;32m<ipython-input-25-9a5aaf11f77a>\u001b[0m in \u001b[0;36m<module>\u001b[0;34m()\u001b[0m\n\u001b[0;32m----> 1\u001b[0;31m \u001b[0mfeats\u001b[0m \u001b[0;34m=\u001b[0m \u001b[0mself\u001b[0m\u001b[0;34m.\u001b[0m\u001b[0m_get_lstm_features\u001b[0m\u001b[0;34m(\u001b[0m\u001b[0msentence\u001b[0m\u001b[0;34m)\u001b[0m\u001b[0;34m\u001b[0m\u001b[0;34m\u001b[0m\u001b[0m\n\u001b[0m",
            "\u001b[0;31mNameError\u001b[0m: name 'self' is not defined"
          ]
        }
      ]
    },
    {
      "cell_type": "code",
      "metadata": {
        "id": "PjAFslL5TZ2y"
      },
      "source": [
        "# word_embeds = nn.Embedding(vocab_size, embedding_dim) # 2351，25\n",
        "# #word_embeds = word_embeds.weight.data.copy_(torch.from_numpy(embedding_matrix))\n",
        "# embeds = word_embeds(sentence).view(len(sentence), 1, -1) #71\n"
      ],
      "execution_count": null,
      "outputs": []
    },
    {
      "cell_type": "code",
      "metadata": {
        "id": "HyJ1PnlKWxx1"
      },
      "source": [
        ""
      ],
      "execution_count": null,
      "outputs": []
    },
    {
      "cell_type": "code",
      "metadata": {
        "id": "Yu10BzANkjc0"
      },
      "source": [
        "\n"
      ],
      "execution_count": null,
      "outputs": []
    },
    {
      "cell_type": "code",
      "metadata": {
        "id": "akKCDhXZkkrm"
      },
      "source": [
        ""
      ],
      "execution_count": null,
      "outputs": []
    },
    {
      "cell_type": "code",
      "metadata": {
        "id": "a5AgRWakkfmT"
      },
      "source": [
        "import torch\n",
        "import torch.autograd as autograd\n",
        "import torch.nn as nn\n",
        "import torch.optim as optim\n",
        "\n",
        "torch.manual_seed(1)      #手册\n",
        "#最大值，最大分数\n",
        "def argmax(vec):      \n",
        "    # return the argmax as a python int# 将argmax作为一个Python int返回\n",
        "    _, idx = torch.max(vec, 1)\n",
        "    return idx.item()     #item() 方法是用来将只有一个元素的numpy数组或tensor张量转化为标量的方法\n",
        "                          #Python 字典 items() 函数以列表返回可遍历的(键, 值) 元组数组。\n",
        "\n",
        "\n",
        "# Compute log sum exp in a numerically stable way for the forward algorithm 以数字上稳定的方式计算正向算法的对数和exp \n",
        "#log_sum_exp(next_tag_var).view(1))\n",
        "def log_sum_exp(vec):     #vec 可能= forward_var + trans_score + emit_score\n",
        "    max_score = vec[0, argmax(vec)]\n",
        "    max_score_broadcast = max_score.view(1, -1).expand(1, vec.size()[1])\n",
        "    return max_score + \\\n",
        "        torch.log(torch.sum(torch.exp(vec - max_score_broadcast)))\n",
        "\n",
        "class BiLSTM_CRF(nn.Module):\n",
        "\n",
        "    def __init__(self, vocab_size, tag_to_ix, embedding_dim, hidden_dim):    #vocab_size = 2351；字典里有多少词。类别词典 25最长embedding-长度（每个词）；hidden隐藏元50\n",
        "        super(BiLSTM_CRF, self).__init__()\n",
        "        self.embedding_dim = embedding_dim\n",
        "        self.hidden_dim = hidden_dim\n",
        "        self.vocab_size = vocab_size\n",
        "        self.tag_to_ix = tag_to_ix\n",
        "        self.tagset_size = len(tag_to_ix)     #传参了一波 9\n",
        "\n",
        "        self.word_embeds = nn.Embedding(vocab_size, embedding_dim)    #2351，25\n",
        "\n",
        "        \"\"\"Here we use the embedding matrix as the initial weights of nn.Embedding\"\"\"\"\"#这里我们使用嵌入矩阵作为nn.Embedding的初始权重\"\"\n",
        "        self.word_embeds.weight.data.copy_(torch.from_numpy(embedding_matrix))\n",
        "        \n",
        "        self.lstm = nn.LSTM(embedding_dim, hidden_dim // 2, num_layers=1, bidirectional=True)#\" // \" 表示整数除法  25;50//2 ==25\n",
        "\n",
        "        # Maps the output of the LSTM into tag space. 将LSTM的输出映射到标签空间。\n",
        "        self.hidden2tag = nn.Linear(hidden_dim, self.tagset_size)   # 50,9\n",
        "\n",
        "        # Matrix of transition parameters.  Entry i,j is the score of  过渡参数的矩阵。 第i,j项是\n",
        "        # transitioning *to* i *from* j. 从*J过渡到*I。\n",
        "        self.transitions = nn.Parameter(torch.randn(self.tagset_size, self.tagset_size)) #参数 （9，9）随机个9句9词；转化; 参数层\n",
        "\n",
        "        # These two statements enforce the constraint that we never transfer # 这两个声明执行了一个约束条件，即我们永远不会转移\n",
        "        # to the start tag and we never transfer from the stop tag  到开始标签，而我们从来没有从停止标签转移过\n",
        "        self.transitions.data[tag_to_ix[START_TAG], :] = -10000\n",
        "        self.transitions.data[:, tag_to_ix[STOP_TAG]] = -10000\n",
        "\n",
        "        self.hidden = self.init_hidden()\n",
        "#【3】\n",
        "    def init_hidden(self):  ##hidden = 随机返回两个【2，1，25】 A   你可以随机初始化转移矩阵的分数。这些分数将随着训练的迭代过程被更新，换句话说，CRF层可以自己学到这些约束条件。\n",
        "        return (torch.randn(2, 1, self.hidden_dim // 2).to(device),\n",
        "                torch.randn(2, 1, self.hidden_dim // 2).to(device))\n",
        "\n",
        "    def _forward_alg(self, feats):\n",
        "        # Do the forward algorithm to compute the partition function # 做正向算法来计算分区函数\n",
        "        init_alphas = torch.full((1, self.tagset_size), -10000.).to(device)   #torch.full创建全相同的张量 [1,9]\n",
        "        # START_TAG has all of the score. START_TAG有所有的分数。\n",
        "        init_alphas[0][self.tag_to_ix[START_TAG]] = 0.\n",
        "\n",
        "        # Wrap in a variable so that we will get automatic backprop # 用一个变量包住wrap，这样我们就能得到自动的反推。\n",
        "        forward_var = init_alphas\n",
        "\n",
        "        # Iterate through the sentence   遍历该句子\n",
        "\n",
        "\n",
        "        for feat in feats:\n",
        "            alphas_t = []  # The forward tensors at this timestep\n",
        "            for next_tag in range(self.tagset_size):  # tageset_size = len(tage_to_ix)\n",
        "                # broadcast the emission score: it is the same regardless of\n",
        "                # the previous tag\n",
        "                emit_score = feat[next_tag].view(\n",
        "                    1, -1).expand(1, self.tagset_size)\n",
        "                # the ith entry of trans_score is the score of transitioning to\n",
        "                # next_tag from i\n",
        "                trans_score = self.transitions[next_tag].view(1, -1)\n",
        "                # The ith entry of next_tag_var is the value for the\n",
        "                # edge (i -> next_tag) before we do log-sum-exp\n",
        "                next_tag_var = forward_var + trans_score + emit_score\n",
        "                # The forward variable for this tag is log-sum-exp of all the\n",
        "                # scores.\n",
        "                alphas_t.append(log_sum_exp(next_tag_var).view(1))\n",
        "            forward_var = torch.cat(alphas_t).view(1, -1)\n",
        "        terminal_var = forward_var + self.transitions[self.tag_to_ix[STOP_TAG]]\n",
        "        alpha = log_sum_exp(terminal_var)\n",
        "        return alpha\n",
        "\n",
        "#【2】\n",
        "    def _get_lstm_features(self, sentence):\n",
        "        self.hidden = self.init_hidden()\n",
        "        embeds = self.word_embeds(sentence).view(len(sentence), 1, -1)\n",
        "        lstm_out, self.hidden = self.lstm(embeds, self.hidden)\n",
        "        lstm_out = lstm_out.view(len(sentence), self.hidden_dim)\n",
        "        lstm_feats = self.hidden2tag(lstm_out)\n",
        "        return lstm_feats\n",
        "\n",
        "    def _score_sentence(self, feats, tags):\n",
        "        # Gives the score of a provided tag sequence\n",
        "        score = torch.zeros(1).to(device)\n",
        "        tags = torch.cat([torch.tensor([self.tag_to_ix[START_TAG]], dtype=torch.long).to(device), tags])\n",
        "        for i, feat in enumerate(feats):\n",
        "            score = score + \\\n",
        "                self.transitions[tags[i + 1], tags[i]] + feat[tags[i + 1]]\n",
        "        score = score + self.transitions[self.tag_to_ix[STOP_TAG], tags[-1]]\n",
        "        return score\n",
        "\n",
        "    def _viterbi_decode(self, feats):\n",
        "        backpointers = []\n",
        "\n",
        "        # Initialize the viterbi variables in log space\n",
        "        init_vvars = torch.full((1, self.tagset_size), -10000.).to(device)\n",
        "        init_vvars[0][self.tag_to_ix[START_TAG]] = 0\n",
        "\n",
        "        # forward_var at step i holds the viterbi variables for step i-1\n",
        "        forward_var = init_vvars\n",
        "        for feat in feats:\n",
        "            bptrs_t = []  # holds the backpointers for this step\n",
        "            viterbivars_t = []  # holds the viterbi variables for this step\n",
        "\n",
        "            for next_tag in range(self.tagset_size):\n",
        "                # next_tag_var[i] holds the viterbi variable for tag i at the\n",
        "                # previous step, plus the score of transitioning\n",
        "                # from tag i to next_tag.\n",
        "                # We don't include the emission scores here because the max\n",
        "                # does not depend on them (we add them in below)\n",
        "                next_tag_var = forward_var + self.transitions[next_tag]\n",
        "                best_tag_id = argmax(next_tag_var)\n",
        "                bptrs_t.append(best_tag_id)\n",
        "                viterbivars_t.append(next_tag_var[0][best_tag_id].view(1))\n",
        "            # Now add in the emission scores, and assign forward_var to the set\n",
        "            # of viterbi variables we just computed\n",
        "            forward_var = (torch.cat(viterbivars_t) + feat).view(1, -1)\n",
        "            backpointers.append(bptrs_t)\n",
        "\n",
        "        # Transition to STOP_TAG\n",
        "        terminal_var = forward_var + self.transitions[self.tag_to_ix[STOP_TAG]]\n",
        "        best_tag_id = argmax(terminal_var)\n",
        "        path_score = terminal_var[0][best_tag_id]\n",
        "\n",
        "        # Follow the back pointers to decode the best path.\n",
        "        best_path = [best_tag_id]\n",
        "        for bptrs_t in reversed(backpointers):\n",
        "            best_tag_id = bptrs_t[best_tag_id]\n",
        "            best_path.append(best_tag_id)\n",
        "        # Pop off the start tag (we dont want to return that to the caller)\n",
        "        start = best_path.pop()\n",
        "        assert start == self.tag_to_ix[START_TAG]  # Sanity check\n",
        "        best_path.reverse()\n",
        "        return path_score, best_path\n",
        "\n",
        "#开始定义的feat？【1】\n",
        "    def neg_log_likelihood(self, sentence, tags):\n",
        "        feats = self._get_lstm_features(sentence)\n",
        "        forward_score = self._forward_alg(feats)\n",
        "        gold_score = self._score_sentence(feats, tags)\n",
        "        return forward_score - gold_score\n",
        "\n",
        "    def forward(self, sentence):  # dont confuse this with _forward_alg above.\n",
        "        # Get the emission scores from the BiLSTM\n",
        "        lstm_feats = self._get_lstm_features(sentence)\n",
        "\n",
        "        # Find the best path, given the features.\n",
        "        score, tag_seq = self._viterbi_decode(lstm_feats)\n",
        "        return score, tag_seq"
      ],
      "execution_count": 33,
      "outputs": []
    },
    {
      "cell_type": "code",
      "metadata": {
        "id": "r8IsDRHLUsgs"
      },
      "source": [
        ""
      ],
      "execution_count": null,
      "outputs": []
    },
    {
      "cell_type": "markdown",
      "metadata": {
        "id": "IUNHEV1kiDKt"
      },
      "source": [
        "#### Function for accuracy [Please Complete this part]"
      ]
    },
    {
      "cell_type": "markdown",
      "metadata": {
        "id": "0Moqs-zwboIn"
      },
      "source": [
        "Please complete the *cal_acc* function that generates the model predictions using the input data and calculates the accuracy by comparing the model predictions with the ground truth labels. You can refer to the [Train the model] section regarding what the inputs and outputs are and how they will be used.\n",
        "\n",
        "**Hint**: You are going to test the \"model\" using \"input_index\"(whose shape is (num_samples, seq_length)), and you are going to return three variables:\n",
        "- **predicted**: This should be a list, and each item in the list should be the predicted NER label for a word. Suppose you have two sentences, sentence 1 has 8 words and sentence 2 has 6 words. This list should have 14(=8+6) items.\n",
        "- **ground_truth**: This should also be a list, and each item in the list should be the actual NER label for a word, which can be easily gotten from \"output_index\". Suppose you have two sentences, sentence 1 has 8 words and sentence 2 has 6 words. This list should have 14(=8+6) items.\n",
        "- **accuracy**: You are going to use \"predicted\" and \"ground_truth\" to calculate the accuracy.\n",
        "\n",
        "\n",
        "请完成cal_acc函数，该函数使用输入数据生成模型预测，并通过比较模型预测和地面真实标签来计算准确性。关于输入和输出是什么以及如何使用它们，你可以参考[训练模型]部分。\n",
        "\n",
        "提示：你将使用 \"input_index\"（其形状为（num_samples，seq_length））来测试 \"模型\"，你将返回三个变量。\n",
        "\n",
        "预测的。这应该是一个列表，列表中的每一项都应该是一个词的预测的NER标签。假设你有两个句子，句子1有8个词，句子2有6个词。这个列表应该有14（=8+6）项。\n",
        "ground_truth：这也应该是一个列表，列表中的每一项都应该是一个词的实际NER标签，这可以很容易从 \"output_index \"中得到。假设你有两个句子，句子1有8个词，句子2有6个词。这个列表应该有14（=8+6）项。\n",
        "准确性：你要用 \"预测 \"和 \"ground_truth \"来计算准确性。\n"
      ]
    },
    {
      "cell_type": "code",
      "metadata": {
        "id": "T6byPUkI5hEL",
        "colab": {
          "base_uri": "https://localhost:8080/",
          "height": 236
        },
        "outputId": "2c182277-9d74-42ad-df87-2daaf9af4563"
      },
      "source": [
        "# Check predictions before training\n",
        "with torch.no_grad():\n",
        "    precheck_sent = prepare_sequence(training_data[0][0], word_to_ix)\n",
        "    precheck_tags = torch.tensor([tag_to_ix[t] for t in training_data[0][1]], dtype=torch.long)\n",
        "    print(model(precheck_sent))\n",
        "\n",
        " \n",
        "# Check predictions after training\n",
        "with torch.no_grad():\n",
        "    precheck_sent = prepare_sequence(training_data[0][0], word_to_ix)\n",
        "    print(model(precheck_sent))\n",
        "# We got it\n",
        "#https://blog.csdn.net/kyle1314608/article/details/100589398?ops_request_misc=&request_id=&biz_id=102&utm_term=python%20Bi-LSTM%20with%20CRF&utm_medium=distribute.pc_search_result.none-task-blog-2~all~sobaiduweb~default-8-.first_rank_v2_pc_rank_v29&spm=1018.2226.3001.4187"
      ],
      "execution_count": 34,
      "outputs": [
        {
          "output_type": "error",
          "ename": "NameError",
          "evalue": "ignored",
          "traceback": [
            "\u001b[0;31m---------------------------------------------------------------------------\u001b[0m",
            "\u001b[0;31mNameError\u001b[0m                                 Traceback (most recent call last)",
            "\u001b[0;32m<ipython-input-34-844881f687c0>\u001b[0m in \u001b[0;36m<module>\u001b[0;34m()\u001b[0m\n\u001b[1;32m      1\u001b[0m \u001b[0;31m# Check predictions before training\u001b[0m\u001b[0;34m\u001b[0m\u001b[0;34m\u001b[0m\u001b[0;34m\u001b[0m\u001b[0m\n\u001b[1;32m      2\u001b[0m \u001b[0;32mwith\u001b[0m \u001b[0mtorch\u001b[0m\u001b[0;34m.\u001b[0m\u001b[0mno_grad\u001b[0m\u001b[0;34m(\u001b[0m\u001b[0;34m)\u001b[0m\u001b[0;34m:\u001b[0m\u001b[0;34m\u001b[0m\u001b[0;34m\u001b[0m\u001b[0m\n\u001b[0;32m----> 3\u001b[0;31m     \u001b[0mprecheck_sent\u001b[0m \u001b[0;34m=\u001b[0m \u001b[0mprepare_sequence\u001b[0m\u001b[0;34m(\u001b[0m\u001b[0mtraining_data\u001b[0m\u001b[0;34m[\u001b[0m\u001b[0;36m0\u001b[0m\u001b[0;34m]\u001b[0m\u001b[0;34m[\u001b[0m\u001b[0;36m0\u001b[0m\u001b[0;34m]\u001b[0m\u001b[0;34m,\u001b[0m \u001b[0mword_to_ix\u001b[0m\u001b[0;34m)\u001b[0m\u001b[0;34m\u001b[0m\u001b[0;34m\u001b[0m\u001b[0m\n\u001b[0m\u001b[1;32m      4\u001b[0m     \u001b[0mprecheck_tags\u001b[0m \u001b[0;34m=\u001b[0m \u001b[0mtorch\u001b[0m\u001b[0;34m.\u001b[0m\u001b[0mtensor\u001b[0m\u001b[0;34m(\u001b[0m\u001b[0;34m[\u001b[0m\u001b[0mtag_to_ix\u001b[0m\u001b[0;34m[\u001b[0m\u001b[0mt\u001b[0m\u001b[0;34m]\u001b[0m \u001b[0;32mfor\u001b[0m \u001b[0mt\u001b[0m \u001b[0;32min\u001b[0m \u001b[0mtraining_data\u001b[0m\u001b[0;34m[\u001b[0m\u001b[0;36m0\u001b[0m\u001b[0;34m]\u001b[0m\u001b[0;34m[\u001b[0m\u001b[0;36m1\u001b[0m\u001b[0;34m]\u001b[0m\u001b[0;34m]\u001b[0m\u001b[0;34m,\u001b[0m \u001b[0mdtype\u001b[0m\u001b[0;34m=\u001b[0m\u001b[0mtorch\u001b[0m\u001b[0;34m.\u001b[0m\u001b[0mlong\u001b[0m\u001b[0;34m)\u001b[0m\u001b[0;34m\u001b[0m\u001b[0;34m\u001b[0m\u001b[0m\n\u001b[1;32m      5\u001b[0m     \u001b[0mprint\u001b[0m\u001b[0;34m(\u001b[0m\u001b[0mmodel\u001b[0m\u001b[0;34m(\u001b[0m\u001b[0mprecheck_sent\u001b[0m\u001b[0;34m)\u001b[0m\u001b[0;34m)\u001b[0m\u001b[0;34m\u001b[0m\u001b[0;34m\u001b[0m\u001b[0m\n",
            "\u001b[0;31mNameError\u001b[0m: name 'prepare_sequence' is not defined"
          ]
        }
      ]
    },
    {
      "cell_type": "code",
      "metadata": {
        "id": "bJmu0oSsjLBm"
      },
      "source": [
        "import numpy as np\n",
        "def cal_acc(model, input_index, output_index):        #ind词典，indBIO\n",
        "\n",
        "    return predicted, ground_truth, accuracy\n",
        "\n",
        "#cal_acc(model,train_input_index,train_output_index)\n",
        "#print(\"Epoch:%d, Training loss: %.2f, train acc: %.4f, val loss: %.2f, val acc: %.4f, time: %.2fs\" %\n",
        "#(epoch+1, train_loss,train_acc, val_loss, val_acc, (time2-time1).total_seconds()))\n",
        "#y_pred, y_true, _ = cal_acc(model,test_input_index,test_output_index)\n",
        "# model(input_sequence) 那样拿 prediction吗？ 还是用另外的function"
      ],
      "execution_count": null,
      "outputs": []
    },
    {
      "cell_type": "code",
      "metadata": {
        "id": "VfeaYGjV4V2y"
      },
      "source": [
        "print(train_input_index[:2])\n",
        "print(train_output_index[:2])\n",
        "print(test_input_index[:2])\n",
        "print(test_output_index[:2])\n",
        "print(model(input_sequence))"
      ],
      "execution_count": null,
      "outputs": []
    },
    {
      "cell_type": "markdown",
      "metadata": {
        "id": "_82UaXEOhoQQ"
      },
      "source": [
        "Initialising the model 初始化模式"
      ]
    },
    {
      "cell_type": "code",
      "metadata": {
        "id": "NyuzZ_et6FD7"
      },
      "source": [
        "device = torch.device(\"cuda\" if torch.cuda.is_available() else \"cpu\")\n",
        "HIDDEN_DIM = 50\n",
        "\n",
        "model = BiLSTM_CRF(len(word_to_ix), tag_to_ix, EMBEDDING_DIM, HIDDEN_DIM).to(device)\n",
        "optimizer = optim.SGD(model.parameters(), lr=0.01, weight_decay=1e-4)"
      ],
      "execution_count": 57,
      "outputs": []
    },
    {
      "cell_type": "markdown",
      "metadata": {
        "id": "u9UiokVOjPUn"
      },
      "source": [
        "#### Train the model"
      ]
    },
    {
      "cell_type": "code",
      "metadata": {
        "id": "a0CMFVSwlLru"
      },
      "source": [
        "\"\"\"Each epoch will take about 1-2 minutes\"\"\"\n",
        "\n",
        "import datetime\n",
        "\n",
        "for epoch in range(20):  \n",
        "    time1 = datetime.datetime.now()\n",
        "    train_loss = 0\n",
        "\n",
        "    model.train()\n",
        "    for i, idxs in enumerate(train_input_index):\n",
        "        tags_index = train_output_index[i]\n",
        "\n",
        "        # Step 1. Remember that Pytorch accumulates gradients.. 记住，Pytorch会积累梯度。\n",
        "        # We need to clear them out before each instance我们需要在每个实例之前将它们清除掉\n",
        "        model.zero_grad()\n",
        "\n",
        "        # Step 2. Get our inputs ready for the network, that is,第二步。让我们的输入为网络做好准备，也就是说。\n",
        "        # turn them into Tensors of word indices.把它们变成词索引的张量。\n",
        "        sentence_in = torch.tensor(idxs, dtype=torch.long).to(device)\n",
        "        targets = torch.tensor(tags_index, dtype=torch.long).to(device)\n",
        "\n",
        "        # Step 3. Run our forward pass.第三步。运行我们的正向传球。\n",
        "        loss = model.neg_log_likelihood(sentence_in, targets)\n",
        "\n",
        "        # Step 4. Compute the loss, gradients, and update the parameters by第四步。计算损失、梯度，并通过以下方式更新参数\n",
        "        # calling optimizer.step()\n",
        "        loss.backward()\n",
        "        optimizer.step()\n",
        "\n",
        "        train_loss+=loss.item()\n",
        "\n",
        "    model.eval()\n",
        "    # Call the cal_acc functions you implemented as required  #根据需要调用你实现的cal_acc函数\n",
        "    _, _, train_acc = cal_acc(model,train_input_index,train_output_index) #predicted, ground_truth, accuracy\n",
        "    _, _, val_acc = cal_acc(model,val_input_index,val_output_index)\n",
        "\n",
        "    val_loss = 0\n",
        "    for i, idxs in enumerate(val_input_index):      #i列表中的那个位置 idxs：i位置的那句话的词典inde  1874, 636, 1875, 210, 775, 154, 382, 117, 1876, 1798, 9]\n",
        "        tags_index = val_output_index[i]      #IBO  tags_index 第i+1句话的IBO[2, 2, 3, 2, 2, 2, 2, 2, 2, 2, 2]\n",
        "        sentence_in = torch.tensor(idxs, dtype=torch.long).to(device)   #sentence_in == 句词典index变tensor\n",
        "        targets = torch.tensor(tags_index, dtype=torch.long).to(device) #targets == IBO 同一句话的 index 变tensor\n",
        "        loss = model.neg_log_likelihood(sentence_in, targets) #model = BiLSTM_CRF(len(word_to_ix), tag_to_ix, EMBEDDING_DIM, HIDDEN_DIM).to(device)\n",
        "                                                              #loss = model.neg_log_likelihood(sentence_in, targets)\n",
        "        val_loss+=loss.item() \n",
        "    time2 = datetime.datetime.now()\n",
        "\n",
        "    print(\"Epoch:%d, Training loss: %.2f, train acc: %.4f, val loss: %.2f, val acc: %.4f, time: %.2fs\" %(epoch+1, train_loss,train_acc, val_loss, val_acc, (time2-time1).total_seconds()))\n",
        "\n",
        "# The log below is the sample output for this section"
      ],
      "execution_count": null,
      "outputs": []
    },
    {
      "cell_type": "code",
      "metadata": {
        "colab": {
          "base_uri": "https://localhost:8080/"
        },
        "id": "B0Vx-9Ss8_DL",
        "outputId": "925f9378-9669-422f-efd2-80b135318991"
      },
      "source": [
        "i #2\n",
        "val_output_index[2] #第三句话的BIO-ind[6, 2]\n",
        "targets#tensor([6, 2])\n",
        "sentence_in #tensor([ 261, 1877])\n",
        "idxs  #[261, 1877] i这句话，第三句话对应的词典ind"
      ],
      "execution_count": 74,
      "outputs": [
        {
          "output_type": "execute_result",
          "data": {
            "text/plain": [
              "[261, 1877]"
            ]
          },
          "metadata": {
            "tags": []
          },
          "execution_count": 74
        }
      ]
    },
    {
      "cell_type": "code",
      "metadata": {
        "colab": {
          "base_uri": "https://localhost:8080/"
        },
        "id": "ohr-hgQ-AgCs",
        "outputId": "36a3089b-43f5-4c4d-fe10-ffde9004d9f6"
      },
      "source": [
        "WE = nn.Embedding(2351,25)\n",
        "WE\n",
        "WE.weight.data.copy_(torch.from_numpy(embedding_matrix))\n",
        "'''\n",
        "tensor([[ 0.0000,  0.0000,  0.0000,  ...,  0.0000,  0.0000,  0.0000],\n",
        "        [ 2.0746, -0.8808,  0.1165,  ...,  0.6536,  1.8316,  0.3688],\n",
        "        [-0.1466,  0.4179, -0.8814,  ...,  0.2551, -1.1234, -0.9320],\n",
        "        ...,\n",
        "        [ 0.0000,  0.0000,  0.0000,  ...,  0.0000,  0.0000,  0.0000],\n",
        "        [ 0.0000,  0.0000,  0.0000,  ...,  0.0000,  0.0000,  0.0000],\n",
        "        [ 0.0000,  0.0000,  0.0000,  ...,  0.0000,  0.0000,  0.0000]])\n",
        "\n",
        "'''\n",
        "WE(sentence_in)\n",
        "'''\n",
        "tensor([[-1.0719e+00, -1.7373e-01,  2.5545e-01, -1.5967e+00, -6.6160e-01,\n",
        "         -7.0777e-02,  7.8288e-01, -6.3708e-02,  5.3580e-01, -3.5518e-03,\n",
        "          1.6287e-01,  4.5497e-02, -3.8279e+00,  6.5761e-01,  7.5505e-01,\n",
        "         -4.8099e-01,  1.1825e-01, -4.5508e-01, -6.5654e-01,  3.7498e-02,\n",
        "         -9.6969e-01, -9.8772e-01, -7.4493e-01, -1.1787e+00,  3.1325e-01],\n",
        "        [ 0.0000e+00,  0.0000e+00,  0.0000e+00,  0.0000e+00,  0.0000e+00,\n",
        "          0.0000e+00,  0.0000e+00,  0.0000e+00,  0.0000e+00,  0.0000e+00,\n",
        "          0.0000e+00,  0.0000e+00,  0.0000e+00,  0.0000e+00,  0.0000e+00,\n",
        "          0.0000e+00,  0.0000e+00,  0.0000e+00,  0.0000e+00,  0.0000e+00,\n",
        "          0.0000e+00,  0.0000e+00,  0.0000e+00,  0.0000e+00,  0.0000e+00]],\n",
        "       grad_fn=<EmbeddingBackward>)\n",
        "'''\n",
        "WE(sentence_in).view(len(sentence_in),1,-1)   #多加了个列表分的更开了\n",
        "'''\n",
        "tensor([[[-1.0719e+00, -1.7373e-01,  2.5545e-01, -1.5967e+00, -6.6160e-01,\n",
        "          -7.0777e-02,  7.8288e-01, -6.3708e-02,  5.3580e-01, -3.5518e-03,\n",
        "           1.6287e-01,  4.5497e-02, -3.8279e+00,  6.5761e-01,  7.5505e-01,\n",
        "          -4.8099e-01,  1.1825e-01, -4.5508e-01, -6.5654e-01,  3.7498e-02,\n",
        "          -9.6969e-01, -9.8772e-01, -7.4493e-01, -1.1787e+00,  3.1325e-01]],\n",
        "\n",
        "        [[ 0.0000e+00,  0.0000e+00,  0.0000e+00,  0.0000e+00,  0.0000e+00,\n",
        "           0.0000e+00,  0.0000e+00,  0.0000e+00,  0.0000e+00,  0.0000e+00,\n",
        "           0.0000e+00,  0.0000e+00,  0.0000e+00,  0.0000e+00,  0.0000e+00,\n",
        "           0.0000e+00,  0.0000e+00,  0.0000e+00,  0.0000e+00,  0.0000e+00,\n",
        "           0.0000e+00,  0.0000e+00,  0.0000e+00,  0.0000e+00,  0.0000e+00]]],\n",
        "       grad_fn=<ViewBackward>)\n",
        "\n",
        "'''\n",
        "E = WE(sentence_in).view(len(sentence_in),1,-1)  \n",
        "hidden_dim = 50\n",
        "init_hidden =(torch.randn(2, 1, hidden_dim // 2).to(device), torch.randn(2, 1, hidden_dim // 2).to(device))\n",
        "init_hidden\n",
        "'''\n",
        "(tensor([[[-1.1082, -1.0583,  1.3856, -0.6676,  0.1075, -0.3914, -0.7200,\n",
        "            0.0503,  0.1023, -0.3310,  1.5298,  1.5351, -0.8323, -0.7189,\n",
        "           -0.4655, -1.0586, -0.1997,  0.2613,  0.0770,  1.2150, -0.0053,\n",
        "           -1.7488,  0.2876, -0.3980, -0.5789]],\n",
        " \n",
        "         [[ 0.3043, -1.4290,  0.6316,  2.0706,  0.7172, -0.2266,  0.4260,\n",
        "            0.0084, -0.2787, -2.6717,  0.6972, -0.1576,  0.6700,  1.1486,\n",
        "           -0.4554, -0.7561,  1.5834,  1.2185,  0.2389, -0.2898, -0.1289,\n",
        "           -2.2778, -0.5271,  1.5024,  0.9961]]]),\n",
        " tensor([[[ 1.0689,  0.5610,  0.4563, -0.8108, -0.0927,  0.6166,  0.3964,\n",
        "           -0.1398,  0.9597,  0.4275,  1.3235, -1.0400,  0.9883,  1.4485,\n",
        "           -0.1495,  0.0184,  0.9127, -0.5568,  1.1074,  0.5929, -0.1807,\n",
        "           -2.0641,  0.6450,  2.2977, -0.0554]],\n",
        " \n",
        "         [[ 0.9453,  0.7998, -1.6117, -1.5870, -1.7456,  0.9274,  0.6405,\n",
        "           -0.9702, -0.2297,  0.9321,  0.6549,  0.5281, -0.1501, -1.1164,\n",
        "           -0.2656,  0.7820, -0.0968, -0.3955,  0.6723, -1.0378, -0.3701,\n",
        "            1.7002,  1.0611,  1.0643,  0.9612]]]))\n",
        "'''\n",
        "L = nn.LSTM(embedding_dim, hidden_dim//2,num_layers=1,bidirectional = True)#LSTM(25, 25, bidirectional=True)\n",
        "l = L(E,init_hidden)\n",
        "'''\n",
        "(tensor([[[-0.0646, -0.1327,  0.0193, -0.1511,  0.1718, -0.0685, -0.0584,\n",
        "           -0.1817, -0.1416,  0.0922,  0.4620,  0.3164,  0.1967, -0.3295,\n",
        "            0.1340, -0.1260, -0.0970, -0.1099, -0.0873,  0.1164,  0.1626,\n",
        "           -0.2454,  0.2964,  0.2739, -0.1617,  0.0238,  0.0062,  0.4310,\n",
        "            0.3547,  0.0807,  0.0966, -0.1651, -0.1579,  0.0797,  0.3539,\n",
        "            0.3701,  0.0867,  0.0705, -0.0280,  0.0007, -0.0985,  0.2265,\n",
        "            0.2891, -0.2180,  0.5551, -0.0597, -0.0858,  0.0568, -0.3313,\n",
        "            0.0228]],\n",
        " \n",
        "         [[-0.0594, -0.0521, -0.0046, -0.1330, -0.0090, -0.0741, -0.0045,\n",
        "           -0.0755,  0.0303,  0.1045,  0.3075,  0.1073,  0.1872, -0.1658,\n",
        "            0.0174, -0.2329, -0.0242, -0.0719, -0.2000,  0.0708,  0.2830,\n",
        "           -0.1107,  0.1121,  0.1222, -0.1422,  0.2930,  0.1388,  0.2868,\n",
        "            0.1614, -0.0840,  0.0517, -0.2932, -0.3330,  0.3830,  0.4390,\n",
        "            0.2243,  0.1181,  0.2130, -0.0344,  0.0232, -0.1028,  0.2307,\n",
        "            0.2420, -0.0295,  0.2752, -0.3047,  0.0915,  0.0454, -0.3014,\n",
        "           -0.0280]]], grad_fn=<CatBackward>),\n",
        " (tensor([[[-0.0594, -0.0521, -0.0046, -0.1330, -0.0090, -0.0741, -0.0045,\n",
        "            -0.0755,  0.0303,  0.1045,  0.3075,  0.1073,  0.1872, -0.1658,\n",
        "             0.0174, -0.2329, -0.0242, -0.0719, -0.2000,  0.0708,  0.2830,\n",
        "            -0.1107,  0.1121,  0.1222, -0.1422]],\n",
        "  \n",
        "          [[ 0.0238,  0.0062,  0.4310,  0.3547,  0.0807,  0.0966, -0.1651,\n",
        "            -0.1579,  0.0797,  0.3539,  0.3701,  0.0867,  0.0705, -0.0280,\n",
        "             0.0007, -0.0985,  0.2265,  0.2891, -0.2180,  0.5551, -0.0597,\n",
        "            -0.0858,  0.0568, -0.3313,  0.0228]]], grad_fn=<StackBackward>),\n",
        "  tensor([[[-0.1058, -0.1150, -0.0085, -0.2636, -0.0178, -0.1608, -0.0088,\n",
        "            -0.1464,  0.0640,  0.2182,  0.5987,  0.2187,  0.3911, -0.3513,\n",
        "             0.0315, -0.5887, -0.0475, -0.1306, -0.4684,  0.1195,  0.6769,\n",
        "            -0.2358,  0.2193,  0.2339, -0.2991]],\n",
        "  \n",
        "          [[ 0.0421,  0.0108,  0.6477,  0.6498,  0.1562,  0.2464, -0.3347,\n",
        "            -0.9797,  0.1530,  0.6015,  0.5689,  0.2587,  0.3788, -0.0955,\n",
        "             0.0014, -0.2242,  0.3216,  0.4200, -0.4313,  0.9979, -0.1057,\n",
        "            -0.2169,  0.0945, -0.7783,  0.0402]]], grad_fn=<StackBackward>)))\n",
        "'''\n",
        "O,H = l\n",
        "O\n",
        "'''\n",
        "tensor([[[ 0.1362,  0.1090, -0.2240,  0.0776,  0.1711, -0.4656, -0.2838,\n",
        "           0.1269,  0.0009,  0.0658, -0.1574,  0.0961, -0.0212,  0.0507,\n",
        "           0.3872,  0.0581, -0.1135,  0.2177, -0.1332,  0.0483,  0.0376,\n",
        "          -0.4344, -0.0635,  0.0865,  0.1058,  0.3451,  0.1992,  0.0517,\n",
        "           0.4092, -0.3429, -0.4071, -0.3083, -0.3120,  0.1805, -0.0347,\n",
        "          -0.0085,  0.1466, -0.1810, -0.1877, -0.1215,  0.0838, -0.2564,\n",
        "           0.1798,  0.1021, -0.1658, -0.0904,  0.1737,  0.1800,  0.0370,\n",
        "           0.2104]],\n",
        "\n",
        "        [[-0.0273,  0.0083, -0.0167,  0.0134,  0.1947, -0.1618, -0.1119,\n",
        "           0.0874,  0.0674,  0.0618, -0.1672,  0.0324, -0.0147, -0.0207,\n",
        "           0.1750,  0.0169, -0.1546,  0.0855, -0.1006,  0.0576, -0.0071,\n",
        "          -0.1629, -0.0741,  0.0583,  0.0767,  0.2457,  0.2418,  0.2841,\n",
        "           0.2719, -0.2879, -0.0859, -0.4261, -0.1976,  0.0473, -0.1849,\n",
        "           0.0595,  0.0433, -0.2201, -0.2398,  0.0804,  0.0750,  0.0402,\n",
        "          -0.1246,  0.1248, -0.2407,  0.0649,  0.2807,  0.2003,  0.2108,\n",
        "           0.3148]]], grad_fn=<CatBackward>)\n",
        "'''\n",
        "H \n",
        "'''\n",
        "(tensor([[[ 0.1836, -0.1300, -0.2430,  0.1662,  0.1096,  0.0323, -0.3019,\n",
        "            0.3327, -0.0058,  0.0145, -0.0915,  0.2583,  0.0147,  0.0868,\n",
        "            0.1140,  0.2107, -0.0926, -0.0663, -0.1215, -0.0792, -0.1114,\n",
        "            0.2772,  0.0593,  0.0104,  0.2013]],\n",
        " \n",
        "         [[-0.1714, -0.1640, -0.0450, -0.0834,  0.0775, -0.0772, -0.0609,\n",
        "           -0.1519,  0.2691, -0.1847,  0.2478,  0.1503,  0.0689, -0.1423,\n",
        "           -0.2186,  0.1781,  0.0180, -0.0107,  0.2439,  0.0476,  0.1645,\n",
        "            0.0975,  0.1821, -0.0915,  0.1636]]], grad_fn=<StackBackward>),\n",
        " tensor([[[ 0.3216, -0.2345, -0.5145,  0.2983,  0.2267,  0.0700, -0.6342,\n",
        "            0.5783, -0.0091,  0.0309, -0.1775,  0.5956,  0.0285,  0.1764,\n",
        "            0.2235,  0.3753, -0.2109, -0.1669, -0.2477, -0.1545, -0.2657,\n",
        "            0.5464,  0.1363,  0.0200,  0.4178]],\n",
        " \n",
        "         [[-0.8452, -0.7083, -0.1377, -0.2154,  0.1732, -0.2406, -0.1059,\n",
        "           -0.2908,  0.8201, -0.3483,  0.8362,  0.3409,  0.2223, -0.2279,\n",
        "           -0.8315,  0.3748,  0.0319, -0.0313,  0.4314,  0.1204,  0.3216,\n",
        "            0.1995,  0.3558, -0.1256,  0.2859]]], grad_fn=<StackBackward>))\n",
        "\n",
        "'''\n",
        "l#把两个括号分开了。\n",
        "O.shape#torch.Size([2, 1, 50])\n",
        "H#'tuple'\n",
        "l#'tuple'\n",
        "O2 = O.view(len(sentence_in), hidden_dim) \n",
        "O2\n",
        "'''\n",
        "tensor([[-3.1962e-01, -2.8635e-01, -4.7040e-02, -2.9805e-01, -1.1800e-01,#tensor([[[ 0.1362,  0.1090, -0.2240,  0.0776,  0.1711, -0.4656, -0.2838,\n",
        "          5.6310e-01,  1.7822e-01, -1.3023e-01, -8.6129e-02,  6.1155e-03,\n",
        "          3.8260e-02, -3.1510e-01,  1.6152e-01, -2.4629e-01, -4.9824e-02,\n",
        "          4.1901e-04,  1.3343e-01, -5.3343e-01,  9.0868e-02,  6.2036e-02,\n",
        "         -3.2449e-01,  7.5214e-02,  2.9073e-01, -1.7165e-01, -5.8839e-02,\n",
        "         -1.6667e-01, -1.4440e-01,  2.2607e-01,  1.8277e-01, -1.9974e-01,\n",
        "          4.9122e-02, -7.3521e-02, -1.6358e-01,  4.8883e-02,  1.8694e-02,\n",
        "          4.2592e-02, -1.1879e-01,  1.1344e-01,  6.3100e-02, -1.9936e-01,\n",
        "         -1.4295e-01, -1.4975e-01, -1.6114e-01, -5.3966e-02, -1.6924e-01,\n",
        "         -4.4556e-01, -8.6129e-02, -1.3768e-01, -6.9160e-02,  1.6413e-01],\n",
        "        [-1.8019e-01, -6.3028e-02,  3.0587e-03, -1.5759e-01, -7.2070e-02,\n",
        "          1.0606e-01,  3.1759e-01, -4.4374e-02, -3.5566e-02, -3.9681e-02,\n",
        "          6.5493e-02, -1.1695e-01,  9.6593e-02, -4.3599e-02, -1.2897e-01,\n",
        "          3.2035e-02,  1.8337e-02, -3.0747e-01,  1.7928e-01,  1.4172e-01,\n",
        "         -3.5331e-01,  3.5153e-02,  4.5131e-02, -1.7353e-01,  1.2387e-02,\n",
        "          1.9217e-01, -1.3721e-01,  9.4200e-02,  1.0499e-01, -3.1254e-01,\n",
        "         -9.6716e-03, -1.7254e-01, -2.0765e-02,  1.0063e-01,  1.3838e-01,\n",
        "         -3.3810e-01, -2.3666e-01,  5.2058e-02, -1.7998e-02, -2.0886e-01,\n",
        "         -1.5909e-01, -1.2390e-01, -1.4862e-02,  1.9644e-01, -1.2764e-01,\n",
        "         -2.6665e-01, -4.2015e-01,  3.0452e-02,  1.4566e-01,  1.6484e-01]],\n",
        "       grad_fn=<ViewBackward>)\n",
        "'''\n",
        "O2.shape#torch.Size([2, 50]) 把中间层1删了，而且数目更小了\n",
        "T = len(tag_to_ix)\n",
        "LN = nn.Linear(hidden_dim,T)#Linear(in_features=50, out_features=9, bias=True)\n",
        "LN\n",
        "F = LN(O2)\n",
        "F\n",
        "#因为我的i取的2；01 所以就两句\n",
        "'''\n",
        "tensor([[-0.0099,  0.1274, -0.1200, -0.1195, -0.1803, -0.2581,  0.0604, -0.0509,\n",
        "          0.0623],\n",
        "        [ 0.1906,  0.1848, -0.1860, -0.0864, -0.1124, -0.1233,  0.0715, -0.1379,\n",
        "         -0.0113]], grad_fn=<AddmmBackward>)\n",
        "\n",
        "'''\n",
        "F.shape#torch.Size([2, 9])\n",
        "tag_to_ix\n",
        "'''\n",
        "{'<START>': 0,\n",
        " '<STOP>': 1,\n",
        " 'B-LOC': 7,\n",
        " 'B-MISC': 8,\n",
        " 'I-LOC': 6,\n",
        " 'I-MISC': 4,\n",
        " 'I-ORG': 3,\n",
        " 'I-PER': 5,\n",
        " 'O': 2}\n",
        " '''"
      ],
      "execution_count": 117,
      "outputs": [
        {
          "output_type": "execute_result",
          "data": {
            "text/plain": [
              "{'<START>': 0,\n",
              " '<STOP>': 1,\n",
              " 'B-LOC': 7,\n",
              " 'B-MISC': 8,\n",
              " 'I-LOC': 6,\n",
              " 'I-MISC': 4,\n",
              " 'I-ORG': 3,\n",
              " 'I-PER': 5,\n",
              " 'O': 2}"
            ]
          },
          "metadata": {
            "tags": []
          },
          "execution_count": 117
        }
      ]
    },
    {
      "cell_type": "markdown",
      "metadata": {
        "id": "4wZZHqY3IhvH"
      },
      "source": [
        "F"
      ]
    },
    {
      "cell_type": "markdown",
      "metadata": {
        "id": "uYuGaMMOH4-a"
      },
      "source": [
        "![BIO.jpg](data:image/jpeg;base64,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)"
      ]
    },
    {
      "cell_type": "code",
      "metadata": {
        "colab": {
          "base_uri": "https://localhost:8080/"
        },
        "id": "Zeb9yk4AIf-Z",
        "outputId": "6fc028cb-f587-4a6e-a758-d07463d7adea"
      },
      "source": [
        "AL = torch.full((1, T), -10000.).to(device)\n",
        "AL  #tensor([[-10000., -10000., -10000., -10000., -10000., -10000., -10000., -10000.,-10000.]])\n",
        "tag_to_ix#BIO\n",
        "tag_to_ix[START_TAG]#0\n",
        "AL[0][0] = 0#tensor(-10000.)  --> tensor(0.)\n",
        "AL[0][0]\n",
        "AL  #tensor([[     0., -10000., -10000., -10000., -10000., -10000., -10000., -10000.,-10000.]])\n",
        "FV = AL\n",
        "FV# 用一个变量包裹，这样我们就能得到自动的反推。\n",
        "tagset_size = len(tag_to_ix)\n",
        "for f in F: \n",
        "  #print(F)   #所有的话的tensor【话，9】\n",
        "  #print(f)#一句话tensor\n",
        "  #弄个时间步长\n",
        "  AT= []\n",
        "  for NT in range(tagset_size):   #NT 0-8\n",
        "    #print(NT)\n",
        "    #print(f[NT])\n",
        "    '''\n",
        "    f[NT]每个词\n",
        "    tensor(0.0253, grad_fn=<SelectBackward>)\n",
        "    tensor(0.2595, grad_fn=<SelectBackward>)\n",
        "    tensor(-0.2054, grad_fn=<SelectBackward>)\n",
        "    tensor(0.0297, grad_fn=<SelectBackward>)\n",
        "    tensor(-0.2240, grad_fn=<SelectBackward>)\n",
        "    tensor(-0.0944, grad_fn=<SelectBackward>)\n",
        "    tensor(-0.0685, grad_fn=<SelectBackward>)\n",
        "    tensor(0.1490, grad_fn=<SelectBackward>)\n",
        "    tensor(0.0933, grad_fn=<SelectBackward>)\n",
        "    tensor(0.0488, grad_fn=<SelectBackward>)\n",
        "    tensor(0.2240, grad_fn=<SelectBackward>)\n",
        "    tensor(-0.1591, grad_fn=<SelectBackward>)\n",
        "    tensor(0.1114, grad_fn=<SelectBackward>)\n",
        "    tensor(-0.1926, grad_fn=<SelectBackward>)\n",
        "    tensor(0.0736, grad_fn=<SelectBackward>)\n",
        "    tensor(-0.0111, grad_fn=<SelectBackward>)\n",
        "    tensor(0.2065, grad_fn=<SelectBackward>)\n",
        "    tensor(0.0891, grad_fn=<SelectBackward>)\n",
        "    ''' \n",
        "    print(f[NT].view(1, -1)) #reshape; reshape 成1行，列数由行数决定。所以-1；前一个是reshape成几行\n",
        "    '''\n",
        "    tensor([[0.0253]], grad_fn=<ViewBackward>)\n",
        "    tensor([[0.2595]], grad_fn=<ViewBackward>)\n",
        "    tensor([[-0.2054]], grad_fn=<ViewBackward>)\n",
        "    tensor([[0.0297]], grad_fn=<ViewBackward>)\n",
        "    tensor([[-0.2240]], grad_fn=<ViewBackward>)\n",
        "    tensor([[-0.0944]], grad_fn=<ViewBackward>)\n",
        "    tensor([[-0.0685]], grad_fn=<ViewBackward>)\n",
        "    tensor([[0.1490]], grad_fn=<ViewBackward>)\n",
        "    tensor([[0.0933]], grad_fn=<ViewBackward>)\n",
        "    tensor([[0.0488]], grad_fn=<ViewBackward>)\n",
        "    tensor([[0.2240]], grad_fn=<ViewBackward>)\n",
        "    tensor([[-0.1591]], grad_fn=<ViewBackward>)\n",
        "    tensor([[0.1114]], grad_fn=<ViewBackward>)\n",
        "    tensor([[-0.1926]], grad_fn=<ViewBackward>)\n",
        "    tensor([[0.0736]], grad_fn=<ViewBackward>)\n",
        "    tensor([[-0.0111]], grad_fn=<ViewBackward>)\n",
        "    tensor([[0.2065]], grad_fn=<ViewBackward>)\n",
        "    tensor([[0.0891]], grad_fn=<ViewBackward>)\n",
        "    '''\n",
        "    #emit_score = f[NT].view(1, -1).expand(1, self.tagset_size) \n"
      ],
      "execution_count": 137,
      "outputs": [
        {
          "output_type": "stream",
          "text": [
            "tensor([[0.0253]], grad_fn=<ViewBackward>)\n",
            "tensor([[0.2595]], grad_fn=<ViewBackward>)\n",
            "tensor([[-0.2054]], grad_fn=<ViewBackward>)\n",
            "tensor([[0.0297]], grad_fn=<ViewBackward>)\n",
            "tensor([[-0.2240]], grad_fn=<ViewBackward>)\n",
            "tensor([[-0.0944]], grad_fn=<ViewBackward>)\n",
            "tensor([[-0.0685]], grad_fn=<ViewBackward>)\n",
            "tensor([[0.1490]], grad_fn=<ViewBackward>)\n",
            "tensor([[0.0933]], grad_fn=<ViewBackward>)\n",
            "tensor([[0.0488]], grad_fn=<ViewBackward>)\n",
            "tensor([[0.2240]], grad_fn=<ViewBackward>)\n",
            "tensor([[-0.1591]], grad_fn=<ViewBackward>)\n",
            "tensor([[0.1114]], grad_fn=<ViewBackward>)\n",
            "tensor([[-0.1926]], grad_fn=<ViewBackward>)\n",
            "tensor([[0.0736]], grad_fn=<ViewBackward>)\n",
            "tensor([[-0.0111]], grad_fn=<ViewBackward>)\n",
            "tensor([[0.2065]], grad_fn=<ViewBackward>)\n",
            "tensor([[0.0891]], grad_fn=<ViewBackward>)\n"
          ],
          "name": "stdout"
        }
      ]
    },
    {
      "cell_type": "code",
      "metadata": {
        "id": "N6e55upK9l5R"
      },
      "source": [
        "#开始定义的feat？[分析主题流程]\n",
        "#【1】\n",
        "def neg_log_likelihood(self, sentence, tags):  #sentence_in； targets都是index  （词典ind；IBOind）\n",
        "    feats = self._get_lstm_features(sentence)   #词典ind做_get_lstm_features 【分析了23.】feats 就是那一堆BIO概率；从lSTM出来的结果\n",
        "    #feats =F 好多句tensor[-0.0099,  0.1274, -0.1200, -0.1195, -0.1803, -0.2581,  0.0604, -0.0509, 0.0623],\n",
        "    #【4】_forward_alg\n",
        "    forward_score = self._forward_alg(feats)\n",
        "    gold_score = self._score_sentence(feats, tags)\n",
        "    return forward_score - gold_score\n",
        "\n",
        "#【2】\n",
        "def _get_lstm_features(self, sentence):   #sentence_in；词典ind\n",
        "    self.hidden = self.init_hidden()   #hidden = init_hidden #hidden = 随机返回两个【2，1，25】init_hidden __init__ =hidden 在下面定义了。【3】随机了矩阵torch\n",
        "    embeds = self.word_embeds(sentence).view(len(sentence), 1, -1)    #embeds = E\n",
        "     #self.word_embeds = nn.Embedding(vocab_size, embedding_dim) 2351，25 #word_embeds = WE\n",
        "     #给输入的词创建词向量 nn.Embedding高度是2351；长度是12\n",
        "     # self.word_embeds.weight.data.copy_(torch.from_numpy(embedding_matrix))\n",
        "    lstm_out, self.hidden = self.lstm(embeds, self.hidden)    # lstm = L 结果是l  lstm_out = O hidden = H\n",
        "    #lstm __init__\n",
        "    #self.lstm = nn.LSTM(embedding_dim, hidden_dim // 2, num_layers=1, bidirectional=True)#\" // \" 表示整数除法  25;50//2 ==25\n",
        "    #list层\n",
        "    lstm_out = lstm_out.view(len(sentence), self.hidden_dim)  #转个维度 lstm_out =O2\n",
        "    lstm_feats = self.hidden2tag(lstm_out)  #hidden2tag 线性层 LN（O2)  lstm_feats = F\n",
        "    # Maps the output of the LSTM into tag space. 将LSTM的输出映射到标签空间。\n",
        "    #self.hidden2tag = nn.Linear(hidden_dim, self.tagset_size)   # 50,9 tagset_size =len(tag_to_ix) = T\n",
        "    #Linear(in_features=50, out_features=9, bias=True)\n",
        "    return lstm_feats               #lstm_feats 列句子 行是IBO典长度 \n",
        "     '''？？为什么用ibo典的长度。输出各种可能性BIO的'''\n",
        "\n",
        "#【3】\n",
        "def init_hidden(self):  ##hidden = 随机返回两个【2，1，25】 A   你可以随机初始化转移矩阵的分数。这些分数将随着训练的迭代过程被更新，换句话说，CRF层可以自己学到这些约束条件。\n",
        "    return (torch.randn(2, 1, self.hidden_dim // 2).to(device),\n",
        "            torch.randn(2, 1, self.hidden_dim // 2).to(device))\n",
        "    \n",
        "#【4】_forward_alg（F） --return alpha\n",
        "def _forward_alg(self, feats):    #F\n",
        "    # Do the forward algorithm to compute the partition function # 做正向算法来计算分区函数\n",
        "    init_alphas = torch.full((1, self.tagset_size), -10000.).to(device)  #tagset_size =len(tag_to_ix) = T\n",
        "    #init_alphas = AL\n",
        "     #torch.full创建全相同的张量 [1,9]\n",
        "    # START_TAG has all of the score. START_TAG有所有的分数。\n",
        "    init_alphas[0][self.tag_to_ix[START_TAG]] = 0. # AL[0][0]init_alphas=AL\n",
        "\n",
        "    # Wrap 包裹in a variable so that we will get automatic backprop # 用一个变量包裹，这样我们就能得到自动的反推。\n",
        "\n",
        "    forward_var = init_alphas #FV # 用一个变量包裹，这样我们就能得到自动的反推。\n",
        "    '''什么叫automatic backprop？？'''\n",
        "    # Iterate through the sentence   遍历该句子\n",
        "    for feat in feats:    #feat =f feats = F\n",
        "        #时间步长\n",
        "        alphas_t = []  # alphas_t = [] = AT； The forward tensors at this timestep  在这个时间步长的前向张量alphas_t = [] = AT\n",
        "        for next_tag in range(self.tagset_size):  #next_tag = NT ;#NT 0-8; tageset_size = len(tage_to_ix) len(BIO)\n",
        "            # broadcast the emission score: it is the same regardless of 播出排放分数：不管是哪种情况，它都是一样的。\n",
        "            # the previous tag前一个标签\n",
        "            emit_score = feat[next_tag].view(\n",
        "                1, -1).expand(1, self.tagset_size)\n",
        "            # the ith entry of trans_score is the score of transitioning to\n",
        "            # next_tag from i\n",
        "            trans_score = self.transitions[next_tag].view(1, -1)\n",
        "            # The ith entry of next_tag_var is the value for the\n",
        "            # edge (i -> next_tag) before we do log-sum-exp\n",
        "            next_tag_var = forward_var + trans_score + emit_score\n",
        "            # The forward variable for this tag is log-sum-exp of all the\n",
        "            # scores.\n",
        "            alphas_t.append(log_sum_exp(next_tag_var).view(1))\n",
        "        forward_var = torch.cat(alphas_t).view(1, -1)\n",
        "    terminal_var = forward_var + self.transitions[self.tag_to_ix[STOP_TAG]]\n",
        "    alpha = log_sum_exp(terminal_var)\n",
        "    return alpha\n",
        "\n"
      ],
      "execution_count": 75,
      "outputs": []
    },
    {
      "cell_type": "code",
      "metadata": {
        "colab": {
          "base_uri": "https://localhost:8080/"
        },
        "id": "dTByHbAP8vH4",
        "outputId": "d656be46-d68b-41b7-d4e6-1e8e3fbfd96d"
      },
      "source": [
        "tags_index = val_output_index[i] \n",
        "targets = torch.tensor(tags_index, dtype=torch.long).to(device)\n",
        "sentence_in = torch.tensor(idxs, dtype=torch.long).to(device) \n",
        "loss = model.neg_log_likelihood(sentence_in, targets)\n",
        "loss"
      ],
      "execution_count": 63,
      "outputs": [
        {
          "output_type": "execute_result",
          "data": {
            "text/plain": [
              "tensor([4.8133], grad_fn=<SubBackward0>)"
            ]
          },
          "metadata": {
            "tags": []
          },
          "execution_count": 63
        }
      ]
    },
    {
      "cell_type": "code",
      "metadata": {
        "colab": {
          "base_uri": "https://localhost:8080/"
        },
        "id": "3LnPCYhm8joP",
        "outputId": "8acfd4ec-1191-43d2-8627-b16fdc0b4ae9"
      },
      "source": [
        "model = BiLSTM_CRF(len(word_to_ix), tag_to_ix, EMBEDDING_DIM, HIDDEN_DIM).to(device)\n",
        "model"
      ],
      "execution_count": 59,
      "outputs": [
        {
          "output_type": "execute_result",
          "data": {
            "text/plain": [
              "BiLSTM_CRF(\n",
              "  (word_embeds): Embedding(2351, 25)\n",
              "  (lstm): LSTM(25, 25, bidirectional=True)\n",
              "  (hidden2tag): Linear(in_features=50, out_features=9, bias=True)\n",
              ")"
            ]
          },
          "metadata": {
            "tags": []
          },
          "execution_count": 59
        }
      ]
    },
    {
      "cell_type": "code",
      "metadata": {
        "colab": {
          "base_uri": "https://localhost:8080/"
        },
        "id": "9XqgcflQ77Sq",
        "outputId": "9a4f3e73-9088-48a5-a88f-c17a766a3422"
      },
      "source": [
        "sentence_in = torch.tensor(idxs, dtype=torch.long).to(device)\n",
        "sentence_in\n",
        "idxs"
      ],
      "execution_count": 56,
      "outputs": [
        {
          "output_type": "execute_result",
          "data": {
            "text/plain": [
              "[261, 1877]"
            ]
          },
          "metadata": {
            "tags": []
          },
          "execution_count": 56
        }
      ]
    },
    {
      "cell_type": "code",
      "metadata": {
        "colab": {
          "base_uri": "https://localhost:8080/"
        },
        "id": "5Gp3OR5r7CoD",
        "outputId": "1b481c13-baad-4a77-a6dc-6739540da103"
      },
      "source": [
        "val_input_index[:2]\n",
        "for i, idxs in enumerate(val_input_index[:3]):\n",
        "  print(i)\n",
        "  print(idxs)\n",
        "  print(val_output_index[i])\n",
        "print('\\n')\n",
        "val_output_index[:2]\n"
      ],
      "execution_count": 53,
      "outputs": [
        {
          "output_type": "stream",
          "text": [
            "0\n",
            "[0]\n",
            "[2]\n",
            "1\n",
            "[1874, 636, 1875, 210, 775, 154, 382, 117, 1876, 1798, 9]\n",
            "[2, 2, 3, 2, 2, 2, 2, 2, 2, 2, 2]\n",
            "2\n",
            "[261, 1877]\n",
            "[6, 2]\n",
            "\n",
            "\n"
          ],
          "name": "stdout"
        },
        {
          "output_type": "execute_result",
          "data": {
            "text/plain": [
              "[[2], [2, 2, 3, 2, 2, 2, 2, 2, 2, 2, 2]]"
            ]
          },
          "metadata": {
            "tags": []
          },
          "execution_count": 53
        }
      ]
    },
    {
      "cell_type": "markdown",
      "metadata": {
        "id": "Uj7ANbv_jSzI"
      },
      "source": [
        "### Testing"
      ]
    },
    {
      "cell_type": "code",
      "metadata": {
        "id": "iIh-mWrvi6Pw"
      },
      "source": [
        "# Call the cal_acc functions you implemented as required根据需要调用你实现的cal_acc函数\n",
        "y_pred, y_true, _ = cal_acc(model,test_input_index,test_output_index)\n",
        "\n",
        "def decode_output(output_list):\n",
        "    ix_to_tag = {v:k for k,v in tag_to_ix.items()}\n",
        "    return [ix_to_tag[output] for output in output_list]\n",
        "\n",
        "y_true_decode = decode_output(y_true)\n",
        "y_pred_decode = decode_output(y_pred)"
      ],
      "execution_count": null,
      "outputs": []
    },
    {
      "cell_type": "code",
      "metadata": {
        "id": "VAnJVsyPq5kR"
      },
      "source": [
        "from sklearn.metrics import classification_report\n",
        "print(classification_report(y_true_decode,y_pred_decode,digits=4))\n",
        "# The log below is the sample output for this section"
      ],
      "execution_count": null,
      "outputs": []
    }
  ]
}