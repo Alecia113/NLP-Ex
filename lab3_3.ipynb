{
  "nbformat": 4,
  "nbformat_minor": 0,
  "metadata": {
    "colab": {
      "name": "lab3.3.ipynb",
      "provenance": [],
      "collapsed_sections": [],
      "authorship_tag": "ABX9TyNkV62RqNIfBsloA006m/Jy",
      "include_colab_link": true
    },
    "kernelspec": {
      "name": "python3",
      "display_name": "Python 3"
    },
    "language_info": {
      "name": "python"
    }
  },
  "cells": [
    {
      "cell_type": "markdown",
      "metadata": {
        "id": "view-in-github",
        "colab_type": "text"
      },
      "source": [
        "<a href=\"https://colab.research.google.com/github/Alecia113/NLP-Ex/blob/main/lab3_3.ipynb\" target=\"_parent\"><img src=\"https://colab.research.google.com/assets/colab-badge.svg\" alt=\"Open In Colab\"/></a>"
      ]
    },
    {
      "cell_type": "code",
      "metadata": {
        "id": "7IMoIu2fp-VK"
      },
      "source": [
        "'''\n",
        "PyTorch nn.module 和toch.optim 实现CBOW [多到一]\n",
        "\n",
        "我们会nn.Module 和torch.optim 来训练word2Vec skip-gram\n",
        "=======\n",
        "\n",
        "1：使用 nn.Module 和优化器 torch.optim 去训练 word2vec CBOW [这个地方变了]\n",
        "window_size = 1 ; embedding_size = 2 (可研究nn.Embedding，不必要)\n",
        "\n",
        "2plot 每个词。\n",
        "\n",
        "潜入大小2； 提供了预处理和超参数设置的代码\n",
        "\n",
        "'''\n",
        "'''\n",
        "nn.model 就是一个个转头堆成神经网络\n",
        "而word2vec 就需要两个线性回归就可做出来了\n",
        "\n",
        "linear （参数 神经元：work——size——hidden.size 到vecbolary.size)\n",
        "window就是为了做中center和context的呀\n",
        "\n",
        "nn.model()类\n",
        "\n",
        "在学习nn.model()类之前，先简要了解一下nn。\n",
        "nn主要有四个模块\n",
        "\n",
        "nn.Parameter: 一个张量的子类，用于表示可学习的参数 w， b\n",
        "nn.Module： 网络层的基类，用于管理网络的属性，LeNet是一个module类，LeNet的子模块例如conv2，也是一个nn.module类\n",
        "nn.functional：用于函数的实现，比如卷积运算，加法运算\n",
        "nn.__init__：参数初始化方法\n",
        "nn.Module()类的主要属性\n",
        "\n",
        "parameter ： 用于存储和管理Parameter类\n",
        "Module ： 用于存储和管理Module类相关\n",
        "buffers ：存储缓冲属性，比如均值等\n",
        "其他五个是用于管理钩子函数（_hocks()\n",
        "\n",
        "\n",
        "'''"
      ],
      "execution_count": null,
      "outputs": []
    },
    {
      "cell_type": "code",
      "metadata": {
        "id": "ETfWhLaIqV7R"
      },
      "source": [
        "import matplotlib\n",
        "import matplotlib.pyplot as plt\n",
        "import numpy as np\n",
        "import torch \n",
        "import torch.nn as nn\n",
        "import torch.optim as optim\n",
        "from random import shuffle\n",
        "import pprint\n",
        "\n",
        "# Raw data - sentences\n",
        "# Let's create toy data for simplicity \n",
        "sentences = [\"he likes cat\",\n",
        "             \"he likes dog\",\n",
        "             \"he likes animal\",\n",
        "             \"dog cat animal\",\n",
        "             \"she likes cat\",\n",
        "             \"she dislikes dog\",\n",
        "             \"cat likes fish\",\n",
        "             \"cat likes milk\",\n",
        "             \"dog likes bone\",\n",
        "             \"dog dislikes fish\",\n",
        "             \"dog likes milk\",\n",
        "             \"she likes movie\",\n",
        "             \"she likes music\",\n",
        "             \"he likes game\",\n",
        "             \"he likes movie\",\n",
        "             \"cat dislikes dog\"]\n",
        "\n",
        "# convert all sentences to unique word list\n",
        "word_list = \" \".join(sentences).split()\n",
        "word_list = list(set(word_list))\n",
        "\n",
        "\n",
        "# make dictionary so that we can reference each index of unique word\n",
        "word_dict = {w: i for i, w in enumerate(word_list)}\n",
        "\n",
        "# make window size=1 for cbow\n",
        "# i.e.) he likes cat\n",
        "#   -> ([likes], he), ([he, cat], likes), ([likes], cat)\n",
        "#   -> ([likes, likes], he), ([he, cat], likes), ([likes, likes], cat)\n",
        "# Double the input when the word doesn't have two neighbours\n",
        "# This will make your input have the same size, which will make it easier when you write the CBOW model code\n",
        "# But this trick only works when window_size = 1\n",
        "\n",
        "cbow = []\n",
        "\n",
        "for sentence in sentences:\n",
        "    sentence = sentence.split()\n",
        "    for i in range(len(sentence)):\n",
        "        centre = word_dict[sentence[i]]\n",
        "        if i > 0 and i < len(sentence)-1:\n",
        "            context = [word_dict[sentence[i - 1]], word_dict[sentence[i + 1]]]\n",
        "        elif i == 0:\n",
        "            context = [word_dict[sentence[i + 1]], word_dict[sentence[i + 1]]]\n",
        "        else:\n",
        "            context = [word_dict[sentence[i - 1]], word_dict[sentence[i - 1]]]\n",
        "\n",
        "        cbow.append([context, centre])\n",
        "\n",
        "# hyperparameter\n",
        "voc_size = len(word_list)\n",
        "learning_rate = 0.1\n",
        "batch_size = 16\n",
        "embedding_size = 2\n",
        "no_of_epochs = 5000"
      ],
      "execution_count": 199,
      "outputs": []
    },
    {
      "cell_type": "code",
      "metadata": {
        "colab": {
          "base_uri": "https://localhost:8080/",
          "height": 69
        },
        "id": "pszi9SaKvSO4",
        "outputId": "68396521-2f62-4de5-a5d4-2ae827366753"
      },
      "source": [
        "#prepare batch\n",
        "\n",
        "voc_size = len(word_list)   #13\n",
        "\n",
        "def prepare_batch(data_temp):\n",
        "    x1 = []   #window1\n",
        "    x2 = [] #window2 context\n",
        "    #data_temp = cbow\n",
        "\n",
        "    inputs = []\n",
        "    labels = []\n",
        "    inputs1 = []\n",
        "\n",
        "    for i in range(len(data_temp)):  # data = data_temp\n",
        "      input1_temp = [0]*voc_size\n",
        "      input1_temp[data_temp[i][0][0]] = 1     #48  第一个context词  \n",
        "      x1.append(input1_temp)      #48\n",
        "      labels.append(data_temp[i][1])  #中心词的位置标记   48 那么这个labels不就是output层么\n",
        "\n",
        "    #for k in range(len(data_temp)): \n",
        "      input2_temp = [0]*voc_size\n",
        "      input2_temp[data_temp[i][0][1]] = 1   #第二个context 词 48\n",
        "      x2.append(input2_temp)  \n",
        "\n",
        "      inputs1.append(x1[i])\n",
        "      inputs1.append(x2[i])\n",
        "      inputs.append(inputs1)\n",
        "      inputs1 = []  \n",
        "\n",
        "    return np.array(inputs), np.array(labels)\n",
        "'''\n",
        "pre = prepare_batch(cbow)\n",
        "pprint.pprint(pre)\n",
        "print(pre[0])\n",
        "#pre[0][0][0] 13 one-h pre[0][0] 2 两个context词的one-hot pre[0] 48  [12,12]9 有48对。没对有x1（12） x2（12）label 就是central index\n",
        "\n",
        "#x1 48 个第一位的one-hot  x2 48个 第二位的one-hot  label就是中心词的字典indexß\n",
        "'''"
      ],
      "execution_count": 205,
      "outputs": [
        {
          "output_type": "execute_result",
          "data": {
            "application/vnd.google.colaboratory.intrinsic+json": {
              "type": "string"
            },
            "text/plain": [
              "'\\npre = prepare_batch(cbow)\\npprint.pprint(pre)\\nprint(pre[0])\\n#pre[0][0][0] 13 one-h pre[0][0] 2 两个context词的one-hot pre[0] 48  [12,12]9 有48对。没对有x1（12） x2（12）label 就是central index\\n\\n#x1 48 个第一位的one-hot  x2 48个 第二位的one-hot  label就是中心词的字典indexß\\n'"
            ]
          },
          "metadata": {
            "tags": []
          },
          "execution_count": 205
        }
      ]
    },
    {
      "cell_type": "code",
      "metadata": {
        "colab": {
          "base_uri": "https://localhost:8080/"
        },
        "id": "AIhSUK4k2u_r",
        "outputId": "bb573876-7ac8-4f2c-d6d9-e4a94a8fb8ec"
      },
      "source": [
        "import torch\n",
        "import torch.nn as nn\n",
        "import torch.nn.functional as F\n",
        "from sklearn.metrics import accuracy_score\n",
        "from random import shuffle\n",
        "\n",
        "class Cbow_linear(nn.Module):\n",
        "  def __init__(self,inputs, outputs):\n",
        "    super(Cbow_linear,self).__init__()\n",
        "    self.linear1 = nn.Linear(voc_size, embedding_size)\n",
        "    self.linear2 = nn.Linear(embedding_size, voc_size)\n",
        "\n",
        "  def forward(self, x):\n",
        "    x1 = self.linear1(x[:,0])\n",
        "    x2 = self.linear1(x[:,1])\n",
        "    x = (F.relu(x1) + F.relu(x2))/2\n",
        "    x = self.linear2(x)\n",
        "\n",
        "    return x\n",
        "    \n",
        "model = Cbow_linear(voc_size, embedding_size)  # model = cbow_net\n",
        "print(model)\n"
      ],
      "execution_count": 202,
      "outputs": [
        {
          "output_type": "stream",
          "text": [
            "Cbow_linear(\n",
            "  (linear1): Linear(in_features=13, out_features=2, bias=True)\n",
            "  (linear2): Linear(in_features=2, out_features=13, bias=True)\n",
            ")\n"
          ],
          "name": "stdout"
        }
      ]
    },
    {
      "cell_type": "code",
      "metadata": {
        "colab": {
          "base_uri": "https://localhost:8080/"
        },
        "id": "J7Ev3jWeqrvB",
        "outputId": "953a0a03-327f-47f9-9cff-dd8b98820fa9"
      },
      "source": [
        "#要\n",
        "\n",
        "#opt\n",
        "criterion = nn.CrossEntropyLoss() \n",
        "optimiser = optim.SGD(model.parameters(), lr=learning_rate)#, momentum=0.9\n",
        "\n",
        "for epoch in range(no_of_epochs):\n",
        "  shuffle(cbow)\n",
        "  loss_sum = 0\n",
        "\n",
        "  for ind in range(0,len(cbow),batch_size):     #ind: 0,16,32\n",
        "    data_temp = cbow[ind : min(ind+batch_size,len(cbow))] # 3次了已经\n",
        "    inputs_temp, labels_temp = prepare_batch(data_temp)\n",
        "\n",
        "    inputs_torch = torch.from_numpy(inputs_temp).float()\n",
        "    labels_torch = torch.from_numpy(labels_temp)\n",
        "\n",
        "    \n",
        "\n",
        "    log_softmax = F.log_softmax(model.forward(inputs_torch),dim = 1)\n",
        "    loss = F.nll_loss(log_softmax, labels_torch)\n",
        "    \n",
        "    #GD\n",
        "    optimiser.zero_grad()#j\n",
        "    loss.backward()\n",
        "    optimiser.step()\n",
        "\n",
        "    loss_sum += loss.item()#没有这部就全是0\n",
        "\n",
        "  if epoch % 500 == 499: \n",
        "    print('Epoch: %d, loss: %.4f' %(epoch + 1, loss_sum))\n",
        "\n",
        "\n",
        "\n",
        "    #pred\n",
        "    #Cbow_linear(nn.Module)\n"
      ],
      "execution_count": 203,
      "outputs": [
        {
          "output_type": "stream",
          "text": [
            "Epoch: 500, loss: 5.0984\n",
            "Epoch: 1000, loss: 4.8292\n",
            "Epoch: 1500, loss: 4.6646\n",
            "Epoch: 2000, loss: 4.5700\n",
            "Epoch: 2500, loss: 4.5169\n",
            "Epoch: 3000, loss: 4.4852\n",
            "Epoch: 3500, loss: 4.4607\n",
            "Epoch: 4000, loss: 4.4427\n",
            "Epoch: 4500, loss: 4.4332\n",
            "Epoch: 5000, loss: 4.4117\n"
          ],
          "name": "stdout"
        }
      ]
    },
    {
      "cell_type": "code",
      "metadata": {
        "colab": {
          "base_uri": "https://localhost:8080/"
        },
        "id": "PCCMT1INgE8J",
        "outputId": "f7667d63-3313-45d0-81d7-9e01fe57833c"
      },
      "source": [
        "trained_embeddings.shape"
      ],
      "execution_count": 196,
      "outputs": [
        {
          "output_type": "execute_result",
          "data": {
            "text/plain": [
              "(13, 2)"
            ]
          },
          "metadata": {
            "tags": []
          },
          "execution_count": 196
        }
      ]
    },
    {
      "cell_type": "code",
      "metadata": {
        "colab": {
          "base_uri": "https://localhost:8080/",
          "height": 267
        },
        "id": "TCnMHYN_evOd",
        "outputId": "55140183-d9d4-470a-b193-2a7dfc465c4c"
      },
      "source": [
        "# Get the trained projection matrix\n",
        "trained_embeddings = model.linear1.weight.view(13,2).data.numpy()\n",
        "# Visualise result\n",
        "for i, label in enumerate(word_list):\n",
        "    x, y = trained_embeddings[i]\n",
        "    # print (label, \" : \", x, \" \" , y) # uncomment to see the detailed vector info\n",
        "    plt.scatter(x, y)\n",
        "    plt.annotate(label, xy=(x, y), xytext=(5, 2),\n",
        "                 textcoords='offset points', ha='right', va='bottom')\n",
        "\n",
        "plt.show()"
      ],
      "execution_count": 204,
      "outputs": [
        {
          "output_type": "display_data",
          "data": {
            "image/png": "[encoded data removed]",
            "text/plain": [
              "<Figure size 432x288 with 1 Axes>"
            ]
          },
          "metadata": {
            "tags": [],
            "needs_background": "light"
          }
        }
      ]
    },
    {
      "cell_type": "code",
      "metadata": {
        "colab": {
          "base_uri": "https://localhost:8080/"
        },
        "id": "3-LowWmgRPVS",
        "outputId": "d3a9715e-0755-4b28-e129-67dfdfde59f7"
      },
      "source": [
        "#no\n",
        "inputs_torch.shape#torch.Size([16, 2, 13])--- #希望这里是【16，13】\n",
        "labels_torch.shape  #torch.Size([16])  \n",
        "log_softmax.shape#torch.Size([16, 2, 13])"
      ],
      "execution_count": 165,
      "outputs": [
        {
          "output_type": "execute_result",
          "data": {
            "text/plain": [
              "torch.Size([16, 2, 13])"
            ]
          },
          "metadata": {
            "tags": []
          },
          "execution_count": 165
        }
      ]
    },
    {
      "cell_type": "code",
      "metadata": {
        "id": "c62gBu9zc5C4"
      },
      "source": [
        ""
      ],
      "execution_count": 173,
      "outputs": []
    },
    {
      "cell_type": "code",
      "metadata": {
        "id": "QZpgwI3GJ7JU"
      },
      "source": [
        "\n",
        "'''\n",
        "for ind in range(0,len(cbow),batch_size):     #ind: 0,16,32\n",
        "  data_temp = cbow[ind : min(ind+batch_size,len(cbow))]  #batch每次录入三个\n",
        "  \n",
        "  inputs_temp, labels_temp = prepare_batch(data_temp)\n",
        "#pprint.pprint(data_temp)##batch 是16么内容应该是16\n",
        "#pprint.pprint(labels_temp) #array([ 9, 12,  0,  3,  0,  2,  6,  0,  6,  2,  8, 12,  6, 11,  7,  5])\n",
        "#pprint.pprint(inputs_temp)#16个 两个内容词\n",
        "\n",
        "  inputs_torch = torch.from_numpy(inputs_temp).float()\n",
        "  labels_torch = torch.from_numpy(labels_temp)\n",
        "\n",
        "  log_softmax = F.log_softmax(model.forward(inputs_torch),dim = 1)\n",
        "  loss = F.nll_loss(log_softmax, labels_torch)\n",
        "\n",
        "\n",
        "  \n",
        "  loss.backward()\n",
        "  with torch.no_grad():\n",
        "      W1.data -= learning_rate*W1.grad.data\n",
        "      Wout.data -= learning_rate*Wout.grad.data\n",
        "  W1.grad.data.zero_()\n",
        "  Wout.grad.data.zero_()\n",
        "\n",
        "  loss_sum += loss.item()\n",
        "\n",
        "if epoch % 500 == 499: \n",
        "    print('Epoch: %d, loss: %.4f' %(epoch + 1, loss_sum))\n",
        "\n",
        "'''\n",
        "\n"
      ],
      "execution_count": 169,
      "outputs": []
    },
    {
      "cell_type": "code",
      "metadata": {
        "colab": {
          "base_uri": "https://localhost:8080/",
          "height": 69
        },
        "id": "LyTdfQGTbDo-",
        "outputId": "379bfdbf-555a-48d6-ec83-4c54378002de"
      },
      "source": [
        "    #input = model.forward(inputs_torch)\n",
        "'''\n",
        "print(inputs_torch)\n",
        "print(inputs_torch[:,0,:])\n",
        "print(inputs_torch[:,1])\n",
        "'''\n",
        "  #print(input[:,0])\n",
        "  #print(input[0])\n",
        "'''\n",
        "\n",
        "[:,:,0]\n",
        "取三维数组中第1列的所有楼层，所有行的数据\n",
        "#https://blog.csdn.net/u014159143/article/details/80307717?ops_request_misc=&request_id=&biz_id=102&utm_term=python%20%5B%20：，0，：%5D什么意思&utm_medium=distribute.pc_search_result.none-task-blog-2~all~sobaiduweb~default-4-80307717.first_rank_v2_pc_rank_v29\n",
        "\n",
        "'''"
      ],
      "execution_count": 171,
      "outputs": [
        {
          "output_type": "execute_result",
          "data": {
            "application/vnd.google.colaboratory.intrinsic+json": {
              "type": "string"
            },
            "text/plain": [
              "'\\n\\n[:,:,0]\\n取三维数组中第1列的所有楼层，所有行的数据\\n#https://blog.csdn.net/u014159143/article/details/80307717?ops_request_misc=&request_id=&biz_id=102&utm_term=python%20%5B%20：，0，：%5D什么意思&utm_medium=distribute.pc_search_result.none-task-blog-2~all~sobaiduweb~default-4-80307717.first_rank_v2_pc_rank_v29\\n\\n'"
            ]
          },
          "metadata": {
            "tags": []
          },
          "execution_count": 171
        }
      ]
    },
    {
      "cell_type": "code",
      "metadata": {
        "colab": {
          "base_uri": "https://localhost:8080/"
        },
        "id": "47go9HJJI2__",
        "outputId": "8363b6cc-b643-4f3a-b060-db23c968fa89"
      },
      "source": [
        "ind+batch_size\n",
        "#min(0+16, 48 )--16_____0---16\n",
        "#(16+16,48)32-______16-32\n",
        "#32+16,48 48____32---48\n",
        "\n",
        "#https://blog.csdn.net/wangchuner/article/details/102829111?ops_request_misc=%257B%2522request%255Fid%2522%253A%2522161684141016780265451641%2522%252C%2522scm%2522%253A%252220140713.130102334.pc%255Fall.%2522%257D&request_id=161684141016780265451641&biz_id=0&utm_medium=distribute.pc_search_result.none-task-blog-2~all~first_rank_v2~rank_v29-2-102829111.first_rank_v2_pc_rank_v29&utm_term=如何调用类里面的函数+python\n"
      ],
      "execution_count": 84,
      "outputs": [
        {
          "output_type": "execute_result",
          "data": {
            "text/plain": [
              "48"
            ]
          },
          "metadata": {
            "tags": []
          },
          "execution_count": 84
        }
      ]
    },
    {
      "cell_type": "code",
      "metadata": {
        "id": "fuUEy0EkIdOs"
      },
      "source": [
        ""
      ],
      "execution_count": 166,
      "outputs": []
    },
    {
      "cell_type": "code",
      "metadata": {
        "id": "G3f8CsTVtG8z"
      },
      "source": [
        "#optim\n",
        "#https://blog.csdn.net/nineship/article/details/89228497?ops_request_misc=&request_id=&biz_id=102&utm_term=torch.optim%20怎么用&utm_medium=distribute.pc_search_result.none-task-blog-2~all~sobaiduweb~default-4-89228497.first_rank_v2_pc_rank_v29"
      ],
      "execution_count": null,
      "outputs": []
    }
  ]
}