{
  "nbformat": 4,
  "nbformat_minor": 0,
  "metadata": {
    "kernelspec": {
      "display_name": "Python 3",
      "language": "python",
      "name": "python3"
    },
    "language_info": {
      "codemirror_mode": {
        "name": "ipython",
        "version": 3
      },
      "file_extension": ".py",
      "mimetype": "text/x-python",
      "name": "python",
      "nbconvert_exporter": "python",
      "pygments_lexer": "ipython3",
      "version": "3.6.8"
    },
    "colab": {
      "name": "ddLab11.ipynb",
      "provenance": [],
      "collapsed_sections": [],
      "include_colab_link": true
    },
    "accelerator": "GPU"
  },
  "cells": [
    {
      "cell_type": "markdown",
      "metadata": {
        "id": "view-in-github",
        "colab_type": "text"
      },
      "source": [
        "<a href=\"https://colab.research.google.com/github/Alecia113/NLP-Ex/blob/main/ddLab11.ipynb\" target=\"_parent\"><img src=\"https://colab.research.google.com/assets/colab-badge.svg\" alt=\"Open In Colab\"/></a>"
      ]
    },
    {
      "cell_type": "markdown",
      "metadata": {
        "id": "s55oVTgTXTDP"
      },
      "source": [
        "This code is from https://pytorch.org/tutorials/beginner/transformer_tutorial.html, pytorch official document about seq2seq modeling using Transformer."
      ]
    },
    {
      "cell_type": "code",
      "metadata": {
        "id": "Xtb2-yhjf9C9",
        "colab": {
          "base_uri": "https://localhost:8080/"
        },
        "outputId": "961de308-bb8e-4f81-e11d-d208c3cee840"
      },
      "source": [
        "!pip3 install torchtext==0.4.0"
      ],
      "execution_count": null,
      "outputs": [
        {
          "output_type": "stream",
          "text": [
            "Collecting torchtext==0.4.0\n",
            "\u001b[?25l  Downloading https://files.pythonhosted.org/packages/43/94/929d6bd236a4fb5c435982a7eb9730b78dcd8659acf328fd2ef9de85f483/torchtext-0.4.0-py3-none-any.whl (53kB)\n",
            "\r\u001b[K     |██████▏                         | 10kB 20.4MB/s eta 0:00:01\r\u001b[K     |████████████▍                   | 20kB 16.1MB/s eta 0:00:01\r\u001b[K     |██████████████████▌             | 30kB 9.8MB/s eta 0:00:01\r\u001b[K     |████████████████████████▊       | 40kB 8.2MB/s eta 0:00:01\r\u001b[K     |██████████████████████████████▉ | 51kB 5.2MB/s eta 0:00:01\r\u001b[K     |████████████████████████████████| 61kB 3.8MB/s \n",
            "\u001b[?25hRequirement already satisfied: numpy in /usr/local/lib/python3.7/dist-packages (from torchtext==0.4.0) (1.19.5)\n",
            "Requirement already satisfied: torch in /usr/local/lib/python3.7/dist-packages (from torchtext==0.4.0) (1.8.1+cu101)\n",
            "Requirement already satisfied: requests in /usr/local/lib/python3.7/dist-packages (from torchtext==0.4.0) (2.23.0)\n",
            "Requirement already satisfied: tqdm in /usr/local/lib/python3.7/dist-packages (from torchtext==0.4.0) (4.41.1)\n",
            "Requirement already satisfied: six in /usr/local/lib/python3.7/dist-packages (from torchtext==0.4.0) (1.15.0)\n",
            "Requirement already satisfied: typing-extensions in /usr/local/lib/python3.7/dist-packages (from torch->torchtext==0.4.0) (3.7.4.3)\n",
            "Requirement already satisfied: idna<3,>=2.5 in /usr/local/lib/python3.7/dist-packages (from requests->torchtext==0.4.0) (2.10)\n",
            "Requirement already satisfied: urllib3!=1.25.0,!=1.25.1,<1.26,>=1.21.1 in /usr/local/lib/python3.7/dist-packages (from requests->torchtext==0.4.0) (1.24.3)\n",
            "Requirement already satisfied: chardet<4,>=3.0.2 in /usr/local/lib/python3.7/dist-packages (from requests->torchtext==0.4.0) (3.0.4)\n",
            "Requirement already satisfied: certifi>=2017.4.17 in /usr/local/lib/python3.7/dist-packages (from requests->torchtext==0.4.0) (2020.12.5)\n",
            "Installing collected packages: torchtext\n",
            "  Found existing installation: torchtext 0.9.1\n",
            "    Uninstalling torchtext-0.9.1:\n",
            "      Successfully uninstalled torchtext-0.9.1\n",
            "Successfully installed torchtext-0.4.0\n"
          ],
          "name": "stdout"
        }
      ]
    },
    {
      "cell_type": "markdown",
      "metadata": {
        "id": "9XjsunFtWPQv"
      },
      "source": [
        "\n",
        "Sequence-to-Sequence Modeling with nn.Transformer and TorchText\n",
        "===============================================================\n",
        "\n",
        "This is a tutorial on how to train a sequence-to-sequence model\n",
        "that uses the\n",
        "[nn.Transformer](https://pytorch.org/docs/master/nn.html?highlight=nn%20transformer#torch.nn.Transformer) module.\n",
        "\n",
        "PyTorch 1.2 release includes a standard transformer module based on the\n",
        "paper [Attention is All You\n",
        "Need](https://arxiv.org/pdf/1706.03762.pdf) . The transformer model\n",
        "has been proved to be superior in quality for many sequence-to-sequence\n",
        "problems while being more parallelizable. The ``nn.Transformer`` module\n",
        "relies entirely on an attention mechanism (another module recently\n",
        "implemented as [nn.MultiheadAttention](https://pytorch.org/docs/master/nn.html?highlight=multiheadattention#torch.nn.MultiheadAttention) to draw global dependencies\n",
        "between input and output. The ``nn.Transformer`` module is now highly\n",
        "modularized such that a single component (like `nn.TransformerEncoder`\n",
        "in this tutorial) can be easily adapted/composed.\n",
        "\n",
        "![](https://github.com/pytorch/tutorials/blob/gh-pages/_static/img/transformer_architecture.jpg?raw=1)\n",
        "\n",
        "\n",
        "\n"
      ]
    },
    {
      "cell_type": "markdown",
      "metadata": {
        "id": "23r1Mv0wWPQw"
      },
      "source": [
        "Define the model\n",
        "----------------\n",
        "\n",
        "\n"
      ]
    },
    {
      "cell_type": "markdown",
      "metadata": {
        "id": "K102Br-MWPQx"
      },
      "source": [
        "In this tutorial, we train ``nn.TransformerEncoder`` model on a\n",
        "language modeling task. The language modeling task is to assign a\n",
        "probability for the likelihood of a given word (or a sequence of words)\n",
        "to follow a sequence of words. \n",
        "\n",
        "A sequence of tokens are passed to the embedding\n",
        "layer first, followed by a positional encoding layer to account for the order\n",
        "of the word (see the next paragraph for more details). The\n",
        "``nn.TransformerEncoder`` consists of multiple layers of\n",
        "[nn.TransformerEncoderLayer](https://pytorch.org/docs/master/nn.html?highlight=transformerencoderlayer#torch.nn.TransformerEncoderLayer) . Along with the input sequence, a square\n",
        "attention mask is required because the self-attention layers in\n",
        "``nn.TransformerEncoder`` are only allowed to attend the earlier positions in\n",
        "the sequence. For the language modeling task, any tokens on the future\n",
        "positions should be masked. To have the actual words, the output\n",
        "of ``nn.TransformerEncoder`` model is sent to the final Linear\n",
        "layer, which is followed by a log-Softmax function.\n",
        "\n",
        "\n"
      ]
    },
    {
      "cell_type": "markdown",
      "metadata": {
        "id": "UY8FTTcSa_f7"
      },
      "source": [
        "### Transformer Model"
      ]
    },
    {
      "cell_type": "code",
      "metadata": {
        "id": "po8nLNxXWPQy"
      },
      "source": [
        "import math\n",
        "import torch\n",
        "import torch.nn as nn\n",
        "import torch.nn.functional as F\n",
        "\n",
        "class TransformerModel(nn.Module):\n",
        "\n",
        "    def __init__(self, ntoken, ninp, nhead, nhid, nlayers, dropout=0.5):\n",
        "        super(TransformerModel, self).__init__()\n",
        "        from torch.nn import TransformerEncoder, TransformerEncoderLayer\n",
        "        self.model_type = 'Transformer'\n",
        "        self.src_mask = None\n",
        "        self.pos_encoder = PositionalEncoding(ninp, dropout)\n",
        "        encoder_layers = TransformerEncoderLayer(ninp, nhead, nhid, dropout)\n",
        "        self.transformer_encoder = TransformerEncoder(encoder_layers, nlayers)\n",
        "        self.encoder = nn.Embedding(ntoken, ninp)\n",
        "        self.ninp = ninp\n",
        "        self.decoder = nn.Linear(ninp, ntoken)\n",
        "\n",
        "        self.init_weights()\n",
        "\n",
        "    def _generate_square_subsequent_mask(self, sz):\n",
        "        #triu returns the upper triangular part of a matrix (2-D tensor) or batch of matrices (see section below)\n",
        "        mask = (torch.triu(torch.ones(sz, sz)) == 1).transpose(0, 1)\n",
        "        mask = mask.float().masked_fill(mask == 0, float('-inf')).masked_fill(mask == 1, float(0.0))\n",
        "        return mask\n",
        "\n",
        "    def init_weights(self):\n",
        "        initrange = 0.1\n",
        "        self.encoder.weight.data.uniform_(-initrange, initrange)\n",
        "        self.decoder.bias.data.zero_()\n",
        "        self.decoder.weight.data.uniform_(-initrange, initrange)\n",
        "\n",
        "    def forward(self, src):\n",
        "        if self.src_mask is None or self.src_mask.size(0) != len(src):\n",
        "            device = src.device\n",
        "            mask = self._generate_square_subsequent_mask(len(src)).to(device)\n",
        "            self.src_mask = mask\n",
        "\n",
        "        src = self.encoder(src) * math.sqrt(self.ninp)\n",
        "        src = self.pos_encoder(src)\n",
        "        output = self.transformer_encoder(src, self.src_mask)\n",
        "        output = self.decoder(output)\n",
        "        return output"
      ],
      "execution_count": null,
      "outputs": []
    },
    {
      "cell_type": "markdown",
      "metadata": {
        "id": "yYv1_CYrJzFG"
      },
      "source": [
        "#### Masking\n",
        "By passing the mask into the transformer_encoder forward() function, the attention will only be calculated on the earlier positions in the sequence."
      ]
    },
    {
      "cell_type": "code",
      "metadata": {
        "id": "JKVBR--Galxk",
        "colab": {
          "base_uri": "https://localhost:8080/"
        },
        "outputId": "7298c19b-ba1a-414c-ba6b-42fb537b23d3"
      },
      "source": [
        "#triu returns the upper triangular part of a matrix (2-D tensor) or batch of matrices (see section below)\n",
        "torch.triu(torch.ones(3, 3))"
      ],
      "execution_count": null,
      "outputs": [
        {
          "output_type": "execute_result",
          "data": {
            "text/plain": [
              "tensor([[1., 1., 1.],\n",
              "        [0., 1., 1.],\n",
              "        [0., 0., 1.]])"
            ]
          },
          "metadata": {
            "tags": []
          },
          "execution_count": 3
        }
      ]
    },
    {
      "cell_type": "code",
      "metadata": {
        "id": "btnWrvo-ayP2",
        "colab": {
          "base_uri": "https://localhost:8080/"
        },
        "outputId": "2df783e1-e5a4-4a60-f0d2-6fb30393fd0f"
      },
      "source": [
        "# Masking\n",
        "def masking():\n",
        "  sz = 4\n",
        "  mask = (torch.triu(torch.ones(sz, sz)) == 1).transpose(0, 1)\n",
        "  mask = mask.float().masked_fill(mask == 0, float('-inf')).masked_fill(mask == 1, float(0.0))\n",
        "  \n",
        "  return mask\n",
        "\n",
        "masking()"
      ],
      "execution_count": null,
      "outputs": [
        {
          "output_type": "execute_result",
          "data": {
            "text/plain": [
              "tensor([[0., -inf, -inf, -inf],\n",
              "        [0., 0., -inf, -inf],\n",
              "        [0., 0., 0., -inf],\n",
              "        [0., 0., 0., 0.]])"
            ]
          },
          "metadata": {
            "tags": []
          },
          "execution_count": 4
        }
      ]
    },
    {
      "cell_type": "markdown",
      "metadata": {
        "id": "jh47UCwObCf-"
      },
      "source": [
        "### Positional Encoding"
      ]
    },
    {
      "cell_type": "markdown",
      "metadata": {
        "id": "-xdCyMPQWPQ3"
      },
      "source": [
        "Transformer architecture takes base architecture of Seq2Seq model (Encoder - Decoder). However, the transformer does not use recurrent model so this means we need a module that captures sequence information of the input/output.\n",
        "\n",
        "``PositionalEncoding`` module injects some information about the\n",
        "relative or absolute position of the tokens in the sequence. The\n",
        "positional encodings have the same dimension as the embeddings so that\n",
        "the two can be summed. Here, we use ``sine`` and ``cosine`` functions of\n",
        "different frequencies.\n",
        "\n",
        "\n",
        "\n",
        "\n"
      ]
    },
    {
      "cell_type": "code",
      "metadata": {
        "id": "ffk_fy_eWPQ4"
      },
      "source": [
        "class PositionalEncoding(nn.Module):\n",
        "\n",
        "    def __init__(self, d_model, dropout=0.1, max_len=5000):\n",
        "        super(PositionalEncoding, self).__init__()\n",
        "        self.dropout = nn.Dropout(p=dropout)\n",
        "\n",
        "        pe = torch.zeros(max_len, d_model)\n",
        "        position = torch.arange(0, max_len, dtype=torch.float).unsqueeze(1)\n",
        "        div_term = torch.exp(torch.arange(0, d_model, 2).float() * (-math.log(10000.0) / d_model))\n",
        "        pe[:, 0::2] = torch.sin(position * div_term) #0::2 means starting with index 0, step = 2\n",
        "        pe[:, 1::2] = torch.cos(position * div_term) \n",
        "        pe = pe.unsqueeze(0).transpose(0, 1)\n",
        "        self.register_buffer('pe', pe)\n",
        "\n",
        "    def forward(self, x):\n",
        "        x = x + self.pe[:x.size(0), :]\n",
        "        return self.dropout(x)"
      ],
      "execution_count": null,
      "outputs": []
    },
    {
      "cell_type": "markdown",
      "metadata": {
        "id": "65glmcV4WPQ9"
      },
      "source": [
        "Load and batch data\n",
        "-------------------\n",
        "\n",
        "\n"
      ]
    },
    {
      "cell_type": "markdown",
      "metadata": {
        "id": "aHI1s_A_WPQ-"
      },
      "source": [
        "The training process uses Wikitext-2 dataset from ``torchtext``. The\n",
        "vocab object is built based on the train dataset and is used to numericalize\n",
        "tokens into tensors. Starting from sequential data, the ``batchify()``\n",
        "function arranges the dataset into columns, trimming off any tokens remaining\n",
        "after the data has been divided into batches of size ``batch_size``.\n",
        "For instance, with the alphabet as the sequence (total length of 26)\n",
        "and a batch size of 4, we would divide the alphabet into 4 sequences of\n",
        "length 6:\n",
        "\n",
        "\\begin{align}\\begin{bmatrix}\n",
        "  \\text{A} & \\text{B} & \\text{C} & \\ldots & \\text{X} & \\text{Y} & \\text{Z}\n",
        "  \\end{bmatrix}\n",
        "  \\Rightarrow\n",
        "  \\begin{bmatrix}\n",
        "  \\begin{bmatrix}\\text{A} \\\\ \\text{B} \\\\ \\text{C} \\\\ \\text{D} \\\\ \\text{E} \\\\ \\text{F}\\end{bmatrix} &\n",
        "  \\begin{bmatrix}\\text{G} \\\\ \\text{H} \\\\ \\text{I} \\\\ \\text{J} \\\\ \\text{K} \\\\ \\text{L}\\end{bmatrix} &\n",
        "  \\begin{bmatrix}\\text{M} \\\\ \\text{N} \\\\ \\text{O} \\\\ \\text{P} \\\\ \\text{Q} \\\\ \\text{R}\\end{bmatrix} &\n",
        "  \\begin{bmatrix}\\text{S} \\\\ \\text{T} \\\\ \\text{U} \\\\ \\text{V} \\\\ \\text{W} \\\\ \\text{X}\\end{bmatrix}\n",
        "  \\end{bmatrix}\\end{align}\n",
        "\n",
        "These columns are treated as independent by the model, which means that\n",
        "the dependence of ``G`` and ``F`` can not be learned, but allows more\n",
        "efficient batch processing.\n",
        "\n",
        "\n"
      ]
    },
    {
      "cell_type": "code",
      "metadata": {
        "id": "2bJTXDCtWPQ_",
        "colab": {
          "base_uri": "https://localhost:8080/"
        },
        "outputId": "3ed83219-11ae-4fe6-f5d0-6c9ef268b2f3"
      },
      "source": [
        "import torchtext\n",
        "from torchtext.data.utils import get_tokenizer\n",
        "TEXT = torchtext.data.Field(tokenize=get_tokenizer(\"basic_english\"),\n",
        "                            init_token='<sos>',\n",
        "                            eos_token='<eos>',\n",
        "                            lower=True)\n",
        "train_txt, val_txt, test_txt = torchtext.datasets.WikiText2.splits(TEXT)\n",
        "TEXT.build_vocab(train_txt)\n",
        "device = torch.device(\"cuda\" if torch.cuda.is_available() else \"cpu\")\n",
        "\n",
        "def batchify(data, bsz):\n",
        "    data = TEXT.numericalize([data.examples[0].text])\n",
        "    # Divide the dataset into bsz parts.\n",
        "    nbatch = data.size(0) // bsz\n",
        "    # Trim off any extra elements that wouldn't cleanly fit (remainders).\n",
        "    data = data.narrow(0, 0, nbatch * bsz)\n",
        "    # Evenly divide the data across the bsz batches.\n",
        "    data = data.view(bsz, -1).t().contiguous()\n",
        "    return data.to(device)\n",
        "\n",
        "batch_size = 20\n",
        "eval_batch_size = 10\n",
        "train_data = batchify(train_txt, batch_size)\n",
        "val_data = batchify(val_txt, eval_batch_size)\n",
        "test_data = batchify(test_txt, eval_batch_size)"
      ],
      "execution_count": null,
      "outputs": [
        {
          "output_type": "stream",
          "text": [
            "downloading wikitext-2-v1.zip\n"
          ],
          "name": "stdout"
        },
        {
          "output_type": "stream",
          "text": [
            "wikitext-2-v1.zip: 100%|██████████| 4.48M/4.48M [00:00<00:00, 18.8MB/s]\n"
          ],
          "name": "stderr"
        },
        {
          "output_type": "stream",
          "text": [
            "extracting\n"
          ],
          "name": "stdout"
        }
      ]
    },
    {
      "cell_type": "markdown",
      "metadata": {
        "id": "0OE4TAV9WPRD"
      },
      "source": [
        "Functions to generate input and target sequence\n",
        "\n"
      ]
    },
    {
      "cell_type": "markdown",
      "metadata": {
        "id": "Kq_pEBjoWPRE"
      },
      "source": [
        "``get_batch()`` function generates the input and target sequence for\n",
        "the transformer model. It subdivides the source data into chunks of\n",
        "length ``bptt``. For the language modeling task, the model needs the\n",
        "following words as ``Target``. For example, with a ``bptt`` value of 2,\n",
        "we’d get the following two Variables for ``i`` = 0:\n",
        "\n",
        "![](https://github.com/pytorch/tutorials/blob/gh-pages/_static/img/transformer_input_target.png?raw=1)\n",
        "\n",
        "\n",
        "It should be noted that the chunks are along dimension 0, consistent\n",
        "with the ``S`` dimension in the Transformer model. The batch dimension\n",
        "``N`` is along dimension 1.\n",
        "\n",
        "\n"
      ]
    },
    {
      "cell_type": "code",
      "metadata": {
        "id": "QPhRYAjYWPRE"
      },
      "source": [
        "bptt = 35\n",
        "def get_batch(source, i):\n",
        "    seq_len = min(bptt, len(source) - 1 - i)\n",
        "    data = source[i:i+seq_len]\n",
        "    target = source[i+1:i+1+seq_len].view(-1)\n",
        "    return data, target"
      ],
      "execution_count": null,
      "outputs": []
    },
    {
      "cell_type": "markdown",
      "metadata": {
        "id": "G6_5USduWPRU"
      },
      "source": [
        "Initiate an instance\n",
        "--------------------\n",
        "\n",
        "\n"
      ]
    },
    {
      "cell_type": "markdown",
      "metadata": {
        "id": "Qr6Wa55XWPRV"
      },
      "source": [
        "The model is set up with the hyperparameter below. The vocab size is\n",
        "equal to the length of the vocab object.\n",
        "\n",
        "\n"
      ]
    },
    {
      "cell_type": "code",
      "metadata": {
        "id": "ky6yqdrkWPRW"
      },
      "source": [
        "ntokens = len(TEXT.vocab.stoi) # the size of vocabulary\n",
        "emsize = 200 # embedding dimension\n",
        "nhid = 200 # the dimension of the feedforward network model in nn.TransformerEncoder\n",
        "nlayers = 2 # the number of nn.TransformerEncoderLayer in nn.TransformerEncoder\n",
        "nhead = 2 # the number of heads in the multiheadattention models\n",
        "dropout = 0.2 # the dropout value\n",
        "model = TransformerModel(ntokens, emsize, nhead, nhid, nlayers, dropout).to(device)"
      ],
      "execution_count": null,
      "outputs": []
    },
    {
      "cell_type": "markdown",
      "metadata": {
        "id": "WGCV6PTHWPRd"
      },
      "source": [
        "Run the model\n",
        "-------------\n",
        "\n",
        "\n"
      ]
    },
    {
      "cell_type": "markdown",
      "metadata": {
        "id": "-7nw5RbXWPRf"
      },
      "source": [
        "`CrossEntropyLoss `\n",
        "is applied to track the loss and\n",
        "`SGD `\n",
        "implements stochastic gradient descent method as the optimizer. The initial\n",
        "learning rate is set to 5.0. `StepLR ` is\n",
        "applied to adjust the learn rate through epochs. During the\n",
        "training, we use\n",
        "`nn.utils.clip_grad_norm_ `\n",
        "function to scale all the gradient together to prevent exploding.\n",
        "\n",
        "\n"
      ]
    },
    {
      "cell_type": "code",
      "metadata": {
        "id": "8FrOT_epWPRg"
      },
      "source": [
        "criterion = nn.CrossEntropyLoss()\n",
        "lr = 5.0 # learning rate\n",
        "optimizer = torch.optim.SGD(model.parameters(), lr=lr)\n",
        "scheduler = torch.optim.lr_scheduler.StepLR(optimizer, 1.0, gamma=0.95)\n",
        "\n",
        "import time\n",
        "def train():\n",
        "\n",
        "    model.train() # Turn on the train mode\n",
        "    total_loss = 0.\n",
        "    start_time = time.time()\n",
        "    ntokens = len(TEXT.vocab.stoi)\n",
        "    for batch, i in enumerate(range(0, train_data.size(0) - 1, bptt)):\n",
        "        data, targets = get_batch(train_data, i)\n",
        "        optimizer.zero_grad()\n",
        "        output = model(data)\n",
        "        loss = criterion(output.view(-1, ntokens), targets)\n",
        "        loss.backward()\n",
        "        torch.nn.utils.clip_grad_norm_(model.parameters(), 0.5)\n",
        "        optimizer.step()\n",
        "\n",
        "        total_loss += loss.item()\n",
        "        log_interval = 200\n",
        "        if batch % log_interval == 0 and batch > 0:\n",
        "            cur_loss = total_loss / log_interval\n",
        "            elapsed = time.time() - start_time\n",
        "            print('| epoch {:3d} | {:5d}/{:5d} batches | '\n",
        "                  'lr {:02.2f} | ms/batch {:5.2f} | '\n",
        "                  'loss {:5.2f} | ppl {:8.2f}'.format(\n",
        "                    epoch, batch, len(train_data) // bptt, scheduler.get_lr()[0],\n",
        "                    elapsed * 1000 / log_interval,\n",
        "                    cur_loss, math.exp(cur_loss)))\n",
        "            total_loss = 0\n",
        "            start_time = time.time()\n",
        "\n",
        "\n",
        "def evaluate(eval_model, data_source):\n",
        "    eval_model.eval() # Turn on the evaluation mode\n",
        "    total_loss = 0.\n",
        "    ntokens = len(TEXT.vocab.stoi)\n",
        "    with torch.no_grad():\n",
        "        for i in range(0, data_source.size(0) - 1, bptt):\n",
        "            data, targets = get_batch(data_source, i)\n",
        "            output = eval_model(data)\n",
        "            output_flat = output.view(-1, ntokens)\n",
        "            total_loss += len(data) * criterion(output_flat, targets).item()\n",
        "    return total_loss / (len(data_source) - 1)"
      ],
      "execution_count": null,
      "outputs": []
    },
    {
      "cell_type": "markdown",
      "metadata": {
        "id": "B_dj-0RwWPRj"
      },
      "source": [
        "Loop over epochs. Save the model if the validation loss is the best\n",
        "we've seen so far. Adjust the learning rate after each epoch.\n",
        "\n"
      ]
    },
    {
      "cell_type": "code",
      "metadata": {
        "id": "2Ceh4l7p0z1c"
      },
      "source": [
        ""
      ],
      "execution_count": null,
      "outputs": []
    },
    {
      "cell_type": "code",
      "metadata": {
        "id": "n17HNUS4WPRk",
        "colab": {
          "base_uri": "https://localhost:8080/"
        },
        "outputId": "c8d1a2fd-5a5a-4212-fa88-3dc6f5824fb4"
      },
      "source": [
        "best_val_loss = float(\"inf\")\n",
        "epochs = 3 # The number of epochs\n",
        "best_model = None\n",
        "\n",
        "for epoch in range(1, epochs + 1):\n",
        "    epoch_start_time = time.time()\n",
        "    train()\n",
        "    val_loss = evaluate(model, val_data)\n",
        "    print('-' * 89)\n",
        "    print('| end of epoch {:3d} | time: {:5.2f}s | valid loss {:5.2f} | '\n",
        "          'valid ppl {:8.2f}'.format(epoch, (time.time() - epoch_start_time),\n",
        "                                     val_loss, math.exp(val_loss)))\n",
        "    print('-' * 89)\n",
        "\n",
        "    if val_loss < best_val_loss:\n",
        "        best_val_loss = val_loss\n",
        "        best_model = model\n",
        "\n",
        "    scheduler.step()"
      ],
      "execution_count": null,
      "outputs": [
        {
          "output_type": "stream",
          "text": [
            "/usr/local/lib/python3.7/dist-packages/torch/optim/lr_scheduler.py:370: UserWarning: To get the last learning rate computed by the scheduler, please use `get_last_lr()`.\n",
            "  \"please use `get_last_lr()`.\", UserWarning)\n"
          ],
          "name": "stderr"
        },
        {
          "output_type": "stream",
          "text": [
            "| epoch   1 |   200/ 2981 batches | lr 5.00 | ms/batch 22.39 | loss  8.06 | ppl  3155.62\n",
            "| epoch   1 |   400/ 2981 batches | lr 5.00 | ms/batch 21.46 | loss  6.83 | ppl   920.94\n",
            "| epoch   1 |   600/ 2981 batches | lr 5.00 | ms/batch 21.39 | loss  6.37 | ppl   586.98\n",
            "| epoch   1 |   800/ 2981 batches | lr 5.00 | ms/batch 21.44 | loss  6.24 | ppl   511.30\n",
            "| epoch   1 |  1000/ 2981 batches | lr 5.00 | ms/batch 21.39 | loss  6.12 | ppl   453.86\n",
            "| epoch   1 |  1200/ 2981 batches | lr 5.00 | ms/batch 21.43 | loss  6.09 | ppl   439.98\n",
            "| epoch   1 |  1400/ 2981 batches | lr 5.00 | ms/batch 21.43 | loss  6.04 | ppl   420.34\n",
            "| epoch   1 |  1600/ 2981 batches | lr 5.00 | ms/batch 21.42 | loss  6.04 | ppl   420.72\n",
            "| epoch   1 |  1800/ 2981 batches | lr 5.00 | ms/batch 21.51 | loss  5.96 | ppl   386.22\n",
            "| epoch   1 |  2000/ 2981 batches | lr 5.00 | ms/batch 21.46 | loss  5.96 | ppl   387.19\n",
            "| epoch   1 |  2200/ 2981 batches | lr 5.00 | ms/batch 21.48 | loss  5.85 | ppl   348.02\n",
            "| epoch   1 |  2400/ 2981 batches | lr 5.00 | ms/batch 21.46 | loss  5.90 | ppl   363.37\n",
            "| epoch   1 |  2600/ 2981 batches | lr 5.00 | ms/batch 21.42 | loss  5.90 | ppl   363.23\n",
            "| epoch   1 |  2800/ 2981 batches | lr 5.00 | ms/batch 21.45 | loss  5.80 | ppl   330.38\n",
            "-----------------------------------------------------------------------------------------\n",
            "| end of epoch   1 | time: 66.55s | valid loss  5.76 | valid ppl   316.28\n",
            "-----------------------------------------------------------------------------------------\n",
            "| epoch   2 |   200/ 2981 batches | lr 4.51 | ms/batch 21.61 | loss  5.80 | ppl   330.23\n",
            "| epoch   2 |   400/ 2981 batches | lr 4.51 | ms/batch 21.50 | loss  5.77 | ppl   321.16\n",
            "| epoch   2 |   600/ 2981 batches | lr 4.51 | ms/batch 21.50 | loss  5.60 | ppl   270.22\n",
            "| epoch   2 |   800/ 2981 batches | lr 4.51 | ms/batch 21.55 | loss  5.64 | ppl   280.90\n",
            "| epoch   2 |  1000/ 2981 batches | lr 4.51 | ms/batch 21.49 | loss  5.59 | ppl   267.85\n",
            "| epoch   2 |  1200/ 2981 batches | lr 4.51 | ms/batch 21.47 | loss  5.62 | ppl   275.47\n",
            "| epoch   2 |  1400/ 2981 batches | lr 4.51 | ms/batch 21.48 | loss  5.63 | ppl   278.82\n",
            "| epoch   2 |  1600/ 2981 batches | lr 4.51 | ms/batch 21.55 | loss  5.67 | ppl   289.34\n",
            "| epoch   2 |  1800/ 2981 batches | lr 4.51 | ms/batch 21.53 | loss  5.59 | ppl   267.42\n",
            "| epoch   2 |  2000/ 2981 batches | lr 4.51 | ms/batch 21.50 | loss  5.62 | ppl   274.79\n",
            "| epoch   2 |  2200/ 2981 batches | lr 4.51 | ms/batch 21.47 | loss  5.51 | ppl   246.86\n",
            "| epoch   2 |  2400/ 2981 batches | lr 4.51 | ms/batch 21.48 | loss  5.57 | ppl   261.70\n",
            "| epoch   2 |  2600/ 2981 batches | lr 4.51 | ms/batch 21.49 | loss  5.58 | ppl   265.82\n",
            "| epoch   2 |  2800/ 2981 batches | lr 4.51 | ms/batch 21.44 | loss  5.52 | ppl   250.58\n",
            "-----------------------------------------------------------------------------------------\n",
            "| end of epoch   2 | time: 66.53s | valid loss  5.58 | valid ppl   264.50\n",
            "-----------------------------------------------------------------------------------------\n",
            "| epoch   3 |   200/ 2981 batches | lr 4.29 | ms/batch 21.73 | loss  5.54 | ppl   255.80\n",
            "| epoch   3 |   400/ 2981 batches | lr 4.29 | ms/batch 21.59 | loss  5.55 | ppl   256.76\n",
            "| epoch   3 |   600/ 2981 batches | lr 4.29 | ms/batch 21.56 | loss  5.36 | ppl   212.96\n",
            "| epoch   3 |   800/ 2981 batches | lr 4.29 | ms/batch 21.52 | loss  5.42 | ppl   225.46\n",
            "| epoch   3 |  1000/ 2981 batches | lr 4.29 | ms/batch 21.58 | loss  5.37 | ppl   214.89\n",
            "| epoch   3 |  1200/ 2981 batches | lr 4.29 | ms/batch 21.57 | loss  5.41 | ppl   223.92\n",
            "| epoch   3 |  1400/ 2981 batches | lr 4.29 | ms/batch 21.58 | loss  5.43 | ppl   228.79\n",
            "| epoch   3 |  1600/ 2981 batches | lr 4.29 | ms/batch 21.49 | loss  5.47 | ppl   238.28\n",
            "| epoch   3 |  1800/ 2981 batches | lr 4.29 | ms/batch 21.46 | loss  5.41 | ppl   224.37\n",
            "| epoch   3 |  2000/ 2981 batches | lr 4.29 | ms/batch 21.53 | loss  5.44 | ppl   229.65\n",
            "| epoch   3 |  2200/ 2981 batches | lr 4.29 | ms/batch 21.48 | loss  5.33 | ppl   205.73\n",
            "| epoch   3 |  2400/ 2981 batches | lr 4.29 | ms/batch 21.44 | loss  5.39 | ppl   220.26\n",
            "| epoch   3 |  2600/ 2981 batches | lr 4.29 | ms/batch 21.42 | loss  5.41 | ppl   224.59\n",
            "| epoch   3 |  2800/ 2981 batches | lr 4.29 | ms/batch 21.45 | loss  5.34 | ppl   208.49\n",
            "-----------------------------------------------------------------------------------------\n",
            "| end of epoch   3 | time: 66.56s | valid loss  5.54 | valid ppl   255.23\n",
            "-----------------------------------------------------------------------------------------\n"
          ],
          "name": "stdout"
        }
      ]
    },
    {
      "cell_type": "markdown",
      "metadata": {
        "id": "stKeoW99WPRn"
      },
      "source": [
        "Evaluate the model with the test dataset\n",
        "-------------------------------------\n",
        "\n",
        "Apply the best model to check the result with the test dataset.\n",
        "\n"
      ]
    },
    {
      "cell_type": "code",
      "metadata": {
        "id": "VxzbDUnFWPRp",
        "colab": {
          "base_uri": "https://localhost:8080/"
        },
        "outputId": "3c46c441-c1ff-4513-d2c4-505e56545086"
      },
      "source": [
        "test_loss = evaluate(best_model, test_data)\n",
        "print('=' * 89)\n",
        "print('| End of training | test loss {:5.2f} | test ppl {:8.2f}'.format(\n",
        "    test_loss, math.exp(test_loss)))\n",
        "print('=' * 89)"
      ],
      "execution_count": null,
      "outputs": [
        {
          "output_type": "stream",
          "text": [
            "=========================================================================================\n",
            "| End of training | test loss  5.44 | test ppl   231.38\n",
            "=========================================================================================\n"
          ],
          "name": "stdout"
        }
      ]
    },
    {
      "cell_type": "markdown",
      "metadata": {
        "id": "FC3ND0e8I4Z9"
      },
      "source": [
        "# Hugging Face Transformer\n",
        "\n",
        "Hugging Face is a library providing transformers and related models. The tutorial links can be found here: https://huggingface.co/transformers/notebooks.html\n",
        "\n",
        "**Note**: You MUST NOT fine-tune a pretrained model in Assignment2!"
      ]
    },
    {
      "cell_type": "markdown",
      "metadata": {
        "id": "C4xteNApjplg"
      },
      "source": [
        "# Exercise"
      ]
    },
    {
      "cell_type": "markdown",
      "metadata": {
        "id": "edjjkL_SjrL0"
      },
      "source": [
        "## E1. What is an advantage of the transformer model over RNNs?"
      ]
    },
    {
      "cell_type": "markdown",
      "metadata": {
        "id": "JjozONcUjsRm"
      },
      "source": [
        "Your Answer:"
      ]
    },
    {
      "cell_type": "markdown",
      "metadata": {
        "id": "MdmzzhI5iP93"
      },
      "source": [
        "## E2 Test with Transformer\n",
        "Try different number of heads in Multi-head Attention, **or** different number of encoders, and record the test performance. Draw a graph to show the test performance (or validation losses/ppls) vs number of heads, or the test performance (or validation losses/ppls) vs number of encoders, (you can keep epochs = 3)"
      ]
    },
    {
      "cell_type": "code",
      "metadata": {
        "id": "L37XqRug6mKf"
      },
      "source": [
        "ntokens = len(TEXT.vocab.stoi) # the size of vocabulary\n",
        "emsize = 200 # embedding dimension\n",
        "nhid = 200 # the dimension of the feedforward network model in nn.TransformerEncoder\n",
        "nlayers = 2 # the number of nn.TransformerEncoderLayer in nn.TransformerEncoder\n",
        "nheads = [1,2,4,8] # the number of heads in the multiheadattention models\n",
        "dropout = 0.2 # the dropout value\n",
        "Model =[]\n",
        "for nhead in nheads:\n",
        "  model = TransformerModel(ntokens, emsize, nhead, nhid, nlayers, dropout).to(device)\n",
        "  Model.append(model)\n",
        "Model"
      ],
      "execution_count": null,
      "outputs": []
    },
    {
      "cell_type": "code",
      "metadata": {
        "id": "10V5mZI94w_y"
      },
      "source": [
        ""
      ],
      "execution_count": null,
      "outputs": []
    },
    {
      "cell_type": "code",
      "metadata": {
        "colab": {
          "base_uri": "https://localhost:8080/"
        },
        "id": "WBBC3_Ep2PGu",
        "outputId": "75b4dc73-1817-4b72-8d43-c45314842ff5"
      },
      "source": [
        "performance = []\n",
        "T_performance = []\n",
        "for I in range(len(Model)):\n",
        "  print('''\n",
        "====================================================================================================\n",
        "Training the model with following configs: number of heads=%d & number of encoders=2\n",
        "====================================================================================================\n",
        "''' %(nheads[I]))\n",
        "  model = Model[I]\n",
        "\n",
        "  criterion = nn.CrossEntropyLoss()\n",
        "  lr = 5.0 # learning rate\n",
        "  optimizer = torch.optim.SGD(model.parameters(), lr=lr)\n",
        "  scheduler = torch.optim.lr_scheduler.StepLR(optimizer, 1.0, gamma=0.95)\n",
        "\n",
        "  best_val_loss = float(\"inf\")\n",
        "  epochs = 3 # The number of epochs\n",
        "  best_model = None\n",
        "\n",
        "  perf = []\n",
        "  for epoch in range(1, epochs + 1):\n",
        "      epoch_start_time = time.time()\n",
        "      train()\n",
        "      val_loss = evaluate(model, val_data)\n",
        "      print('-' * 89)\n",
        "      print('| end of epoch {:3d} | time: {:5.2f}s | valid loss {:5.2f} | '\n",
        "            'valid ppl {:8.2f}'.format(epoch, (time.time() - epoch_start_time),\n",
        "                                      val_loss, math.exp(val_loss)))\n",
        "      print('-' * 89)\n",
        "\n",
        "      if val_loss < best_val_loss:\n",
        "          best_val_loss = val_loss\n",
        "          best_model = model\n",
        "\n",
        "      perf.append(val_loss)\n",
        "\n",
        "      scheduler.step()\n",
        "\n",
        "  test_loss = evaluate(best_model, test_data)\n",
        "  print('=' * 89)\n",
        "  print('| End of training | test loss {:5.2f} | test ppl {:8.2f}'.format(\n",
        "      test_loss, math.exp(test_loss)))\n",
        "  print('=' * 89)\n",
        "\n",
        "  performance.append(perf)\n",
        "  T_performance.append(test_loss)"
      ],
      "execution_count": null,
      "outputs": [
        {
          "output_type": "stream",
          "text": [
            "\n",
            "====================================================================================================\n",
            "Training the model with following configs: number of heads=1 & number of encoders=2\n",
            "====================================================================================================\n",
            "\n"
          ],
          "name": "stdout"
        },
        {
          "output_type": "stream",
          "text": [
            "/usr/local/lib/python3.7/dist-packages/torch/optim/lr_scheduler.py:370: UserWarning: To get the last learning rate computed by the scheduler, please use `get_last_lr()`.\n",
            "  \"please use `get_last_lr()`.\", UserWarning)\n"
          ],
          "name": "stderr"
        },
        {
          "output_type": "stream",
          "text": [
            "| epoch   1 |   200/ 2981 batches | lr 5.00 | ms/batch 21.77 | loss  5.07 | ppl   159.00\n",
            "| epoch   1 |   400/ 2981 batches | lr 5.00 | ms/batch 21.39 | loss  5.09 | ppl   162.01\n",
            "| epoch   1 |   600/ 2981 batches | lr 5.00 | ms/batch 21.37 | loss  4.90 | ppl   133.94\n",
            "| epoch   1 |   800/ 2981 batches | lr 5.00 | ms/batch 21.37 | loss  5.01 | ppl   150.21\n",
            "| epoch   1 |  1000/ 2981 batches | lr 5.00 | ms/batch 21.43 | loss  5.08 | ppl   160.78\n",
            "| epoch   1 |  1200/ 2981 batches | lr 5.00 | ms/batch 21.46 | loss  5.12 | ppl   166.52\n",
            "| epoch   1 |  1400/ 2981 batches | lr 5.00 | ms/batch 21.43 | loss  5.16 | ppl   175.01\n",
            "| epoch   1 |  1600/ 2981 batches | lr 5.00 | ms/batch 21.42 | loss  5.20 | ppl   181.25\n",
            "| epoch   1 |  1800/ 2981 batches | lr 5.00 | ms/batch 21.48 | loss  5.15 | ppl   172.48\n",
            "| epoch   1 |  2000/ 2981 batches | lr 5.00 | ms/batch 21.43 | loss  5.15 | ppl   173.27\n",
            "| epoch   1 |  2200/ 2981 batches | lr 5.00 | ms/batch 21.42 | loss  5.03 | ppl   153.41\n",
            "| epoch   1 |  2400/ 2981 batches | lr 5.00 | ms/batch 21.39 | loss  5.11 | ppl   165.79\n",
            "| epoch   1 |  2600/ 2981 batches | lr 5.00 | ms/batch 21.41 | loss  5.14 | ppl   170.75\n",
            "| epoch   1 |  2800/ 2981 batches | lr 5.00 | ms/batch 21.40 | loss  5.09 | ppl   161.81\n",
            "-----------------------------------------------------------------------------------------\n",
            "| end of epoch   1 | time: 66.33s | valid loss  5.45 | valid ppl   232.74\n",
            "-----------------------------------------------------------------------------------------\n",
            "| epoch   2 |   200/ 2981 batches | lr 4.51 | ms/batch 21.50 | loss  5.01 | ppl   149.98\n",
            "| epoch   2 |   400/ 2981 batches | lr 4.51 | ms/batch 21.44 | loss  5.01 | ppl   149.16\n",
            "| epoch   2 |   600/ 2981 batches | lr 4.51 | ms/batch 21.37 | loss  4.83 | ppl   124.61\n",
            "| epoch   2 |   800/ 2981 batches | lr 4.51 | ms/batch 21.35 | loss  4.93 | ppl   138.98\n",
            "| epoch   2 |  1000/ 2981 batches | lr 4.51 | ms/batch 21.46 | loss  4.98 | ppl   145.98\n",
            "| epoch   2 |  1200/ 2981 batches | lr 4.51 | ms/batch 21.39 | loss  5.03 | ppl   153.56\n",
            "| epoch   2 |  1400/ 2981 batches | lr 4.51 | ms/batch 21.46 | loss  5.07 | ppl   158.51\n",
            "| epoch   2 |  1600/ 2981 batches | lr 4.51 | ms/batch 21.40 | loss  5.11 | ppl   165.56\n",
            "| epoch   2 |  1800/ 2981 batches | lr 4.51 | ms/batch 21.39 | loss  5.06 | ppl   158.27\n",
            "| epoch   2 |  2000/ 2981 batches | lr 4.51 | ms/batch 21.39 | loss  5.08 | ppl   160.23\n",
            "| epoch   2 |  2200/ 2981 batches | lr 4.51 | ms/batch 21.43 | loss  4.96 | ppl   142.03\n",
            "| epoch   2 |  2400/ 2981 batches | lr 4.51 | ms/batch 21.44 | loss  5.03 | ppl   153.09\n",
            "| epoch   2 |  2600/ 2981 batches | lr 4.51 | ms/batch 21.41 | loss  5.07 | ppl   158.44\n",
            "| epoch   2 |  2800/ 2981 batches | lr 4.51 | ms/batch 21.47 | loss  5.00 | ppl   148.16\n",
            "-----------------------------------------------------------------------------------------\n",
            "| end of epoch   2 | time: 66.27s | valid loss  5.51 | valid ppl   248.00\n",
            "-----------------------------------------------------------------------------------------\n",
            "| epoch   3 |   200/ 2981 batches | lr 4.29 | ms/batch 21.53 | loss  4.94 | ppl   140.03\n",
            "| epoch   3 |   400/ 2981 batches | lr 4.29 | ms/batch 21.39 | loss  4.94 | ppl   139.48\n",
            "| epoch   3 |   600/ 2981 batches | lr 4.29 | ms/batch 21.36 | loss  4.76 | ppl   116.27\n",
            "| epoch   3 |   800/ 2981 batches | lr 4.29 | ms/batch 21.38 | loss  4.85 | ppl   127.46\n",
            "| epoch   3 |  1000/ 2981 batches | lr 4.29 | ms/batch 21.37 | loss  4.92 | ppl   137.26\n",
            "| epoch   3 |  1200/ 2981 batches | lr 4.29 | ms/batch 21.39 | loss  4.95 | ppl   140.99\n",
            "| epoch   3 |  1400/ 2981 batches | lr 4.29 | ms/batch 21.37 | loss  4.98 | ppl   145.72\n",
            "| epoch   3 |  1600/ 2981 batches | lr 4.29 | ms/batch 21.37 | loss  5.02 | ppl   151.52\n",
            "| epoch   3 |  1800/ 2981 batches | lr 4.29 | ms/batch 21.41 | loss  5.01 | ppl   150.65\n",
            "| epoch   3 |  2000/ 2981 batches | lr 4.29 | ms/batch 21.43 | loss  4.99 | ppl   147.12\n",
            "| epoch   3 |  2200/ 2981 batches | lr 4.29 | ms/batch 21.41 | loss  4.87 | ppl   130.33\n",
            "| epoch   3 |  2400/ 2981 batches | lr 4.29 | ms/batch 21.49 | loss  4.95 | ppl   141.19\n",
            "| epoch   3 |  2600/ 2981 batches | lr 4.29 | ms/batch 21.43 | loss  5.00 | ppl   148.02\n",
            "| epoch   3 |  2800/ 2981 batches | lr 4.29 | ms/batch 21.50 | loss  4.92 | ppl   137.32\n",
            "-----------------------------------------------------------------------------------------\n",
            "| end of epoch   3 | time: 66.25s | valid loss  5.54 | valid ppl   253.52\n",
            "-----------------------------------------------------------------------------------------\n",
            "=========================================================================================\n",
            "| End of training | test loss  5.43 | test ppl   228.96\n",
            "=========================================================================================\n",
            "\n",
            "====================================================================================================\n",
            "Training the model with following configs: number of heads=2 & number of encoders=2\n",
            "====================================================================================================\n",
            "\n",
            "| epoch   1 |   200/ 2981 batches | lr 5.00 | ms/batch 21.70 | loss  5.42 | ppl   225.11\n",
            "| epoch   1 |   400/ 2981 batches | lr 5.00 | ms/batch 21.61 | loss  5.45 | ppl   231.80\n",
            "| epoch   1 |   600/ 2981 batches | lr 5.00 | ms/batch 21.59 | loss  5.27 | ppl   193.47\n",
            "| epoch   1 |   800/ 2981 batches | lr 5.00 | ms/batch 21.51 | loss  5.31 | ppl   202.46\n",
            "| epoch   1 |  1000/ 2981 batches | lr 5.00 | ms/batch 21.61 | loss  5.27 | ppl   193.91\n",
            "| epoch   1 |  1200/ 2981 batches | lr 5.00 | ms/batch 21.51 | loss  5.31 | ppl   203.07\n",
            "| epoch   1 |  1400/ 2981 batches | lr 5.00 | ms/batch 21.50 | loss  5.33 | ppl   207.38\n",
            "| epoch   1 |  1600/ 2981 batches | lr 5.00 | ms/batch 21.50 | loss  5.38 | ppl   217.60\n",
            "| epoch   1 |  1800/ 2981 batches | lr 5.00 | ms/batch 21.51 | loss  5.32 | ppl   204.87\n",
            "| epoch   1 |  2000/ 2981 batches | lr 5.00 | ms/batch 21.50 | loss  5.36 | ppl   212.01\n",
            "| epoch   1 |  2200/ 2981 batches | lr 5.00 | ms/batch 21.46 | loss  5.23 | ppl   187.18\n",
            "| epoch   1 |  2400/ 2981 batches | lr 5.00 | ms/batch 21.46 | loss  5.32 | ppl   204.89\n",
            "| epoch   1 |  2600/ 2981 batches | lr 5.00 | ms/batch 21.48 | loss  5.34 | ppl   207.49\n",
            "| epoch   1 |  2800/ 2981 batches | lr 5.00 | ms/batch 21.49 | loss  5.25 | ppl   190.89\n",
            "-----------------------------------------------------------------------------------------\n",
            "| end of epoch   1 | time: 66.58s | valid loss  5.58 | valid ppl   265.79\n",
            "-----------------------------------------------------------------------------------------\n",
            "| epoch   2 |   200/ 2981 batches | lr 4.51 | ms/batch 21.62 | loss  5.30 | ppl   200.45\n",
            "| epoch   2 |   400/ 2981 batches | lr 4.51 | ms/batch 21.55 | loss  5.33 | ppl   205.44\n",
            "| epoch   2 |   600/ 2981 batches | lr 4.51 | ms/batch 21.55 | loss  5.13 | ppl   169.28\n",
            "| epoch   2 |   800/ 2981 batches | lr 4.51 | ms/batch 21.60 | loss  5.19 | ppl   180.11\n",
            "| epoch   2 |  1000/ 2981 batches | lr 4.51 | ms/batch 21.54 | loss  5.16 | ppl   174.60\n",
            "| epoch   2 |  1200/ 2981 batches | lr 4.51 | ms/batch 21.50 | loss  5.20 | ppl   182.07\n",
            "| epoch   2 |  1400/ 2981 batches | lr 4.51 | ms/batch 21.50 | loss  5.23 | ppl   187.37\n",
            "| epoch   2 |  1600/ 2981 batches | lr 4.51 | ms/batch 21.57 | loss  5.28 | ppl   196.56\n",
            "| epoch   2 |  1800/ 2981 batches | lr 4.51 | ms/batch 21.62 | loss  5.23 | ppl   186.97\n",
            "| epoch   2 |  2000/ 2981 batches | lr 4.51 | ms/batch 21.48 | loss  5.25 | ppl   190.26\n",
            "| epoch   2 |  2200/ 2981 batches | lr 4.51 | ms/batch 21.56 | loss  5.11 | ppl   166.39\n",
            "| epoch   2 |  2400/ 2981 batches | lr 4.51 | ms/batch 21.53 | loss  5.20 | ppl   181.48\n",
            "| epoch   2 |  2600/ 2981 batches | lr 4.51 | ms/batch 21.48 | loss  5.23 | ppl   186.09\n",
            "| epoch   2 |  2800/ 2981 batches | lr 4.51 | ms/batch 21.50 | loss  5.16 | ppl   174.56\n",
            "-----------------------------------------------------------------------------------------\n",
            "| end of epoch   2 | time: 66.62s | valid loss  5.50 | valid ppl   243.52\n",
            "-----------------------------------------------------------------------------------------\n",
            "| epoch   3 |   200/ 2981 batches | lr 4.29 | ms/batch 21.56 | loss  5.19 | ppl   179.42\n",
            "| epoch   3 |   400/ 2981 batches | lr 4.29 | ms/batch 21.49 | loss  5.23 | ppl   187.36\n",
            "| epoch   3 |   600/ 2981 batches | lr 4.29 | ms/batch 21.59 | loss  5.03 | ppl   153.61\n",
            "| epoch   3 |   800/ 2981 batches | lr 4.29 | ms/batch 21.59 | loss  5.12 | ppl   167.81\n",
            "| epoch   3 |  1000/ 2981 batches | lr 4.29 | ms/batch 21.56 | loss  5.07 | ppl   159.07\n",
            "| epoch   3 |  1200/ 2981 batches | lr 4.29 | ms/batch 21.49 | loss  5.11 | ppl   166.28\n",
            "| epoch   3 |  1400/ 2981 batches | lr 4.29 | ms/batch 21.48 | loss  5.15 | ppl   171.96\n",
            "| epoch   3 |  1600/ 2981 batches | lr 4.29 | ms/batch 21.52 | loss  5.19 | ppl   179.72\n",
            "| epoch   3 |  1800/ 2981 batches | lr 4.29 | ms/batch 21.54 | loss  5.13 | ppl   169.48\n",
            "| epoch   3 |  2000/ 2981 batches | lr 4.29 | ms/batch 21.58 | loss  5.17 | ppl   176.41\n",
            "| epoch   3 |  2200/ 2981 batches | lr 4.29 | ms/batch 21.48 | loss  5.04 | ppl   154.48\n",
            "| epoch   3 |  2400/ 2981 batches | lr 4.29 | ms/batch 21.57 | loss  5.12 | ppl   167.51\n",
            "| epoch   3 |  2600/ 2981 batches | lr 4.29 | ms/batch 21.47 | loss  5.13 | ppl   169.63\n",
            "| epoch   3 |  2800/ 2981 batches | lr 4.29 | ms/batch 21.49 | loss  5.09 | ppl   163.08\n",
            "-----------------------------------------------------------------------------------------\n",
            "| end of epoch   3 | time: 66.57s | valid loss  5.48 | valid ppl   240.81\n",
            "-----------------------------------------------------------------------------------------\n",
            "=========================================================================================\n",
            "| End of training | test loss  5.39 | test ppl   218.45\n",
            "=========================================================================================\n",
            "\n",
            "====================================================================================================\n",
            "Training the model with following configs: number of heads=4 & number of encoders=2\n",
            "====================================================================================================\n",
            "\n",
            "| epoch   1 |   200/ 2981 batches | lr 5.00 | ms/batch 21.63 | loss  5.44 | ppl   230.06\n",
            "| epoch   1 |   400/ 2981 batches | lr 5.00 | ms/batch 21.48 | loss  5.46 | ppl   235.53\n",
            "| epoch   1 |   600/ 2981 batches | lr 5.00 | ms/batch 21.48 | loss  5.27 | ppl   193.47\n",
            "| epoch   1 |   800/ 2981 batches | lr 5.00 | ms/batch 21.51 | loss  5.35 | ppl   209.89\n",
            "| epoch   1 |  1000/ 2981 batches | lr 5.00 | ms/batch 21.59 | loss  5.29 | ppl   198.62\n",
            "| epoch   1 |  1200/ 2981 batches | lr 5.00 | ms/batch 21.58 | loss  5.33 | ppl   206.43\n",
            "| epoch   1 |  1400/ 2981 batches | lr 5.00 | ms/batch 21.63 | loss  5.35 | ppl   211.50\n",
            "| epoch   1 |  1600/ 2981 batches | lr 5.00 | ms/batch 21.54 | loss  5.42 | ppl   225.59\n",
            "| epoch   1 |  1800/ 2981 batches | lr 5.00 | ms/batch 21.51 | loss  5.34 | ppl   208.21\n",
            "| epoch   1 |  2000/ 2981 batches | lr 5.00 | ms/batch 21.56 | loss  5.39 | ppl   218.31\n",
            "| epoch   1 |  2200/ 2981 batches | lr 5.00 | ms/batch 21.60 | loss  5.26 | ppl   191.76\n",
            "| epoch   1 |  2400/ 2981 batches | lr 5.00 | ms/batch 21.60 | loss  5.33 | ppl   207.09\n",
            "| epoch   1 |  2600/ 2981 batches | lr 5.00 | ms/batch 21.65 | loss  5.35 | ppl   210.10\n",
            "| epoch   1 |  2800/ 2981 batches | lr 5.00 | ms/batch 21.54 | loss  5.29 | ppl   197.72\n",
            "-----------------------------------------------------------------------------------------\n",
            "| end of epoch   1 | time: 66.69s | valid loss  5.47 | valid ppl   236.46\n",
            "-----------------------------------------------------------------------------------------\n",
            "| epoch   2 |   200/ 2981 batches | lr 4.51 | ms/batch 21.59 | loss  5.34 | ppl   207.78\n",
            "| epoch   2 |   400/ 2981 batches | lr 4.51 | ms/batch 21.43 | loss  5.35 | ppl   210.33\n",
            "| epoch   2 |   600/ 2981 batches | lr 4.51 | ms/batch 21.46 | loss  5.16 | ppl   174.58\n",
            "| epoch   2 |   800/ 2981 batches | lr 4.51 | ms/batch 21.46 | loss  5.23 | ppl   187.57\n",
            "| epoch   2 |  1000/ 2981 batches | lr 4.51 | ms/batch 21.47 | loss  5.20 | ppl   181.15\n",
            "| epoch   2 |  1200/ 2981 batches | lr 4.51 | ms/batch 21.53 | loss  5.24 | ppl   188.29\n",
            "| epoch   2 |  1400/ 2981 batches | lr 4.51 | ms/batch 21.59 | loss  5.26 | ppl   192.60\n",
            "| epoch   2 |  1600/ 2981 batches | lr 4.51 | ms/batch 21.50 | loss  5.32 | ppl   203.95\n",
            "| epoch   2 |  1800/ 2981 batches | lr 4.51 | ms/batch 21.58 | loss  5.26 | ppl   191.60\n",
            "| epoch   2 |  2000/ 2981 batches | lr 4.51 | ms/batch 21.58 | loss  5.28 | ppl   196.36\n",
            "| epoch   2 |  2200/ 2981 batches | lr 4.51 | ms/batch 21.51 | loss  5.15 | ppl   172.54\n",
            "| epoch   2 |  2400/ 2981 batches | lr 4.51 | ms/batch 21.58 | loss  5.23 | ppl   186.67\n",
            "| epoch   2 |  2600/ 2981 batches | lr 4.51 | ms/batch 21.54 | loss  5.25 | ppl   191.10\n",
            "| epoch   2 |  2800/ 2981 batches | lr 4.51 | ms/batch 21.63 | loss  5.19 | ppl   179.15\n",
            "-----------------------------------------------------------------------------------------\n",
            "| end of epoch   2 | time: 66.59s | valid loss  5.45 | valid ppl   231.82\n",
            "-----------------------------------------------------------------------------------------\n",
            "| epoch   3 |   200/ 2981 batches | lr 4.29 | ms/batch 21.60 | loss  5.23 | ppl   186.32\n",
            "| epoch   3 |   400/ 2981 batches | lr 4.29 | ms/batch 21.50 | loss  5.26 | ppl   192.01\n",
            "| epoch   3 |   600/ 2981 batches | lr 4.29 | ms/batch 21.43 | loss  5.07 | ppl   159.01\n",
            "| epoch   3 |   800/ 2981 batches | lr 4.29 | ms/batch 21.47 | loss  5.15 | ppl   172.12\n",
            "| epoch   3 |  1000/ 2981 batches | lr 4.29 | ms/batch 21.43 | loss  5.11 | ppl   165.99\n",
            "| epoch   3 |  1200/ 2981 batches | lr 4.29 | ms/batch 21.50 | loss  5.15 | ppl   172.75\n",
            "| epoch   3 |  1400/ 2981 batches | lr 4.29 | ms/batch 21.53 | loss  5.16 | ppl   174.89\n",
            "| epoch   3 |  1600/ 2981 batches | lr 4.29 | ms/batch 21.55 | loss  5.22 | ppl   185.59\n",
            "| epoch   3 |  1800/ 2981 batches | lr 4.29 | ms/batch 21.59 | loss  5.17 | ppl   175.33\n",
            "| epoch   3 |  2000/ 2981 batches | lr 4.29 | ms/batch 21.55 | loss  5.22 | ppl   184.57\n",
            "| epoch   3 |  2200/ 2981 batches | lr 4.29 | ms/batch 21.51 | loss  5.07 | ppl   159.95\n",
            "| epoch   3 |  2400/ 2981 batches | lr 4.29 | ms/batch 21.49 | loss  5.16 | ppl   173.67\n",
            "| epoch   3 |  2600/ 2981 batches | lr 4.29 | ms/batch 21.59 | loss  5.17 | ppl   176.51\n",
            "| epoch   3 |  2800/ 2981 batches | lr 4.29 | ms/batch 21.55 | loss  5.11 | ppl   166.31\n",
            "-----------------------------------------------------------------------------------------\n",
            "| end of epoch   3 | time: 66.56s | valid loss  5.46 | valid ppl   235.05\n",
            "-----------------------------------------------------------------------------------------\n",
            "=========================================================================================\n",
            "| End of training | test loss  5.36 | test ppl   213.42\n",
            "=========================================================================================\n",
            "\n",
            "====================================================================================================\n",
            "Training the model with following configs: number of heads=8 & number of encoders=2\n",
            "====================================================================================================\n",
            "\n",
            "| epoch   1 |   200/ 2981 batches | lr 5.00 | ms/batch 21.82 | loss  5.45 | ppl   232.59\n",
            "| epoch   1 |   400/ 2981 batches | lr 5.00 | ms/batch 21.76 | loss  5.47 | ppl   237.14\n",
            "| epoch   1 |   600/ 2981 batches | lr 5.00 | ms/batch 21.71 | loss  5.27 | ppl   194.44\n",
            "| epoch   1 |   800/ 2981 batches | lr 5.00 | ms/batch 21.66 | loss  5.33 | ppl   206.81\n",
            "| epoch   1 |  1000/ 2981 batches | lr 5.00 | ms/batch 21.70 | loss  5.30 | ppl   200.52\n",
            "| epoch   1 |  1200/ 2981 batches | lr 5.00 | ms/batch 21.68 | loss  5.37 | ppl   214.24\n",
            "| epoch   1 |  1400/ 2981 batches | lr 5.00 | ms/batch 21.68 | loss  5.38 | ppl   216.84\n",
            "| epoch   1 |  1600/ 2981 batches | lr 5.00 | ms/batch 21.72 | loss  5.43 | ppl   227.39\n",
            "| epoch   1 |  1800/ 2981 batches | lr 5.00 | ms/batch 21.68 | loss  5.35 | ppl   210.15\n",
            "| epoch   1 |  2000/ 2981 batches | lr 5.00 | ms/batch 21.66 | loss  5.39 | ppl   218.63\n",
            "| epoch   1 |  2200/ 2981 batches | lr 5.00 | ms/batch 21.62 | loss  5.27 | ppl   193.97\n",
            "| epoch   1 |  2400/ 2981 batches | lr 5.00 | ms/batch 21.64 | loss  5.36 | ppl   213.06\n",
            "| epoch   1 |  2600/ 2981 batches | lr 5.00 | ms/batch 21.67 | loss  5.37 | ppl   215.40\n",
            "| epoch   1 |  2800/ 2981 batches | lr 5.00 | ms/batch 21.66 | loss  5.31 | ppl   203.27\n",
            "-----------------------------------------------------------------------------------------\n",
            "| end of epoch   1 | time: 67.04s | valid loss  5.58 | valid ppl   265.79\n",
            "-----------------------------------------------------------------------------------------\n",
            "| epoch   2 |   200/ 2981 batches | lr 4.51 | ms/batch 21.85 | loss  5.34 | ppl   209.31\n",
            "| epoch   2 |   400/ 2981 batches | lr 4.51 | ms/batch 21.66 | loss  5.37 | ppl   214.55\n",
            "| epoch   2 |   600/ 2981 batches | lr 4.51 | ms/batch 21.62 | loss  5.19 | ppl   178.85\n",
            "| epoch   2 |   800/ 2981 batches | lr 4.51 | ms/batch 21.65 | loss  5.25 | ppl   191.16\n",
            "| epoch   2 |  1000/ 2981 batches | lr 4.51 | ms/batch 21.65 | loss  5.21 | ppl   182.55\n",
            "| epoch   2 |  1200/ 2981 batches | lr 4.51 | ms/batch 21.74 | loss  5.25 | ppl   191.51\n",
            "| epoch   2 |  1400/ 2981 batches | lr 4.51 | ms/batch 21.70 | loss  5.28 | ppl   197.13\n",
            "| epoch   2 |  1600/ 2981 batches | lr 4.51 | ms/batch 21.72 | loss  5.34 | ppl   207.65\n",
            "| epoch   2 |  1800/ 2981 batches | lr 4.51 | ms/batch 21.75 | loss  5.27 | ppl   195.00\n",
            "| epoch   2 |  2000/ 2981 batches | lr 4.51 | ms/batch 21.63 | loss  5.31 | ppl   201.91\n",
            "| epoch   2 |  2200/ 2981 batches | lr 4.51 | ms/batch 21.62 | loss  5.18 | ppl   178.26\n",
            "| epoch   2 |  2400/ 2981 batches | lr 4.51 | ms/batch 21.62 | loss  5.27 | ppl   194.54\n",
            "| epoch   2 |  2600/ 2981 batches | lr 4.51 | ms/batch 21.62 | loss  5.29 | ppl   198.05\n",
            "| epoch   2 |  2800/ 2981 batches | lr 4.51 | ms/batch 21.67 | loss  5.23 | ppl   187.26\n",
            "-----------------------------------------------------------------------------------------\n",
            "| end of epoch   2 | time: 67.03s | valid loss  5.48 | valid ppl   238.95\n",
            "-----------------------------------------------------------------------------------------\n",
            "| epoch   3 |   200/ 2981 batches | lr 4.29 | ms/batch 21.88 | loss  5.26 | ppl   192.55\n",
            "| epoch   3 |   400/ 2981 batches | lr 4.29 | ms/batch 21.71 | loss  5.30 | ppl   200.17\n",
            "| epoch   3 |   600/ 2981 batches | lr 4.29 | ms/batch 21.70 | loss  5.10 | ppl   163.88\n",
            "| epoch   3 |   800/ 2981 batches | lr 4.29 | ms/batch 21.74 | loss  5.16 | ppl   174.90\n",
            "| epoch   3 |  1000/ 2981 batches | lr 4.29 | ms/batch 21.65 | loss  5.14 | ppl   170.82\n",
            "| epoch   3 |  1200/ 2981 batches | lr 4.29 | ms/batch 21.67 | loss  5.18 | ppl   177.64\n",
            "| epoch   3 |  1400/ 2981 batches | lr 4.29 | ms/batch 21.66 | loss  5.21 | ppl   182.45\n",
            "| epoch   3 |  1600/ 2981 batches | lr 4.29 | ms/batch 21.71 | loss  5.25 | ppl   191.41\n",
            "| epoch   3 |  1800/ 2981 batches | lr 4.29 | ms/batch 21.73 | loss  5.20 | ppl   181.65\n",
            "| epoch   3 |  2000/ 2981 batches | lr 4.29 | ms/batch 21.73 | loss  5.23 | ppl   186.66\n",
            "| epoch   3 |  2200/ 2981 batches | lr 4.29 | ms/batch 21.72 | loss  5.12 | ppl   166.52\n",
            "| epoch   3 |  2400/ 2981 batches | lr 4.29 | ms/batch 21.66 | loss  5.21 | ppl   182.30\n",
            "| epoch   3 |  2600/ 2981 batches | lr 4.29 | ms/batch 21.65 | loss  5.21 | ppl   182.55\n",
            "| epoch   3 |  2800/ 2981 batches | lr 4.29 | ms/batch 21.64 | loss  5.15 | ppl   173.26\n",
            "-----------------------------------------------------------------------------------------\n",
            "| end of epoch   3 | time: 67.07s | valid loss  5.42 | valid ppl   226.38\n",
            "-----------------------------------------------------------------------------------------\n",
            "=========================================================================================\n",
            "| End of training | test loss  5.33 | test ppl   206.26\n",
            "=========================================================================================\n"
          ],
          "name": "stdout"
        }
      ]
    },
    {
      "cell_type": "code",
      "metadata": {
        "id": "R_Bd_jByAGIK"
      },
      "source": [
        ""
      ],
      "execution_count": null,
      "outputs": []
    },
    {
      "cell_type": "code",
      "metadata": {
        "id": "UJya3UQo7VDm"
      },
      "source": [
        ""
      ],
      "execution_count": null,
      "outputs": []
    },
    {
      "cell_type": "code",
      "metadata": {
        "colab": {
          "base_uri": "https://localhost:8080/",
          "height": 590
        },
        "id": "pyX-hEG1U6m6",
        "outputId": "caff7ca8-3ce2-4fd8-ce55-9adfd5350457"
      },
      "source": [
        "import matplotlib.pyplot as plt\n",
        "\n",
        "plt.xlabel(\"number of heads\")\n",
        "plt.ylabel(\"test performance\")\n",
        "plt.title(\"Test performance - Number of heads\")\n",
        "\n",
        "plt.bar(nheads,T_performance, color = 'b')\n",
        "plt.legend()\n",
        "plt.show()\n",
        "\n",
        "\n",
        "\n",
        "plt.xlabel(\"Number of epochs\")\n",
        "plt.ylabel(\"performance\")\n",
        "plt.title(\"performance - Number of heads\")\n",
        "\n",
        "epoch = [1,2,3]\n",
        "plt.plot(epoch,performance[0],'blue',markersize = 5, label = '1 heads')\n",
        "plt.plot(epoch,performance[1],'orange',markersize = 5, label = '2 heads')\n",
        "plt.plot(epoch,performance[2],'green',markersize = 5, label = '4 heads')\n",
        "plt.plot(epoch,performance[3],'red',markersize = 5, label = '8 heads')\n",
        "plt.legend(nheads)\n",
        "plt.show()\n",
        "\n"
      ],
      "execution_count": null,
      "outputs": [
        {
          "output_type": "stream",
          "text": [
            "WARNING:matplotlib.legend:No handles with labels found to put in legend.\n"
          ],
          "name": "stderr"
        },
        {
          "output_type": "display_data",
          "data": {
            "image/png": "[encoded data removed]",
            "text/plain": [
              "<Figure size 432x288 with 1 Axes>"
            ]
          },
          "metadata": {
            "tags": [],
            "needs_background": "light"
          }
        },
        {
          "output_type": "display_data",
          "data": {
            "image/png": "[encoded data removed]",
            "text/plain": [
              "<Figure size 432x288 with 1 Axes>"
            ]
          },
          "metadata": {
            "tags": [],
            "needs_background": "light"
          }
        }
      ]
    },
    {
      "cell_type": "markdown",
      "metadata": {
        "id": "7Oml50dl8G6X"
      },
      "source": [
        ""
      ]
    },
    {
      "cell_type": "code",
      "metadata": {
        "id": "PBzOECAJVC2X"
      },
      "source": [
        ""
      ],
      "execution_count": null,
      "outputs": []
    }
  ]
}