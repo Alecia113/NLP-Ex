{
  "nbformat": 4,
  "nbformat_minor": 0,
  "metadata": {
    "colab": {
      "name": "L6.1.ipynb",
      "provenance": [],
      "collapsed_sections": [],
      "authorship_tag": "ABX9TyPBmEbiMikTDn4SRkmGDZ7b",
      "include_colab_link": true
    },
    "kernelspec": {
      "name": "python3",
      "display_name": "Python 3"
    },
    "language_info": {
      "name": "python"
    }
  },
  "cells": [
    {
      "cell_type": "markdown",
      "metadata": {
        "id": "view-in-github",
        "colab_type": "text"
      },
      "source": [
        "<a href=\"https://colab.research.google.com/github/Alecia113/NLP-Ex/blob/main/L6_1.ipynb\" target=\"_parent\"><img src=\"https://colab.research.google.com/assets/colab-badge.svg\" alt=\"Open In Colab\"/></a>"
      ]
    },
    {
      "cell_type": "markdown",
      "metadata": {
        "id": "ybINuUBDMtVH"
      },
      "source": [
        "## E1.  When using HMM to solve POS Tagging problem, what is (1) the hidden state, (2) an observation, (3) a transition probability example, (4) an emission probability example\n",
        "In the HMM example mentioned in the lecture, **hidden state** is the weather, **observation** is clothes that the person wears, **a transition probability example** is the probability that today is rainy if yesterday was cloudy, **an emission probability example** is the probability that a person wears a shirt if it is cloudy."
      ]
    },
    {
      "cell_type": "markdown",
      "metadata": {
        "id": "BNBEZPYSdOgp"
      },
      "source": [
        "E1. 当使用HMM解决POS标签问题时，什么是（1）隐藏状态，（2）观察，（3）过渡概率例子，（4）排放概率例子？\n",
        "在讲座中提到的HMM例子中，隐藏状态是天气，观察是人穿的衣服，过渡概率例子是如果昨天是阴天，今天是下雨的概率，排放概率例子是如果是阴天，人穿衬衫的概率"
      ]
    },
    {
      "cell_type": "markdown",
      "metadata": {
        "id": "ixArTNflPVpK"
      },
      "source": [
        "Your answer:"
      ]
    },
    {
      "cell_type": "markdown",
      "metadata": {
        "id": "qpkj0iSKDSMr"
      },
      "source": [
        "## E2. Testing with the new sentence\n",
        "\n",
        "In this exercise, you are to classify part-of-speech(pos) tags on user-defined sentences using the Bi-LSTM model trained right before the exercise. (You can call functions and use the variables directly, just assume this part is the last part of Bi-LSTM based POS Tagger code). You should complete a function which returns the POS tags list for the input. **Note**: Your output should be \"cut off\" to the actual length of each sentence."
      ]
    },
    {
      "cell_type": "markdown",
      "metadata": {
        "id": "1e141FN3dTYH"
      },
      "source": [
        "## E2. 用新句子测试\n",
        "\n",
        "在这个练习中，你要用练习前训练好的Bi-LSTM模型对用户定义的句子进行语音部分（pos）标记分类。你可以直接调用函数和使用变量，只是假设这部分是基于Bi-LSTM的POS标签的最后一部分代码）。你应该完成一个函数，返回输入的POS标签列表。**注意**。你的输出应该被 \"截断 \"到每个句子的实际长度。"
      ]
    },
    {
      "cell_type": "code",
      "metadata": {
        "colab": {
          "base_uri": "https://localhost:8080/"
        },
        "id": "wfo16tUOd9jB",
        "outputId": "be505032-be8a-41da-8f46-ca3efa6e2485"
      },
      "source": [
        "import nltk\n",
        "\n",
        "# Downloading required corpus\n",
        "nltk.download('punkt')\n",
        "nltk.download('brown')\n",
        "\n",
        "from nltk import word_tokenize\n",
        "from nltk.corpus import brown\n",
        "import pprint\n",
        "brown_tagged_sents = brown.tagged_sents(categories='news')\n",
        "brown_sents = brown.sents(categories='news')"
      ],
      "execution_count": 28,
      "outputs": [
        {
          "output_type": "stream",
          "text": [
            "[nltk_data] Downloading package punkt to /root/nltk_data...\n",
            "[nltk_data]   Package punkt is already up-to-date!\n",
            "[nltk_data] Downloading package brown to /root/nltk_data...\n",
            "[nltk_data]   Package brown is already up-to-date!\n"
          ],
          "name": "stdout"
        }
      ]
    },
    {
      "cell_type": "code",
      "metadata": {
        "id": "GvssU9MseBMu"
      },
      "source": [
        " # Define regular expression patterns\n",
        " patterns = [\n",
        "        (r'.*ing$', 'VBG'),               # gerunds\n",
        "        (r'.*ed$', 'VBD'),                # simple past\n",
        "        (r'.*es$', 'VBZ'),                # 3rd singular present\n",
        "        (r'.*ould$', 'MD'),               # modals\n",
        "        (r'.*\\'s$', 'NN$'),               # possessive nouns\n",
        "        (r'.*s$', 'NNS'),                 # plural nouns\n",
        "        (r'^-?[0-9]+(.[0-9]+)?$', 'CD'),  # cardinal numbers\n",
        "        (r'.*', 'NN')                     # nouns (default)\n",
        "    ]"
      ],
      "execution_count": 4,
      "outputs": []
    },
    {
      "cell_type": "code",
      "metadata": {
        "colab": {
          "base_uri": "https://localhost:8080/"
        },
        "id": "jbmKZeJTjvlV",
        "outputId": "bba345bf-71f3-4cea-c871-2d5f64a1f28f"
      },
      "source": [
        "# Pretagged training data\n",
        "brown_tagged_sents = brown.tagged_sents()\n",
        "\n",
        "print(brown_tagged_sents)"
      ],
      "execution_count": 58,
      "outputs": [
        {
          "output_type": "stream",
          "text": [
            "[[('The', 'AT'), ('Fulton', 'NP-TL'), ('County', 'NN-TL'), ('Grand', 'JJ-TL'), ('Jury', 'NN-TL'), ('said', 'VBD'), ('Friday', 'NR'), ('an', 'AT'), ('investigation', 'NN'), ('of', 'IN'), (\"Atlanta's\", 'NP$'), ('recent', 'JJ'), ('primary', 'NN'), ('election', 'NN'), ('produced', 'VBD'), ('``', '``'), ('no', 'AT'), ('evidence', 'NN'), (\"''\", \"''\"), ('that', 'CS'), ('any', 'DTI'), ('irregularities', 'NNS'), ('took', 'VBD'), ('place', 'NN'), ('.', '.')], [('The', 'AT'), ('jury', 'NN'), ('further', 'RBR'), ('said', 'VBD'), ('in', 'IN'), ('term-end', 'NN'), ('presentments', 'NNS'), ('that', 'CS'), ('the', 'AT'), ('City', 'NN-TL'), ('Executive', 'JJ-TL'), ('Committee', 'NN-TL'), (',', ','), ('which', 'WDT'), ('had', 'HVD'), ('over-all', 'JJ'), ('charge', 'NN'), ('of', 'IN'), ('the', 'AT'), ('election', 'NN'), (',', ','), ('``', '``'), ('deserves', 'VBZ'), ('the', 'AT'), ('praise', 'NN'), ('and', 'CC'), ('thanks', 'NNS'), ('of', 'IN'), ('the', 'AT'), ('City', 'NN-TL'), ('of', 'IN-TL'), ('Atlanta', 'NP-TL'), (\"''\", \"''\"), ('for', 'IN'), ('the', 'AT'), ('manner', 'NN'), ('in', 'IN'), ('which', 'WDT'), ('the', 'AT'), ('election', 'NN'), ('was', 'BEDZ'), ('conducted', 'VBN'), ('.', '.')], ...]\n"
          ],
          "name": "stdout"
        }
      ]
    },
    {
      "cell_type": "code",
      "metadata": {
        "id": "oyjZ3iEDeIon"
      },
      "source": [
        "# Build regular expression tagger using the defined patterns\n",
        "regexp_tagger = nltk.RegexpTagger(patterns)\n",
        "\n",
        "# Print one of the sentences\n",
        "print(brown_sents[3])\n",
        "# Print one of the tagged sentences\n",
        "print(regexp_tagger.tag(brown_sents[3]))"
      ],
      "execution_count": null,
      "outputs": []
    },
    {
      "cell_type": "code",
      "metadata": {
        "colab": {
          "base_uri": "https://localhost:8080/"
        },
        "id": "P4iyefkOjzX6",
        "outputId": "1191864c-ab97-413b-a542-85f98b62e61d"
      },
      "source": [
        "# Import HMM module\n",
        "from nltk.tag import hmm\n",
        "\n",
        "# Setup a trainer with default(None) values\n",
        "# And train with the data\n",
        "trainer = hmm.HiddenMarkovModelTrainer()\n",
        "trained_tagger = trainer.train_supervised(brown_tagged_sents)\n",
        "\n",
        "print (trained_tagger)\n",
        "# Prints the basic data about the tagger\n",
        "\n",
        "tokens = word_tokenize(\"This race is awesome, I want to race too\")\n",
        "print(trained_tagger.tag(tokens))\n",
        "\n"
      ],
      "execution_count": 59,
      "outputs": [
        {
          "output_type": "stream",
          "text": [
            "<HiddenMarkovModelTagger 472 states and 56057 output symbols>\n",
            "[('This', 'DT'), ('race', 'NN'), ('is', 'BEZ'), ('awesome', 'JJ'), (',', ','), ('I', 'PPSS'), ('want', 'VB'), ('to', 'TO'), ('race', 'VB'), ('too', 'QL')]\n"
          ],
          "name": "stdout"
        }
      ]
    },
    {
      "cell_type": "code",
      "metadata": {
        "colab": {
          "base_uri": "https://localhost:8080/"
        },
        "id": "2DcrocL3j_IF",
        "outputId": "bd60d63f-926b-497c-dfb3-12e2b6951415"
      },
      "source": [
        ""
      ],
      "execution_count": 60,
      "outputs": [
        {
          "output_type": "stream",
          "text": [
            "<HiddenMarkovModelTagger 472 states and 56057 output symbols>\n",
            "[('This', 'DT'), ('race', 'NN'), ('is', 'BEZ'), ('awesome', 'JJ'), (',', ','), ('I', 'PPSS'), ('want', 'VB'), ('to', 'TO'), ('race', 'VB'), ('too', 'QL')]\n"
          ],
          "name": "stdout"
        }
      ]
    },
    {
      "cell_type": "code",
      "metadata": {
        "colab": {
          "base_uri": "https://localhost:8080/"
        },
        "id": "b2s4TR8QkZSO",
        "outputId": "f540bf9e-bdc6-4f8f-f2dc-7af15b900409"
      },
      "source": [
        "import nltk\n",
        "nltk.download('punkt')\n",
        "from nltk import word_tokenize\n",
        "\n",
        "nltk.download('treebank')\n",
        "from nltk.corpus import treebank\n",
        "\n",
        "import numpy as np\n",
        "from sklearn.model_selection import train_test_split\n",
        " "
      ],
      "execution_count": 61,
      "outputs": [
        {
          "output_type": "stream",
          "text": [
            "[nltk_data] Downloading package punkt to /root/nltk_data...\n",
            "[nltk_data]   Package punkt is already up-to-date!\n",
            "[nltk_data] Downloading package treebank to /root/nltk_data...\n",
            "[nltk_data]   Unzipping corpora/treebank.zip.\n"
          ],
          "name": "stdout"
        }
      ]
    },
    {
      "cell_type": "code",
      "metadata": {
        "colab": {
          "base_uri": "https://localhost:8080/",
          "height": 236
        },
        "id": "WpVN8jxykb6G",
        "outputId": "2d00c5a5-925f-45b1-dfd0-da36378be9c2"
      },
      "source": [
        "# Retrieve tagged sentences from treebank corpus\n",
        "tagged_sentences = nltk.corpus.treebank.tagged_sents()\n",
        "test_samples = [\n",
        "  word_tokenize(\"This race is awesome, I want to race too.\"),\n",
        "  word_tokenize(\"That race is silly, I do not want to race.\")\n",
        "] #已经分完了\n",
        "print(tagged_sentences[0])\n",
        "#print(\"Tagged sentences: \", len(tagged_sentences))\n",
        "#print(\"Tagged words:\", len(nltk.corpus.treebank.tagged_words()))\n",
        "#tagged_words(): list of (str,str) tuple"
      ],
      "execution_count": 64,
      "outputs": [
        {
          "output_type": "error",
          "ename": "AttributeError",
          "evalue": "ignored",
          "traceback": [
            "\u001b[0;31m---------------------------------------------------------------------------\u001b[0m",
            "\u001b[0;31mAttributeError\u001b[0m                            Traceback (most recent call last)",
            "\u001b[0;32m<ipython-input-64-c02fb2ab3e63>\u001b[0m in \u001b[0;36m<module>\u001b[0;34m()\u001b[0m\n\u001b[1;32m      1\u001b[0m \u001b[0;31m# Retrieve tagged sentences from treebank corpus\u001b[0m\u001b[0;34m\u001b[0m\u001b[0;34m\u001b[0m\u001b[0;34m\u001b[0m\u001b[0m\n\u001b[0;32m----> 2\u001b[0;31m \u001b[0mtagged_sentences\u001b[0m \u001b[0;34m=\u001b[0m \u001b[0mnltk\u001b[0m\u001b[0;34m.\u001b[0m\u001b[0mcorpus\u001b[0m\u001b[0;34m.\u001b[0m\u001b[0mtreebank\u001b[0m\u001b[0;34m.\u001b[0m\u001b[0mtest_samples\u001b[0m\u001b[0;34m(\u001b[0m\u001b[0;34m)\u001b[0m\u001b[0;34m\u001b[0m\u001b[0;34m\u001b[0m\u001b[0m\n\u001b[0m\u001b[1;32m      3\u001b[0m test_samples = [\n\u001b[1;32m      4\u001b[0m   \u001b[0mword_tokenize\u001b[0m\u001b[0;34m(\u001b[0m\u001b[0;34m\"This race is awesome, I want to race too.\"\u001b[0m\u001b[0;34m)\u001b[0m\u001b[0;34m,\u001b[0m\u001b[0;34m\u001b[0m\u001b[0;34m\u001b[0m\u001b[0m\n\u001b[1;32m      5\u001b[0m   \u001b[0mword_tokenize\u001b[0m\u001b[0;34m(\u001b[0m\u001b[0;34m\"That race is silly, I do not want to race.\"\u001b[0m\u001b[0;34m)\u001b[0m\u001b[0;34m\u001b[0m\u001b[0;34m\u001b[0m\u001b[0m\n",
            "\u001b[0;31mAttributeError\u001b[0m: 'BracketParseCorpusReader' object has no attribute 'test_samples'"
          ]
        }
      ]
    },
    {
      "cell_type": "code",
      "metadata": {
        "colab": {
          "base_uri": "https://localhost:8080/",
          "height": 253
        },
        "id": "sBa9GQsokuDX",
        "outputId": "3ebd72be-1b5b-4c51-a509-a1952231f08f"
      },
      "source": [
        "sentences, sentence_tags =[], [] \n",
        "for tagged_sentence in test_samples:\n",
        "    #The zip() function returns a zip object, which is an iterator of tuples where the first item in each passed iterator is paired together, \n",
        "    #and then the second item in each passed iterator are paired together etc.\n",
        "    sentence, tags = zip(*tagged_sentence)\n",
        "    sentences.append(np.array(sentence))\n",
        "    sentence_tags.append(np.array(tags))\n",
        " \n",
        "print(sentences[5])\n",
        "print(sentence_tags[5])"
      ],
      "execution_count": 63,
      "outputs": [
        {
          "output_type": "error",
          "ename": "ValueError",
          "evalue": "ignored",
          "traceback": [
            "\u001b[0;31m---------------------------------------------------------------------------\u001b[0m",
            "\u001b[0;31mValueError\u001b[0m                                Traceback (most recent call last)",
            "\u001b[0;32m<ipython-input-63-3445e1ac73fb>\u001b[0m in \u001b[0;36m<module>\u001b[0;34m()\u001b[0m\n\u001b[1;32m      3\u001b[0m     \u001b[0;31m#The zip() function returns a zip object, which is an iterator of tuples where the first item in each passed iterator is paired together,\u001b[0m\u001b[0;34m\u001b[0m\u001b[0;34m\u001b[0m\u001b[0;34m\u001b[0m\u001b[0m\n\u001b[1;32m      4\u001b[0m     \u001b[0;31m#and then the second item in each passed iterator are paired together etc.\u001b[0m\u001b[0;34m\u001b[0m\u001b[0;34m\u001b[0m\u001b[0;34m\u001b[0m\u001b[0m\n\u001b[0;32m----> 5\u001b[0;31m     \u001b[0msentence\u001b[0m\u001b[0;34m,\u001b[0m \u001b[0mtags\u001b[0m \u001b[0;34m=\u001b[0m \u001b[0mzip\u001b[0m\u001b[0;34m(\u001b[0m\u001b[0;34m*\u001b[0m\u001b[0mtagged_sentence\u001b[0m\u001b[0;34m)\u001b[0m\u001b[0;34m\u001b[0m\u001b[0;34m\u001b[0m\u001b[0m\n\u001b[0m\u001b[1;32m      6\u001b[0m     \u001b[0msentences\u001b[0m\u001b[0;34m.\u001b[0m\u001b[0mappend\u001b[0m\u001b[0;34m(\u001b[0m\u001b[0mnp\u001b[0m\u001b[0;34m.\u001b[0m\u001b[0marray\u001b[0m\u001b[0;34m(\u001b[0m\u001b[0msentence\u001b[0m\u001b[0;34m)\u001b[0m\u001b[0;34m)\u001b[0m\u001b[0;34m\u001b[0m\u001b[0;34m\u001b[0m\u001b[0m\n\u001b[1;32m      7\u001b[0m     \u001b[0msentence_tags\u001b[0m\u001b[0;34m.\u001b[0m\u001b[0mappend\u001b[0m\u001b[0;34m(\u001b[0m\u001b[0mnp\u001b[0m\u001b[0;34m.\u001b[0m\u001b[0marray\u001b[0m\u001b[0;34m(\u001b[0m\u001b[0mtags\u001b[0m\u001b[0;34m)\u001b[0m\u001b[0;34m)\u001b[0m\u001b[0;34m\u001b[0m\u001b[0;34m\u001b[0m\u001b[0m\n",
            "\u001b[0;31mValueError\u001b[0m: not enough values to unpack (expected 2, got 1)"
          ]
        }
      ]
    },
    {
      "cell_type": "code",
      "metadata": {
        "colab": {
          "base_uri": "https://localhost:8080/"
        },
        "id": "Dkz3hExCeeBk",
        "outputId": "fe42b6dc-bf01-427d-ea86-f032b5bba275"
      },
      "source": [
        "test_samples = [\n",
        "    word_tokenize(\"This race is awesome, I want to race too.\"),\n",
        "    word_tokenize(\"That race is silly, I do not want to race.\")\n",
        "] #已经分完了\n",
        "token_sequences = []\n",
        "# Please Complete this part\n",
        "regexp_tagger = nltk.RegexpTagger(patterns) ## 使用定义的模式建立正则表达式标记器\n",
        "#for i in test_sample\n",
        "\n",
        "print(regexp_tagger.tag(test_samples[0]))\n"
      ],
      "execution_count": 57,
      "outputs": [
        {
          "output_type": "stream",
          "text": [
            "[('This', 'NNS'), ('race', 'NN'), ('is', 'NNS'), ('awesome', 'NN'), (',', 'NN'), ('I', 'NN'), ('want', 'NN'), ('to', 'NN'), ('race', 'NN'), ('too', 'NN'), ('.', 'NN')]\n"
          ],
          "name": "stdout"
        }
      ]
    },
    {
      "cell_type": "markdown",
      "metadata": {
        "id": "r4gs4Yl2i77u"
      },
      "source": [
        "**Sample output (Only for format reference)**\n",
        "![WeChat Image_20210417201520.png](data:image/png;base64,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)"
      ]
    },
    {
      "cell_type": "code",
      "metadata": {
        "id": "8r_eNYQ-0CAd",
        "colab": {
          "base_uri": "https://localhost:8080/"
        },
        "outputId": "148f824f-2aba-411c-89e4-4f62e2230eb8"
      },
      "source": [
        "test_samples = [\n",
        "    word_tokenize(\"This race is awesome, I want to race too.\"),\n",
        "    word_tokenize(\"That race is silly, I do not want to race.\")\n",
        "]\n",
        "\n",
        "def test_model(test_samples):\n",
        "    token_sequences = []\n",
        "    regexp_tagger = nltk.RegexpTagger(patterns)\n",
        "    # Please Complete this part\n",
        "    tokens = word_tokenize(raw)\n",
        "\n",
        "  print(regexp_tagger.tag(tokens))\n",
        "\n",
        "\n",
        "    return token_sequences\n",
        "\n",
        "\n",
        "print(test_samples)\n",
        "print(test_model(test_samples))"
      ],
      "execution_count": 3,
      "outputs": [
        {
          "output_type": "stream",
          "text": [
            "[['This', 'race', 'is', 'awesome', ',', 'I', 'want', 'to', 'race', 'too', '.'], ['That', 'race', 'is', 'silly', ',', 'I', 'do', 'not', 'want', 'to', 'race', '.']]\n",
            "[]\n"
          ],
          "name": "stdout"
        }
      ]
    },
    {
      "cell_type": "markdown",
      "metadata": {
        "id": "AUNSbSu0wYXC"
      },
      "source": [
        "**Sample output (Only for format reference)**\n",
        "![WeChat Image_20210417201520.png](data:image/png;base64,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)"
      ]
    },
    {
      "cell_type": "code",
      "metadata": {
        "colab": {
          "base_uri": "https://localhost:8080/"
        },
        "id": "KbEZ_hRolvYc",
        "outputId": "2bf448e6-d32f-45c6-eded-6df4403bf15a"
      },
      "source": [
        "import nltk\n",
        "import sys\n",
        "nltk.download('brown')\n",
        "\n",
        "from nltk.corpus import brown\n",
        "from nltk.corpus import treebank"
      ],
      "execution_count": 65,
      "outputs": [
        {
          "output_type": "stream",
          "text": [
            "[nltk_data] Downloading package brown to /root/nltk_data...\n",
            "[nltk_data]   Package brown is already up-to-date!\n"
          ],
          "name": "stdout"
        }
      ]
    },
    {
      "cell_type": "code",
      "metadata": {
        "colab": {
          "base_uri": "https://localhost:8080/"
        },
        "id": "br2waWUwmEo2",
        "outputId": "4cc4c093-f5cb-46b6-a801-4b5427aee804"
      },
      "source": [
        "\n",
        "brown_tags_words = []\n",
        "brown_tagged_sents = brown.tagged_sents()\n",
        "\n",
        "for sent in brown_tagged_sents:\n",
        "    # sent is a list of word/tag pairs\n",
        "    # add START/START at the beginning\n",
        "    brown_tags_words.append( (\"START\", \"START\") )\n",
        "    # then all the tag/word pairs for the word/tag pairs in the sentence.\n",
        "    # shorten tags to 2 characters each\n",
        "    brown_tags_words.extend([ (tag[:2], word) for (word, tag) in sent ])\n",
        "    # then END/END\n",
        "    brown_tags_words.append( (\"END\", \"END\") )\n",
        "\n",
        "# conditional frequency distribution\n",
        "cfd_tagwords = nltk.ConditionalFreqDist(brown_tags_words)\n",
        "# conditional probability distribution\n",
        "cpd_tagwords = nltk.ConditionalProbDist(cfd_tagwords, nltk.MLEProbDist)\n",
        "\n",
        "print(\"The probability of an adjective (JJ) being 'new' is\", cpd_tagwords[\"JJ\"].prob(\"new\"))\n",
        "print(\"The probability of a verb (VB) being 'duck' is\", cpd_tagwords[\"VB\"].prob(\"duck\"))\n",
        "\n",
        "# Estimating P(ti | t{i-1}) from corpus data using Maximum Likelihood Estimation (MLE):\n",
        "# P(ti | t{i-1}) = count(t{i-1}, ti) / count(t{i-1})\n",
        "brown_tags = [tag for (tag, word) in brown_tags_words ]\n",
        "\n",
        "# make conditional frequency distribution:\n",
        "# count(t{i-1} ti)\n",
        "cfd_tags= nltk.ConditionalFreqDist(nltk.bigrams(brown_tags))\n",
        "# make conditional probability distribution, using\n",
        "# maximum likelihood estimate:\n",
        "# P(ti | t{i-1})\n",
        "cpd_tags = nltk.ConditionalProbDist(cfd_tags, nltk.MLEProbDist)\n",
        "\n",
        "print(\"If we have just seen 'DT', the probability of 'NN' is\", cpd_tags[\"DT\"].prob(\"NN\"))\n",
        "print( \"If we have just seen 'VB', the probability of 'JJ' is\", cpd_tags[\"VB\"].prob(\"DT\"))\n",
        "print( \"If we have just seen 'VB', the probability of 'NN' is\", cpd_tags[\"VB\"].prob(\"NN\"))"
      ],
      "execution_count": 6,
      "outputs": [
        {
          "output_type": "stream",
          "text": [
            "The probability of an adjective (JJ) being 'new' is 0.01472344917632025\n",
            "The probability of a verb (VB) being 'duck' is 6.042713350943527e-05\n",
            "If we have just seen 'DT', the probability of 'NN' is 0.5057722522030194\n",
            "If we have just seen 'VB', the probability of 'JJ' is 0.016885067592065053\n",
            "If we have just seen 'VB', the probability of 'NN' is 0.10970977711020183\n"
          ],
          "name": "stdout"
        }
      ]
    },
    {
      "cell_type": "code",
      "metadata": {
        "colab": {
          "base_uri": "https://localhost:8080/"
        },
        "id": "of7R-4O4o4ws",
        "outputId": "3460d993-e6cc-4a45-dad4-87a7e7112d42"
      },
      "source": [
        "sentence[wordindex]"
      ],
      "execution_count": 191,
      "outputs": [
        {
          "output_type": "execute_result",
          "data": {
            "text/plain": [
              "['That',\n",
              " 'race',\n",
              " 'is',\n",
              " 'silly',\n",
              " ',',\n",
              " 'I',\n",
              " 'do',\n",
              " 'not',\n",
              " 'want',\n",
              " 'to',\n",
              " 'race',\n",
              " '.']"
            ]
          },
          "metadata": {
            "tags": []
          },
          "execution_count": 191
        }
      ]
    },
    {
      "cell_type": "code",
      "metadata": {
        "colab": {
          "base_uri": "https://localhost:8080/"
        },
        "id": "UnkMnAl7z6Zo",
        "outputId": "d4e75eda-a1fd-485e-de86-a32766476348"
      },
      "source": [
        "prob"
      ],
      "execution_count": 194,
      "outputs": [
        {
          "output_type": "execute_result",
          "data": {
            "text/plain": [
              "0.0"
            ]
          },
          "metadata": {
            "tags": []
          },
          "execution_count": 194
        }
      ]
    },
    {
      "cell_type": "code",
      "metadata": {
        "colab": {
          "base_uri": "https://localhost:8080/"
        },
        "id": "Jgx3Gf8hpO9C",
        "outputId": "bf6f17ff-a861-4d22-deb0-bea8d9f5b0af"
      },
      "source": [
        "#currbest = max(this_viterbi.keys(), key = lambda tag: this_viterbi[ tag ])\n",
        "this_viterbi.keys()#dict_keys\n",
        "this_viterbi[ tag ] #float -=0.0"
      ],
      "execution_count": 201,
      "outputs": [
        {
          "output_type": "execute_result",
          "data": {
            "text/plain": [
              "0.0"
            ]
          },
          "metadata": {
            "tags": []
          },
          "execution_count": 201
        }
      ]
    },
    {
      "cell_type": "code",
      "metadata": {
        "colab": {
          "base_uri": "https://localhost:8080/"
        },
        "id": "WKPmVV1i9lku",
        "outputId": "3d84f297-3f17-489a-d5ea-1fad8a848262"
      },
      "source": [
        "for i in range(wordindex):\n",
        "  print(i)"
      ],
      "execution_count": 217,
      "outputs": [
        {
          "output_type": "stream",
          "text": [
            "0\n",
            "1\n"
          ],
          "name": "stdout"
        }
      ]
    },
    {
      "cell_type": "code",
      "metadata": {
        "colab": {
          "base_uri": "https://localhost:8080/"
        },
        "id": "Redx45R2-GL8",
        "outputId": "5defd87a-a522-47f5-98c9-5a33a33f8aa5"
      },
      "source": [
        "for wordindex in range(len(sentence[l])):\n",
        "  print(wordindex)"
      ],
      "execution_count": 220,
      "outputs": [
        {
          "output_type": "stream",
          "text": [
            "0\n",
            "1\n",
            "2\n",
            "3\n",
            "4\n",
            "5\n",
            "6\n",
            "7\n",
            "8\n",
            "9\n",
            "10\n"
          ],
          "name": "stdout"
        }
      ]
    },
    {
      "cell_type": "code",
      "metadata": {
        "colab": {
          "base_uri": "https://localhost:8080/"
        },
        "id": "PDAs4L-W-gpE",
        "outputId": "481d843f-da15-44e8-a724-beb7769ff048"
      },
      "source": [
        "for word in sentence[l]:\n",
        "  print(word)"
      ],
      "execution_count": 260,
      "outputs": [
        {
          "output_type": "stream",
          "text": [
            "That\n",
            "race\n",
            "is\n",
            "silly\n",
            ",\n",
            "I\n",
            "do\n",
            "not\n",
            "want\n",
            "to\n",
            "race\n",
            ".\n"
          ],
          "name": "stdout"
        }
      ]
    },
    {
      "cell_type": "code",
      "metadata": {
        "colab": {
          "base_uri": "https://localhost:8080/",
          "height": 35
        },
        "id": "2AC49Zn7DUxk",
        "outputId": "95a13933-657e-4d04-85e7-4c04e3609024"
      },
      "source": [
        "this_backpointer[ tag ]"
      ],
      "execution_count": 269,
      "outputs": [
        {
          "output_type": "execute_result",
          "data": {
            "application/vnd.google.colaboratory.intrinsic+json": {
              "type": "string"
            },
            "text/plain": [
              "'CC'"
            ]
          },
          "metadata": {
            "tags": []
          },
          "execution_count": 269
        }
      ]
    },
    {
      "cell_type": "code",
      "metadata": {
        "colab": {
          "base_uri": "https://localhost:8080/"
        },
        "id": "pqOrsI9VZ0d7",
        "outputId": "07cf92b2-681b-4ad5-c95c-015085d33c27"
      },
      "source": [
        "import nltk\n",
        "import sys\n",
        "nltk.download('brown')\n",
        "\n",
        "from nltk.corpus import brown\n",
        "from nltk.corpus import treebank\n",
        "import nltk\n",
        "\n",
        "# Downloading required corpus\n",
        "nltk.download('punkt')\n",
        "nltk.download('brown')\n",
        "\n",
        "from nltk import word_tokenize\n",
        "from nltk.corpus import brown\n",
        "import pprint\n",
        "brown_tagged_sents = brown.tagged_sents(categories='news')\n",
        "brown_sents = brown.sents(categories='news')"
      ],
      "execution_count": 8,
      "outputs": [
        {
          "output_type": "stream",
          "text": [
            "[nltk_data] Downloading package brown to /root/nltk_data...\n",
            "[nltk_data]   Package brown is already up-to-date!\n",
            "[nltk_data] Downloading package punkt to /root/nltk_data...\n",
            "[nltk_data]   Package punkt is already up-to-date!\n",
            "[nltk_data] Downloading package brown to /root/nltk_data...\n",
            "[nltk_data]   Package brown is already up-to-date!\n"
          ],
          "name": "stdout"
        }
      ]
    },
    {
      "cell_type": "code",
      "metadata": {
        "colab": {
          "base_uri": "https://localhost:8080/"
        },
        "id": "dTbr6R9nDIJt",
        "outputId": "a28d4ee8-d3c0-4075-dae0-2b696d5807c7"
      },
      "source": [
        "#要的\n",
        "token_sequence = []\n",
        "distinct_tags = set(brown_tags) #词性库\n",
        "sentence =[\n",
        "    word_tokenize(\"This race is awesome, I want to race too.\"),\n",
        "    word_tokenize(\"That race is silly, I do not want to race.\")\n",
        "]\n",
        "sentlen = len(sentence)\n",
        "\n",
        "# viterbi:\n",
        "# for each step i in 1 .. sentlen,\n",
        "# store a dictionary\n",
        "# that maps each tag X\n",
        "# to the probability of the best tag sequence of length i that ends in X\n",
        "viterbi = [ ]\n",
        "\n",
        "# backpointer:\n",
        "# for each step i in 1..sentlen,\n",
        "# store a dictionary\n",
        "# that maps each tag X\n",
        "# to the previous tag in the best tag sequence of length i that ends in X\n",
        "backpointer = [ ]\n",
        "\n",
        "first_viterbi = { }\n",
        "first_backpointer = { }\n",
        "for tag in distinct_tags:\n",
        "    # don't record anything for the START tag\n",
        "    if tag == \"START\": continue\n",
        "    first_viterbi[ tag ] = cpd_tags[\"START\"].prob(tag) * cpd_tagwords[tag].prob( sentence[0][0] )\n",
        "    first_backpointer[ tag ] = \"START\"\n",
        "\n",
        "print(first_viterbi)\n",
        "print(first_backpointer)\n",
        "    \n",
        "viterbi.append(first_viterbi)\n",
        "backpointer.append(first_backpointer)\n",
        "\n",
        "currbest = max(first_viterbi.keys(), key = lambda tag: first_viterbi[ tag ])\n",
        "print( \"Word\", \"'\" + sentence[0][0] + \"'\", \"current best two-tag sequence:\", first_backpointer[ currbest], currbest)\n",
        "# print( \"Word\", \"'\" + sentence[0] + \"'\", \"current best tag:\", currbest)\n",
        "\n",
        "\n",
        "for l in range(len(sentence)):\n",
        "\n",
        "  for wordindex in range(len(sentence[l])):\n",
        "      this_viterbi = { }\n",
        "      this_backpointer = { }\n",
        "      prev_viterbi = viterbi[-1]\n",
        "      \n",
        "      for tag in distinct_tags:\n",
        "          # don't record anything for the START tag\n",
        "          if tag == \"START\": continue\n",
        "          for word in sentence[l]:\n",
        "            best_previous = max(prev_viterbi.keys(),\n",
        "                                key = lambda prevtag: prev_viterbi[ prevtag ] * cpd_tags[prevtag].prob(tag) * cpd_tagwords[tag].prob(word))\n",
        "\n",
        "            this_viterbi[ tag ] = prev_viterbi[ best_previous] * \\\n",
        "                cpd_tags[ best_previous ].prob(tag) * cpd_tagwords[ tag].prob(word)\n",
        "            this_backpointer[ tag ] = best_previous\n",
        "      currbest = max(this_viterbi.keys(), key = lambda tag: this_viterbi[ tag ])\n",
        "      print( \"Word\", \"'\" + word + \"'\", \"current best two-tag sequence:\", this_backpointer[ currbest], currbest)\n",
        "          #print( \"Word\", \"'\" + sentence[word] + \"'\", \"current best tag:\", currbest)\n",
        "          # done with all tags in this iteration\n",
        "          # so store the current viterbi step\n",
        "      viterbi.append(this_viterbi)\n",
        "      backpointer.append(this_backpointer)\n"
      ],
      "execution_count": 24,
      "outputs": [
        {
          "output_type": "stream",
          "text": [
            "{'UH': 0.0, '(': 0.0, 'RN': 0.0, 'JJ': 0.0, 'DO': 0.0, '--': 0.0, '(-': 0.0, '*-': 0.0, 'PP': 0.0, 'WR': 0.0, 'HV': 0.0, 'EX': 0.0, 'CC': 0.0, ')-': 0.0, 'END': 0.0, 'NI': 0.0, 'AP': 0.0, '``': 0.0, '.': 0.0, 'NN': 0.0, 'WP': 0.0, 'RB': 0.0, 'CD': 0.0, \"''\": 0.0, '.-': 0.0, '*': 0.0, ':-': 0.0, 'DT': 0.0033218181276236437, \"'\": 0.0, 'BE': 0.0, ':': 0.0, 'WD': 0.0, 'FW': 0.0, 'WQ': 0.0, 'RP': 0.0, 'MD': 0.0, 'QL': 0.0, 'OD': 0.0, ',': 0.0, 'AB': 0.0, ')': 0.0, ',-': 0.0, 'NR': 0.0, 'NP': 0.0, 'PN': 0.0, 'IN': 0.0, 'TO': 0.0, 'CS': 0.0, 'VB': 0.0, 'AT': 0.0}\n",
            "{'UH': 'START', '(': 'START', 'RN': 'START', 'JJ': 'START', 'DO': 'START', '--': 'START', '(-': 'START', '*-': 'START', 'PP': 'START', 'WR': 'START', 'HV': 'START', 'EX': 'START', 'CC': 'START', ')-': 'START', 'END': 'START', 'NI': 'START', 'AP': 'START', '``': 'START', '.': 'START', 'NN': 'START', 'WP': 'START', 'RB': 'START', 'CD': 'START', \"''\": 'START', '.-': 'START', '*': 'START', ':-': 'START', 'DT': 'START', \"'\": 'START', 'BE': 'START', ':': 'START', 'WD': 'START', 'FW': 'START', 'WQ': 'START', 'RP': 'START', 'MD': 'START', 'QL': 'START', 'OD': 'START', ',': 'START', 'AB': 'START', ')': 'START', ',-': 'START', 'NR': 'START', 'NP': 'START', 'PN': 'START', 'IN': 'START', 'TO': 'START', 'CS': 'START', 'VB': 'START', 'AT': 'START'}\n",
            "Word 'This' current best two-tag sequence: START DT\n",
            "Word '.' current best two-tag sequence: DT .\n",
            "Word '.' current best two-tag sequence: . .\n",
            "Word '.' current best two-tag sequence: . .\n",
            "Word '.' current best two-tag sequence: . .\n",
            "Word '.' current best two-tag sequence: . .\n",
            "Word '.' current best two-tag sequence: . .\n",
            "Word '.' current best two-tag sequence: . .\n",
            "Word '.' current best two-tag sequence: . .\n",
            "Word '.' current best two-tag sequence: . .\n",
            "Word '.' current best two-tag sequence: . .\n",
            "Word '.' current best two-tag sequence: . .\n",
            "Word '.' current best two-tag sequence: . .\n",
            "Word '.' current best two-tag sequence: . .\n",
            "Word '.' current best two-tag sequence: . .\n",
            "Word '.' current best two-tag sequence: . .\n",
            "Word '.' current best two-tag sequence: . .\n",
            "Word '.' current best two-tag sequence: . .\n",
            "Word '.' current best two-tag sequence: . .\n",
            "Word '.' current best two-tag sequence: . .\n",
            "Word '.' current best two-tag sequence: . .\n",
            "Word '.' current best two-tag sequence: . .\n",
            "Word '.' current best two-tag sequence: . .\n",
            "Word '.' current best two-tag sequence: . .\n"
          ],
          "name": "stdout"
        }
      ]
    },
    {
      "cell_type": "code",
      "metadata": {
        "id": "MTleaL1JFl9J"
      },
      "source": [
        "first_viterbi"
      ],
      "execution_count": null,
      "outputs": []
    },
    {
      "cell_type": "code",
      "metadata": {
        "id": "GeHjjAamF3of"
      },
      "source": [
        "backpointer"
      ],
      "execution_count": null,
      "outputs": []
    },
    {
      "cell_type": "code",
      "metadata": {
        "colab": {
          "base_uri": "https://localhost:8080/"
        },
        "id": "cRdBBlTnN3CK",
        "outputId": "2c4c8173-6c4a-481a-d3a0-e5669f7ba0eb"
      },
      "source": [
        "for wordindex in range(1, len(sentence[0])):\n",
        "  sentence[0][wordindex-1]\n",
        "  print(sentence[0][wordindex-1])"
      ],
      "execution_count": 356,
      "outputs": [
        {
          "output_type": "stream",
          "text": [
            "This\n",
            "race\n",
            "is\n",
            "awesome\n",
            ",\n",
            "I\n",
            "want\n",
            "to\n",
            "race\n",
            "too\n"
          ],
          "name": "stdout"
        }
      ]
    },
    {
      "cell_type": "code",
      "metadata": {
        "colab": {
          "base_uri": "https://localhost:8080/"
        },
        "id": "G1YdEwRhUEUM",
        "outputId": "bd38063f-0838-43df-c395-516e3dc5d35b"
      },
      "source": [
        "sentence[1]"
      ],
      "execution_count": 386,
      "outputs": [
        {
          "output_type": "execute_result",
          "data": {
            "text/plain": [
              "['That',\n",
              " 'race',\n",
              " 'is',\n",
              " 'silly',\n",
              " ',',\n",
              " 'I',\n",
              " 'do',\n",
              " 'not',\n",
              " 'want',\n",
              " 'to',\n",
              " 'race',\n",
              " '.']"
            ]
          },
          "metadata": {
            "tags": []
          },
          "execution_count": 386
        }
      ]
    },
    {
      "cell_type": "code",
      "metadata": {
        "colab": {
          "base_uri": "https://localhost:8080/"
        },
        "id": "kU9WKeSseMXN",
        "outputId": "3abc0a50-5060-4244-f403-60ffc13f1fcf"
      },
      "source": [
        "#要的***\n",
        "\n",
        "distinct_tags = set(brown_tags) #词性库\n",
        "sentence =[\n",
        "    word_tokenize(\"This race is awesome, I want to race too.\"),\n",
        "    word_tokenize(\"That race is silly, I do not want to race.\")\n",
        "]\n",
        "sentlen = len(sentence)\n",
        "\n",
        "token_sequences = []\n",
        "for l in range(len(sentence)):\n",
        "  token = []\n",
        "  viterbi = [ ]\n",
        "  token = []\n",
        "  backpointer = [ ]\n",
        "\n",
        "  first_viterbi = { }\n",
        "  first_backpointer = { }\n",
        "  for tag in distinct_tags:\n",
        "\n",
        "      if tag == \"START\": continue\n",
        "      first_viterbi[ tag ] = cpd_tags[\"START\"].prob(tag) * cpd_tagwords[tag].prob( sentence[l][0] )\n",
        "      first_backpointer[ tag ] = \"START\"\n",
        "      \n",
        "  viterbi.append(first_viterbi)\n",
        "  backpointer.append(first_backpointer)\n",
        "\n",
        "  currbest = max(first_viterbi.keys(), key = lambda tag: first_viterbi[ tag ])\n",
        "\n",
        "  for wordindex in range(0, len(sentence[l])):\n",
        "    this_viterbi = { }\n",
        "    this_backpointer = { }\n",
        "    prev_viterbi = viterbi[-1]\n",
        "\n",
        "\n",
        "    for tag in distinct_tags:\n",
        "        if tag == \"START\": continue\n",
        "        for word in sentence[l]:\n",
        "          best_previous = max(prev_viterbi.keys(),\n",
        "                              key = lambda prevtag: prev_viterbi[ prevtag ] * cpd_tags[prevtag].prob(tag) * cpd_tagwords[tag].prob(sentence[l][wordindex]))\n",
        "          this_viterbi[ tag ] = prev_viterbi[ best_previous] * cpd_tags[ best_previous ].prob(tag) * cpd_tagwords[ tag].prob(sentence[l][wordindex])\n",
        "          this_backpointer[ tag ] = best_previous\n",
        "    currbest = max(this_viterbi.keys(), key = lambda tag: this_viterbi[ tag ])\n",
        "    token.append(currbest)\n",
        "    viterbi.append(this_viterbi)\n",
        "    backpointer.append(this_backpointer)\n",
        "  token_sequences.append(token)\n",
        "print(token_sequences)\n",
        "print('===')"
      ],
      "execution_count": 61,
      "outputs": [
        {
          "output_type": "stream",
          "text": [
            "[['DT', 'NN', 'BE', 'JJ', ',', 'PP', 'VB', 'TO', 'NN', 'QL', '.'], ['DT', 'NN', 'BE', 'JJ', ',', 'PP', 'DO', '*', 'VB', 'TO', 'NN', '.']]\n",
            "===\n"
          ],
          "name": "stdout"
        }
      ]
    },
    {
      "cell_type": "code",
      "metadata": {
        "colab": {
          "base_uri": "https://localhost:8080/"
        },
        "id": "afXV3WoEpBmg",
        "outputId": "1c82441b-5fb0-437d-eb3c-dbfa8f014796"
      },
      "source": [
        "#要的\n",
        "token_sequences = []\n",
        "distinct_tags = set(brown_tags) #词性库\n",
        "sentence =[\n",
        "    word_tokenize(\"This race is awesome, I want to race too.\"),\n",
        "    word_tokenize(\"That race is silly, I do not want to race.\")\n",
        "]\n",
        "sentlen = len(sentence)\n",
        "\n",
        "# viterbi:\n",
        "# for each step i in 1 .. sentlen,\n",
        "# store a dictionary\n",
        "# that maps each tag X\n",
        "# to the probability of the best tag sequence of length i that ends in X\n",
        "for l in range(len(sentence)):\n",
        "  print(l)\n",
        "  viterbi = [ ]\n",
        "\n",
        "  # backpointer:\n",
        "  # for each step i in 1..sentlen,\n",
        "  # store a dictionary\n",
        "  # that maps each tag X\n",
        "  # to the previous tag in the best tag sequence of length i that ends in X\n",
        "  backpointer = [ ]\n",
        "\n",
        "  first_viterbi = { }\n",
        "  first_backpointer = { }\n",
        "  for tag in distinct_tags:\n",
        "      # don't record anything for the START tag\n",
        "      if tag == \"START\": continue\n",
        "      first_viterbi[ tag ] = cpd_tags[\"START\"].prob(tag) * cpd_tagwords[tag].prob( sentence[0][0] )\n",
        "      first_backpointer[ tag ] = \"START\"\n",
        "      \n",
        "  viterbi.append(first_viterbi)\n",
        "  backpointer.append(first_backpointer)\n",
        "\n",
        "  currbest = max(first_viterbi.keys(), key = lambda tag: first_viterbi[ tag ])\n",
        "\n",
        "\n",
        "  #print( \"Word\", \"'\" + sentence[l][0] + \"'\", \"current best two-tag sequence:\", first_backpointer[ currbest], currbest)\n",
        "\n",
        "  for wordindex in range(1, len(sentence[l])):\n",
        "    this_viterbi = { }\n",
        "    this_backpointer = { }\n",
        "    prev_viterbi = viterbi[-1]\n",
        "\n",
        "\n",
        "    for tag in distinct_tags:\n",
        "        # don't record anything for the START tag\n",
        "        if tag == \"START\": continue\n",
        "        for word in sentence[l]:\n",
        "          best_previous = max(prev_viterbi.keys(),\n",
        "                              key = lambda prevtag: prev_viterbi[ prevtag ] * cpd_tags[prevtag].prob(tag) * cpd_tagwords[tag].prob(sentence[l][wordindex]))\n",
        "          this_viterbi[ tag ] = prev_viterbi[ best_previous] * cpd_tags[ best_previous ].prob(tag) * cpd_tagwords[ tag].prob(sentence[l][wordindex])\n",
        "          this_backpointer[ tag ] = best_previous\n",
        "    currbest = max(this_viterbi.keys(), key = lambda tag: this_viterbi[ tag ])\n",
        "    print( \"Word\", \"'\" + sentence[l][wordindex] + \"'\", \"current best two-tag sequence:\", this_backpointer[ currbest], currbest)\n",
        "        #print( \"Word\", \"'\" + sentence[word] + \"'\", \"current best tag:\", currbest)\n",
        "        # done with all tags in this iteration\n",
        "        # so store the current viterbi step\n",
        "    \n",
        "    viterbi.append(this_viterbi)\n",
        "    backpointer.append(this_backpointer)\n",
        "    \n",
        "    print(\"\\n\")\n",
        "\n",
        "    token_sequences.append(currbest)\n",
        "    print(token_sequences)\n",
        "    #print(sentence)\n",
        "    #print(test_model(sentene))\n",
        "\n",
        "print('===')\n",
        "\n",
        "# done with all words in the sentence.\n",
        "# now find the probability of each tag\n",
        "# to have \"END\" as the next tag,\n",
        "# and use that to find the overall best sequence\n",
        "prev_viterbi = viterbi[-1]\n",
        "best_previous = max(prev_viterbi.keys(),\n",
        "                    key = lambda prevtag: prev_viterbi[ prevtag ] * cpd_tags[prevtag].prob(\"END\"))\n",
        "\n",
        "prob_tagsequence = prev_viterbi[ best_previous ] * cpd_tags[ best_previous].prob(\"END\")\n",
        "\n",
        "# best tagsequence: we store this in reverse for now, will invert later\n",
        "best_tagsequence = [ \"END\", best_previous ]\n",
        "# invert the list of backpointers\n",
        "backpointer.reverse()\n",
        "\n",
        "# go backwards through the list of backpointers\n",
        "# (or in this case forward, because we have inverter the backpointer list)\n",
        "# in each case:\n",
        "# the following best tag is the one listed under\n",
        "# the backpointer for the current best tag\n",
        "current_best_tag = best_previous\n",
        "for bp in backpointer:\n",
        "    best_tagsequence.append(bp[current_best_tag])\n",
        "    current_best_tag = bp[current_best_tag]\n",
        "\n",
        "best_tagsequence.reverse()\n",
        "print( \"The sentence was:\", end = \" \")\n",
        "print(\"\\n\")\n",
        "for w in sentence: print(w)\n",
        "print(\"\\n\")\n",
        "print( \"The best tag sequence is:\", end = \" \")\n",
        "for t in best_tagsequence: print (t, end = \" \")\n",
        "\n"
      ],
      "execution_count": 37,
      "outputs": [
        {
          "output_type": "stream",
          "text": [
            "0\n",
            "Word 'This' current best two-tag sequence: DT DT\n",
            "\n",
            "\n",
            "['DT']\n",
            "Word 'race' current best two-tag sequence: DT NN\n",
            "\n",
            "\n",
            "['DT', 'NN']\n",
            "Word 'is' current best two-tag sequence: NN BE\n",
            "\n",
            "\n",
            "['DT', 'NN', 'BE']\n",
            "Word 'awesome' current best two-tag sequence: BE JJ\n",
            "\n",
            "\n",
            "['DT', 'NN', 'BE', 'JJ']\n",
            "Word ',' current best two-tag sequence: JJ ,\n",
            "\n",
            "\n",
            "['DT', 'NN', 'BE', 'JJ', ',']\n",
            "Word 'I' current best two-tag sequence: , PP\n",
            "\n",
            "\n",
            "['DT', 'NN', 'BE', 'JJ', ',', 'PP']\n",
            "Word 'want' current best two-tag sequence: PP VB\n",
            "\n",
            "\n",
            "['DT', 'NN', 'BE', 'JJ', ',', 'PP', 'VB']\n",
            "Word 'to' current best two-tag sequence: VB TO\n",
            "\n",
            "\n",
            "['DT', 'NN', 'BE', 'JJ', ',', 'PP', 'VB', 'TO']\n",
            "Word 'race' current best two-tag sequence: IN NN\n",
            "\n",
            "\n",
            "['DT', 'NN', 'BE', 'JJ', ',', 'PP', 'VB', 'TO', 'NN']\n",
            "Word 'too' current best two-tag sequence: VB QL\n",
            "\n",
            "\n",
            "['DT', 'NN', 'BE', 'JJ', ',', 'PP', 'VB', 'TO', 'NN', 'QL']\n",
            "Word '.' current best two-tag sequence: RB .\n",
            "\n",
            "\n",
            "['DT', 'NN', 'BE', 'JJ', ',', 'PP', 'VB', 'TO', 'NN', 'QL', '.']\n",
            "1\n",
            "Word 'That' current best two-tag sequence: DT WP\n",
            "\n",
            "\n",
            "['DT', 'NN', 'BE', 'JJ', ',', 'PP', 'VB', 'TO', 'NN', 'QL', '.', 'WP']\n",
            "Word 'race' current best two-tag sequence: DT NN\n",
            "\n",
            "\n",
            "['DT', 'NN', 'BE', 'JJ', ',', 'PP', 'VB', 'TO', 'NN', 'QL', '.', 'WP', 'NN']\n",
            "Word 'is' current best two-tag sequence: NN BE\n",
            "\n",
            "\n",
            "['DT', 'NN', 'BE', 'JJ', ',', 'PP', 'VB', 'TO', 'NN', 'QL', '.', 'WP', 'NN', 'BE']\n",
            "Word 'silly' current best two-tag sequence: BE JJ\n",
            "\n",
            "\n",
            "['DT', 'NN', 'BE', 'JJ', ',', 'PP', 'VB', 'TO', 'NN', 'QL', '.', 'WP', 'NN', 'BE', 'JJ']\n",
            "Word ',' current best two-tag sequence: JJ ,\n",
            "\n",
            "\n",
            "['DT', 'NN', 'BE', 'JJ', ',', 'PP', 'VB', 'TO', 'NN', 'QL', '.', 'WP', 'NN', 'BE', 'JJ', ',']\n",
            "Word 'I' current best two-tag sequence: , PP\n",
            "\n",
            "\n",
            "['DT', 'NN', 'BE', 'JJ', ',', 'PP', 'VB', 'TO', 'NN', 'QL', '.', 'WP', 'NN', 'BE', 'JJ', ',', 'PP']\n",
            "Word 'do' current best two-tag sequence: PP DO\n",
            "\n",
            "\n",
            "['DT', 'NN', 'BE', 'JJ', ',', 'PP', 'VB', 'TO', 'NN', 'QL', '.', 'WP', 'NN', 'BE', 'JJ', ',', 'PP', 'DO']\n",
            "Word 'not' current best two-tag sequence: DO *\n",
            "\n",
            "\n",
            "['DT', 'NN', 'BE', 'JJ', ',', 'PP', 'VB', 'TO', 'NN', 'QL', '.', 'WP', 'NN', 'BE', 'JJ', ',', 'PP', 'DO', '*']\n",
            "Word 'want' current best two-tag sequence: * VB\n",
            "\n",
            "\n",
            "['DT', 'NN', 'BE', 'JJ', ',', 'PP', 'VB', 'TO', 'NN', 'QL', '.', 'WP', 'NN', 'BE', 'JJ', ',', 'PP', 'DO', '*', 'VB']\n",
            "Word 'to' current best two-tag sequence: VB TO\n",
            "\n",
            "\n",
            "['DT', 'NN', 'BE', 'JJ', ',', 'PP', 'VB', 'TO', 'NN', 'QL', '.', 'WP', 'NN', 'BE', 'JJ', ',', 'PP', 'DO', '*', 'VB', 'TO']\n",
            "Word 'race' current best two-tag sequence: IN NN\n",
            "\n",
            "\n",
            "['DT', 'NN', 'BE', 'JJ', ',', 'PP', 'VB', 'TO', 'NN', 'QL', '.', 'WP', 'NN', 'BE', 'JJ', ',', 'PP', 'DO', '*', 'VB', 'TO', 'NN']\n",
            "Word '.' current best two-tag sequence: NN .\n",
            "\n",
            "\n",
            "['DT', 'NN', 'BE', 'JJ', ',', 'PP', 'VB', 'TO', 'NN', 'QL', '.', 'WP', 'NN', 'BE', 'JJ', ',', 'PP', 'DO', '*', 'VB', 'TO', 'NN', '.']\n",
            "===\n",
            "The sentence was: \n",
            "\n",
            "['This', 'race', 'is', 'awesome', ',', 'I', 'want', 'to', 'race', 'too', '.']\n",
            "['That', 'race', 'is', 'silly', ',', 'I', 'do', 'not', 'want', 'to', 'race', '.']\n",
            "\n",
            "\n",
            "The best tag sequence is: START DT DT NN BE JJ , PP DO * VB IN NN . END "
          ],
          "name": "stdout"
        }
      ]
    },
    {
      "cell_type": "code",
      "metadata": {
        "colab": {
          "base_uri": "https://localhost:8080/",
          "height": 35
        },
        "id": "lvLo_eGddAde",
        "outputId": "43c4b09c-1abd-44cf-ec05-e865a072bac6"
      },
      "source": [
        ""
      ],
      "execution_count": 30,
      "outputs": [
        {
          "output_type": "execute_result",
          "data": {
            "application/vnd.google.colaboratory.intrinsic+json": {
              "type": "string"
            },
            "text/plain": [
              "'.'"
            ]
          },
          "metadata": {
            "tags": []
          },
          "execution_count": 30
        }
      ]
    },
    {
      "cell_type": "markdown",
      "metadata": {
        "id": "LIWwuDctC6FI"
      },
      "source": [
        "**Sample output (Only for format reference)**\n",
        "![WeChat Image_20210417201520.png](data:image/png;base64,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)"
      ]
    },
    {
      "cell_type": "code",
      "metadata": {
        "colab": {
          "base_uri": "https://localhost:8080/",
          "height": 168
        },
        "id": "XLo3AGt_mTNR",
        "outputId": "58a95041-f42f-42c8-ec8b-6ab9ad274fb1"
      },
      "source": [
        "distinct_tags = set(brown_tags) #词性库\n",
        "sentence =[\n",
        "    word_tokenize(\"This race is awesome, I want to race too.\"),\n",
        "    word_tokenize(\"That race is silly, I do not want to race.\")\n",
        "]\n",
        "sentlen = len(sentence)\n",
        "\n",
        "# viterbi:\n",
        "# for each step i in 1 .. sentlen,\n",
        "# store a dictionary\n",
        "# that maps each tag X\n",
        "# to the probability of the best tag sequence of length i that ends in X\n",
        "viterbi = [ ]\n",
        "\n",
        "# backpointer:\n",
        "# for each step i in 1..sentlen,\n",
        "# store a dictionary\n",
        "# that maps each tag X\n",
        "# to the previous tag in the best tag sequence of length i that ends in X\n",
        "backpointer = [ ]\n",
        "\n",
        "first_viterbi = { }\n",
        "first_backpointer = { }\n",
        "for tag in distinct_tags:\n",
        "    # don't record anything for the START tag\n",
        "    if tag == \"START\": continue\n",
        "    first_viterbi[ tag ] = cpd_tags[\"START\"].prob(tag) * cpd_tagwords[tag].prob( sentence[0][0] )\n",
        "    first_backpointer[ tag ] = \"START\"\n",
        "\n",
        "print(first_viterbi)\n",
        "print(first_backpointer)\n",
        "    \n",
        "viterbi.append(first_viterbi)\n",
        "backpointer.append(first_backpointer)\n",
        "\n",
        "currbest = max(first_viterbi.keys(), key = lambda tag: first_viterbi[ tag ])\n",
        "print( \"Word\", \"'\" + sentence[0][0] + \"'\", \"current best two-tag sequence:\", first_backpointer[ currbest], currbest)\n",
        "# print( \"Word\", \"'\" + sentence[0] + \"'\", \"current best tag:\", currbest)\n",
        "\n",
        "for l in range(len(sentence)):\n",
        "  for wordindex in range(1, l):\n",
        "      this_viterbi = { }\n",
        "      this_backpointer = { }\n",
        "      prev_viterbi = viterbi[-1]\n",
        "      \n",
        "      for tag in distinct_tags:\n",
        "          # don't record anything for the START tag\n",
        "          if tag == \"START\": continue\n",
        "\n",
        "          # if this tag is X and the current word is w, then \n",
        "          # find the previous tag Y such that\n",
        "          # the best tag sequence that ends in X\n",
        "          # actually ends in Y X\n",
        "          # that is, the Y that maximizes\n",
        "          # prev_viterbi[ Y ] * P(X | Y) * P( w | X)\n",
        "          # The following command has the same notation\n",
        "          # that you saw in the sorted() command.\n",
        "          best_previous = max(prev_viterbi.keys(),\n",
        "                              key = lambda prevtag: \\\n",
        "              prev_viterbi[ prevtag ] * cpd_tags[prevtag].prob(tag) * cpd_tagwords[tag].prob(sentence[wordindex]))\n",
        "\n",
        "        # Instead, we can also use the following longer code:\n",
        "        # best_previous = None\n",
        "        # best_prob = 0.0\n",
        "        # for prevtag in distinct_tags:\n",
        "        #    prob = prev_viterbi[ prevtag ] * cpd_tags[prevtag].prob(tag) * cpd_tagwords[tag].prob(sentence[wordindex])\n",
        "        #    if prob > best_prob:\n",
        "        #        best_previous= prevtag\n",
        "        #        best_prob = prob\n",
        "        #\n",
        "        this_viterbi[ tag ] = prev_viterbi[ best_previous] * \\\n",
        "            cpd_tags[ best_previous ].prob(tag) * cpd_tagwords[ tag].prob(sentence[wordindex])\n",
        "        this_backpointer[ tag ] = best_previous\n",
        "\n",
        "    currbest = max(this_viterbi.keys(), key = lambda tag: this_viterbi[ tag ])\n",
        "    print( \"Word\", \"'\" + sentence[ wordindex] + \"'\", \"current best two-tag sequence:\", this_backpointer[ currbest], currbest)\n",
        "    # print( \"Word\", \"'\" + sentence[ wordindex] + \"'\", \"current best tag:\", currbest)\n",
        "\n",
        "\n",
        "    # done with all tags in this iteration\n",
        "    # so store the current viterbi step\n",
        "    viterbi.append(this_viterbi)\n",
        "    backpointer.append(this_backpointer)\n",
        "\n",
        "\n",
        "# done with all words in the sentence.\n",
        "# now find the probability of each tag\n",
        "# to have \"END\" as the next tag,\n",
        "# and use that to find the overall best sequence\n",
        "prev_viterbi = viterbi[-1]\n",
        "best_previous = max(prev_viterbi.keys(),\n",
        "                    key = lambda prevtag: prev_viterbi[ prevtag ] * cpd_tags[prevtag].prob(\"END\"))\n",
        "\n",
        "prob_tagsequence = prev_viterbi[ best_previous ] * cpd_tags[ best_previous].prob(\"END\")\n",
        "\n",
        "# best tagsequence: we store this in reverse for now, will invert later\n",
        "best_tagsequence = [ \"END\", best_previous ]\n",
        "# invert the list of backpointers\n",
        "backpointer.reverse()\n",
        "\n",
        "# go backwards through the list of backpointers\n",
        "# (or in this case forward, because we have inverter the backpointer list)\n",
        "# in each case:\n",
        "# the following best tag is the one listed under\n",
        "# the backpointer for the current best tag\n",
        "current_best_tag = best_previous\n",
        "for bp in backpointer:\n",
        "    best_tagsequence.append(bp[current_best_tag])\n",
        "    current_best_tag = bp[current_best_tag]\n",
        "\n",
        "best_tagsequence.reverse()\n",
        "print( \"The sentence was:\", end = \" \")\n",
        "for w in sentence: print( w, end = \" \")\n",
        "print(\"\\n\")\n",
        "print( \"The best tag sequence is:\", end = \" \")\n",
        "for t in best_tagsequence: print (t, end = \" \")\n",
        "print(\"\\n\")\n",
        "print( \"The probability of the best tag sequence is:\", prob_tagsequence)\n"
      ],
      "execution_count": 306,
      "outputs": [
        {
          "output_type": "error",
          "ename": "IndentationError",
          "evalue": "ignored",
          "traceback": [
            "\u001b[0;36m  File \u001b[0;32m\"<ipython-input-306-c6ae982eedb3>\"\u001b[0;36m, line \u001b[0;32m71\u001b[0m\n\u001b[0;31m    this_viterbi[ tag ] = prev_viterbi[ best_previous] *             cpd_tags[ best_previous ].prob(tag) * cpd_tagwords[ tag].prob(sentence[wordindex])\u001b[0m\n\u001b[0m                                                                                                                                                       ^\u001b[0m\n\u001b[0;31mIndentationError\u001b[0m\u001b[0;31m:\u001b[0m unindent does not match any outer indentation level\n"
          ]
        }
      ]
    },
    {
      "cell_type": "code",
      "metadata": {
        "id": "UpmphUOUookP"
      },
      "source": [
        ""
      ],
      "execution_count": null,
      "outputs": []
    }
  ]
}