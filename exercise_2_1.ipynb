{
  "nbformat": 4,
  "nbformat_minor": 0,
  "metadata": {
    "colab": {
      "name": "exercise_2.1.ipynb",
      "provenance": [],
      "collapsed_sections": [],
      "authorship_tag": "ABX9TyNrVp/qyycSDXgTvfSbVZVM",
      "include_colab_link": true
    },
    "kernelspec": {
      "name": "python3",
      "display_name": "Python 3"
    }
  },
  "cells": [
    {
      "cell_type": "markdown",
      "metadata": {
        "id": "view-in-github",
        "colab_type": "text"
      },
      "source": [
        "<a href=\"https://colab.research.google.com/github/Alecia113/NLP-Ex/blob/main/exercise_2_1.ipynb\" target=\"_parent\"><img src=\"https://colab.research.google.com/assets/colab-badge.svg\" alt=\"Open In Colab\"/></a>"
      ]
    },
    {
      "cell_type": "markdown",
      "metadata": {
        "id": "77grYTUR-8v2"
      },
      "source": [
        "# Exercise\n",
        "Please complete the following **two questions** E1 and E2 and and submit your **\"ipynb\" file to Canvas**. (You can download it using \"File\" > \"Download .ipynb\")."
      ]
    },
    {
      "cell_type": "markdown",
      "metadata": {
        "id": "YCBRYwd7_OHD"
      },
      "source": [
        "##E1. What are the advantages of Facebook's FastText over Google's Word2Vec?\n",
        "Please write down your answer below with a **supportive example**, using your own words. "
      ]
    },
    {
      "cell_type": "code",
      "metadata": {
        "cellView": "form",
        "id": "P7IQSvnKIdTC"
      },
      "source": [
        "#@Lab01 - E1\r\n",
        "\r\n",
        "Answer = \" FastText can divide the word eg apple to app ppl ple so if the corpus do not have apple word2vec will take wrong but fasttext can use more less word to try they best to find the similar words. \" #@param {type:\"raw\"}"
      ],
      "execution_count": 1,
      "outputs": []
    },
    {
      "cell_type": "markdown",
      "metadata": {
        "id": "7XBX1XpoDP9s"
      },
      "source": [
        "相较于Google 的W2V  Facebook 的FastText 有什么优势。"
      ]
    },
    {
      "cell_type": "markdown",
      "metadata": {
        "id": "DupJY3rOcozM"
      },
      "source": [
        "## E2. Let's find synonyms\n",
        "Let's assume the cosine similarity, or distance, between two word embedding vectors can indicate if the words are semantically similar to each other. In this exercise, you will implement a function called find_synonym(), in which:\n",
        "\n",
        "1. A list of 6 words are given\n",
        "2. You need to implement your own algorithm to find the **synonym for each of the words (i.e. words with the highest cosine similarity or smallest distance)** in the list **from the rest of 5 words** based on the cosine similarity calculated. (Using the .similarity() or distance() function from *Load pretrained word embedding model using API* section above may help)\n",
        "3. Print out the synonyms found\n",
        "\n",
        "Please use the pretrained 50-dimensional GloVe word embedding trained on wikipedia and gigaword corpus. (You can use the gensim.downloader to load by passing 'glove-wiki-gigaword-50' to the .load() function, refer to the *Load pretrained word embedding model using API* section above)\n",
        "\n",
        "Before the function, you may need to import any required libraries.\n",
        "\n",
        "\n",
        "\n",
        "\n"
      ]
    },
    {
      "cell_type": "code",
      "metadata": {
        "colab": {
          "base_uri": "https://localhost:8080/"
        },
        "id": "rcie1yZLvL20",
        "outputId": "fdd320d2-d4b7-46c8-9fc9-1f7b97099a3c"
      },
      "source": [
        "# Complete the following function based on the requirements above\n",
        "\n",
        "# The list of words to find synonyms\n",
        "words = [\"beautiful\", \"smart\", \"clever\", \"stupid\", \"lovely\", \"foolish\"]\n",
        " \n",
        "# Load GloVe\n",
        "import gensim.downloader as api\n",
        "import pprint\n",
        "\n",
        "model = api.load(\"glove-wiki-gigaword-50\") \n",
        "sim = []\n",
        "Corresponding_word = []  #对应词汇 【（），（）】\n",
        "def find_synonym(words):\n",
        "  i = 0\n",
        "  j = 0\n",
        "  for i in range(6):# 第一个与其他五个的比较后的相似度。\n",
        "    for j in range(6):\n",
        "      if j != i:\n",
        "        sim.append(model.similarity(words[i],words[j])) #i和j 比 ； 相似度  #没更新啊，一直在添加。\n",
        "\n",
        "          #又要存值又要存谁和谁的相似度  \n",
        "      else:\n",
        "        j +=1 \n",
        "\n",
        "    x =sim.index(max(sim))\n",
        "    if i == 0:\n",
        "      x = x+1\n",
        "    elif i>0 and x<i:\n",
        "      x = x\n",
        "    else:\n",
        "      x = x+1\n",
        "\n",
        "        \n",
        "    Corresponding_word.append((words[i],words[x]))  #找到那个建第几-1 次比（第一次比就存在0）       sim.index(max(sim))\n",
        "    sim.clear()\n",
        "  return Corresponding_word\n",
        "\n",
        "\n",
        "\n",
        "\n",
        "pprint.pprint(find_synonym(words))\n",
        " "
      ],
      "execution_count": 2,
      "outputs": [
        {
          "output_type": "stream",
          "text": [
            "[('beautiful', 'lovely'),\n",
            " ('smart', 'clever'),\n",
            " ('clever', 'smart'),\n",
            " ('stupid', 'foolish'),\n",
            " ('lovely', 'beautiful'),\n",
            " ('foolish', 'stupid')]\n"
          ],
          "name": "stdout"
        }
      ]
    },
    {
      "cell_type": "code",
      "metadata": {
        "colab": {
          "base_uri": "https://localhost:8080/",
          "height": 243
        },
        "id": "I2n5HJcowz0Z",
        "outputId": "0c16ed4f-923e-49f0-ec35-a7b38d42fb81"
      },
      "source": [
        "    if i == 0:\n",
        "      x = x+1\n",
        "    else:\n",
        "      if i == 1 and x < i:\n",
        "        x = x\n",
        "      else:\n",
        "        if i>1 and x<=i:\n",
        "          x = x\n",
        "        else:\n",
        "          x = x+1"
      ],
      "execution_count": 3,
      "outputs": [
        {
          "output_type": "error",
          "ename": "NameError",
          "evalue": "ignored",
          "traceback": [
            "\u001b[0;31m---------------------------------------------------------------------------\u001b[0m",
            "\u001b[0;31mNameError\u001b[0m                                 Traceback (most recent call last)",
            "\u001b[0;32m<ipython-input-3-ccc10cbe939f>\u001b[0m in \u001b[0;36m<module>\u001b[0;34m()\u001b[0m\n\u001b[0;32m----> 1\u001b[0;31m \u001b[0;32mif\u001b[0m \u001b[0mi\u001b[0m \u001b[0;34m==\u001b[0m \u001b[0;36m0\u001b[0m\u001b[0;34m:\u001b[0m\u001b[0;34m\u001b[0m\u001b[0;34m\u001b[0m\u001b[0m\n\u001b[0m\u001b[1;32m      2\u001b[0m   \u001b[0mx\u001b[0m \u001b[0;34m=\u001b[0m \u001b[0mx\u001b[0m\u001b[0;34m+\u001b[0m\u001b[0;36m1\u001b[0m\u001b[0;34m\u001b[0m\u001b[0;34m\u001b[0m\u001b[0m\n\u001b[1;32m      3\u001b[0m \u001b[0;32melse\u001b[0m\u001b[0;34m:\u001b[0m\u001b[0;34m\u001b[0m\u001b[0;34m\u001b[0m\u001b[0m\n\u001b[1;32m      4\u001b[0m   \u001b[0;32mif\u001b[0m \u001b[0mi\u001b[0m \u001b[0;34m==\u001b[0m \u001b[0;36m1\u001b[0m \u001b[0;32mand\u001b[0m \u001b[0mx\u001b[0m \u001b[0;34m<\u001b[0m \u001b[0mi\u001b[0m\u001b[0;34m:\u001b[0m\u001b[0;34m\u001b[0m\u001b[0;34m\u001b[0m\u001b[0m\n\u001b[1;32m      5\u001b[0m     \u001b[0mx\u001b[0m \u001b[0;34m=\u001b[0m \u001b[0mx\u001b[0m\u001b[0;34m\u001b[0m\u001b[0;34m\u001b[0m\u001b[0m\n",
            "\u001b[0;31mNameError\u001b[0m: name 'i' is not defined"
          ]
        }
      ]
    },
    {
      "cell_type": "code",
      "metadata": {
        "id": "tFLJXDzcrtZ2"
      },
      "source": [
        "'''\n",
        "import gensim.downloader as api\n",
        "\n",
        "# download the model and return as object ready for use\n",
        "model = api.load(\"glove-wiki-gigaword-50\")  \n",
        "# The similarity() function can calculate the cosine similarity between two given words\n",
        "print(model.similarity(\"beautiful\",\"smart\"))\n",
        "# The distance() function is another way of calculating the similarity between two given words, which returns 1-cosine similarity instead\n",
        "print(model.distance(\"cat\",\"dog\"))\n",
        "'''"
      ],
      "execution_count": null,
      "outputs": []
    },
    {
      "cell_type": "code",
      "metadata": {
        "id": "g4cKLPb0sogn"
      },
      "source": [
        "#words[5]"
      ],
      "execution_count": null,
      "outputs": []
    },
    {
      "cell_type": "code",
      "metadata": {
        "id": "BueyK3R3w2dV"
      },
      "source": [
        "\n",
        "for i in range(6):\n",
        "  print(i)\n",
        "  "
      ],
      "execution_count": null,
      "outputs": []
    },
    {
      "cell_type": "code",
      "metadata": {
        "id": "g32nm1fn36NE"
      },
      "source": [
        "'''\n",
        "s = {}\n",
        "\n",
        "s\n",
        "'''"
      ],
      "execution_count": null,
      "outputs": []
    },
    {
      "cell_type": "code",
      "metadata": {
        "id": "vtj-R_Di32Nl"
      },
      "source": [
        "scores = {'小明':95,'小红':90,'小刚':90}\n",
        "del scores['小刚']\n",
        "scores['小刚'] = 92\n",
        "scores['小美'] = 85\n",
        "m = 1\n",
        "k = 2\n",
        "words = [\"beautiful\", \"smart\", \"clever\", \"stupid\", \"lovely\", \"foolish\"]\n",
        "fin = {}\n",
        "fin[words[m]+' campare '+words[k]] = 231\n",
        "scores['time'+ str(m)] = 89\n",
        "print(scores)\n",
        "print(fin)\n",
        " #[]而且是写建的名称"
      ],
      "execution_count": null,
      "outputs": []
    },
    {
      "cell_type": "code",
      "metadata": {
        "id": "Kd1sNKLU79oP"
      },
      "source": [
        "kk = [1,3123,41241,52342,51314,53241,89899]\n",
        "max(kk)\n",
        "s = max(kk) #可以直接将一个 没有赋值的直接赋值非012314的数（看上去）\n",
        "print(s)\n",
        "\n",
        "'''\n",
        "list.index(obj)\n",
        "从列表中找出某个值第一个匹配项的索引位置\n",
        "'''\n",
        "kk.index(41241)\n",
        "i = 0\n",
        "j = 2\n",
        "words = [\"beautiful\", \"smart\", \"clever\", \"stupid\", \"lovely\", \"foolish\"]\n",
        "#第一次，那个值返回的0\n",
        "kk.append((words[i],words[j]))\n",
        "print(kk)\n",
        "\n",
        "i= 1#smart\n",
        "\n",
        "#不能if嵌套if看上去\n"
      ],
      "execution_count": null,
      "outputs": []
    },
    {
      "cell_type": "code",
      "metadata": {
        "id": "yz1gITTx_ESO"
      },
      "source": [
        "Corresponding_word.append((words[i],words[j]))"
      ],
      "execution_count": null,
      "outputs": []
    },
    {
      "cell_type": "code",
      "metadata": {
        "id": "HCd23jclUGYF",
        "colab": {
          "base_uri": "https://localhost:8080/",
          "height": 142
        },
        "outputId": "4ce975b2-d075-4013-fcee-a0b3c9a7a10c"
      },
      "source": [
        "# Complete the following function based on the requirements above\r\n",
        "\r\n",
        "# The list of words to find synonyms\r\n",
        "words = [\"beautiful\", \"smart\", \"clever\", \"stupid\", \"lovely\", \"foolish\"]\r\n",
        " \r\n",
        "# Load GloVe\r\n",
        "import gensim.downloader as api\r\n",
        "import pprint\r\n",
        "\r\n",
        "model = api.load(\"glove-wiki-gigaword-50\") \r\n",
        "sim = []\r\n",
        "Corresponding_word = []  #对应词汇 【（），（）】\r\n",
        "def find_synonym(words):\r\n",
        "  i = 0\r\n",
        "  j = 0\r\n",
        "  for i in range(6):# 第一个与其他五个的比较后的相似度。\r\n",
        "    for j in range(6):\r\n",
        "      if j != i:\r\n",
        "        sim.append(model.similarity(words[i],words[j])) #i和j 比 ； 相似度  #没更新啊，一直在添加。\r\n",
        "\r\n",
        "          #又要存值又要存谁和谁的相似度  \r\n",
        "      else:\r\n",
        "        j +=1 \r\n",
        "\r\n",
        "    x =sim.index(max(sim))\r\n",
        "    if i == 0:\r\n",
        "      x = x+1\r\n",
        "    else:\r\n",
        "      if i == 1 and x < i:\r\n",
        "        x = x\r\n",
        "      else:\r\n",
        "        x = x\r\n",
        "        if i>1 and x<=i:\r\n",
        "          x = x\r\n",
        "        else:\r\n",
        "          x = x+1\r\n",
        "\r\n",
        "        \r\n",
        "    Corresponding_word.append((words[i],words[x]))  #找到那个建第几-1 次比（第一次比就存在0）       sim.index(max(sim))\r\n",
        "    sim.clear()\r\n",
        "  return Corresponding_word\r\n",
        "\r\n",
        "\r\n",
        "\r\n",
        "\r\n",
        "pprint.pprint(find_synonym(words))\r\n",
        " \r\n",
        "  \r\n",
        "'''\r\n",
        " x =sim.index(max(sim))\r\n",
        " if i = 0:\r\n",
        "   x = x+1\r\n",
        " else:\r\n",
        "   if i = 1:\r\n",
        "     x = x-1\r\n",
        "   else:\r\n",
        "     x = x\r\n",
        "     if i>1 and x<=i:\r\n",
        "       x = x\r\n",
        "     else:\r\n",
        "       x = x+1\r\n",
        "\r\n",
        "       \r\n",
        "  \r\n",
        "'''\r\n",
        "\r\n",
        "'''\r\n",
        "    max(list) 可以直接用这个了\r\n",
        "    for n in range(5):\r\n",
        "      \r\n",
        "      if sim[n] > = sim[n+1]:\r\n",
        "        max_sim = words[n]\r\n",
        "      else:\r\n",
        "        max_sim = sim[n+1]\r\n",
        "''' \r\n",
        "\r\n",
        "\r\n",
        "\r\n",
        "  \r\n",
        "\r\n",
        "     \r\n",
        "\r\n",
        "\r\n",
        "\r\n",
        "  # Find synonym and return the synonym from the given words list for the given word \r\n",
        "  \r\n",
        "\r\n",
        "  \r\n",
        " \r\n",
        "# Call the function to get the synonyms and print out the synonyms for each word\r\n"
      ],
      "execution_count": 4,
      "outputs": [
        {
          "output_type": "stream",
          "text": [
            "[('beautiful', 'lovely'),\n",
            " ('smart', 'clever'),\n",
            " ('clever', 'smart'),\n",
            " ('stupid', 'foolish'),\n",
            " ('lovely', 'beautiful'),\n",
            " ('foolish', 'stupid')]\n"
          ],
          "name": "stdout"
        },
        {
          "output_type": "execute_result",
          "data": {
            "application/vnd.google.colaboratory.intrinsic+json": {
              "type": "string"
            },
            "text/plain": [
              "'\\n    max(list) 可以直接用这个了\\n    for n in range(5):\\n      \\n      if sim[n] > = sim[n+1]:\\n        max_sim = words[n]\\n      else:\\n        max_sim = sim[n+1]\\n'"
            ]
          },
          "metadata": {
            "tags": []
          },
          "execution_count": 4
        }
      ]
    },
    {
      "cell_type": "code",
      "metadata": {
        "id": "q1PIRTgHtHr3"
      },
      "source": [
        "'''\n",
        "需要个循环\n",
        "第一个词第二次的相似度 和第三个 ……第五个\n",
        "然后比较相似度\n",
        "需要个判断比大小。相似度就是最大值。\n",
        "距离就是最小值\n",
        "\n",
        "然后一个就完成了。输出。\n",
        "\n",
        "然后第二个词，开始从头比较。也是比较五次。\n",
        "第三个词比较五次。\n",
        "\n",
        "\n",
        "'''"
      ],
      "execution_count": null,
      "outputs": []
    },
    {
      "cell_type": "markdown",
      "metadata": {
        "id": "RqDdXMDDBjIk"
      },
      "source": [
        "做个find_synoym 函数(语义相似） 给了6个词 找到每个词的相似词（最高相似性） APi\n",
        "3 打出来结果\n",
        "使用训练的50维度的GloVe 训练在wikipedia 和gigaword 语料库。  下载看来也得自己写 'glove-wiki-gigaword-50' to the .load() function\n",
        "关联载入训练单词嵌入模型使用api\n",
        "还得自己导库\n",
        "\n"
      ]
    },
    {
      "cell_type": "markdown",
      "metadata": {
        "id": "vL1I0POWDbAJ"
      },
      "source": [
        "**指示这些单词在语义上是否彼此相似**\n",
        "\n",
        ">  **给出6个单词列表**\n",
        ">  **从生下五个单词中找到列表中的每个单词的同义词（最大余弦相似度或最小距离的单词）**\n",
        "【使用API load 预训练的词嵌入模型中， .similarity() 、distance()\n",
        "\n",
        "\n",
        "> 打印同义词\n",
        "\n",
        "\n",
        "> 经过Wikipedia 和gigaword 语料库训练的预训练的50维GloVe词嵌入（可以使用‘glove-wiki-gigaword-50 ’传递给.load()函数来使用 gensim.downloader 来加载\n",
        "【上面使用API 加载与训练单词潜入模式那块】\n",
        "【导入库】\n",
        "#就在这6个词中护找同义词\n",
        "\n",
        "\n"
      ]
    },
    {
      "cell_type": "markdown",
      "metadata": {
        "id": "btfv_GUrkFCu"
      },
      "source": [
        "**E2 Sample output**\r\n",
        "\r\n",
        "The following is **the sample output for E2**, each of the given word is saved in tuple with its synonym, e.g. the given word beautiful and its synonym lovely in the first tuple. - Please just check the **output format**."
      ]
    },
    {
      "cell_type": "markdown",
      "metadata": {
        "id": "xQka2c-tjzJB"
      },
      "source": [
        "![WeChat Image_20210313235923.png](data:image/png;base64,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)"
      ]
    },
    {
      "cell_type": "markdown",
      "metadata": {
        "id": "YrjbuZYrXD88"
      },
      "source": [
        "# Extension"
      ]
    },
    {
      "cell_type": "markdown",
      "metadata": {
        "id": "8UWjBxLdTcEi"
      },
      "source": [
        "## Word Embedding Visual Inspector (WEVI)\n",
        "If you would like to visualise how Word2Vec is learning, the following link is useful https://ronxin.github.io/wevi/"
      ]
    }
  ]
}