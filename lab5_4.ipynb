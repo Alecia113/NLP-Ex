{
  "nbformat": 4,
  "nbformat_minor": 0,
  "metadata": {
    "colab": {
      "name": "lab5.4.ipynb",
      "provenance": [],
      "collapsed_sections": [],
      "authorship_tag": "ABX9TyNOvG1M/FJr0WU/zofqywOq",
      "include_colab_link": true
    },
    "kernelspec": {
      "name": "python3",
      "display_name": "Python 3"
    },
    "language_info": {
      "name": "python"
    }
  },
  "cells": [
    {
      "cell_type": "markdown",
      "metadata": {
        "id": "view-in-github",
        "colab_type": "text"
      },
      "source": [
        "<a href=\"https://colab.research.google.com/github/Alecia113/NLP-Ex/blob/main/lab5_4.ipynb\" target=\"_parent\"><img src=\"https://colab.research.google.com/assets/colab-badge.svg\" alt=\"Open In Colab\"/></a>"
      ]
    },
    {
      "cell_type": "code",
      "metadata": {
        "id": "jKxN3z5FPRcw"
      },
      "source": [
        "import torch\n",
        "#You can enable GPU here (cuda); or just CPU\n",
        "device = torch.device(\"cuda\" if torch.cuda.is_available() else \"cpu\") "
      ],
      "execution_count": 1,
      "outputs": []
    },
    {
      "cell_type": "code",
      "metadata": {
        "id": "zl7OaslvLuPo"
      },
      "source": [
        "# Code to download file into Colaboratory:\n",
        "!pip install -U -q PyDrive\n",
        "from pydrive.auth import GoogleAuth\n",
        "from pydrive.drive import GoogleDrive\n",
        "from google.colab import auth\n",
        "from oauth2client.client import GoogleCredentials\n",
        "# Authenticate and create the PyDrive client.\n",
        "auth.authenticate_user()\n",
        "gauth = GoogleAuth()\n",
        "gauth.credentials = GoogleCredentials.get_application_default()\n",
        "drive = GoogleDrive(gauth)\n",
        "\n",
        "id = '1gNfBqguzBu8cHKMPc8C44GbvD443dNC5'\n",
        "downloaded = drive.CreateFile({'id':id}) \n",
        "downloaded.GetContentFile('twitter.csv')  \n",
        "\n",
        "import pandas as pd\n",
        "df = pd.read_csv(\"twitter.csv\")\n",
        "df_pick = df.sample(400,random_state=24)\n",
        "\n",
        "raw_text = df_pick[\"Text\"].tolist()\n",
        "raw_label = df_pick[\"Label\"].tolist()\n",
        "\n",
        "from sklearn.model_selection import train_test_split\n",
        "text_train,text_test,label_train,label_test = train_test_split(raw_text,raw_label,test_size=0.25,random_state=42) #test_size=0.25表示取了四分之一的数据来测试模型"
      ],
      "execution_count": 2,
      "outputs": []
    },
    {
      "cell_type": "code",
      "metadata": {
        "id": "l9LggrTtLuPx"
      },
      "source": [
        "text_train = [s.lower() for s in text_train]\n",
        "text_test = [s.lower() for s in text_test]"
      ],
      "execution_count": 3,
      "outputs": []
    },
    {
      "cell_type": "code",
      "metadata": {
        "id": "7zfD9VbY9Gpu"
      },
      "source": [
        ""
      ],
      "execution_count": null,
      "outputs": []
    },
    {
      "cell_type": "code",
      "metadata": {
        "id": "ruV6_wkrxY8B",
        "colab": {
          "base_uri": "https://localhost:8080/"
        },
        "outputId": "56f36ec9-621b-4357-aa38-6dcca5cab0bb"
      },
      "source": [
        "#删标点\n",
        "import re\n",
        "import pprint\n",
        "def remove_punctuation_re(x):\n",
        "    # Please complete this\n",
        "    x = re.sub(r'[^\\w\\s]', '', x)\n",
        "    #x = re.sub(r\"([.!?,'])\",'', x) #后自己加的\n",
        "    #x = re.sub(r\"[^a-zA-Z.!?]+\",'', x) #后加\n",
        "    return x\n",
        "    \n",
        "text_train = [remove_punctuation_re(s) for s in text_train]\n",
        "text_test = [remove_punctuation_re(s) for s in text_test]\n",
        "pprint.pprint(text_train[10:20])"
      ],
      "execution_count": 4,
      "outputs": [
        {
          "output_type": "stream",
          "text": [
            "['im thinking that daesh have no choice but to try to take back the '\n",
            " 'intersection of hw 1 and hw 47 near tal afar',\n",
            " 'mikeage what isnt p',\n",
            " 'i was planning on stopping by portland again but i dont think im going to '\n",
            " 'have the time for that too much to do when i get back',\n",
            " 'directhex httptcocaxxus108l',\n",
            " 'did they drug colins serving or mkr',\n",
            " 'rt dubhe80 maja_stina raised by women majority of coworkers r womeninterpret '\n",
            " 'my words as you wish no matter how much you twist em ',\n",
            " 'rt tatibresolin oh if only colin washed his hair mkr',\n",
            " 'maxblumenthal mehdirhasan tnr imagine a muslim journalist making a case for '\n",
            " 'why isis is not islamic no self interest there lol',\n",
            " 'watch tarts with poorly constructed personalities deconstruct a tart mkr',\n",
            " 'johnnyrejection espn yeah men never comment on athletes bodies ever']\n"
          ],
          "name": "stdout"
        }
      ]
    },
    {
      "cell_type": "code",
      "metadata": {
        "id": "ZpEXiV2m_qFz",
        "colab": {
          "base_uri": "https://localhost:8080/",
          "height": 52
        },
        "outputId": "951dff28-8b5f-4be0-c3e8-8fdeed6466b2"
      },
      "source": [
        "'''\n",
        "['withtrish',\n",
        " 'jrehling',\n",
        " 'look',\n",
        " 'if',\n",
        " 'you',\n",
        " 'dont',\n",
        " 'know',\n",
        " 'anything',\n",
        " 'about',\n",
        " 'islam',\n",
        " 'then',\n",
        " 'dont',\n",
        " 'waste',\n",
        " 'my',\n",
        " 'time']\n",
        "'''"
      ],
      "execution_count": 5,
      "outputs": [
        {
          "output_type": "execute_result",
          "data": {
            "application/vnd.google.colaboratory.intrinsic+json": {
              "type": "string"
            },
            "text/plain": [
              "\"\\n['withtrish',\\n 'jrehling',\\n 'look',\\n 'if',\\n 'you',\\n 'dont',\\n 'know',\\n 'anything',\\n 'about',\\n 'islam',\\n 'then',\\n 'dont',\\n 'waste',\\n 'my',\\n 'time']\\n\""
            ]
          },
          "metadata": {
            "tags": []
          },
          "execution_count": 5
        }
      ]
    },
    {
      "cell_type": "code",
      "metadata": {
        "id": "lyTW36yN-NRJ"
      },
      "source": [
        "import nltk\n",
        "nltk.download('punkt')\n",
        "\n",
        "from nltk.tokenize import word_tokenize, sent_tokenize\n",
        "train_t=[]\n",
        "for s in text_train:\n",
        "  text_train = word_tokenize(s)#每句话分别作了分词 text_train[0]第一句话的分词\n",
        "  train_t.append(text_train)\n",
        "pprint.pprint(train_t)#[['finalbroadcast', 'or', 'many', 'dkim', 'setups', 'for', 'that', 'matter'],\n",
        "\n",
        "test_t=[]\n",
        "for w in text_test:\n",
        "  text_test = word_tokenize(w)\n",
        "  test_t.append(text_test)\n",
        "pprint.pprint(text_test)"
      ],
      "execution_count": null,
      "outputs": []
    },
    {
      "cell_type": "code",
      "metadata": {
        "colab": {
          "base_uri": "https://localhost:8080/",
          "height": 35
        },
        "id": "x27GpKJvFVEd",
        "outputId": "7be68918-fc28-4398-d63d-41e246c99561"
      },
      "source": [
        ""
      ],
      "execution_count": 12,
      "outputs": [
        {
          "output_type": "execute_result",
          "data": {
            "application/vnd.google.colaboratory.intrinsic+json": {
              "type": "string"
            },
            "text/plain": [
              "'haroonstyles'"
            ]
          },
          "metadata": {
            "tags": []
          },
          "execution_count": 12
        }
      ]
    },
    {
      "cell_type": "code",
      "metadata": {
        "colab": {
          "base_uri": "https://localhost:8080/",
          "height": 579
        },
        "id": "Q1cipk2OAyoP",
        "outputId": "9498b88e-9ce4-4651-ecdf-dc946833c940"
      },
      "source": [
        "nltk.download('stopwords')\n",
        "from nltk.corpus import stopwords as sw\n",
        "stop_words = sw.words()\n",
        "\n",
        "#for s in range(len(text_train)):\n",
        "  #print(s)\n",
        "pprint.pprint(text_train)\n",
        "for s in range(len(text_train)):\n",
        "  print(s)\n",
        "text_train = [w for w in text_train if not w in stop_words]\n",
        "pprint.pprint(text_train)\n",
        "'''\n",
        "text_train_ns=[]\n",
        "for tokens in text_train:\n",
        "  filtered_sentence = [w for w in tokens if not w in stop_words]\n",
        "  text_train_ns.append(filtered_sentence)\n",
        "pprint.pprint(text_train_ns)\n",
        "\n",
        "text_test_ns=[]\n",
        "for tokens in text_test:\n",
        "  filtered_sentence = [w for w in tokens if not w in stop_words]\n",
        "  text_test_ns.append(filtered_sentence)\n",
        "pprint.pprint(text_test_ns[10:20])\n",
        "    #Please complete this\n",
        "'''"
      ],
      "execution_count": 10,
      "outputs": [
        {
          "output_type": "stream",
          "text": [
            "[nltk_data] Downloading package stopwords to /root/nltk_data...\n",
            "[nltk_data]   Package stopwords is already up-to-date!\n",
            "['haroonstyles',\n",
            " 'greenlinerzjm',\n",
            " 'halalflaws',\n",
            " 'biebervalue',\n",
            " 'show',\n",
            " 'hadith',\n",
            " 'get',\n",
            " 'information',\n",
            " 'waiting']\n",
            "0\n",
            "1\n",
            "2\n",
            "3\n",
            "4\n",
            "5\n",
            "6\n",
            "7\n",
            "8\n",
            "['haroonstyles',\n",
            " 'greenlinerzjm',\n",
            " 'halalflaws',\n",
            " 'biebervalue',\n",
            " 'show',\n",
            " 'hadith',\n",
            " 'get',\n",
            " 'information',\n",
            " 'waiting']\n"
          ],
          "name": "stdout"
        },
        {
          "output_type": "execute_result",
          "data": {
            "application/vnd.google.colaboratory.intrinsic+json": {
              "type": "string"
            },
            "text/plain": [
              "'\\ntext_train_ns=[]\\nfor tokens in text_train:\\n  filtered_sentence = [w for w in tokens if not w in stop_words]\\n  text_train_ns.append(filtered_sentence)\\npprint.pprint(text_train_ns)\\n\\ntext_test_ns=[]\\nfor tokens in text_test:\\n  filtered_sentence = [w for w in tokens if not w in stop_words]\\n  text_test_ns.append(filtered_sentence)\\npprint.pprint(text_test_ns[10:20])\\n    #Please complete this\\n'"
            ]
          },
          "metadata": {
            "tags": []
          },
          "execution_count": 10
        }
      ]
    },
    {
      "cell_type": "code",
      "metadata": {
        "id": "yDKCJ2Hv9ji3"
      },
      "source": [
        ""
      ],
      "execution_count": null,
      "outputs": []
    },
    {
      "cell_type": "code",
      "metadata": {
        "id": "mLxxQ5IL9P-y"
      },
      "source": [
        ""
      ],
      "execution_count": null,
      "outputs": []
    },
    {
      "cell_type": "code",
      "metadata": {
        "colab": {
          "base_uri": "https://localhost:8080/",
          "height": 140
        },
        "id": "k-blFEpT3Z5c",
        "outputId": "a3b7f82d-3174-45bc-e381-65b049efdcd9"
      },
      "source": [
        "'''\n",
        "import nltk\n",
        "nltk.download('punkt')\n",
        "from nltk.tokenize import word_tokenize, sent_tokenize       #, sent_tokenize#分句子\n",
        "\n",
        "train_tok = []\n",
        "text_train = str(text_train)\n",
        "tokenized_sentence1 =sent_tokenize(text_train)#一句话一组。已经是二维了 train_tok[0][0][0]取出第一句话了\n",
        "train_tok.append(tokenized_sentence1)\n",
        "train_tok = train_tok[0]\n",
        "print(train_tok[0]) #所有的句子列表，但是都是字符串，三位的话就是一个字母一个字母取 目前就是二维，0 是全部段落，0 就是第一个字母\n",
        "train_s = []\n",
        "for i in range(len(train_toke))\n",
        "for s in train_toke\n",
        "for s in train_toke\n",
        "'''\n",
        "\n",
        "'''\n",
        "token_word1 = word_tokenize(str(tokenized_sentence1))\n",
        "train_tok.append(token_word1)\n",
        "\n",
        "pprint.pprint(train_tok)\n",
        "\n",
        "test_tok = []\n",
        "tokenized_sentence2 =sent_tokenize(str(text_test))\n",
        "token_word2 = word_tokenize(str(tokenized_sentence2))\n",
        "test_tok.append(token_word2)\n",
        "'''\n"
      ],
      "execution_count": null,
      "outputs": [
        {
          "output_type": "stream",
          "text": [
            "[nltk_data] Downloading package punkt to /root/nltk_data...\n",
            "[nltk_data]   Package punkt is already up-to-date!\n",
            "['finalbroadcast or many dkim setups for that matter', 'sevilzadeh mohammed led 17 major military expeditions most offensive he raped robbed murdered lied slaved and was a pedophile', 'benkuchera i saw your face', 'realryansipple a real attack on al asad would yield a daesh killing ground lots of open space and no civilians to hide behind', 'can someone explain to the gals sass is not the same as edible food mkr', 'rt channel7 british lads will and steve are taking on the mykitchenrules instant restaurant tonight and theyre on now mkr httptco', 'cannot believe those two fucktards are still in the competition my middle finger says hello to you kat amp andre assholes mkr', 'i hope this instant restaurant round is a good one getting a bit over them mkr mkr2015', 'dankmtl peacenothate_ yeah keep celebrating while you look like a cretin httptcotfsodcowbx', 'lithobolos politicalant zaibatsunews what double standard microbrain im not a jew or a christian', 'im thinking that daesh have no choice but to try to take back the intersection of hw 1 and hw 47 near tal afar', 'mikeage what isnt p', 'i was planning on stopping by portland again but i dont think im going to have the time for that too much to do when i get back', 'directhex httptcocaxxus108l', 'did they drug colins serving or mkr', 'rt dubhe80 maja_stina raised by women majority of coworkers r womeninterpret my words as you wish no matter how much you twist em ', 'rt tatibresolin oh if only colin washed his hair mkr', 'maxblumenthal mehdirhasan tnr imagine a muslim journalist making a case for why isis is not islamic no self interest there lol', 'watch tarts with poorly constructed personalities deconstruct a tart mkr', 'johnnyrejection espn yeah men never comment on athletes bodies ever', 'come on down were cooking ears cityofmandurah thegoodguysau crabfest15 mkr chloeandkelly httpstco6kgw1lejfr', 'rt rkhayer kurdish troops liberate kirkuk oil workers sputnik international iraq kurds isis is hostages prisonersofwar httpt', 'rayyoosheh what do you call this httptcomxuw3hz4tb', 'uplay launcher crashes repeatedly', 'rt victorymonk if she is not one of womenagainstfeminism i dont know who is httpstcoum5svjgazu', 'darrenkopp bsilverstrim77 i already bought it ', 'important to note in all of these stats my before is taken from a large timespan after has been the past 12 h typically a slow time', 'mkr oh nooo goodluck yall', 'wetsprocket i didnt read them p i was sent a few screencaps which is why i was a bit concerned', 'wow did not see that coming mkr', 'rt fyoudbag its insulting to women to expect them to only be attracted to super easy games i honestly am insulted as a parent of a girl', 'fuck me this show will still be running at christmas mkr', 'mistertodd hoping well be able to release more info soon  lots of stuff in the works i promise big things', 'rt angelemichelle rt phxken islam contributing not one damn thing to humanity for 1400 years httptcodajgdn1wy3 well except murde', 'we may have to do business with the saudis but we dont have to pretend that they are anything but a backwards islamic dictatorship islam', 'you confuse me but in a good way mkr httptcouq19q6pnaq', 'seriously two couples who could actually cook are gone while two others clearly should not even be on the show reputations in ruins mkr', 'rt cjsajulga women are reckless drivers notsexist realtalk', 'goosenetworkusa 06jank patrickosgood all those tweets and not a shred of evidence blocked', 'promo girls what do they promo gloves and gumboots 3outof10 mkr mkr2015', 'mkr why would anyone want to eat chicken liver thats just ew no', 'not really a fan of katieandnikki but wouldve rather they stayed than katandandre mkr', 'rt 2ndbestidiot kat is a nasty piece of work tbh mkr', 'rt masontillidie wizardryofozil deusexjuice yesyouresexist  people are too damn sensitive lol', 'kat i feel like im in a dream yeah you are a dreamer with absolutely no cooking ability mkr', 'rt schmeezi again and again i am reminded harshly that having a women boss truly sucks sorrynotsorry itsfact notsexist', 'rt bronny25 katampandre monday people have voted strategically how rude katampandre tonight votes strategically for the third time in ', 'floss weekly open source projects and paying the bills httptcoqmdsdtfvya', 'rt itsbariecool mccheesy904 it happens vice versa but men are smarter naturally notsexist', 'kat amp andre  the most hated mkr team in australia what a revolting couple  mkr2015', 'toodles bitches mkr', 'psychbarakat jncatron i just told you idiot go look up the origin of the name anti semite and what its meaning is', 'new_babylonia this is propaganda the shia militia are religious fanatics and fascists just like isis  only slightly less extreme', 'nscottg for my small org it works amazingly well has everything to do with configuration i love the vcs integrations', 'politicalant zene55 bq281473 foxnewspolitics barackobama there is no difference between what isis does and what mohammed did', 'rt serlasco i need a girl thatll iron my shirts and not call me sexist', 'mattstratton magnus919 theckman cheeseplus tbielawa markimbriaco talk about bringing tweets back from the dead', 'buttercupashby madasahatter_17 and you lie again the majority of muslims were forced into it httptcoumkitlb5h9', 'the number of emails attributing my rts of wocracial issues to spoiled white girl guilt is now greater than 0', 'dankmtl again idiot none of that changes the ratio of muslims to christians in palestine only muslim bigotry and abuse changes it', 'colin was pretty nice to the girls do you think hes giving them the dick mkr', 'reza_rahman you are basically claiming that a religion that teaches hatred and murder has nothing to do with hatred and murder dumb', 'maxblumenthal mami_mermelada grahamdavida jeffreygoldberg hamas does however throw their political opponents off roof tops', 'argh i cant stand kat mkr', 'alihadi68 rudoren nytimes by the way i have to ask do you really consider islam to be spiritual really', 'halalflaws biebervalue greenlinerzjm your prophet never said that and countries like pakistan have a 90 domestic violence rate', 'rt anitaingle remember johncantile videobeautiful mosul under isis 2 wks ago well heres raqqa under is todayreal life w is http', 'r u fucking kidding  catwalk  all thats missing is a pole mkr', 'truaemusic mattybboi83 number10gov child abuse is illegal in western culture it is accepted in islamic cultures because their prophet', 'rt lajouetreine obamas moderate rebels burning christiansyazidis amp muslims alive ccot pjnet syria egypt libya iraq httptco4u', 'randomhero30 rooshv minasmith64 i get that a rotherham redux but who raped cytheria', 'rt victorymonk woman rips off mans testicle because he rejected her tried to swallow it httptcospmvzcjj6o questionsformen askgoog', 'kat is such an awful bitch mkr', 'come on jac and shaz peopleschoice mkr happycampers', 'hdmovieus islam is terror to fight terror you have to fight islam your prophet and your god are both sick terrorists islam', 'rt maajidnawaz ggreenwald teaching me about discrimination implies via the link that critiquing islam is like being a homophobe http', 'seriously kat tasteless youre a grown woman mkr', 'rt mellym09 not really a fan of katieandnikki but wouldve rather they stayed than katandandre mkr', 'rt aledthomas22 not sexist but cannot stand watching sport with women question question question', 'eloisepeace agree i lose interest after instant restaurants think theyre cashing in on that fact this year mkr', 'rt davidsgallant freebsdgirl they should call you d20 cuz who even knows how youre gonna roll', 'i dont see you with a pilots license rennie93 females struggle driving cars yet we have one flying our plane notsexist justhonest', 'channel7 hows colin and these rounds working for you pretty crap id say from the tweets needarethinkinformat mkr', 'meatgirls bamboozled by a can opener and the sorbet churner promogirls for danis direct mkr', 'peerworker yes given that one group routinely posts mutilated bodies on twitter along with american passports id say they are worse', 'thedoubleclicks you make the drive to la so tempting p', 'rt mugnezee not sexist  but watching girls ice hockey is really painful  what are you doing ', 'it is fun watching gg trying to make us fight quit trying to make fetch happen its never going to happen spacekatgal thequinnspiracy', 'rennie93 wow that excuses your sexism', 'out of the two blondes which one is beavis and which is butthead mkr', 'wow that wasnt stiff or scripted at all such witty banter between the real chefs mkr', 'slagkick oh yeah i spam the hell out of those buttons', 'rt budlightbro fuck im not sexist but i have a girl in my recruit school again son of a bitch', 'vandaliser sajid_fairooz israeliregime even with what hitler did to jews still more want to live in the west than under hatefilled islam', 'oh my god httptcowhy3a8o33z httptco5vsf5jroi6', 'pardusxy the ideaor the argument', 'notchrissmith free market they get what they negotiate producers feel its fair or not the actoractress can accept or not askhermore', 'httptcozjbwagvnrg 1shadeofritch and im not sexist but some of these yesallwomen posts are just the most dumbest things on twitter', 'farbenstau xmjee would have to see what kind of stuff youd want me to present on most expertise now is antiharassment tools amp devops', 'rt syazlicious best describes kat and andre mkr httptcoqaa6bwi4pm', 'vex0rian yes i recall ', 'pnibbler alternet maxblumenthal most countries are moving in that direction but not muslim ones httptcot65iytpvdk', 'lactualaloupe islam is not a race microbrain', 'sumersloan pawarnhoff etsho127 israel has been attacked by multiple muslim armies on multiple occasions', 'maxblumenthal marc_leibowitz good someone in the me has finally stood up to the muslim terrorists and their population imperialism', 'politicalant lithobolos zaibatsunews you are the white christian hating bigot im opposed to this httptconleyqfnkyp', 'rt maxcaras yesyouresexist bastendorfgames thats dumb theres nothing wrong with satire and sexist jokes', 'mkr i need a sleeping bag as well cause this show boring as fuck', 'oh well back to promo work mkr mkr2015', 'doammuslims ajwatamr scum bag islamists evacuated all the christian and ezidi civilians from their homes in mosul raqqa sinjar', 'sorry but who changed the channel to the next top model mkr', 'rt robinriedstra nobody likes a dry sausage mkr', 'tobyrobertbull pretty sure dudes are constantly pissing in public', 'having to explain to my doctor that the optional surgery i was planning on cant happen for the next few months bcz no time to recuperate', 'anasmechch peymaneh123 the only group that is behaving somewhat reasonably are the kurdish forces', 'bahai144 do you believe that isis should be attacked or do you believe they should not be attacked clarify the record right now', 'celine mkr httptcobwr6ap0ooo', 'rt ezidipress narîn a young ezidi women from shingal who was abducted enslaved sold and raped by isis terrorists committed suicide i', 'pretty adjective 1 attractive in a delicate way without being truly beautifula pretty little girl with an engaging grin um no mkr', 'rt brushyblues juliet777777 youtube disturbing new isis video buying and selling female sex slaves httptcorbthvmh9jj makes me si', 'rt rinehart33 im not sexist but women drivers are terrible', 'shermertron humanistfury that having different standards for whiteblack is racist not equal at all nope jennykutner salon', 'rt lilbeastunleash its melting because you didnt put it in the freezer before you served it you dumb skank mkr', 'but there is still the dolly magazine model competition once a year girls mkr', 'rape is not a punch line hawaiinshirts lead singer of maroon 5 sound like he getting gangraped in the showers', 'dont be disheartened emilie n sherri mkr', 'desertfox899 jhamby why interact with these people', 'haroonstyles halalflaws greenlinerzjm biebervalue 80 of muslim civilians are killed by taliban look it up', 'salon themuslimguy so when the subject of islams relationship with terrorism comes up they react like the empty morons they are', 'i guess kat amp andre werent hugged enough as a child mkr', 'rt colonelkickhead can someone smash that bottle of rose amp lime cordial over draskos head please mkr', 'p8952_ grafana', 'possibly respond to some support requests with canned answers', 'amohedin show me the verse where it says that it is forbidden to force people into doing something', 'what on earth is that mkr', 'haroonstyles halalflaws greenlinerzjm biebervalue yeah cheney was in the burqua selling business', 'watan71969 you are a total liar just like your pedophile prophet un soldiers dont burn people alive', 'dianh4 but in islam they can rape captive women to their hearts content and there is no law against it', 'is there a bigtime vc who has strong feminist ally leanings curious not looking for funding', 'no way thats sexist at all abdul_a95 im not sexist but female characters in tv shows are 99 usually the most annoying character', 'spacequeentbh so faded p need a hair cut  dye desperately', 'kamaluf thats an easy link httptcomdb4iu9whd', 'httptcoltoxypkwww', 'antizholim tripple price no customers', 'just want to slap the stupid out of these bimbos mkr', 'saltnburnem most of my oreilly books are ebooks p those are all so old but yes i usually quite like them', 'rt amymek wakeuplibsgtjoenbc islamic jihadis like ultrafundamentalist christians httptcovanp6y7clr tcot iloveobama httpt', 'you have a face like a dropped pie lol mkr', 'arab_fury guardian poor kid all he wanted was to grow up and behead kuffir we feel so bad for himat 14 isis would have sent him to kill', 'rt rudawenglish isis executed christian pastor murtaza ablahad 44 years old in mosul today isis had demanded ransom from his http', 'saifullah666 bs story others claim it was ezidis', 'mmmm mkr getting v boring lisamromano garydlum switching to simpsons double ep on 11 now  mmmm httptcoocsy7crghf', 'kaitlynburnell doh haha sure', 'rt danhickey2199 mkr killerblondes the only way these girls are staying is if they blow every bloke in the room so theyre still in wi', 'no offense nigelbigmeech im not sexist but women are really stupid no offense', 'i hope to god kat cant sleep at night mkr', 'rt allstatejackie antis will stop treating blocks as trophies as soon as feminists stop treating blocks as arguments  gamergate', 'nader_haq maddr11 maxblumenthal httptcoddecobanzx', 'that was definitely rigged mkr', 'things i am not scared of whiny manbabies a lot of twitter mentions public speaking perl standing up for those that are afraid feels', 'who is writing the bimbolines mkr', 'yeah colin would be looking for more fat in his sausage mkr', 'no flips desks mkr', 'rt psogeco little short and to the point islam lessons for us which are ignorant httptcom4jcka5ir0 httptcoganrh4k87a via psog', 'swiftonsecurity jeremiahfelt gross', 'freebsdglri awww someones mad lt3', 'ilivundrurbed anything but yourself like every feminist on earth', 'those 2 making it through to the next round colin has just lost all credibility in my eyesmkr mykitchenrules', 'mkr conclusions celine is legitimately hilarious rob and dave are running out of talladega nights references that salmon looked amazing', 'thegeek_chick again you have already typed out your ignorance anyone who understands economics can scroll up amp see you prove it thanks', 'obsurfer84 now you are babbling like every muslim conspiracy idiot cia created isisutterly stupid and without evidence you are blocked', 'rt ravenhuwolf university of texasarlington muslim student admits she made up the whole story httptcocbcr9u4fc9 httptcoqv', 'rt vonta624 im not sexist but id never get my hair cut by a women just like im not racist but id never eat chicken fried by a white p', 'samkitsengupta but he lied to achieve that peace and anything built on a lie will eventually fail', 'rt archangel_dux im not sexist but women just cant be comedians nor can they be rappers', 'if you have to ask youll never know rapperguydmv bruh im not sexist but is the wnba that entertaining', 'bhamdailynews politics_pr foxnews the caved to the pressure to be pc', 'maxblumenthal campagnebds that blumenthal doesnt report anything to the police because he doesnt have anything', 'semzyxx and the fact that many different hadiths say she was six when they married is not contradicted directly by anything', 'rudawenglish daesh left to defend turf outside mosul are destined to die in the next few weeks', 'tarah girlziplocked hypatiadotca justkelly_ok ameliagreenhall still a sellout still unacceptable and disgusting', 'misfitinchains oldgfatherclock venereveritas13 santa just is white', 'foodie_ben they may like it but its no replacement for formula as the book allegedly recommends pete evans should go from mkr', 'thelindsayellis wnyc listen to the latest episode its all explained', 'do the killa models give a killa dessert mkr', 'venomous9 pro death penalty anti some provisions of obamacare fewer govt regulations free market better but', 'you thought meatballs was going to win peoples choice for a brekky dish just coz u have it doesnt mean everyone else does mkr', 'i miss roberts voice mkr', 'rt kmactane when your handles wadhwa amp the folks you claim to be helping have made stopwadhwa2015 its time to reevaluate if youre a', 'jihadi_11 shami_is_back when the filthy daesh set off ieds in baghdad they dont care if none of the victims are armedyoure a hypocrite', 'go home kat cunt faced bitch mkr httptcoyspbfitztb', 'rt evilsunbro women r more pleasing to look upon notsexist sexhonest', 'httptcofdylhlkdcv', 'but i know people with 15 lipsticks in their purses and theyre great at accessorizing im jealous but also so so lazy and broke', 'rt sports2inflatio lissasauras feminism supported pedophilia you will find people like me fighting against it httptcoglncgkuukp', 'howtogetawaywithmurder serve raw spatchcock mkr mkr2015', 'muslim terrorists murder 12 people in paris 22000 terrorist attacks since 911 its not an aberration its the real islam', 'rt washingtonpost dc police want to talk to this man about relisha rudd if you have info call 2027279099 httptcom5j2tpksm5 ht', 'gbabeuf newscoverup rjennromao davidjo52951945 novorossiyan gbazov rougek68 being shit yourself you have no room to talk', 'fuck off obviously all_hailcaesar obviously not sexist but i got a tiny chuckle out of this one lol httptcopfs5zlkt07', 'kat and andre are like the worst they probably dont have friends mkr', 'damnitscloudy i will never stop posting wow selfies', 'proudpatriot101 you are on the right side of the muslim issue and the wrong side of the ukraine issue', 'i dont retreat i reload', 'if i went to get breakfast and i was served by kat i would walk away mkr', 'mkr if they had to walk up and down there steps to use the loo all night 2 much effort sarah_jane666', 'madasahatter_17 buttercupashby look idiotim not going to have some left wing lunatic tell me that i have to tolerate islamic intolerance', 'exposefalsehood arabthomness lol a couple of month ago the story was that daesh were i pervious to air strikes', 'mkr i think i just threw up in my mouth ', 'warriorsialkot bilalighumman johnnygjokaj 98halima cdnkhadija there is nothing that isis does that prophet mohammed did not also do', 'burcucekmece oktar blabbers on about the ypg that the people of kobane love while ignoring isis that the people of kobane hate oktar lies', 'nomcookiesnom why is it that no other religions have statistics that are even close in the production of terrorism', 'rt ivyexec did you know that men are 4x more likely to negotiate for compensation and job perks equalpay', 'go girls you got it go gueensland and stop being mean kat and andre mkr', 'bristolben i think arquette is a dummy who believes it not a valenti who knowingly lies', 'yum those pancakes from jac amp shaz look amazing  mkr', 'you know thats an interesting idea maybe i should get some promoted tweets for ggautoblocker', 'i watched mkr tonight kat and andre should be disgusted with themselves uncalled for on so many levels', 'im not really concerned when it comes to gaters being gatery about me but regarding this org thats a problem', 'themirai sirgoldenrod sloshedtrain2 srhbutts its tied to twitter user ids and its not a constant update it updates when i run it', 'i hope kat gets ebola and then hit by a train followed by a smack in the ugly face with a shovel mkr katandandre mkrkat', 'darchmare got through the worst of it i think will be easier when its light out', 'lessons from gilmore girls season 1 tell an adult if youre being sexually harassed and bullied at school christ', 'mykitchenrules katandandre maybe you should make sure your dish is up to scratch before you laugh at others nasty mkr mkr2015 ', 'argonblue my perl is pretty readable not as efficient necessarily but definitely possible for anyone to read amp understand', 'kim kardashian has had marriages that didnt stretch as long as mkr', 'they just want to smack you when you talk period __chris33__ im not sexist but i hate when girls talk about sports i just wanna smackem', 'edgeofthesandbx batchelorshow feardept i dont claim he didnt participate in attrocities but much less so than stalin', 'these girls are either hand or feet models mkr', 'so glad the instant restaurants are over and done with ive missed this chaos  mkr ilovebreakfast andcamping', 'amohedin halalflaws haroonstyles islamdefense greenlinerzjm the translators knew arabic so they are right', 'even worse the media thinks hes an ally they keep letting him speak for us and it has to stop stopwadhwa2015', 'chuckpfarrer paraketa beautiful map chuck', 'your cooking is still shit kat mkr', 'their restaurant is so tacky mkr', 'lucaswj at this point id be happy with just wrecking faces in random bgs havent done arenas in months', 'rt akheemv bout beckles not another woman prime minister sorry not sexist but look what going on', 'discerningmumin islam is a pile of manure that destroys human freedom human life human expression and creates endless divisiveness', 'rt duckiemcphee so i guess its really happened the mkr competition is running for eternity', 'desertfox899 im not just referring to you also you are not tim ', 'i wouldnt want to deconstruct my lemon tart mkr httptco1pl9gqrdp7', 'at this rate im going to be making slides for a keynote in my car as i drive home', 'can tomatoes are fine mkr', '0xjared zython86 m_m_myers chriswarcraft and started naminglisting people because i wasnt backing down', 'asem_1994 and the turks were conducting the armenian genocide in the last century again the question is can we get beyond religious hate', 'blackopal80 yeah my eye opener was a pay gap article i know a little about econtried to explain why it was math not sexism but', 'rt sudixitca us should help egypt and provide intel input to make the airstrikes a success i really dont think egyptian intel is modern', 'rt _marisajane another round of instant restaurants are you serious mkr yawn', 'rt conserv_miss idontneedfeminism femfreefriday httptcopnhzjrhhqr', 'salon themuslimguy salon tries to shut down free speech and shut people up by playing a race card about an ideaology islam', 'mechasauce shoe0nhead you have an armpit licking fetish', 'oh yeah and freebsd is the os that runs on your playstations why so salty', 'raniakhalek maxblumenthal another taqiyya liar making up garbage for the sake of mohammeds desire to exterminate jews', 'oh that was a typo guys for dessert you get sorbent youll need it after the spatchcock mkr', 'glennf i have been quietly helping some gators already', 'owais00 semzyxx nainfidels wrong microbrain she was 6 and you like your prophet are a liar here is the proof httptcoq95ei17sua', 'rt drdisco_ i love it when these judges compromise their values because the channel 7 script writers tell them to no credibility mkr', 'after years of service my naga may be dying sighhhh', 'rt dreaminpng people say write what you know sometimes i think people should know more gailsimone at c2e2', 'f3ew what is the story behind your profile pic i have to know', 'yousufpoosuf rkinglive2dance izrinhariri the reason why i have not been murdered is because i will kill any muslim why tries', 'absolutely blondemoment mkr', 'with a bit of luck nikki can do some promo work for a dentist and get some free whitening gel mkr', 'justdavidvideos meh ive seen enough messed up stuff from each other country ill take my chances here', 'most boys ihatethiskid im not sexist but all the internet does is show that most girls dont know how to form their own opinions', 'rt beadsland what find truly astounding is number of thought pieces that fail recognize how offensive the segment was even without the tw', 'myersnfl oh gosh i hope you feel better ', 'lemon curd has lemon in it nikki your powers of deduction even amaze the kids on the short bus mkr', 'muslimtwo didazahra mystrongstate raqqa_sl show me the data', 'yes yes yes httptcoh8f7n04q5o', 'thelmasleaze we can fight against systemic problems at the same time as offering real tips for protecting people who dont have time 2 wait', 'curious as to what gamergate finds more offensive that im overweight or that im completely unapologetic amp unashamed of it', 'ldstarr18 ac360 but there are many ideologies and islam declared war on the human race 1400 years ago httptcontojwo4lnt', 'transic_nyc with luck shell be a stylist', 'lynnemcgranger kat and andre are a disgrace they should be booted to score that low to save themselvespffft mkr', 'rt alihashem_tv a new blow to islam by daesh  burning people is a new trend they are starting what next castrating enemies on air', 'can someone give kat a slap across the head mkr bitch', 'how awkward mkr', 'i cant stand kat and andre losers mkr', 'cemcfarland not quite as sensitive feeling as my previous keyboard i like the noise but itll be problematic when streaming', 'how can you refine something by deconstructing it mkr', 'rt starius gamergate httpstcoxufwsigxfk we win ahahahaha', 'biebervalue greenlinerzjm here is the quran telling men they can beat their wives and that men are superior httptco8xldnwbvzx', 'rt twista202 kat and andre are absolutely nasty if you wanted to stay you should have cooked well instead of resorting to low unfair s', 'love a subtle menu sausage spatchcock tart perfect mkr whereisyourdignity', 'this round manu and i will not be at every challenge im fighting a negated cook book deal in court mkr', 'christophheer52 miskelayla pilgars repetition of the russian propaganda line about ukrainian nazis is an insufferable lie', 'mykitchenrules bowl of cornflakes or wheat bixs would be perfect mykitchenrules here come the hungrycampers mkr', 'rt cambrian_man freebsdgirl if there is a culture war to be fought it should over whether or not harassment is acceptable not when i', 'what a genius idea their trolley handle has aisle information and a cup holder someone tell paknsave about this lol mkr', '17 as much as i didnt like katie amp nikki in their first episode ive begun to hate kat amp andre so much more over the last week mkr', 'cringing every time i see kat amp andre mkr', 'rt hayles_comet im not sexist but im starting to think women cant drivemaneuveroperate anything with 4 wheels over 800 lbs', 'and ive asked them to stay uninvolved but attacking my work with them glhf youre bringing it on yourself', 'mkr ladies manu is not excited about the prospect of your entree hes excited about the prospect of you going home', 'witch_sniffer auntysoapbox invented dogging videos but cant have page 3', 'bruciebabe maxblumenthal in many gulf states like saudi there are zero minorities left due to islamic bigotry and apartheid', 'amberhasalamb can you comment on ford doing the very thing she complains of httptcogbvojnmbcv', 'neilasaurus jimcramer thequinnspiracy is he creating a new account or changing his username', 'haroonstyles greenlinerzjm halalflaws biebervalue show me the hadith where you get your information im waiting']\n"
          ],
          "name": "stdout"
        },
        {
          "output_type": "execute_result",
          "data": {
            "application/vnd.google.colaboratory.intrinsic+json": {
              "type": "string"
            },
            "text/plain": [
              "'\\ntoken_word1 = word_tokenize(str(tokenized_sentence1))\\ntrain_tok.append(token_word1)\\n\\npprint.pprint(train_tok)\\n\\ntest_tok = []\\ntokenized_sentence2 =sent_tokenize(str(text_test))\\ntoken_word2 = word_tokenize(str(tokenized_sentence2))\\ntest_tok.append(token_word2)\\n'"
            ]
          },
          "metadata": {
            "tags": []
          },
          "execution_count": 17
        }
      ]
    },
    {
      "cell_type": "code",
      "metadata": {
        "colab": {
          "base_uri": "https://localhost:8080/"
        },
        "id": "vvlsvPq28o1j",
        "outputId": "59346091-ef7d-4424-ae34-735fdacbf0fe"
      },
      "source": [
        "len(train_tok[0])"
      ],
      "execution_count": null,
      "outputs": [
        {
          "output_type": "execute_result",
          "data": {
            "text/plain": [
              "28134"
            ]
          },
          "metadata": {
            "tags": []
          },
          "execution_count": 21
        }
      ]
    },
    {
      "cell_type": "code",
      "metadata": {
        "id": "ADCkLanOuOYm"
      },
      "source": [
        "#要 去除了反而不行了 还是token出了问题\n",
        "'''\n",
        "import nltk\n",
        "nltk.download('punkt')\n",
        "from nltk.tokenize import word_tokenize, sent_tokenize       #, sent_tokenize#分句子\n",
        "\n",
        "train_tok = []\n",
        "tokenized_sentence1 =sent_tokenize(str(text_train))#一句话一组。\n",
        "token_word1 = word_tokenize(str(tokenized_sentence1))\n",
        "train_tok.append(token_word1)\n",
        "\n",
        "pprint.pprint(train_tok)\n",
        "\n",
        "test_tok = []\n",
        "tokenized_sentence2 =sent_tokenize(str(text_test))\n",
        "token_word2 = word_tokenize(str(tokenized_sentence2))\n",
        "test_tok.append(token_word2)\n",
        "'''\n"
      ],
      "execution_count": null,
      "outputs": []
    },
    {
      "cell_type": "code",
      "metadata": {
        "id": "98wnepKeV0Ua",
        "colab": {
          "base_uri": "https://localhost:8080/",
          "height": 236
        },
        "outputId": "c9284d2d-71a0-4bb9-8b18-cd56791ba481"
      },
      "source": [
        "#非tweet\n",
        "'''\n",
        "nltk.download('stopwords')\n",
        "from nltk.corpus import stopwords as sw\n",
        "stop_words = sw.words()\n",
        "stop_words = sw.words() + [\"'\",'\"',','] #remove stopwords +\n",
        "text_train_ns=[]\n",
        "for tokens in text_train: #b\n",
        "    filtered_sentence = [w for w in tokens if not w in stop_words]\n",
        "    text_train_ns.append(filtered_sentence)\n",
        "pprint.pprint(text_train_ns)\n",
        "\n",
        "text_test_ns=[]\n",
        "for tokens in text_test:\n",
        "    #Please complete this\n",
        "    filtered_sentence = [w for w in tokens if not w in stop_words]\n",
        "    text_test_ns.append(filtered_sentence)\n",
        "\n",
        "#tweet的分词好像就不太行\n",
        "'''"
      ],
      "execution_count": null,
      "outputs": [
        {
          "output_type": "error",
          "ename": "NameError",
          "evalue": "ignored",
          "traceback": [
            "\u001b[0;31m---------------------------------------------------------------------------\u001b[0m",
            "\u001b[0;31mNameError\u001b[0m                                 Traceback (most recent call last)",
            "\u001b[0;32m<ipython-input-1-de3778118310>\u001b[0m in \u001b[0;36m<module>\u001b[0;34m()\u001b[0m\n\u001b[1;32m      1\u001b[0m \u001b[0;31m#非tweet\u001b[0m\u001b[0;34m\u001b[0m\u001b[0;34m\u001b[0m\u001b[0;34m\u001b[0m\u001b[0m\n\u001b[0;32m----> 2\u001b[0;31m \u001b[0mnltk\u001b[0m\u001b[0;34m.\u001b[0m\u001b[0mdownload\u001b[0m\u001b[0;34m(\u001b[0m\u001b[0;34m'stopwords'\u001b[0m\u001b[0;34m)\u001b[0m\u001b[0;34m\u001b[0m\u001b[0;34m\u001b[0m\u001b[0m\n\u001b[0m\u001b[1;32m      3\u001b[0m \u001b[0;32mfrom\u001b[0m \u001b[0mnltk\u001b[0m\u001b[0;34m.\u001b[0m\u001b[0mcorpus\u001b[0m \u001b[0;32mimport\u001b[0m \u001b[0mstopwords\u001b[0m \u001b[0;32mas\u001b[0m \u001b[0msw\u001b[0m\u001b[0;34m\u001b[0m\u001b[0;34m\u001b[0m\u001b[0m\n\u001b[1;32m      4\u001b[0m \u001b[0mstop_words\u001b[0m \u001b[0;34m=\u001b[0m \u001b[0msw\u001b[0m\u001b[0;34m.\u001b[0m\u001b[0mwords\u001b[0m\u001b[0;34m(\u001b[0m\u001b[0;34m)\u001b[0m\u001b[0;34m\u001b[0m\u001b[0;34m\u001b[0m\u001b[0m\n\u001b[1;32m      5\u001b[0m \u001b[0mstop_words\u001b[0m \u001b[0;34m=\u001b[0m \u001b[0msw\u001b[0m\u001b[0;34m.\u001b[0m\u001b[0mwords\u001b[0m\u001b[0;34m(\u001b[0m\u001b[0;34m)\u001b[0m \u001b[0;34m+\u001b[0m \u001b[0;34m[\u001b[0m\u001b[0;34m\"'\"\u001b[0m\u001b[0;34m,\u001b[0m\u001b[0;34m'\"'\u001b[0m\u001b[0;34m,\u001b[0m\u001b[0;34m','\u001b[0m\u001b[0;34m]\u001b[0m \u001b[0;31m#remove stopwords +\u001b[0m\u001b[0;34m\u001b[0m\u001b[0;34m\u001b[0m\u001b[0m\n",
            "\u001b[0;31mNameError\u001b[0m: name 'nltk' is not defined"
          ]
        }
      ]
    },
    {
      "cell_type": "code",
      "metadata": {
        "id": "4lPKPkuXbW9g"
      },
      "source": [
        "#要 \n",
        "nltk.download('wordnet')\n",
        "\n",
        "from nltk.stem import WordNetLemmatizer\n",
        "\n",
        "lemmatizer = WordNetLemmatizer()\n",
        "\n",
        "text_train_le = []\n",
        "for tokens in text_train_ns:\n",
        "    lemma_sentence = [lemmatizer.lemmatize(w) for w in tokens ]\n",
        "    text_train_le.append(lemma_sentence)\n",
        "  \n",
        "pprint.pprint(text_train_le)\n",
        "\n",
        "text_test_le = []\n",
        "for tokens in text_test_ns:\n",
        "  lemma_sentence = [lemmatizer.lemmatize(w) for w in tokens]\n",
        "  text_test_le.append(lemma_sentence)\n",
        "    #Please complete this\n",
        "\n",
        "pprint.pprint(text_test_le)#一维\n",
        "\n"
      ],
      "execution_count": null,
      "outputs": []
    },
    {
      "cell_type": "code",
      "metadata": {
        "colab": {
          "base_uri": "https://localhost:8080/"
        },
        "id": "t3zq_YY1xv5c",
        "outputId": "61777b37-9585-416f-b351-d613b74a90d5"
      },
      "source": [
        "#出来了https://blog.csdn.net/weixin_38278334/article/details/82971752?ops_request_misc=%257B%2522request%255Fid%2522%253A%2522161838894616780269822484%2522%252C%2522scm%2522%253A%252220140713.130102334..%2522%257D&request_id=161838894616780269822484&biz_id=0&utm_medium=distribute.pc_search_result.none-task-blog-2~all~baidu_landing_v2~default-1-82971752.first_rank_v2_pc_rank_v29&utm_term=fit_transform+用法\n",
        "\n",
        "import numpy as np\n",
        "\n",
        "from sklearn.preprocessing import LabelEncoder\n",
        "\n",
        "unique_labels = np.unique(label_train)    #lEnc.fit(labels)  \n",
        "\n",
        "lEnc = LabelEncoder() #一样\n",
        "# Please encode the labels (Do NOT add new lines of code in this section)\n",
        "# Hint: Try to understand the difference between fit_transform and transform\n",
        "label_train_encoded = lEnc.fit_transform(label_train)\n",
        "label_test_encoded = lEnc.fit_transform(label_test)\n",
        "\n",
        "n_class = len(unique_labels)\n",
        "print(unique_labels)  #['none' 'racism' 'sexism']\n",
        "print(lEnc.transform(unique_labels))  #label_encoded #[0 1 2]"
      ],
      "execution_count": null,
      "outputs": [
        {
          "output_type": "stream",
          "text": [
            "['none' 'racism' 'sexism']\n",
            "[0 1 2]\n"
          ],
          "name": "stdout"
        }
      ]
    },
    {
      "cell_type": "code",
      "metadata": {
        "colab": {
          "base_uri": "https://localhost:8080/"
        },
        "id": "mei81mJtx-KN",
        "outputId": "310f5c11-2017-4bc9-a33f-1bec09fc4796"
      },
      "source": [
        "word_set = set() \n",
        "for sent in text_train_le:\n",
        "    for word in sent:\n",
        "        word_set.add(word)\n",
        "word_set.add('[PAD]')\n",
        "word_set.add('[UNKNOWN]')\n",
        "\n",
        "word_list = list(word_set) \n",
        "word_list.sort()\n",
        "print(word_list)\n",
        "\n",
        "word_index = {}\n",
        "ind = 0\n",
        "for word in word_list:\n",
        "    word_index[word] = ind\n",
        "    ind += 1\n",
        "print(word_index) #dic 1720\n",
        "\n",
        "#'\""
      ],
      "execution_count": null,
      "outputs": [
        {
          "output_type": "stream",
          "text": [
            "[\"''\", \"'0xjared\", \"'17\", \"'absolutely\", \"'after\", \"'alihadi68\", \"'amberhasalamb\", \"'amohedin\", \"'anasmechch\", \"'and\", \"'antizholim\", \"'arab_fury\", \"'argh\", \"'argonblue\", \"'asem_1994\", \"'at\", \"'bahai144\", \"'benkuchera\", \"'bhamdailynews\", \"'biebervalue\", \"'blackopal80\", \"'bristolben\", \"'bruciebabe\", \"'burcucekmece\", \"'but\", \"'buttercupashby\", \"'can\", \"'celine\", \"'cemcfarland\", \"'channel7\", \"'christophheer52\", \"'chuckpfarrer\", \"'colin\", \"'come\", \"'cringing\", \"'curious\", \"'damnitscloudy\", \"'dankmtl\", \"'darchmare\", \"'darrenkopp\", \"'desertfox899\", \"'dianh4\", \"'did\", \"'directhex\", \"'discerningmumin\", \"'do\", \"'doammuslims\", \"'dont\", \"'edgeofthesandbx\", \"'eloisepeace\", \"'even\", \"'exposefalsehood\", \"'f3ew\", \"'farbenstau\", \"'finalbroadcast\", \"'floss\", \"'foodie_ben\", \"'freebsdglri\", \"'fuck\", \"'gbabeuf\", \"'glennf\", \"'go\", \"'goosenetworkusa\", \"'halalflaws\", \"'haroonstyles\", \"'having\", \"'hdmovieus\", \"'how\", \"'howtogetawaywithmurder\", \"'httptcofdylhlkdcv\", \"'httptcoltoxypkwww\", \"'httptcozjbwagvnrg\", \"'i\", \"'if\", \"'ilivundrurbed\", \"'im\", \"'important\", \"'is\", \"'it\", \"'jihadi_11\", \"'johnnyrejection\", \"'just\", \"'justdavidvideos\", \"'kaitlynburnell\", \"'kamaluf\", \"'kat\", \"'kim\", \"'lactualaloupe\", \"'ldstarr18\", \"'lemon\", \"'lessons\", \"'lithobolos\", \"'love\", \"'lucaswj\", \"'lynnemcgranger\", \"'madasahatter_17\", \"'mattstratton\", \"'maxblumenthal\", \"'meatgirls\", \"'mechasauce\", \"'mikeage\", \"'misfitinchains\", \"'mistertodd\", \"'mkr\", \"'mmmm\", \"'most\", \"'muslim\", \"'muslimtwo\", \"'myersnfl\", \"'mykitchenrules\", \"'nader_haq\", \"'neilasaurus\", \"'new_babylonia\", \"'no\", \"'nomcookiesnom\", \"'not\", \"'notchrissmith\", \"'nscottg\", \"'obsurfer84\", \"'oh\", \"'out\", \"'owais00\", \"'p8952_\", \"'pardusxy\", \"'peerworker\", \"'pnibbler\", \"'politicalant\", \"'possibly\", \"'pretty\", \"'promo\", \"'proudpatriot101\", \"'psychbarakat\", \"'r\", \"'randomhero30\", \"'raniakhalek\", \"'rape\", \"'rayyoosheh\", \"'realryansipple\", \"'rennie93\", \"'reza_rahman\", \"'rt\", \"'rudawenglish\", \"'saifullah666\", \"'salon\", \"'saltnburnem\", \"'samkitsengupta\", \"'semzyxx\", \"'seriously\", \"'sevilzadeh\", \"'shermertron\", \"'slagkick\", \"'so\", \"'sorry\", \"'spacequeentbh\", \"'sumersloan\", \"'swiftonsecurity\", \"'tarah\", \"'that\", \"'the\", \"'thedoubleclicks\", \"'thegeek_chick\", \"'their\", \"'thelindsayellis\", \"'thelmasleaze\", \"'themirai\", \"'these\", \"'they\", \"'things\", \"'this\", \"'those\", \"'tobyrobertbull\", \"'toodles\", \"'transic_nyc\", \"'truaemusic\", \"'uplay\", \"'vandaliser\", \"'venomous9\", \"'vex0rian\", \"'warriorsialkot\", \"'watan71969\", \"'watch\", \"'we\", \"'wetsprocket\", \"'what\", \"'who\", \"'witch_sniffer\", \"'with\", \"'wow\", \"'yeah\", \"'yes\", \"'you\", \"'your\", \"'yousufpoosuf\", \"'yum\", '0', '06jank', '1', '11', '12', '14', '1400', '15', '17', '1shadeofritch', '2', '2027279099', '22000', '2ndbestidiot', '3', '3outof10', '4', '44', '47', '4x', '5', '6', '7', '80', '800', '90', '911', '98halima', '99', '[', '[PAD]', '[UNKNOWN]', ']', '__chris33__', '_marisajane', '``', 'abducted', 'abdul_a95', 'aberration', 'ability', 'ablahad', 'able', 'absolutely', 'abuse', 'ac360', 'accept', 'acceptable', 'accepted', 'accessorizing', 'account', 'achieve', 'across', 'actoractress', 'actually', 'adjective', 'admits', 'adult', 'afar', 'afraid', 'ago', 'agree', 'ahahahaha', 'air', 'airstrikes', 'aisle', 'ajwatamr', 'akheemv', 'aledthomas22', 'alihashem_tv', 'alive', 'all_hailcaesar', 'allegedly', 'allstatejackie', 'ally', 'along', 'already', 'alternet', 'amaze', 'amazing', 'amazingly', 'ameliagreenhall', 'american', 'amp', 'amymek', 'andcamping', 'andre', 'angelemichelle', 'anitaingle', 'annoying', 'another', 'answer', 'anti', 'antiharassment', 'anyone', 'anything', 'apartheid', 'arabic', 'arabthomness', 'archangel_dux', 'arena', 'argument', 'armedyoure', 'armenian', 'armpit', 'army', 'arquette', 'article', 'asad', 'ask', 'asked', 'askgoog', 'askhermore', 'asshole', 'astounding', 'athlete', 'attack', 'attacked', 'attacking', 'attracted', 'attractive', 'attributing', 'attrocities', 'auntysoapbox', 'australia', 'away', 'awful', 'awkward', 'awww', 'b', 'babbling', 'back', 'backing', 'backwards', 'bad', 'bag', 'baghdad', 'bamboozled', 'banter', 'barackobama', 'basically', 'bastendorfgames', 'batchelorshow', 'bcz', 'beadsland', 'beat', 'beautiful', 'beautifula', 'beavis', 'beckles', 'begun', 'behaving', 'behead', 'behind', 'belief', 'believe', 'best', 'better', 'beyond', 'bgs', 'biebervalue', 'big', 'bigot', 'bigotry', 'bigtime', 'bilalighumman', 'bill', 'bimbo', 'bimbolines', 'bit', 'bitch', 'bixs', 'blabber', 'block', 'blocked', 'bloke', 'blonde', 'blondemoment', 'blow', 'blumenthal', 'body', 'book', 'booted', 'boring', 'bos', 'bottle', 'bought', 'bout', 'bowl', 'boy', 'bq281473', 'breakfast', 'brekky', 'bringing', 'british', 'broke', 'bronny25', 'bruh', 'brushyblues', 'bsilverstrim77', 'budlightbro', 'built', 'bullied', 'burn', 'burning', 'burqua', 'bus', 'business', 'buttercupashby', 'butthead', 'button', 'buying', 'c2e2', 'call', 'cambrian_man', 'campagnebds', 'canned', 'cant', 'captive', 'car', 'card', 'case', 'cashing', 'castrating', 'catwalk', 'cause', 'caved', 'ccot', 'cdnkhadija', 'celebrating', 'celine', 'century', 'challenge', 'chance', 'change', 'changed', 'changing', 'channel', 'channel7', 'chaos', 'character', 'cheeseplus', 'chef', 'cheney', 'chicken', 'child', 'chloeandkelly', 'choice', 'christ', 'christian', 'christiansyazidis', 'christmas', 'chriswarcraft', 'chuck', 'chuckle', 'churner', 'cia', 'cityofmandurah', 'civilian', 'cjsajulga', 'claim', 'claiming', 'clarify', 'clearly', 'close', 'colin', 'colins', 'colonelkickhead', 'come', 'comedian', 'coming', 'comment', 'committed', 'compensation', 'competition', 'complains', 'completely', 'compromise', 'concerned', 'conclusion', 'conducting', 'configuration', 'confuse', 'conserv_miss', 'consider', 'conspiracy', 'constant', 'constantly', 'constructed', 'content', 'contradicted', 'contributing', 'cook', 'cooked', 'cooking', 'cordial', 'cornflakes', 'could', 'country', 'couple', 'court', 'coworkers', 'coz', 'crabfest15', 'crap', 'crash', 'created', 'creates', 'creating', 'credibility', 'cretin', 'critiquing', 'culture', 'cunt', 'cup', 'curd', 'curious', 'customer', 'cut', 'cuz', 'cytheria', 'd20', 'daesh', 'damn', 'danhickey2199', 'danis', 'data', 'dave', 'davidjo52951945', 'davidsgallant', 'dc', 'dead', 'deal', 'death', 'declared', 'deconstruct', 'deconstructing', 'deduction', 'defend', 'definitely', 'delicate', 'demanded', 'dentist', 'describes', 'desire', 'desk', 'desperately', 'dessert', 'destined', 'destroys', 'deusexjuice', 'devops', 'dick', 'dictatorship', 'didazahra', 'didnt', 'difference', 'different', 'direct', 'direction', 'directly', 'discrimination', 'disgrace', 'disgusted', 'disgusting', 'dish', 'disheartened', 'disturbing', 'divisiveness', 'dkim', 'doctor', 'doesnt', 'dogging', 'doh', 'dolly', 'domestic', 'done', 'dont', 'double', 'draskos', 'drdisco_', 'dream', 'dreamer', 'dreaminpng', 'drive', 'drivemaneuveroperate', 'driver', 'driving', 'dropped', 'dry', 'dubhe80', 'duckiemcphee', 'dude', 'due', 'dumb', 'dumbest', 'dummy', 'dye', 'dying', 'ear', 'earth', 'easier', 'easy', 'eat', 'ebola', 'ebooks', 'economics', 'econtried', 'edible', 'efficient', 'effort', 'egypt', 'egyptian', 'either', 'else', 'email', 'emilie', 'empty', 'endless', 'enemy', 'engaging', 'enough', 'enslaved', 'entertaining', 'entree', 'ep', 'episode', 'equal', 'equalpay', 'espn', 'eternity', 'etsho127', 'evacuated', 'evans', 'even', 'eventually', 'ever', 'every', 'everyone', 'everything', 'evidence', 'evilsunbro', 'ew', 'except', 'excited', 'excuse', 'executed', 'expect', 'expedition', 'expertise', 'explain', 'explained', 'expression', 'exterminate', 'extreme', 'eye', 'eyesmkr', 'ezidi', 'ezidipress', 'ezidis', 'face', 'faced', 'fact', 'faded', 'fail', 'fair', 'fan', 'fanatic', 'fascist', 'fat', 'feardept', 'feel', 'feeling', 'female', 'femfreefriday', 'feminism', 'feminist', 'fetch', 'fetish', 'fewer', 'fight', 'fighting', 'filthy', 'finally', 'find', 'fine', 'finger', 'first', 'flip', 'flying', 'folk', 'followed', 'food', 'foot', 'forbidden', 'force', 'forced', 'ford', 'form', 'formula', 'fought', 'foxnews', 'foxnewspolitics', 'free', 'freebsd', 'freebsdgirl', 'freedom', 'freezer', 'fried', 'friend', 'fuck', 'fucking', 'fucktards', 'fun', 'funding', 'fyoudbag', 'gailsimone', 'gal', 'game', 'gamergate', 'gangraped', 'gap', 'garbage', 'garydlum', 'gaters', 'gatery', 'gator', 'gbazov', 'gel', 'genius', 'genocide', 'get', 'getting', 'gg', 'ggautoblocker', 'ggreenwald', 'gilmore', 'girl', 'girlziplocked', 'give', 'given', 'giving', 'glad', 'glhf', 'glove', 'go', 'god', 'going', 'gon', 'gone', 'good', 'goodluck', 'gosh', 'got', 'govt', 'grafana', 'grahamdavida', 'great', 'greater', 'greenlinerzjm', 'grin', 'gross', 'ground', 'group', 'grow', 'grown', 'guardian', 'gueensland', 'guess', 'guilt', 'gulf', 'gumboots', 'guy', 'hadith', 'haha', 'hair', 'halalflaws', 'hamas', 'hand', 'handle', 'happen', 'happened', 'happens', 'happy', 'happycampers', 'harassed', 'harassment', 'haroonstyles', 'harshly', 'hate', 'hated', 'hatefilled', 'hating', 'hatred', 'havent', 'hawaiinshirts', 'hayles_comet', 'he', 'head', 'heart', 'hell', 'hello', 'help', 'helping', 'here', 'hide', 'hilarious', 'himat', 'hit', 'hitler', 'hockey', 'holder', 'home', 'homophobe', 'honestly', 'hope', 'hoping', 'hostage', 'however', 'hows', 'ht', 'http', 'httpstco6kgw1lejfr', 'httpstcoum5svjgazu', 'httpstcoxufwsigxfk', 'httpt', 'httptco', 'httptco1pl9gqrdp7', 'httptco4u', 'httptco5vsf5jroi6', 'httptco8xldnwbvzx', 'httptcobwr6ap0ooo', 'httptcocaxxus108l', 'httptcocbcr9u4fc9', 'httptcodajgdn1wy3', 'httptcoddecobanzx', 'httptcoganrh4k87a', 'httptcogbvojnmbcv', 'httptcoglncgkuukp', 'httptcoh8f7n04q5o', 'httptcom4jcka5ir0', 'httptcom5j2tpksm5', 'httptcomdb4iu9whd', 'httptcomxuw3hz4tb', 'httptconleyqfnkyp', 'httptcontojwo4lnt', 'httptcoocsy7crghf', 'httptcopfs5zlkt07', 'httptcopnhzjrhhqr', 'httptcoq95ei17sua', 'httptcoqaa6bwi4pm', 'httptcoqmdsdtfvya', 'httptcoqv', 'httptcorbthvmh9jj', 'httptcospmvzcjj6o', 'httptcot65iytpvdk', 'httptcotfsodcowbx', 'httptcoumkitlb5h9', 'httptcouq19q6pnaq', 'httptcovanp6y7clr', 'httptcowhy3a8o33z', 'httptcoyspbfitztb', 'hugged', 'human', 'humanistfury', 'humanity', 'hungrycampers', 'hw', 'hypatiadotca', 'hypocrite', 'ice', 'id', 'idea', 'ideaology', 'ideaor', 'ideology', 'idiot', 'idiotim', 'idontneedfeminism', 'ied', 'ignorance', 'ignorant', 'ignoring', 'ihatethiskid', 'illegal', 'ilovebreakfast', 'iloveobama', 'imagine', 'imperialism', 'implies', 'info', 'information', 'input', 'instant', 'instead', 'insufferable', 'insulted', 'insulting', 'integration', 'intel', 'interact', 'interest', 'interesting', 'international', 'internet', 'intersection', 'intolerance', 'invented', 'iraq', 'iron', 'isi', 'isisutterly', 'islam', 'islamdefense', 'islamic', 'islamist', 'isnt', 'israel', 'israeliregime', 'issue', 'itll', 'itsbariecool', 'itsfact', 'ive', 'ivyexec', 'izrinhariri', 'jac', 'jealous', 'jeffreygoldberg', 'jennykutner', 'jeremiahfelt', 'jew', 'jhamby', 'jihadis', 'jimcramer', 'jncatron', 'job', 'johncantile', 'johnnygjokaj', 'joke', 'journalist', 'judge', 'juliet777777', 'justhonest', 'justkelly_ok', 'kardashian', 'kat', 'katampandre', 'katandandre', 'katie', 'katieandnikki', 'keep', 'keyboard', 'keynote', 'kid', 'kidding', 'kill', 'killa', 'killed', 'killerblondes', 'killing', 'kind', 'kirkuk', 'kmactane', 'knew', 'know', 'knowingly', 'kobane', 'kuffir', 'kurd', 'kurdish', 'lad', 'lady', 'lajouetreine', 'large', 'last', 'latest', 'laugh', 'launcher', 'law', 'lazy', 'lb', 'le', 'lead', 'leaning', 'led', 'left', 'legitimately', 'lemon', 'lesson', 'letting', 'level', 'liar', 'liberate', 'libya', 'license', 'licking', 'lie', 'lied', 'life', 'light', 'like', 'likely', 'lilbeastunleash', 'lime', 'line', 'link', 'lipstick', 'lisamromano', 'lissasauras', 'listen', 'lithobolos', 'little', 'live', 'liver', 'lol', 'long', 'loo', 'look', 'looked', 'looking', 'lose', 'loser', 'lost', 'lot', 'love', 'low', 'lt3', 'luck', 'lunatic', 'm_m_myers', 'maajidnawaz', 'mad', 'madasahatter_17', 'maddr11', 'made', 'magazine', 'magnus919', 'maja_stina', 'major', 'majority', 'make', 'making', 'mami_mermelada', 'man', 'manbabies', 'manu', 'manure', 'many', 'map', 'marc_leibowitz', 'market', 'markimbriaco', 'maroon', 'marriage', 'married', 'masontillidie', 'math', 'matter', 'mattybboi83', 'maxblumenthal', 'maxcaras', 'may', 'maybe', 'mccheesy904', 'mean', 'meaning', 'meatball', 'medium', 'meh', 'mehdirhasan', 'mellym09', 'melting', 'mention', 'menu', 'messed', 'microbrain', 'middle', 'military', 'militia', 'minasmith64', 'minister', 'minority', 'miskelayla', 'miss', 'missed', 'missing', 'mkr', 'mkr2015', 'mkrkat', 'mmmm', 'model', 'moderate', 'modern', 'mohammed', 'monday', 'month', 'moron', 'mosul', 'mouth', 'moving', 'much', 'mugnezee', 'multiple', 'murde', 'murder', 'murdered', 'murtaza', 'muslim', 'mutilated', 'mykitchenrules', 'mystrongstate', 'naga', 'nainfidels', 'naminglisting', 'narîn', 'nasty', 'naturally', 'nazi', 'near', 'necessarily', 'need', 'needarethinkinformat', 'negated', 'negotiate', 'never', 'new', 'newscoverup', 'next', 'nice', 'nigelbigmeech', 'night', 'nikki', 'nobody', 'noise', 'none', 'nooo', 'nope', 'note', 'nothing', 'notsexist', 'novorossiyan', 'number', 'number10gov', 'nytimes', 'obamacare', 'obamas', 'obviously', 'occasion', 'offense', 'offensive', 'offering', 'oh', 'oil', 'oktar', 'old', 'oldgfatherclock', 'one', 'open', 'opener', 'opinion', 'opponent', 'opposed', 'optional', 'oreilly', 'org', 'origin', 'others', 'outside', 'overweight', 'p', 'page', 'painful', 'pakistan', 'paknsave', 'palestine', 'pancake', 'paraketa', 'parent', 'paris', 'participate', 'passport', 'past', 'pastor', 'patrickosgood', 'pawarnhoff', 'pay', 'paying', 'pc', 'peace', 'peacenothate_', 'pedophile', 'pedophilia', 'penalty', 'people', 'peopleschoice', 'perfect', 'period', 'perk', 'perl', 'personality', 'pervious', 'peymaneh123', 'phxken', 'pie', 'piece', 'pile', 'pilgars', 'pilot', 'pissing', 'pjnet', 'plane', 'planning', 'playing', 'playstations', 'please', 'pleasing', 'point', 'pole', 'police', 'political', 'politicalant', 'politics_pr', 'poor', 'poorly', 'population', 'portland', 'possible', 'post', 'posting', 'power', 'present', 'pressure', 'pretend', 'pretty', 'previous', 'price', 'prime', 'prisonersofwar', 'pro', 'probably', 'problem', 'problematic', 'producer', 'production', 'profile', 'project', 'promise', 'promo', 'promogirls', 'promoted', 'proof', 'propaganda', 'prophet', 'prospect', 'protecting', 'prove', 'provide', 'provision', 'psog', 'psogeco', 'public', 'punch', 'purse', 'put', 'question', 'questionsformen', 'quietly', 'quit', 'quite', 'quran', 'r', 'race', 'racist', 'raised', 'random', 'ransom', 'rape', 'raped', 'rapper', 'rapperguydmv', 'raqqa', 'raqqa_sl', 'rate', 'rather', 'ratio', 'ravenhuwolf', 'raw', 'react', 'read', 'readable', 'real', 'really', 'realtalk', 'reason', 'reasonably', 'rebel', 'recall', 'reckless', 'recognize', 'recommends', 'record', 'recruit', 'recuperate', 'redux', 'reevaluate', 'reference', 'referring', 'refine', 'regarding', 'regulation', 'rejected', 'relationship', 'release', 'religion', 'religious', 'relisha', 'reload', 'remember', 'reminded', 'rennie93', 'repeatedly', 'repetition', 'replacement', 'report', 'reputation', 'request', 'resorting', 'respond', 'restaurant', 'retreat', 'revolting', 'rigged', 'right', 'rinehart33', 'rip', 'rjennromao', 'rkhayer', 'rkinglive2dance', 'rob', 'robbed', 'robert', 'robinriedstra', 'roll', 'roof', 'room', 'rooshv', 'rose', 'rotherham', 'rougek68', 'round', 'routinely', 'rt', 'rts', 'rudawenglish', 'rudd', 'rude', 'rudoren', 'ruin', 'run', 'running', 'russian', 'said', 'sajid_fairooz', 'sake', 'salmon', 'salon', 'salty', 'santa', 'sarah_jane666', 'sas', 'satire', 'saudi', 'sausage', 'save', 'saw', 'say', 'scared', 'schmeezi', 'school', 'score', 'scratch', 'screencaps', 'script', 'scripted', 'scroll', 'scum', 'season', 'see', 'seen', 'segment', 'self', 'selfies', 'selling', 'sellout', 'semite', 'semzyxx', 'sensitive', 'sent', 'serious', 'serlasco', 'serve', 'served', 'service', 'serving', 'set', 'setup', 'sex', 'sexhonest', 'sexism', 'sexist', 'sexually', 'shami_is_back', 'shaz', 'shell', 'sherri', 'shia', 'shingal', 'shirt', 'shit', 'shoe0nhead', 'short', 'shovel', 'show', 'shower', 'shred', 'shut', 'sick', 'side', 'sighhhh', 'simpson', 'since', 'singer', 'sinjar', 'sirgoldenrod', 'six', 'skank', 'slap', 'slave', 'slaved', 'sleep', 'sleeping', 'slide', 'slightly', 'sloshedtrain2', 'slow', 'smack', 'smackem', 'small', 'smarter', 'smash', 'sold', 'soldier', 'someone', 'something', 'sometimes', 'somewhat', 'soon', 'sorbent', 'sorbet', 'sorry', 'sorrynotsorry', 'sound', 'source', 'space', 'spacekatgal', 'spam', 'spatchcock', 'speak', 'speaking', 'speech', 'spiritual', 'spoiled', 'sport', 'sports2inflatio', 'sputnik', 'srhbutts', 'stalin', 'stand', 'standard', 'standing', 'starius', 'started', 'starting', 'state', 'statistic', 'stats', 'stay', 'stayed', 'staying', 'step', 'steve', 'stiff', 'still', 'stood', 'stop', 'stopping', 'stopwadhwa2015', 'story', 'strategically', 'streaming', 'stretch', 'strike', 'strong', 'struggle', 'student', 'stuff', 'stupid', 'stylist', 'subject', 'subtle', 'success', 'suck', 'sudixitca', 'suicide', 'super', 'superior', 'support', 'supported', 'sure', 'surgery', 'swallow', 'switching', 'syazlicious', 'syria', 'systemic', 'tacky', 'taken', 'taking', 'tal', 'taliban', 'talk', 'talladega', 'taqiyya', 'tart', 'tasteless', 'tatibresolin', 'tbh', 'tbielawa', 'tcot', 'teach', 'teaching', 'team', 'tell', 'telling', 'tempting', 'terrible', 'terror', 'terrorism', 'terrorist', 'testicle', 'texasarlington', 'thanks', 'thatll', 'thats', 'theckman', 'thegoodguysau', 'themselvespffft', 'themuslimguy', 'thequinnspiracy', 'there', 'theyre', 'thing', 'think', 'thinking', 'third', 'thought', 'threw', 'throw', 'tied', 'tim', 'time', 'timespan', 'tiny', 'tip', 'tnr', 'today', 'todayreal', 'told', 'tolerate', 'tomato', 'tonight', 'tool', 'top', 'total', 'train', 'translator', 'treating', 'trend', 'tried', 'tripple', 'trolley', 'troop', 'trophy', 'truly', 'try', 'trying', 'turf', 'turk', 'tv', 'tw', 'tweet', 'twist', 'twista202', 'twitter', 'two', 'typed', 'typically', 'typo', 'u', 'ugly', 'ukraine', 'ukrainian', 'ultrafundamentalist', 'unacceptable', 'unapologetic', 'unashamed', 'uncalled', 'understand', 'understands', 'unfair', 'uninvolved', 'university', 'update', 'upon', 'use', 'user', 'username', 'usually', 'valenti', 'value', 'vc', 'vcs', 'venereveritas13', 'versa', 'verse', 'via', 'vice', 'victim', 'victorymonk', 'video', 'videobeautiful', 'violence', 'voice', 'vonta624', 'vote', 'voted', 'w', 'wadhwa', 'wait', 'waiting', 'wakeuplibsgtjoenbc', 'walk', 'wan', 'wanted', 'washed', 'washingtonpost', 'wasnt', 'watched', 'watching', 'way', 'week', 'weekly', 'well', 'went', 'werent', 'west', 'western', 'wheat', 'wheel', 'whereisyourdignity', 'whether', 'whiny', 'white', 'whiteblack', 'whitening', 'whole', 'wi', 'wife', 'win', 'wing', 'wish', 'without', 'witty', 'wizardryofozil', 'wks', 'wnba', 'wnyc', 'wocracial', 'woman', 'womenagainstfeminism', 'womeninterpret', 'word', 'work', 'worker', 'working', 'worse', 'worst', 'would', 'wouldnt', 'wouldve', 'wow', 'wrecking', 'write', 'writer', 'writing', 'wrong', 'xmjee', 'yall', 'yawn', 'yeah', 'year', 'yes', 'yesallwomen', 'yesyouresexist', 'yet', 'yield', 'youd', 'youll', 'young', 'youre', 'youtube', 'ypg', 'zaibatsunews', 'zene55', 'zero', 'zython86']\n",
            "{\"''\": 0, \"'0xjared\": 1, \"'17\": 2, \"'absolutely\": 3, \"'after\": 4, \"'alihadi68\": 5, \"'amberhasalamb\": 6, \"'amohedin\": 7, \"'anasmechch\": 8, \"'and\": 9, \"'antizholim\": 10, \"'arab_fury\": 11, \"'argh\": 12, \"'argonblue\": 13, \"'asem_1994\": 14, \"'at\": 15, \"'bahai144\": 16, \"'benkuchera\": 17, \"'bhamdailynews\": 18, \"'biebervalue\": 19, \"'blackopal80\": 20, \"'bristolben\": 21, \"'bruciebabe\": 22, \"'burcucekmece\": 23, \"'but\": 24, \"'buttercupashby\": 25, \"'can\": 26, \"'celine\": 27, \"'cemcfarland\": 28, \"'channel7\": 29, \"'christophheer52\": 30, \"'chuckpfarrer\": 31, \"'colin\": 32, \"'come\": 33, \"'cringing\": 34, \"'curious\": 35, \"'damnitscloudy\": 36, \"'dankmtl\": 37, \"'darchmare\": 38, \"'darrenkopp\": 39, \"'desertfox899\": 40, \"'dianh4\": 41, \"'did\": 42, \"'directhex\": 43, \"'discerningmumin\": 44, \"'do\": 45, \"'doammuslims\": 46, \"'dont\": 47, \"'edgeofthesandbx\": 48, \"'eloisepeace\": 49, \"'even\": 50, \"'exposefalsehood\": 51, \"'f3ew\": 52, \"'farbenstau\": 53, \"'finalbroadcast\": 54, \"'floss\": 55, \"'foodie_ben\": 56, \"'freebsdglri\": 57, \"'fuck\": 58, \"'gbabeuf\": 59, \"'glennf\": 60, \"'go\": 61, \"'goosenetworkusa\": 62, \"'halalflaws\": 63, \"'haroonstyles\": 64, \"'having\": 65, \"'hdmovieus\": 66, \"'how\": 67, \"'howtogetawaywithmurder\": 68, \"'httptcofdylhlkdcv\": 69, \"'httptcoltoxypkwww\": 70, \"'httptcozjbwagvnrg\": 71, \"'i\": 72, \"'if\": 73, \"'ilivundrurbed\": 74, \"'im\": 75, \"'important\": 76, \"'is\": 77, \"'it\": 78, \"'jihadi_11\": 79, \"'johnnyrejection\": 80, \"'just\": 81, \"'justdavidvideos\": 82, \"'kaitlynburnell\": 83, \"'kamaluf\": 84, \"'kat\": 85, \"'kim\": 86, \"'lactualaloupe\": 87, \"'ldstarr18\": 88, \"'lemon\": 89, \"'lessons\": 90, \"'lithobolos\": 91, \"'love\": 92, \"'lucaswj\": 93, \"'lynnemcgranger\": 94, \"'madasahatter_17\": 95, \"'mattstratton\": 96, \"'maxblumenthal\": 97, \"'meatgirls\": 98, \"'mechasauce\": 99, \"'mikeage\": 100, \"'misfitinchains\": 101, \"'mistertodd\": 102, \"'mkr\": 103, \"'mmmm\": 104, \"'most\": 105, \"'muslim\": 106, \"'muslimtwo\": 107, \"'myersnfl\": 108, \"'mykitchenrules\": 109, \"'nader_haq\": 110, \"'neilasaurus\": 111, \"'new_babylonia\": 112, \"'no\": 113, \"'nomcookiesnom\": 114, \"'not\": 115, \"'notchrissmith\": 116, \"'nscottg\": 117, \"'obsurfer84\": 118, \"'oh\": 119, \"'out\": 120, \"'owais00\": 121, \"'p8952_\": 122, \"'pardusxy\": 123, \"'peerworker\": 124, \"'pnibbler\": 125, \"'politicalant\": 126, \"'possibly\": 127, \"'pretty\": 128, \"'promo\": 129, \"'proudpatriot101\": 130, \"'psychbarakat\": 131, \"'r\": 132, \"'randomhero30\": 133, \"'raniakhalek\": 134, \"'rape\": 135, \"'rayyoosheh\": 136, \"'realryansipple\": 137, \"'rennie93\": 138, \"'reza_rahman\": 139, \"'rt\": 140, \"'rudawenglish\": 141, \"'saifullah666\": 142, \"'salon\": 143, \"'saltnburnem\": 144, \"'samkitsengupta\": 145, \"'semzyxx\": 146, \"'seriously\": 147, \"'sevilzadeh\": 148, \"'shermertron\": 149, \"'slagkick\": 150, \"'so\": 151, \"'sorry\": 152, \"'spacequeentbh\": 153, \"'sumersloan\": 154, \"'swiftonsecurity\": 155, \"'tarah\": 156, \"'that\": 157, \"'the\": 158, \"'thedoubleclicks\": 159, \"'thegeek_chick\": 160, \"'their\": 161, \"'thelindsayellis\": 162, \"'thelmasleaze\": 163, \"'themirai\": 164, \"'these\": 165, \"'they\": 166, \"'things\": 167, \"'this\": 168, \"'those\": 169, \"'tobyrobertbull\": 170, \"'toodles\": 171, \"'transic_nyc\": 172, \"'truaemusic\": 173, \"'uplay\": 174, \"'vandaliser\": 175, \"'venomous9\": 176, \"'vex0rian\": 177, \"'warriorsialkot\": 178, \"'watan71969\": 179, \"'watch\": 180, \"'we\": 181, \"'wetsprocket\": 182, \"'what\": 183, \"'who\": 184, \"'witch_sniffer\": 185, \"'with\": 186, \"'wow\": 187, \"'yeah\": 188, \"'yes\": 189, \"'you\": 190, \"'your\": 191, \"'yousufpoosuf\": 192, \"'yum\": 193, '0': 194, '06jank': 195, '1': 196, '11': 197, '12': 198, '14': 199, '1400': 200, '15': 201, '17': 202, '1shadeofritch': 203, '2': 204, '2027279099': 205, '22000': 206, '2ndbestidiot': 207, '3': 208, '3outof10': 209, '4': 210, '44': 211, '47': 212, '4x': 213, '5': 214, '6': 215, '7': 216, '80': 217, '800': 218, '90': 219, '911': 220, '98halima': 221, '99': 222, '[': 223, '[PAD]': 224, '[UNKNOWN]': 225, ']': 226, '__chris33__': 227, '_marisajane': 228, '``': 229, 'abducted': 230, 'abdul_a95': 231, 'aberration': 232, 'ability': 233, 'ablahad': 234, 'able': 235, 'absolutely': 236, 'abuse': 237, 'ac360': 238, 'accept': 239, 'acceptable': 240, 'accepted': 241, 'accessorizing': 242, 'account': 243, 'achieve': 244, 'across': 245, 'actoractress': 246, 'actually': 247, 'adjective': 248, 'admits': 249, 'adult': 250, 'afar': 251, 'afraid': 252, 'ago': 253, 'agree': 254, 'ahahahaha': 255, 'air': 256, 'airstrikes': 257, 'aisle': 258, 'ajwatamr': 259, 'akheemv': 260, 'aledthomas22': 261, 'alihashem_tv': 262, 'alive': 263, 'all_hailcaesar': 264, 'allegedly': 265, 'allstatejackie': 266, 'ally': 267, 'along': 268, 'already': 269, 'alternet': 270, 'amaze': 271, 'amazing': 272, 'amazingly': 273, 'ameliagreenhall': 274, 'american': 275, 'amp': 276, 'amymek': 277, 'andcamping': 278, 'andre': 279, 'angelemichelle': 280, 'anitaingle': 281, 'annoying': 282, 'another': 283, 'answer': 284, 'anti': 285, 'antiharassment': 286, 'anyone': 287, 'anything': 288, 'apartheid': 289, 'arabic': 290, 'arabthomness': 291, 'archangel_dux': 292, 'arena': 293, 'argument': 294, 'armedyoure': 295, 'armenian': 296, 'armpit': 297, 'army': 298, 'arquette': 299, 'article': 300, 'asad': 301, 'ask': 302, 'asked': 303, 'askgoog': 304, 'askhermore': 305, 'asshole': 306, 'astounding': 307, 'athlete': 308, 'attack': 309, 'attacked': 310, 'attacking': 311, 'attracted': 312, 'attractive': 313, 'attributing': 314, 'attrocities': 315, 'auntysoapbox': 316, 'australia': 317, 'away': 318, 'awful': 319, 'awkward': 320, 'awww': 321, 'b': 322, 'babbling': 323, 'back': 324, 'backing': 325, 'backwards': 326, 'bad': 327, 'bag': 328, 'baghdad': 329, 'bamboozled': 330, 'banter': 331, 'barackobama': 332, 'basically': 333, 'bastendorfgames': 334, 'batchelorshow': 335, 'bcz': 336, 'beadsland': 337, 'beat': 338, 'beautiful': 339, 'beautifula': 340, 'beavis': 341, 'beckles': 342, 'begun': 343, 'behaving': 344, 'behead': 345, 'behind': 346, 'belief': 347, 'believe': 348, 'best': 349, 'better': 350, 'beyond': 351, 'bgs': 352, 'biebervalue': 353, 'big': 354, 'bigot': 355, 'bigotry': 356, 'bigtime': 357, 'bilalighumman': 358, 'bill': 359, 'bimbo': 360, 'bimbolines': 361, 'bit': 362, 'bitch': 363, 'bixs': 364, 'blabber': 365, 'block': 366, 'blocked': 367, 'bloke': 368, 'blonde': 369, 'blondemoment': 370, 'blow': 371, 'blumenthal': 372, 'body': 373, 'book': 374, 'booted': 375, 'boring': 376, 'bos': 377, 'bottle': 378, 'bought': 379, 'bout': 380, 'bowl': 381, 'boy': 382, 'bq281473': 383, 'breakfast': 384, 'brekky': 385, 'bringing': 386, 'british': 387, 'broke': 388, 'bronny25': 389, 'bruh': 390, 'brushyblues': 391, 'bsilverstrim77': 392, 'budlightbro': 393, 'built': 394, 'bullied': 395, 'burn': 396, 'burning': 397, 'burqua': 398, 'bus': 399, 'business': 400, 'buttercupashby': 401, 'butthead': 402, 'button': 403, 'buying': 404, 'c2e2': 405, 'call': 406, 'cambrian_man': 407, 'campagnebds': 408, 'canned': 409, 'cant': 410, 'captive': 411, 'car': 412, 'card': 413, 'case': 414, 'cashing': 415, 'castrating': 416, 'catwalk': 417, 'cause': 418, 'caved': 419, 'ccot': 420, 'cdnkhadija': 421, 'celebrating': 422, 'celine': 423, 'century': 424, 'challenge': 425, 'chance': 426, 'change': 427, 'changed': 428, 'changing': 429, 'channel': 430, 'channel7': 431, 'chaos': 432, 'character': 433, 'cheeseplus': 434, 'chef': 435, 'cheney': 436, 'chicken': 437, 'child': 438, 'chloeandkelly': 439, 'choice': 440, 'christ': 441, 'christian': 442, 'christiansyazidis': 443, 'christmas': 444, 'chriswarcraft': 445, 'chuck': 446, 'chuckle': 447, 'churner': 448, 'cia': 449, 'cityofmandurah': 450, 'civilian': 451, 'cjsajulga': 452, 'claim': 453, 'claiming': 454, 'clarify': 455, 'clearly': 456, 'close': 457, 'colin': 458, 'colins': 459, 'colonelkickhead': 460, 'come': 461, 'comedian': 462, 'coming': 463, 'comment': 464, 'committed': 465, 'compensation': 466, 'competition': 467, 'complains': 468, 'completely': 469, 'compromise': 470, 'concerned': 471, 'conclusion': 472, 'conducting': 473, 'configuration': 474, 'confuse': 475, 'conserv_miss': 476, 'consider': 477, 'conspiracy': 478, 'constant': 479, 'constantly': 480, 'constructed': 481, 'content': 482, 'contradicted': 483, 'contributing': 484, 'cook': 485, 'cooked': 486, 'cooking': 487, 'cordial': 488, 'cornflakes': 489, 'could': 490, 'country': 491, 'couple': 492, 'court': 493, 'coworkers': 494, 'coz': 495, 'crabfest15': 496, 'crap': 497, 'crash': 498, 'created': 499, 'creates': 500, 'creating': 501, 'credibility': 502, 'cretin': 503, 'critiquing': 504, 'culture': 505, 'cunt': 506, 'cup': 507, 'curd': 508, 'curious': 509, 'customer': 510, 'cut': 511, 'cuz': 512, 'cytheria': 513, 'd20': 514, 'daesh': 515, 'damn': 516, 'danhickey2199': 517, 'danis': 518, 'data': 519, 'dave': 520, 'davidjo52951945': 521, 'davidsgallant': 522, 'dc': 523, 'dead': 524, 'deal': 525, 'death': 526, 'declared': 527, 'deconstruct': 528, 'deconstructing': 529, 'deduction': 530, 'defend': 531, 'definitely': 532, 'delicate': 533, 'demanded': 534, 'dentist': 535, 'describes': 536, 'desire': 537, 'desk': 538, 'desperately': 539, 'dessert': 540, 'destined': 541, 'destroys': 542, 'deusexjuice': 543, 'devops': 544, 'dick': 545, 'dictatorship': 546, 'didazahra': 547, 'didnt': 548, 'difference': 549, 'different': 550, 'direct': 551, 'direction': 552, 'directly': 553, 'discrimination': 554, 'disgrace': 555, 'disgusted': 556, 'disgusting': 557, 'dish': 558, 'disheartened': 559, 'disturbing': 560, 'divisiveness': 561, 'dkim': 562, 'doctor': 563, 'doesnt': 564, 'dogging': 565, 'doh': 566, 'dolly': 567, 'domestic': 568, 'done': 569, 'dont': 570, 'double': 571, 'draskos': 572, 'drdisco_': 573, 'dream': 574, 'dreamer': 575, 'dreaminpng': 576, 'drive': 577, 'drivemaneuveroperate': 578, 'driver': 579, 'driving': 580, 'dropped': 581, 'dry': 582, 'dubhe80': 583, 'duckiemcphee': 584, 'dude': 585, 'due': 586, 'dumb': 587, 'dumbest': 588, 'dummy': 589, 'dye': 590, 'dying': 591, 'ear': 592, 'earth': 593, 'easier': 594, 'easy': 595, 'eat': 596, 'ebola': 597, 'ebooks': 598, 'economics': 599, 'econtried': 600, 'edible': 601, 'efficient': 602, 'effort': 603, 'egypt': 604, 'egyptian': 605, 'either': 606, 'else': 607, 'email': 608, 'emilie': 609, 'empty': 610, 'endless': 611, 'enemy': 612, 'engaging': 613, 'enough': 614, 'enslaved': 615, 'entertaining': 616, 'entree': 617, 'ep': 618, 'episode': 619, 'equal': 620, 'equalpay': 621, 'espn': 622, 'eternity': 623, 'etsho127': 624, 'evacuated': 625, 'evans': 626, 'even': 627, 'eventually': 628, 'ever': 629, 'every': 630, 'everyone': 631, 'everything': 632, 'evidence': 633, 'evilsunbro': 634, 'ew': 635, 'except': 636, 'excited': 637, 'excuse': 638, 'executed': 639, 'expect': 640, 'expedition': 641, 'expertise': 642, 'explain': 643, 'explained': 644, 'expression': 645, 'exterminate': 646, 'extreme': 647, 'eye': 648, 'eyesmkr': 649, 'ezidi': 650, 'ezidipress': 651, 'ezidis': 652, 'face': 653, 'faced': 654, 'fact': 655, 'faded': 656, 'fail': 657, 'fair': 658, 'fan': 659, 'fanatic': 660, 'fascist': 661, 'fat': 662, 'feardept': 663, 'feel': 664, 'feeling': 665, 'female': 666, 'femfreefriday': 667, 'feminism': 668, 'feminist': 669, 'fetch': 670, 'fetish': 671, 'fewer': 672, 'fight': 673, 'fighting': 674, 'filthy': 675, 'finally': 676, 'find': 677, 'fine': 678, 'finger': 679, 'first': 680, 'flip': 681, 'flying': 682, 'folk': 683, 'followed': 684, 'food': 685, 'foot': 686, 'forbidden': 687, 'force': 688, 'forced': 689, 'ford': 690, 'form': 691, 'formula': 692, 'fought': 693, 'foxnews': 694, 'foxnewspolitics': 695, 'free': 696, 'freebsd': 697, 'freebsdgirl': 698, 'freedom': 699, 'freezer': 700, 'fried': 701, 'friend': 702, 'fuck': 703, 'fucking': 704, 'fucktards': 705, 'fun': 706, 'funding': 707, 'fyoudbag': 708, 'gailsimone': 709, 'gal': 710, 'game': 711, 'gamergate': 712, 'gangraped': 713, 'gap': 714, 'garbage': 715, 'garydlum': 716, 'gaters': 717, 'gatery': 718, 'gator': 719, 'gbazov': 720, 'gel': 721, 'genius': 722, 'genocide': 723, 'get': 724, 'getting': 725, 'gg': 726, 'ggautoblocker': 727, 'ggreenwald': 728, 'gilmore': 729, 'girl': 730, 'girlziplocked': 731, 'give': 732, 'given': 733, 'giving': 734, 'glad': 735, 'glhf': 736, 'glove': 737, 'go': 738, 'god': 739, 'going': 740, 'gon': 741, 'gone': 742, 'good': 743, 'goodluck': 744, 'gosh': 745, 'got': 746, 'govt': 747, 'grafana': 748, 'grahamdavida': 749, 'great': 750, 'greater': 751, 'greenlinerzjm': 752, 'grin': 753, 'gross': 754, 'ground': 755, 'group': 756, 'grow': 757, 'grown': 758, 'guardian': 759, 'gueensland': 760, 'guess': 761, 'guilt': 762, 'gulf': 763, 'gumboots': 764, 'guy': 765, 'hadith': 766, 'haha': 767, 'hair': 768, 'halalflaws': 769, 'hamas': 770, 'hand': 771, 'handle': 772, 'happen': 773, 'happened': 774, 'happens': 775, 'happy': 776, 'happycampers': 777, 'harassed': 778, 'harassment': 779, 'haroonstyles': 780, 'harshly': 781, 'hate': 782, 'hated': 783, 'hatefilled': 784, 'hating': 785, 'hatred': 786, 'havent': 787, 'hawaiinshirts': 788, 'hayles_comet': 789, 'he': 790, 'head': 791, 'heart': 792, 'hell': 793, 'hello': 794, 'help': 795, 'helping': 796, 'here': 797, 'hide': 798, 'hilarious': 799, 'himat': 800, 'hit': 801, 'hitler': 802, 'hockey': 803, 'holder': 804, 'home': 805, 'homophobe': 806, 'honestly': 807, 'hope': 808, 'hoping': 809, 'hostage': 810, 'however': 811, 'hows': 812, 'ht': 813, 'http': 814, 'httpstco6kgw1lejfr': 815, 'httpstcoum5svjgazu': 816, 'httpstcoxufwsigxfk': 817, 'httpt': 818, 'httptco': 819, 'httptco1pl9gqrdp7': 820, 'httptco4u': 821, 'httptco5vsf5jroi6': 822, 'httptco8xldnwbvzx': 823, 'httptcobwr6ap0ooo': 824, 'httptcocaxxus108l': 825, 'httptcocbcr9u4fc9': 826, 'httptcodajgdn1wy3': 827, 'httptcoddecobanzx': 828, 'httptcoganrh4k87a': 829, 'httptcogbvojnmbcv': 830, 'httptcoglncgkuukp': 831, 'httptcoh8f7n04q5o': 832, 'httptcom4jcka5ir0': 833, 'httptcom5j2tpksm5': 834, 'httptcomdb4iu9whd': 835, 'httptcomxuw3hz4tb': 836, 'httptconleyqfnkyp': 837, 'httptcontojwo4lnt': 838, 'httptcoocsy7crghf': 839, 'httptcopfs5zlkt07': 840, 'httptcopnhzjrhhqr': 841, 'httptcoq95ei17sua': 842, 'httptcoqaa6bwi4pm': 843, 'httptcoqmdsdtfvya': 844, 'httptcoqv': 845, 'httptcorbthvmh9jj': 846, 'httptcospmvzcjj6o': 847, 'httptcot65iytpvdk': 848, 'httptcotfsodcowbx': 849, 'httptcoumkitlb5h9': 850, 'httptcouq19q6pnaq': 851, 'httptcovanp6y7clr': 852, 'httptcowhy3a8o33z': 853, 'httptcoyspbfitztb': 854, 'hugged': 855, 'human': 856, 'humanistfury': 857, 'humanity': 858, 'hungrycampers': 859, 'hw': 860, 'hypatiadotca': 861, 'hypocrite': 862, 'ice': 863, 'id': 864, 'idea': 865, 'ideaology': 866, 'ideaor': 867, 'ideology': 868, 'idiot': 869, 'idiotim': 870, 'idontneedfeminism': 871, 'ied': 872, 'ignorance': 873, 'ignorant': 874, 'ignoring': 875, 'ihatethiskid': 876, 'illegal': 877, 'ilovebreakfast': 878, 'iloveobama': 879, 'imagine': 880, 'imperialism': 881, 'implies': 882, 'info': 883, 'information': 884, 'input': 885, 'instant': 886, 'instead': 887, 'insufferable': 888, 'insulted': 889, 'insulting': 890, 'integration': 891, 'intel': 892, 'interact': 893, 'interest': 894, 'interesting': 895, 'international': 896, 'internet': 897, 'intersection': 898, 'intolerance': 899, 'invented': 900, 'iraq': 901, 'iron': 902, 'isi': 903, 'isisutterly': 904, 'islam': 905, 'islamdefense': 906, 'islamic': 907, 'islamist': 908, 'isnt': 909, 'israel': 910, 'israeliregime': 911, 'issue': 912, 'itll': 913, 'itsbariecool': 914, 'itsfact': 915, 'ive': 916, 'ivyexec': 917, 'izrinhariri': 918, 'jac': 919, 'jealous': 920, 'jeffreygoldberg': 921, 'jennykutner': 922, 'jeremiahfelt': 923, 'jew': 924, 'jhamby': 925, 'jihadis': 926, 'jimcramer': 927, 'jncatron': 928, 'job': 929, 'johncantile': 930, 'johnnygjokaj': 931, 'joke': 932, 'journalist': 933, 'judge': 934, 'juliet777777': 935, 'justhonest': 936, 'justkelly_ok': 937, 'kardashian': 938, 'kat': 939, 'katampandre': 940, 'katandandre': 941, 'katie': 942, 'katieandnikki': 943, 'keep': 944, 'keyboard': 945, 'keynote': 946, 'kid': 947, 'kidding': 948, 'kill': 949, 'killa': 950, 'killed': 951, 'killerblondes': 952, 'killing': 953, 'kind': 954, 'kirkuk': 955, 'kmactane': 956, 'knew': 957, 'know': 958, 'knowingly': 959, 'kobane': 960, 'kuffir': 961, 'kurd': 962, 'kurdish': 963, 'lad': 964, 'lady': 965, 'lajouetreine': 966, 'large': 967, 'last': 968, 'latest': 969, 'laugh': 970, 'launcher': 971, 'law': 972, 'lazy': 973, 'lb': 974, 'le': 975, 'lead': 976, 'leaning': 977, 'led': 978, 'left': 979, 'legitimately': 980, 'lemon': 981, 'lesson': 982, 'letting': 983, 'level': 984, 'liar': 985, 'liberate': 986, 'libya': 987, 'license': 988, 'licking': 989, 'lie': 990, 'lied': 991, 'life': 992, 'light': 993, 'like': 994, 'likely': 995, 'lilbeastunleash': 996, 'lime': 997, 'line': 998, 'link': 999, 'lipstick': 1000, 'lisamromano': 1001, 'lissasauras': 1002, 'listen': 1003, 'lithobolos': 1004, 'little': 1005, 'live': 1006, 'liver': 1007, 'lol': 1008, 'long': 1009, 'loo': 1010, 'look': 1011, 'looked': 1012, 'looking': 1013, 'lose': 1014, 'loser': 1015, 'lost': 1016, 'lot': 1017, 'love': 1018, 'low': 1019, 'lt3': 1020, 'luck': 1021, 'lunatic': 1022, 'm_m_myers': 1023, 'maajidnawaz': 1024, 'mad': 1025, 'madasahatter_17': 1026, 'maddr11': 1027, 'made': 1028, 'magazine': 1029, 'magnus919': 1030, 'maja_stina': 1031, 'major': 1032, 'majority': 1033, 'make': 1034, 'making': 1035, 'mami_mermelada': 1036, 'man': 1037, 'manbabies': 1038, 'manu': 1039, 'manure': 1040, 'many': 1041, 'map': 1042, 'marc_leibowitz': 1043, 'market': 1044, 'markimbriaco': 1045, 'maroon': 1046, 'marriage': 1047, 'married': 1048, 'masontillidie': 1049, 'math': 1050, 'matter': 1051, 'mattybboi83': 1052, 'maxblumenthal': 1053, 'maxcaras': 1054, 'may': 1055, 'maybe': 1056, 'mccheesy904': 1057, 'mean': 1058, 'meaning': 1059, 'meatball': 1060, 'medium': 1061, 'meh': 1062, 'mehdirhasan': 1063, 'mellym09': 1064, 'melting': 1065, 'mention': 1066, 'menu': 1067, 'messed': 1068, 'microbrain': 1069, 'middle': 1070, 'military': 1071, 'militia': 1072, 'minasmith64': 1073, 'minister': 1074, 'minority': 1075, 'miskelayla': 1076, 'miss': 1077, 'missed': 1078, 'missing': 1079, 'mkr': 1080, 'mkr2015': 1081, 'mkrkat': 1082, 'mmmm': 1083, 'model': 1084, 'moderate': 1085, 'modern': 1086, 'mohammed': 1087, 'monday': 1088, 'month': 1089, 'moron': 1090, 'mosul': 1091, 'mouth': 1092, 'moving': 1093, 'much': 1094, 'mugnezee': 1095, 'multiple': 1096, 'murde': 1097, 'murder': 1098, 'murdered': 1099, 'murtaza': 1100, 'muslim': 1101, 'mutilated': 1102, 'mykitchenrules': 1103, 'mystrongstate': 1104, 'naga': 1105, 'nainfidels': 1106, 'naminglisting': 1107, 'narîn': 1108, 'nasty': 1109, 'naturally': 1110, 'nazi': 1111, 'near': 1112, 'necessarily': 1113, 'need': 1114, 'needarethinkinformat': 1115, 'negated': 1116, 'negotiate': 1117, 'never': 1118, 'new': 1119, 'newscoverup': 1120, 'next': 1121, 'nice': 1122, 'nigelbigmeech': 1123, 'night': 1124, 'nikki': 1125, 'nobody': 1126, 'noise': 1127, 'none': 1128, 'nooo': 1129, 'nope': 1130, 'note': 1131, 'nothing': 1132, 'notsexist': 1133, 'novorossiyan': 1134, 'number': 1135, 'number10gov': 1136, 'nytimes': 1137, 'obamacare': 1138, 'obamas': 1139, 'obviously': 1140, 'occasion': 1141, 'offense': 1142, 'offensive': 1143, 'offering': 1144, 'oh': 1145, 'oil': 1146, 'oktar': 1147, 'old': 1148, 'oldgfatherclock': 1149, 'one': 1150, 'open': 1151, 'opener': 1152, 'opinion': 1153, 'opponent': 1154, 'opposed': 1155, 'optional': 1156, 'oreilly': 1157, 'org': 1158, 'origin': 1159, 'others': 1160, 'outside': 1161, 'overweight': 1162, 'p': 1163, 'page': 1164, 'painful': 1165, 'pakistan': 1166, 'paknsave': 1167, 'palestine': 1168, 'pancake': 1169, 'paraketa': 1170, 'parent': 1171, 'paris': 1172, 'participate': 1173, 'passport': 1174, 'past': 1175, 'pastor': 1176, 'patrickosgood': 1177, 'pawarnhoff': 1178, 'pay': 1179, 'paying': 1180, 'pc': 1181, 'peace': 1182, 'peacenothate_': 1183, 'pedophile': 1184, 'pedophilia': 1185, 'penalty': 1186, 'people': 1187, 'peopleschoice': 1188, 'perfect': 1189, 'period': 1190, 'perk': 1191, 'perl': 1192, 'personality': 1193, 'pervious': 1194, 'peymaneh123': 1195, 'phxken': 1196, 'pie': 1197, 'piece': 1198, 'pile': 1199, 'pilgars': 1200, 'pilot': 1201, 'pissing': 1202, 'pjnet': 1203, 'plane': 1204, 'planning': 1205, 'playing': 1206, 'playstations': 1207, 'please': 1208, 'pleasing': 1209, 'point': 1210, 'pole': 1211, 'police': 1212, 'political': 1213, 'politicalant': 1214, 'politics_pr': 1215, 'poor': 1216, 'poorly': 1217, 'population': 1218, 'portland': 1219, 'possible': 1220, 'post': 1221, 'posting': 1222, 'power': 1223, 'present': 1224, 'pressure': 1225, 'pretend': 1226, 'pretty': 1227, 'previous': 1228, 'price': 1229, 'prime': 1230, 'prisonersofwar': 1231, 'pro': 1232, 'probably': 1233, 'problem': 1234, 'problematic': 1235, 'producer': 1236, 'production': 1237, 'profile': 1238, 'project': 1239, 'promise': 1240, 'promo': 1241, 'promogirls': 1242, 'promoted': 1243, 'proof': 1244, 'propaganda': 1245, 'prophet': 1246, 'prospect': 1247, 'protecting': 1248, 'prove': 1249, 'provide': 1250, 'provision': 1251, 'psog': 1252, 'psogeco': 1253, 'public': 1254, 'punch': 1255, 'purse': 1256, 'put': 1257, 'question': 1258, 'questionsformen': 1259, 'quietly': 1260, 'quit': 1261, 'quite': 1262, 'quran': 1263, 'r': 1264, 'race': 1265, 'racist': 1266, 'raised': 1267, 'random': 1268, 'ransom': 1269, 'rape': 1270, 'raped': 1271, 'rapper': 1272, 'rapperguydmv': 1273, 'raqqa': 1274, 'raqqa_sl': 1275, 'rate': 1276, 'rather': 1277, 'ratio': 1278, 'ravenhuwolf': 1279, 'raw': 1280, 'react': 1281, 'read': 1282, 'readable': 1283, 'real': 1284, 'really': 1285, 'realtalk': 1286, 'reason': 1287, 'reasonably': 1288, 'rebel': 1289, 'recall': 1290, 'reckless': 1291, 'recognize': 1292, 'recommends': 1293, 'record': 1294, 'recruit': 1295, 'recuperate': 1296, 'redux': 1297, 'reevaluate': 1298, 'reference': 1299, 'referring': 1300, 'refine': 1301, 'regarding': 1302, 'regulation': 1303, 'rejected': 1304, 'relationship': 1305, 'release': 1306, 'religion': 1307, 'religious': 1308, 'relisha': 1309, 'reload': 1310, 'remember': 1311, 'reminded': 1312, 'rennie93': 1313, 'repeatedly': 1314, 'repetition': 1315, 'replacement': 1316, 'report': 1317, 'reputation': 1318, 'request': 1319, 'resorting': 1320, 'respond': 1321, 'restaurant': 1322, 'retreat': 1323, 'revolting': 1324, 'rigged': 1325, 'right': 1326, 'rinehart33': 1327, 'rip': 1328, 'rjennromao': 1329, 'rkhayer': 1330, 'rkinglive2dance': 1331, 'rob': 1332, 'robbed': 1333, 'robert': 1334, 'robinriedstra': 1335, 'roll': 1336, 'roof': 1337, 'room': 1338, 'rooshv': 1339, 'rose': 1340, 'rotherham': 1341, 'rougek68': 1342, 'round': 1343, 'routinely': 1344, 'rt': 1345, 'rts': 1346, 'rudawenglish': 1347, 'rudd': 1348, 'rude': 1349, 'rudoren': 1350, 'ruin': 1351, 'run': 1352, 'running': 1353, 'russian': 1354, 'said': 1355, 'sajid_fairooz': 1356, 'sake': 1357, 'salmon': 1358, 'salon': 1359, 'salty': 1360, 'santa': 1361, 'sarah_jane666': 1362, 'sas': 1363, 'satire': 1364, 'saudi': 1365, 'sausage': 1366, 'save': 1367, 'saw': 1368, 'say': 1369, 'scared': 1370, 'schmeezi': 1371, 'school': 1372, 'score': 1373, 'scratch': 1374, 'screencaps': 1375, 'script': 1376, 'scripted': 1377, 'scroll': 1378, 'scum': 1379, 'season': 1380, 'see': 1381, 'seen': 1382, 'segment': 1383, 'self': 1384, 'selfies': 1385, 'selling': 1386, 'sellout': 1387, 'semite': 1388, 'semzyxx': 1389, 'sensitive': 1390, 'sent': 1391, 'serious': 1392, 'serlasco': 1393, 'serve': 1394, 'served': 1395, 'service': 1396, 'serving': 1397, 'set': 1398, 'setup': 1399, 'sex': 1400, 'sexhonest': 1401, 'sexism': 1402, 'sexist': 1403, 'sexually': 1404, 'shami_is_back': 1405, 'shaz': 1406, 'shell': 1407, 'sherri': 1408, 'shia': 1409, 'shingal': 1410, 'shirt': 1411, 'shit': 1412, 'shoe0nhead': 1413, 'short': 1414, 'shovel': 1415, 'show': 1416, 'shower': 1417, 'shred': 1418, 'shut': 1419, 'sick': 1420, 'side': 1421, 'sighhhh': 1422, 'simpson': 1423, 'since': 1424, 'singer': 1425, 'sinjar': 1426, 'sirgoldenrod': 1427, 'six': 1428, 'skank': 1429, 'slap': 1430, 'slave': 1431, 'slaved': 1432, 'sleep': 1433, 'sleeping': 1434, 'slide': 1435, 'slightly': 1436, 'sloshedtrain2': 1437, 'slow': 1438, 'smack': 1439, 'smackem': 1440, 'small': 1441, 'smarter': 1442, 'smash': 1443, 'sold': 1444, 'soldier': 1445, 'someone': 1446, 'something': 1447, 'sometimes': 1448, 'somewhat': 1449, 'soon': 1450, 'sorbent': 1451, 'sorbet': 1452, 'sorry': 1453, 'sorrynotsorry': 1454, 'sound': 1455, 'source': 1456, 'space': 1457, 'spacekatgal': 1458, 'spam': 1459, 'spatchcock': 1460, 'speak': 1461, 'speaking': 1462, 'speech': 1463, 'spiritual': 1464, 'spoiled': 1465, 'sport': 1466, 'sports2inflatio': 1467, 'sputnik': 1468, 'srhbutts': 1469, 'stalin': 1470, 'stand': 1471, 'standard': 1472, 'standing': 1473, 'starius': 1474, 'started': 1475, 'starting': 1476, 'state': 1477, 'statistic': 1478, 'stats': 1479, 'stay': 1480, 'stayed': 1481, 'staying': 1482, 'step': 1483, 'steve': 1484, 'stiff': 1485, 'still': 1486, 'stood': 1487, 'stop': 1488, 'stopping': 1489, 'stopwadhwa2015': 1490, 'story': 1491, 'strategically': 1492, 'streaming': 1493, 'stretch': 1494, 'strike': 1495, 'strong': 1496, 'struggle': 1497, 'student': 1498, 'stuff': 1499, 'stupid': 1500, 'stylist': 1501, 'subject': 1502, 'subtle': 1503, 'success': 1504, 'suck': 1505, 'sudixitca': 1506, 'suicide': 1507, 'super': 1508, 'superior': 1509, 'support': 1510, 'supported': 1511, 'sure': 1512, 'surgery': 1513, 'swallow': 1514, 'switching': 1515, 'syazlicious': 1516, 'syria': 1517, 'systemic': 1518, 'tacky': 1519, 'taken': 1520, 'taking': 1521, 'tal': 1522, 'taliban': 1523, 'talk': 1524, 'talladega': 1525, 'taqiyya': 1526, 'tart': 1527, 'tasteless': 1528, 'tatibresolin': 1529, 'tbh': 1530, 'tbielawa': 1531, 'tcot': 1532, 'teach': 1533, 'teaching': 1534, 'team': 1535, 'tell': 1536, 'telling': 1537, 'tempting': 1538, 'terrible': 1539, 'terror': 1540, 'terrorism': 1541, 'terrorist': 1542, 'testicle': 1543, 'texasarlington': 1544, 'thanks': 1545, 'thatll': 1546, 'thats': 1547, 'theckman': 1548, 'thegoodguysau': 1549, 'themselvespffft': 1550, 'themuslimguy': 1551, 'thequinnspiracy': 1552, 'there': 1553, 'theyre': 1554, 'thing': 1555, 'think': 1556, 'thinking': 1557, 'third': 1558, 'thought': 1559, 'threw': 1560, 'throw': 1561, 'tied': 1562, 'tim': 1563, 'time': 1564, 'timespan': 1565, 'tiny': 1566, 'tip': 1567, 'tnr': 1568, 'today': 1569, 'todayreal': 1570, 'told': 1571, 'tolerate': 1572, 'tomato': 1573, 'tonight': 1574, 'tool': 1575, 'top': 1576, 'total': 1577, 'train': 1578, 'translator': 1579, 'treating': 1580, 'trend': 1581, 'tried': 1582, 'tripple': 1583, 'trolley': 1584, 'troop': 1585, 'trophy': 1586, 'truly': 1587, 'try': 1588, 'trying': 1589, 'turf': 1590, 'turk': 1591, 'tv': 1592, 'tw': 1593, 'tweet': 1594, 'twist': 1595, 'twista202': 1596, 'twitter': 1597, 'two': 1598, 'typed': 1599, 'typically': 1600, 'typo': 1601, 'u': 1602, 'ugly': 1603, 'ukraine': 1604, 'ukrainian': 1605, 'ultrafundamentalist': 1606, 'unacceptable': 1607, 'unapologetic': 1608, 'unashamed': 1609, 'uncalled': 1610, 'understand': 1611, 'understands': 1612, 'unfair': 1613, 'uninvolved': 1614, 'university': 1615, 'update': 1616, 'upon': 1617, 'use': 1618, 'user': 1619, 'username': 1620, 'usually': 1621, 'valenti': 1622, 'value': 1623, 'vc': 1624, 'vcs': 1625, 'venereveritas13': 1626, 'versa': 1627, 'verse': 1628, 'via': 1629, 'vice': 1630, 'victim': 1631, 'victorymonk': 1632, 'video': 1633, 'videobeautiful': 1634, 'violence': 1635, 'voice': 1636, 'vonta624': 1637, 'vote': 1638, 'voted': 1639, 'w': 1640, 'wadhwa': 1641, 'wait': 1642, 'waiting': 1643, 'wakeuplibsgtjoenbc': 1644, 'walk': 1645, 'wan': 1646, 'wanted': 1647, 'washed': 1648, 'washingtonpost': 1649, 'wasnt': 1650, 'watched': 1651, 'watching': 1652, 'way': 1653, 'week': 1654, 'weekly': 1655, 'well': 1656, 'went': 1657, 'werent': 1658, 'west': 1659, 'western': 1660, 'wheat': 1661, 'wheel': 1662, 'whereisyourdignity': 1663, 'whether': 1664, 'whiny': 1665, 'white': 1666, 'whiteblack': 1667, 'whitening': 1668, 'whole': 1669, 'wi': 1670, 'wife': 1671, 'win': 1672, 'wing': 1673, 'wish': 1674, 'without': 1675, 'witty': 1676, 'wizardryofozil': 1677, 'wks': 1678, 'wnba': 1679, 'wnyc': 1680, 'wocracial': 1681, 'woman': 1682, 'womenagainstfeminism': 1683, 'womeninterpret': 1684, 'word': 1685, 'work': 1686, 'worker': 1687, 'working': 1688, 'worse': 1689, 'worst': 1690, 'would': 1691, 'wouldnt': 1692, 'wouldve': 1693, 'wow': 1694, 'wrecking': 1695, 'write': 1696, 'writer': 1697, 'writing': 1698, 'wrong': 1699, 'xmjee': 1700, 'yall': 1701, 'yawn': 1702, 'yeah': 1703, 'year': 1704, 'yes': 1705, 'yesallwomen': 1706, 'yesyouresexist': 1707, 'yet': 1708, 'yield': 1709, 'youd': 1710, 'youll': 1711, 'young': 1712, 'youre': 1713, 'youtube': 1714, 'ypg': 1715, 'zaibatsunews': 1716, 'zene55': 1717, 'zero': 1718, 'zython86': 1719}\n"
          ],
          "name": "stdout"
        }
      ]
    },
    {
      "cell_type": "code",
      "metadata": {
        "id": "trMGcYHRz2KS"
      },
      "source": [
        "def add_paddings(word, max_num=5):\n",
        "    diff = max_num - len(word)\n",
        "    return word+'P'*diff\n",
        "def predict(word):\n",
        "    # add padding\n",
        "    word = add_paddings(word, max_input_words_amount)\n",
        "    \n",
        "    # Setting each character of predicted as 'U' (Unknown) \n",
        "    # ['king'(padded), 'UU']\n",
        "    seq_data = [word, 'U' * 2]"
      ],
      "execution_count": null,
      "outputs": []
    },
    {
      "cell_type": "code",
      "metadata": {
        "colab": {
          "base_uri": "https://localhost:8080/"
        },
        "id": "5BqTtT1h1ktt",
        "outputId": "780aa7da-fd4b-4843-f08b-f438a2180ada"
      },
      "source": [
        "seq_length = 16\n",
        "sent_encoded = []\n",
        "for sent in text_train_le:\n",
        "  temp_encoded = [word_index[word] for word in sent]\n",
        "  if len(temp_encoded) < seq_length:\n",
        "    temp_encoded += [word_index['[PAD]']] * (seq_length - len(temp_encoded))\n",
        "  sent_encoded.append(temp_encoded)\n",
        "print(sent_encoded)#2787\n"
      ],
      "execution_count": null,
      "outputs": [
        {
          "output_type": "stream",
          "text": [
            "[[223, 229, 223, 54, 1041, 562, 1399, 1051, 148, 1087, 978, 202, 1032, 1071, 641, 1143, 1271, 1333, 1099, 991, 1432, 1184, 17, 1368, 137, 1284, 309, 301, 1691, 1709, 515, 953, 755, 1017, 1151, 1457, 451, 798, 346, 26, 1446, 643, 710, 1363, 601, 685, 1080, 140, 431, 387, 964, 1484, 1521, 1103, 886, 1322, 1574, 1554, 1080, 819, 348, 1598, 705, 1486, 467, 1070, 679, 1369, 794, 939, 276, 279, 306, 1080, 72, 808, 886, 1322, 1343, 743, 725, 362, 1080, 1081, 37, 1183, 1703, 944, 422, 1011, 994, 503, 849, 91, 1214, 1716, 571, 1472, 1069, 924, 442, 75, 1557, 515, 440, 1588, 324, 898, 860, 196, 860, 212, 1112, 1522, 251, 100, 909, 1163, 72, 1205, 1489, 1219, 570, 1556, 740, 1564, 1094, 724, 324, 43, 825, 42, 459, 1397, 1080, 140, 583, 1031, 1267, 1682, 1033, 494, 1264, 1684, 1685, 1674, 1051, 1094, 1595, 140, 1529, 1145, 458, 1648, 768, 1080, 97, 1063, 1568, 880, 1101, 933, 1035, 414, 903, 907, 1384, 894, 1008, 180, 1527, 1217, 481, 1193, 528, 1527, 1080, 80, 622, 1703, 1118, 464, 308, 373, 629, 33, 487, 592, 450, 1549, 496, 1080, 439, 815, 140, 1330, 963, 1585, 986, 955, 1146, 1687, 1468, 896, 901, 962, 903, 810, 1231, 818, 136, 406, 836, 174, 971, 498, 1314, 140, 1632, 1683, 570, 958, 816, 39, 392, 269, 379, 76, 1131, 1479, 1520, 967, 1565, 1175, 198, 1600, 1438, 1564, 103, 1145, 1129, 744, 1701, 182, 548, 1282, 1163, 1391, 1375, 362, 471, 187, 1381, 463, 1080, 140, 708, 890, 1682, 640, 312, 1508, 595, 711, 807, 889, 1171, 730, 58, 1416, 1486, 1353, 444, 1080, 102, 809, 1656, 235, 1306, 883, 1450, 1017, 1499, 1686, 1240, 354, 1555, 140, 280, 1345, 1196, 905, 484, 516, 1555, 858, 200, 1704, 827, 1656, 636, 1097, 181, 1055, 400, 1365, 570, 1226, 288, 326, 907, 546, 905, 190, 475, 743, 1653, 1080, 851, 147, 1598, 492, 490, 247, 485, 742, 1598, 1160, 456, 627, 1416, 1318, 1351, 1080, 140, 452, 1682, 1291, 579, 1133, 1286, 62, 195, 1177, 1594, 1418, 633, 367, 129, 730, 1241, 737, 764, 209, 1080, 1081, 103, 1691, 287, 596, 437, 1007, 1547, 635, 115, 1285, 659, 943, 1693, 1277, 1481, 941, 1080, 140, 207, 939, 1109, 1198, 1686, 1530, 1080, 140, 1049, 1677, 543, 1707, 1187, 516, 1390, 1008, 85, 664, 994, 574, 1703, 575, 236, 487, 233, 1080, 140, 1371, 1312, 781, 1682, 377, 1587, 1505, 1454, 915, 1133, 140, 389, 940, 1088, 1187, 1639, 1492, 1349, 940, 1574, 1638, 1492, 1558, 1564, 55, 1655, 1151, 1456, 1239, 1180, 359, 844, 140, 914, 1057, 775, 1630, 1627, 1442, 1110, 1133, 85, 276, 279, 783, 1080, 1535, 317, 1324, 492, 1081, 171, 363, 1080, 131, 928, 1571, 869, 738, 1011, 1159, 285, 1388, 1059, 112, 1245, 1409, 1072, 1308, 660, 661, 994, 903, 1436, 975, 647, 117, 1441, 1158, 1686, 273, 1656, 632, 474, 1018, 1625, 891, 126, 1717, 383, 695, 332, 549, 903, 1087, 140, 1393, 1114, 730, 1546, 902, 1411, 406, 1403, 96, 1030, 1548, 434, 1531, 1045, 1524, 386, 1594, 324, 524, 25, 1026, 990, 1033, 1101, 689, 850, 158, 1135, 608, 314, 1346, 1681, 912, 1465, 1666, 730, 762, 751, 194, 37, 869, 1128, 427, 1278, 1101, 442, 1168, 1101, 356, 237, 427, 32, 1227, 1122, 730, 1556, 790, 734, 545, 1080, 139, 333, 454, 1307, 1533, 786, 1098, 1132, 786, 1098, 587, 97, 1036, 749, 921, 770, 811, 1561, 1213, 1154, 1337, 1576, 12, 410, 1471, 939, 1080, 5, 1350, 1137, 1653, 302, 1285, 477, 905, 1464, 1285, 63, 353, 752, 1246, 1118, 1355, 491, 994, 1166, 219, 568, 1635, 1276, 140, 281, 1311, 930, 1634, 1091, 903, 204, 1678, 253, 1656, 797, 1274, 1570, 992, 1640, 814, 132, 704, 948, 417, 1547, 1079, 1211, 1080, 173, 1052, 1136, 438, 237, 877, 1660, 505, 241, 907, 505, 1246, 140, 966, 1139, 1085, 1289, 397, 443, 276, 1101, 263, 420, 1203, 1517, 604, 987, 901, 821, 133, 1339, 1073, 724, 1341, 1297, 1271, 513, 140, 1632, 1682, 1328, 1037, 1543, 1304, 1582, 1514, 847, 1259, 304, 85, 319, 363, 1080, 33, 919, 1406, 1188, 1080, 777, 66, 905, 1540, 673, 1540, 673, 905, 1246, 739, 1420, 1542, 905, 140, 1024, 728, 1534, 554, 882, 1629, 999, 504, 905, 994, 806, 814, 147, 939, 1528, 1713, 758, 1682, 1080, 140, 1064, 1285, 659, 943, 1693, 1277, 1481, 941, 1080, 140, 261, 1403, 1471, 1652, 1466, 1682, 1258, 1258, 1258, 49, 254, 1014, 894, 886, 1322, 1556, 1554, 415, 655, 1704, 1080, 140, 522, 698, 406, 514, 512, 627, 958, 1713, 741, 1336, 72, 570, 1381, 1201, 988, 1313, 666, 1497, 580, 412, 1708, 682, 1204, 1133, 936, 29, 812, 458, 1343, 1688, 1227, 497, 864, 1369, 1594, 1115, 1080, 98, 330, 1152, 1452, 448, 1242, 518, 551, 1080, 124, 1705, 733, 756, 1344, 1221, 1102, 373, 1597, 268, 275, 1174, 864, 1369, 1689, 159, 1034, 577, 1538, 1163, 140, 1095, 1403, 1652, 730, 863, 803, 1285, 1165, 78, 706, 1652, 726, 1589, 1034, 1602, 673, 1261, 1589, 1034, 670, 773, 1118, 740, 773, 1458, 1552, 138, 1694, 638, 1402, 120, 1598, 369, 341, 402, 1080, 187, 1650, 1485, 1377, 1676, 331, 1284, 435, 1080, 150, 1145, 1703, 1459, 793, 403, 140, 393, 703, 1403, 730, 1295, 1372, 363, 175, 1356, 911, 627, 802, 924, 1486, 1006, 1659, 784, 905, 119, 739, 853, 822, 123, 867, 294, 116, 696, 1044, 724, 1117, 1236, 664, 658, 246, 239, 305, 71, 203, 1403, 1706, 1221, 588, 1555, 1597, 53, 1700, 1691, 1381, 954, 1499, 1710, 1224, 642, 286, 1575, 276, 544, 140, 1516, 349, 536, 939, 279, 1080, 843, 177, 1705, 1290, 125, 270, 1053, 491, 1093, 552, 1101, 1150, 848, 87, 905, 1265, 1069, 154, 1178, 624, 910, 310, 1096, 1101, 298, 1096, 1141, 97, 1043, 743, 1446, 676, 1487, 1101, 1542, 1218, 881, 126, 1004, 1716, 1666, 442, 785, 355, 1155, 837, 140, 1054, 1707, 334, 1547, 587, 1553, 1132, 1699, 1364, 1403, 932, 103, 1114, 1434, 328, 1656, 418, 1416, 376, 703, 119, 1656, 324, 1241, 1686, 1080, 1081, 46, 259, 1379, 328, 908, 625, 442, 650, 451, 805, 1091, 1274, 1426, 152, 428, 430, 1121, 1576, 1084, 1080, 140, 1335, 1126, 994, 582, 1366, 1080, 170, 1227, 1512, 585, 480, 1202, 1254, 65, 643, 563, 1156, 1513, 1205, 410, 773, 1121, 1089, 336, 1564, 1296, 8, 1195, 756, 344, 1449, 1288, 963, 688, 16, 348, 903, 310, 348, 310, 455, 1294, 1326, 27, 1080, 824, 140, 651, 1108, 1712, 650, 1682, 1410, 230, 615, 1444, 1271, 903, 1542, 465, 1507, 128, 248, 196, 313, 533, 1653, 1675, 1587, 340, 1227, 1005, 730, 613, 753, 1080, 140, 391, 935, 1714, 560, 1119, 903, 1633, 404, 1386, 666, 1400, 1431, 846, 1034, 140, 1327, 1403, 1682, 579, 1539, 149, 857, 550, 1472, 1667, 1266, 620, 1130, 922, 1359, 140, 996, 1065, 548, 1257, 700, 1395, 587, 1429, 1080, 24, 1486, 567, 1029, 1084, 467, 1704, 730, 1080, 135, 1255, 998, 788, 976, 1425, 1046, 214, 1455, 994, 725, 713, 1417, 47, 559, 609, 1408, 1080, 40, 925, 893, 1187, 64, 769, 752, 353, 217, 1101, 451, 951, 1523, 1011, 143, 1551, 1502, 905, 1305, 1541, 461, 1281, 994, 610, 1090, 72, 761, 939, 276, 279, 1658, 855, 614, 438, 1080, 140, 460, 1446, 1443, 378, 1340, 276, 997, 488, 572, 791, 1208, 1080, 122, 748, 127, 1321, 1510, 1319, 409, 284, 7, 1416, 1628, 1369, 687, 688, 1187, 1447, 183, 593, 1080, 64, 769, 752, 353, 1703, 436, 398, 1386, 400, 179, 1577, 985, 994, 1184, 1246, 1445, 570, 396, 1187, 263, 41, 905, 1270, 411, 1682, 792, 482, 972, 77, 357, 1624, 1496, 669, 267, 977, 509, 1013, 707, 113, 1653, 1547, 1403, 231, 1403, 666, 433, 1592, 1416, 222, 1621, 282, 433, 153, 656, 1163, 1114, 768, 511, 590, 539, 84, 1547, 595, 999, 835, 70, 10, 1583, 1229, 510, 81, 1430, 1500, 360, 1080, 144, 1157, 374, 598, 1163, 1148, 1705, 1621, 1262, 994, 140, 277, 1644, 907, 926, 994, 1606, 442, 852, 1532, 879, 818, 190, 994, 581, 1197, 1008, 1080, 11, 759, 1216, 947, 1647, 757, 345, 961, 664, 327, 800, 199, 903, 1691, 1391, 949, 140, 1347, 903, 639, 442, 1176, 1100, 234, 211, 1704, 1148, 1091, 1569, 903, 534, 1269, 814, 142, 322, 1491, 1160, 453, 652, 104, 1080, 725, 376, 1001, 716, 1515, 1423, 571, 618, 197, 1083, 839, 83, 566, 767, 1512, 140, 517, 1080, 952, 1653, 730, 1482, 371, 630, 368, 1338, 1554, 1486, 1670, 113, 1142, 1123, 1403, 1682, 1285, 1500, 1142, 72, 808, 739, 939, 410, 1433, 1124, 1080, 140, 266, 285, 1488, 1580, 366, 1586, 1450, 669, 1488, 1580, 366, 294, 712, 110, 1027, 1053, 828, 157, 532, 1325, 1080, 167, 1370, 1665, 1038, 1017, 1597, 1066, 1254, 1462, 1192, 1473, 252, 664, 184, 1698, 361, 1080, 188, 458, 1691, 1013, 662, 1366, 1080, 113, 681, 538, 1080, 140, 1253, 1005, 1414, 1210, 905, 982, 1602, 874, 833, 829, 1629, 1252, 155, 923, 754, 57, 321, 1446, 1025, 1020, 74, 288, 994, 630, 669, 593, 169, 204, 1035, 1121, 1343, 458, 1016, 502, 649, 1103, 103, 472, 423, 980, 799, 1332, 520, 1353, 1525, 1124, 1299, 1358, 1012, 272, 160, 269, 1599, 873, 287, 1612, 599, 1378, 276, 1381, 1249, 1545, 118, 323, 994, 630, 1101, 478, 869, 449, 499, 904, 1500, 1675, 633, 367, 140, 1279, 1615, 1544, 1101, 1498, 249, 1028, 1669, 1491, 826, 845, 140, 1637, 1403, 864, 1118, 724, 768, 511, 1682, 994, 1266, 864, 1118, 596, 437, 701, 1666, 1163, 145, 991, 244, 1182, 288, 394, 990, 628, 657, 140, 292, 1403, 1682, 410, 462, 1272, 73, 302, 1711, 1118, 958, 1273, 390, 1403, 1679, 616, 18, 1215, 694, 419, 1225, 1181, 97, 408, 372, 564, 1317, 288, 1212, 564, 288, 146, 655, 1041, 550, 766, 1369, 1428, 1048, 483, 553, 288, 141, 515, 979, 531, 1590, 1161, 1091, 541, 1121, 1654, 156, 731, 861, 937, 274, 1486, 1387, 1486, 1607, 557, 101, 1149, 1626, 1361, 1666, 56, 1055, 994, 1316, 692, 374, 265, 1293, 626, 738, 1080, 162, 1680, 1003, 969, 619, 644, 45, 950, 1084, 732, 950, 540, 1080, 176, 1232, 526, 1186, 285, 1251, 1138, 672, 747, 1303, 696, 1044, 350, 190, 1559, 1060, 740, 1672, 1187, 440, 385, 558, 495, 564, 1058, 631, 607, 1080, 72, 1077, 1334, 1636, 1080, 140, 956, 772, 1641, 276, 683, 453, 796, 1028, 1490, 1564, 1298, 1713, 79, 1405, 675, 515, 1398, 872, 329, 570, 1128, 1631, 295, 862, 61, 805, 939, 506, 654, 363, 1080, 854, 140, 634, 1682, 1264, 1209, 1011, 1617, 1133, 1401, 69, 24, 958, 1187, 201, 1000, 1256, 1554, 750, 242, 920, 973, 388, 140, 1467, 1002, 668, 1511, 1185, 677, 1187, 994, 674, 831, 68, 1394, 1280, 1460, 1080, 1081, 106, 1542, 1098, 198, 1187, 1172, 206, 1542, 309, 1424, 220, 232, 1284, 905, 140, 1649, 523, 1212, 1524, 1309, 1348, 883, 406, 205, 834, 813, 59, 1120, 1329, 521, 1134, 720, 1342, 1412, 1338, 1524, 58, 1140, 264, 1140, 1403, 746, 1566, 447, 1008, 840, 85, 279, 994, 1690, 1233, 570, 702, 1080, 36, 1118, 1488, 1222, 1694, 1385, 130, 1326, 1421, 1101, 912, 1699, 1421, 1604, 912, 72, 570, 1323, 1310, 73, 1657, 724, 384, 1395, 939, 1691, 1645, 318, 1080, 103, 1645, 1483, 1618, 1010, 1124, 204, 1094, 603, 1362, 95, 401, 1011, 870, 740, 979, 1673, 1022, 1536, 1572, 907, 899, 51, 291, 1008, 492, 1089, 253, 1491, 515, 1194, 256, 1495, 103, 1556, 1560, 1092, 178, 358, 931, 221, 421, 1132, 903, 1246, 1087, 23, 1147, 365, 1715, 1187, 960, 1018, 875, 903, 1187, 960, 782, 1147, 990, 114, 1307, 1478, 627, 457, 1237, 1541, 140, 917, 958, 213, 995, 1117, 466, 929, 1191, 621, 61, 730, 746, 738, 760, 1488, 1058, 939, 279, 1080, 21, 1556, 299, 589, 347, 1622, 959, 990, 193, 1169, 919, 276, 1406, 1011, 272, 1080, 190, 958, 1547, 895, 865, 1056, 724, 1243, 1594, 727, 72, 1651, 1080, 1574, 939, 279, 556, 1610, 1041, 984, 75, 1285, 471, 461, 717, 718, 1302, 1158, 1547, 1234, 164, 1427, 1437, 1469, 1562, 1597, 1619, 864, 479, 1616, 1616, 1352, 72, 808, 939, 724, 597, 801, 1578, 684, 1439, 1603, 1415, 1080, 941, 1082, 38, 746, 1690, 1556, 594, 993, 90, 729, 730, 1380, 196, 1536, 250, 1713, 1404, 778, 395, 1372, 441, 109, 941, 1056, 1034, 1512, 558, 1374, 970, 1160, 1109, 1080, 1081, 13, 1192, 1227, 1283, 602, 1113, 532, 1220, 287, 1282, 276, 1611, 86, 938, 1047, 548, 1494, 1009, 1080, 166, 1439, 1524, 1190, 227, 1403, 782, 730, 1524, 1466, 1646, 1440, 48, 335, 663, 570, 453, 548, 1173, 315, 1094, 975, 1470, 165, 730, 606, 771, 686, 1084, 1080, 151, 735, 886, 1322, 569, 916, 1078, 432, 1080, 878, 278, 7, 769, 780, 906, 752, 1579, 957, 290, 1326, 50, 1689, 1061, 1556, 790, 267, 944, 983, 1461, 1602, 1488, 1490, 31, 1170, 339, 1042, 446, 191, 487, 1486, 1412, 939, 1080, 161, 1322, 1519, 1080, 93, 1210, 864, 776, 1695, 653, 1268, 352, 787, 569, 293, 1089, 140, 260, 380, 342, 283, 1682, 1230, 1074, 1453, 1403, 1011, 740, 44, 905, 1199, 1040, 542, 856, 699, 856, 992, 856, 645, 500, 611, 561, 140, 584, 761, 1285, 774, 1080, 467, 1353, 623, 40, 1300, 1563, 72, 1692, 528, 981, 1527, 1080, 820, 15, 1276, 740, 1035, 1435, 946, 412, 577, 805, 26, 1573, 678, 1080, 1, 1719, 1023, 445, 1475, 1107, 1187, 1650, 325, 14, 1591, 473, 296, 723, 968, 424, 1258, 724, 351, 1308, 782, 20, 1703, 648, 1152, 1179, 714, 300, 958, 1005, 600, 643, 1050, 1402, 140, 1506, 1602, 795, 604, 1250, 892, 885, 1034, 257, 1504, 1285, 570, 1556, 605, 892, 1086, 140, 228, 283, 1343, 886, 1322, 1392, 1080, 1702, 140, 476, 871, 667, 841, 143, 1551, 1359, 1588, 1419, 696, 1463, 1419, 1187, 1206, 1265, 413, 866, 905, 99, 1413, 297, 989, 671, 119, 1703, 697, 1352, 1207, 1360, 134, 1053, 283, 1526, 985, 1035, 715, 1357, 1087, 537, 646, 924, 119, 1601, 765, 540, 724, 1451, 1711, 1114, 1460, 1080, 60, 1260, 796, 719, 269, 121, 1389, 1106, 1699, 1069, 215, 994, 1246, 985, 1244, 842, 140, 573, 1018, 934, 470, 1623, 430, 216, 1376, 1697, 1536, 502, 1080, 4, 1704, 1396, 1105, 1055, 591, 1422, 140, 576, 1187, 1369, 1696, 958, 1448, 1556, 1187, 958, 709, 405, 52, 1491, 346, 1238, 958, 192, 1331, 918, 1287, 1099, 949, 1101, 1588, 3, 370, 1080, 186, 362, 1021, 1125, 1241, 1686, 535, 724, 696, 1668, 721, 1080, 82, 1062, 916, 1382, 614, 1068, 1499, 491, 426, 105, 382, 876, 1403, 897, 1416, 730, 570, 958, 691, 1153, 140, 337, 677, 1587, 307, 1135, 1559, 1198, 657, 1292, 1143, 1383, 627, 1675, 1593, 108, 1145, 745, 808, 664, 350, 89, 508, 981, 1125, 1223, 530, 627, 271, 947, 1414, 399, 1080, 107, 547, 1104, 1275, 1416, 519, 189, 1705, 1705, 832, 163, 673, 1518, 1234, 1564, 1144, 1284, 1567, 1248, 1187, 570, 1564, 204, 1642, 35, 712, 677, 1143, 1162, 469, 1608, 276, 1609, 88, 238, 1041, 868, 905, 527, 856, 1265, 200, 1704, 253, 838, 172, 1021, 1407, 1501, 94, 939, 279, 555, 375, 1373, 1019, 1367, 1550, 1080, 140, 262, 1119, 371, 905, 515, 397, 1187, 1119, 1581, 1476, 1121, 416, 612, 256, 26, 1446, 732, 939, 1430, 245, 791, 1080, 363, 67, 320, 1080, 72, 410, 1471, 939, 279, 1015, 1080, 28, 1262, 1390, 665, 1228, 945, 994, 1127, 913, 1235, 1493, 67, 1301, 1447, 529, 1080, 140, 1474, 712, 817, 1672, 255, 19, 752, 1263, 1537, 338, 1671, 1509, 823, 140, 1596, 939, 279, 236, 1109, 1647, 1480, 486, 1656, 887, 1320, 1019, 1613, 92, 1503, 1067, 1366, 1460, 1527, 1189, 1080, 1663, 168, 1343, 1039, 630, 425, 674, 1116, 485, 374, 525, 493, 1080, 30, 1076, 1200, 1315, 1354, 1245, 998, 1605, 1111, 888, 990, 109, 381, 489, 1661, 364, 1691, 1189, 1103, 859, 1080, 140, 407, 698, 505, 693, 1664, 779, 240, 183, 722, 865, 1584, 772, 258, 884, 507, 804, 1446, 1536, 1167, 1008, 1080, 2, 1094, 548, 994, 942, 276, 1125, 680, 619, 916, 343, 782, 939, 276, 279, 1094, 968, 1654, 1080, 34, 630, 1564, 1381, 939, 276, 279, 1080, 140, 789, 1403, 1476, 1556, 1682, 410, 578, 288, 210, 1662, 218, 974, 9, 916, 303, 1480, 1614, 311, 1686, 736, 1713, 386, 103, 965, 1039, 637, 1247, 617, 790, 637, 1247, 740, 805, 185, 316, 900, 565, 1633, 410, 1164, 208, 22, 1053, 1041, 763, 1477, 994, 1365, 1718, 1075, 979, 586, 907, 356, 289, 6, 464, 690, 1555, 468, 830, 111, 927, 1552, 501, 1119, 243, 429, 1620, 64, 752, 769, 353, 1416, 766, 724, 884, 1643, 226, 0, 226]]\n"
          ],
          "name": "stdout"
        }
      ]
    },
    {
      "cell_type": "code",
      "metadata": {
        "id": "R_lS0OI01vPb"
      },
      "source": [
        ""
      ],
      "execution_count": null,
      "outputs": []
    },
    {
      "cell_type": "code",
      "metadata": {
        "id": "xEwFY5w91kZ3"
      },
      "source": [
        ""
      ],
      "execution_count": null,
      "outputs": []
    },
    {
      "cell_type": "code",
      "metadata": {
        "id": "PwyLQcojqqRv"
      },
      "source": [
        "# The sequence length is pre-defined, you can't change this value for this exercise\n",
        "seq_length = 16\n",
        "\n",
        "# Please Complete this function\n",
        "# Hint: You should pay attention to: (1) if the sentence length > seq_length (2) [unknown]if the word not in word_index dictionary\n",
        "def encode_and_add_padding(sentences, seq_length, word_index):\n",
        "    sent_encoded = []\n",
        "    for sent in sentences:\n",
        "      temp_encoded = [word_index[word] for word in sent]\n",
        "      if len(temp_encoded) < seq_length:\n",
        "        temp_encoded += [word_index['[PAD]']] * (seq_length - len(temp_encoded))\n",
        "      sent_encoded.append(temp_encoded)\n",
        "\n",
        "    return sent_encoded\n",
        "\n",
        "train_pad_encoded = encode_and_add_padding(sentences, seq_length, word_index )\n",
        "test_pad_encoded = encode_and_add_padding(sentences, seq_length, word_index )"
      ],
      "execution_count": null,
      "outputs": []
    },
    {
      "cell_type": "code",
      "metadata": {
        "id": "oX8V21N4w5QI"
      },
      "source": [
        "171     def addSentence(self, sentence):\n",
        "172         for word in sentence.split(' '):\n",
        "173             self.addWord(word)  # 用于添加单词\n",
        "174 \n",
        "175     def addWord(self, word):\n",
        "176         if word not in self.word2index:  # 是不是新的词\n",
        "177             # 如果不在word2index里，则需要新的定义字典\n",
        "178             self.word2index[word] = self.n_words\n",
        "179             self.word2count[word] = 1\n",
        "180             self.index2word[self.n_words] = word\n",
        "181             self.n_words += 1  # 相当于每次index+1"
      ],
      "execution_count": null,
      "outputs": []
    },
    {
      "cell_type": "code",
      "metadata": {
        "id": "T7BGB9wUw7Xb"
      },
      "source": [
        ""
      ],
      "execution_count": null,
      "outputs": []
    }
  ]
}