{
  "nbformat": 4,
  "nbformat_minor": 0,
  "metadata": {
    "colab": {
      "name": "lab5.2.ipynb",
      "provenance": [],
      "collapsed_sections": [],
      "authorship_tag": "ABX9TyN3iNGVthLSnBdaetXfMiF8",
      "include_colab_link": true
    },
    "kernelspec": {
      "name": "python3",
      "display_name": "Python 3"
    },
    "language_info": {
      "name": "python"
    }
  },
  "cells": [
    {
      "cell_type": "markdown",
      "metadata": {
        "id": "view-in-github",
        "colab_type": "text"
      },
      "source": [
        "<a href=\"https://colab.research.google.com/github/Alecia113/NLP-Ex/blob/main/lab5_2.ipynb\" target=\"_parent\"><img src=\"https://colab.research.google.com/assets/colab-badge.svg\" alt=\"Open In Colab\"/></a>"
      ]
    },
    {
      "cell_type": "code",
      "metadata": {
        "id": "46maD4lZxLhA"
      },
      "source": [
        ""
      ],
      "execution_count": null,
      "outputs": []
    },
    {
      "cell_type": "code",
      "metadata": {
        "id": "jKxN3z5FPRcw"
      },
      "source": [
        "import torch\n",
        "#You can enable GPU here (cuda); or just CPU\n",
        "device = torch.device(\"cuda\" if torch.cuda.is_available() else \"cpu\") "
      ],
      "execution_count": 1,
      "outputs": []
    },
    {
      "cell_type": "code",
      "metadata": {
        "id": "zl7OaslvLuPo"
      },
      "source": [
        "# Code to download file into Colaboratory:\n",
        "!pip install -U -q PyDrive\n",
        "from pydrive.auth import GoogleAuth\n",
        "from pydrive.drive import GoogleDrive\n",
        "from google.colab import auth\n",
        "from oauth2client.client import GoogleCredentials\n",
        "# Authenticate and create the PyDrive client.\n",
        "auth.authenticate_user()\n",
        "gauth = GoogleAuth()\n",
        "gauth.credentials = GoogleCredentials.get_application_default()\n",
        "drive = GoogleDrive(gauth)\n",
        "\n",
        "id = '1gNfBqguzBu8cHKMPc8C44GbvD443dNC5'\n",
        "downloaded = drive.CreateFile({'id':id}) \n",
        "downloaded.GetContentFile('twitter.csv')  \n",
        "\n",
        "import pandas as pd\n",
        "df = pd.read_csv(\"twitter.csv\")\n",
        "df_pick = df.sample(400,random_state=24)\n",
        "\n",
        "raw_text = df_pick[\"Text\"].tolist()\n",
        "raw_label = df_pick[\"Label\"].tolist()\n",
        "\n",
        "from sklearn.model_selection import train_test_split\n",
        "text_train,text_test,label_train,label_test = train_test_split(raw_text,raw_label,test_size=0.25,random_state=42) #test_size=0.25表示取了四分之一的数据来测试模型"
      ],
      "execution_count": 2,
      "outputs": []
    },
    {
      "cell_type": "code",
      "metadata": {
        "id": "l9LggrTtLuPx"
      },
      "source": [
        "text_train = [s.lower() for s in text_train]\n",
        "text_test = [s.lower() for s in text_test]"
      ],
      "execution_count": 3,
      "outputs": []
    },
    {
      "cell_type": "code",
      "metadata": {
        "id": "ruV6_wkrxY8B"
      },
      "source": [
        "#删标点\n",
        "import re\n",
        "import pprint\n",
        "def remove_punctuation_re(x):\n",
        "    # Please complete this\n",
        "    x = re.sub(r'[^\\w\\s]', '', str(x))\n",
        "    #re.replace('\"','')\n",
        "    #re.replace('','')\n",
        "    #>>> print (re.sub(r'([^:\\n]*:[^:\\n]*\\n)\\s*:(.+)', r'\\1\\2', st))\n",
        "    return x\n",
        "    \n",
        "text_train = [remove_punctuation_re(s) for s in text_train]\n",
        "text_test = [remove_punctuation_re(s) for s in text_test]\n",
        "pprint.pprint(text_train[10:20])\n",
        "#print('-')\n",
        "#pprint.pprint(text_test[10:20])"
      ],
      "execution_count": null,
      "outputs": []
    },
    {
      "cell_type": "code",
      "metadata": {
        "id": "wh9D21_JnDyk"
      },
      "source": [
        "#要 去除了反而不行了 还是token出了问题\n",
        "\n",
        "import nltk\n",
        "nltk.download('punkt')\n",
        "from nltk.tokenize import word_tokenize, sent_tokenize\n",
        "\n",
        "\n",
        "train_tok = []\n",
        "tokenized_sentence1 =sent_tokenize(str(text_train))\n",
        "token_word1 = word_tokenize(str(tokenized_sentence1))\n",
        "train_tok.append(token_word1)\n",
        "\n",
        "pprint.pprint(train_tok)\n",
        "\n",
        "#pprint.pprint(train_tok)\n",
        "#pprint.pprint(len(train_tok)) \n",
        "#pprint.pprint(len(train_tok[0]))#5139\n",
        "\n",
        "test_tok = []\n",
        "tokenized_sentence2 =sent_tokenize(str(text_test))\n",
        "token_word2 = word_tokenize(str(tokenized_sentence2))\n",
        "test_tok.append(token_word2)\n",
        "\n",
        "#pprint.pprint(test_tok)\n",
        "#pprint.pprint(len(test_tok)) #1\n",
        "#pprint.pprint(len(test_tok[0]))#1695"
      ],
      "execution_count": null,
      "outputs": []
    },
    {
      "cell_type": "code",
      "metadata": {
        "id": "98wnepKeV0Ua"
      },
      "source": [
        "#非tweet\n",
        "nltk.download('stopwords')\n",
        "from nltk.corpus import stopwords as sw\n",
        "stop_words = sw.words()\n",
        "stop_words = sw.words() + [\"'\",'\"',',']\n",
        "text_train_ns=[]\n",
        "for tokens in train_tok:\n",
        "    filtered_sentence = [w for w in tokens if not w in stop_words]\n",
        "    text_train_ns.append(filtered_sentence)\n",
        "pprint.pprint(text_train_ns)\n",
        "\n",
        "text_test_ns=[]\n",
        "for tokens in test_tok:\n",
        "    #Please complete this\n",
        "    filtered_sentence = [w for w in tokens if not w in stop_words]\n",
        "    text_test_ns.append(filtered_sentence)\n",
        "\n",
        "#tweet的分词好像就不太行"
      ],
      "execution_count": null,
      "outputs": []
    },
    {
      "cell_type": "code",
      "metadata": {
        "id": "4lPKPkuXbW9g"
      },
      "source": [
        "#要 \n",
        "nltk.download('wordnet')\n",
        "\n",
        "from nltk.stem import WordNetLemmatizer\n",
        "\n",
        "lemmatizer = WordNetLemmatizer()\n",
        "\n",
        "text_train_le = []\n",
        "for tokens in text_train_ns:\n",
        "    lemma_sentence = [lemmatizer.lemmatize(w) for w in tokens ]\n",
        "    text_train_le.append(lemma_sentence)\n",
        "  \n",
        "pprint.pprint(text_train_le)\n",
        "\n",
        "text_test_le = []\n",
        "for tokens in text_test_ns:\n",
        "  lemma_sentence = [lemmatizer.lemmatize(w) for w in tokens]\n",
        "  text_test_le.append(lemma_sentence)\n",
        "    #Please complete this\n",
        "\n",
        "pprint.pprint(text_test_le)\n",
        "\n"
      ],
      "execution_count": null,
      "outputs": []
    },
    {
      "cell_type": "code",
      "metadata": {
        "id": "FkcRYxaZLuQQ",
        "colab": {
          "base_uri": "https://localhost:8080/"
        },
        "outputId": "9f519db3-8fee-43c4-ff86-5844c6d43392"
      },
      "source": [
        "#出来了https://blog.csdn.net/weixin_38278334/article/details/82971752?ops_request_misc=%257B%2522request%255Fid%2522%253A%2522161838894616780269822484%2522%252C%2522scm%2522%253A%252220140713.130102334..%2522%257D&request_id=161838894616780269822484&biz_id=0&utm_medium=distribute.pc_search_result.none-task-blog-2~all~baidu_landing_v2~default-1-82971752.first_rank_v2_pc_rank_v29&utm_term=fit_transform+用法\n",
        "\n",
        "import numpy as np\n",
        "\n",
        "from sklearn.preprocessing import LabelEncoder\n",
        "\n",
        "unique_labels = np.unique(label_train)    #lEnc.fit(labels)  \n",
        "\n",
        "lEnc = LabelEncoder() #一样\n",
        "# Please encode the labels (Do NOT add new lines of code in this section)\n",
        "# Hint: Try to understand the difference between fit_transform and transform\n",
        "label_train_encoded = lEnc.fit_transform(label_train)\n",
        "label_test_encoded = lEnc.fit_transform(label_test)\n",
        "\n",
        "n_class = len(unique_labels)\n",
        "print(unique_labels)\n",
        "print(lEnc.transform(unique_labels))  #label_encoded"
      ],
      "execution_count": 17,
      "outputs": [
        {
          "output_type": "stream",
          "text": [
            "['none' 'racism' 'sexism']\n",
            "[0 1 2]\n"
          ],
          "name": "stdout"
        }
      ]
    },
    {
      "cell_type": "code",
      "metadata": {
        "id": "O1V_W5PvLuQa",
        "colab": {
          "base_uri": "https://localhost:8080/"
        },
        "outputId": "6402b508-aa1a-44ef-d1dd-9d771ece7e8e"
      },
      "source": [
        "word_set = set() \n",
        "for sent in text_train_le:\n",
        "    for word in sent:\n",
        "        word_set.add(word)\n",
        "word_set.add('[PAD]')\n",
        "word_set.add('[UNKNOWN]')\n",
        "\n",
        "word_list = list(word_set) \n",
        "word_list.sort()\n",
        "print(word_list)\n",
        "\n",
        "word_index = {}\n",
        "ind = 0\n",
        "for word in word_list:\n",
        "    word_index[word] = ind\n",
        "    ind += 1\n",
        "print(word_index)\n",
        "\n",
        "\n",
        "#'\""
      ],
      "execution_count": 18,
      "outputs": [
        {
          "output_type": "stream",
          "text": [
            "[\"''\", \"'0xjared\", \"'17\", \"'absolutely\", \"'after\", \"'alihadi68\", \"'amberhasalamb\", \"'amohedin\", \"'anasmechch\", \"'and\", \"'antizholim\", \"'arab_fury\", \"'argh\", \"'argonblue\", \"'asem_1994\", \"'at\", \"'bahai144\", \"'benkuchera\", \"'bhamdailynews\", \"'biebervalue\", \"'blackopal80\", \"'bristolben\", \"'bruciebabe\", \"'burcucekmece\", \"'but\", \"'buttercupashby\", \"'can\", \"'celine\", \"'cemcfarland\", \"'channel7\", \"'christophheer52\", \"'chuckpfarrer\", \"'colin\", \"'come\", \"'cringing\", \"'curious\", \"'damnitscloudy\", \"'dankmtl\", \"'darchmare\", \"'darrenkopp\", \"'desertfox899\", \"'dianh4\", \"'did\", \"'directhex\", \"'discerningmumin\", \"'do\", \"'doammuslims\", \"'dont\", \"'edgeofthesandbx\", \"'eloisepeace\", \"'even\", \"'exposefalsehood\", \"'f3ew\", \"'farbenstau\", \"'finalbroadcast\", \"'floss\", \"'foodie_ben\", \"'freebsdglri\", \"'fuck\", \"'gbabeuf\", \"'glennf\", \"'go\", \"'goosenetworkusa\", \"'halalflaws\", \"'haroonstyles\", \"'having\", \"'hdmovieus\", \"'how\", \"'howtogetawaywithmurder\", \"'httptcofdylhlkdcv\", \"'httptcoltoxypkwww\", \"'httptcozjbwagvnrg\", \"'i\", \"'if\", \"'ilivundrurbed\", \"'im\", \"'important\", \"'is\", \"'it\", \"'jihadi_11\", \"'johnnyrejection\", \"'just\", \"'justdavidvideos\", \"'kaitlynburnell\", \"'kamaluf\", \"'kat\", \"'kim\", \"'lactualaloupe\", \"'ldstarr18\", \"'lemon\", \"'lessons\", \"'lithobolos\", \"'love\", \"'lucaswj\", \"'lynnemcgranger\", \"'madasahatter_17\", \"'mattstratton\", \"'maxblumenthal\", \"'meatgirls\", \"'mechasauce\", \"'mikeage\", \"'misfitinchains\", \"'mistertodd\", \"'mkr\", \"'mmmm\", \"'most\", \"'muslim\", \"'muslimtwo\", \"'myersnfl\", \"'mykitchenrules\", \"'nader_haq\", \"'neilasaurus\", \"'new_babylonia\", \"'no\", \"'nomcookiesnom\", \"'not\", \"'notchrissmith\", \"'nscottg\", \"'obsurfer84\", \"'oh\", \"'out\", \"'owais00\", \"'p8952_\", \"'pardusxy\", \"'peerworker\", \"'pnibbler\", \"'politicalant\", \"'possibly\", \"'pretty\", \"'promo\", \"'proudpatriot101\", \"'psychbarakat\", \"'r\", \"'randomhero30\", \"'raniakhalek\", \"'rape\", \"'rayyoosheh\", \"'realryansipple\", \"'rennie93\", \"'reza_rahman\", \"'rt\", \"'rudawenglish\", \"'saifullah666\", \"'salon\", \"'saltnburnem\", \"'samkitsengupta\", \"'semzyxx\", \"'seriously\", \"'sevilzadeh\", \"'shermertron\", \"'slagkick\", \"'so\", \"'sorry\", \"'spacequeentbh\", \"'sumersloan\", \"'swiftonsecurity\", \"'tarah\", \"'that\", \"'the\", \"'thedoubleclicks\", \"'thegeek_chick\", \"'their\", \"'thelindsayellis\", \"'thelmasleaze\", \"'themirai\", \"'these\", \"'they\", \"'things\", \"'this\", \"'those\", \"'tobyrobertbull\", \"'toodles\", \"'transic_nyc\", \"'truaemusic\", \"'uplay\", \"'vandaliser\", \"'venomous9\", \"'vex0rian\", \"'warriorsialkot\", \"'watan71969\", \"'watch\", \"'we\", \"'wetsprocket\", \"'what\", \"'who\", \"'witch_sniffer\", \"'with\", \"'wow\", \"'yeah\", \"'yes\", \"'you\", \"'your\", \"'yousufpoosuf\", \"'yum\", '0', '06jank', '1', '11', '12', '14', '1400', '15', '17', '1shadeofritch', '2', '2027279099', '22000', '2ndbestidiot', '3', '3outof10', '4', '44', '47', '4x', '5', '6', '7', '80', '800', '90', '911', '98halima', '99', '[', '[PAD]', '[UNKNOWN]', ']', '__chris33__', '_marisajane', '``', 'abducted', 'abdul_a95', 'aberration', 'ability', 'ablahad', 'able', 'absolutely', 'abuse', 'ac360', 'accept', 'acceptable', 'accepted', 'accessorizing', 'account', 'achieve', 'across', 'actoractress', 'actually', 'adjective', 'admits', 'adult', 'afar', 'afraid', 'ago', 'agree', 'ahahahaha', 'air', 'airstrikes', 'aisle', 'ajwatamr', 'akheemv', 'aledthomas22', 'alihashem_tv', 'alive', 'all_hailcaesar', 'allegedly', 'allstatejackie', 'ally', 'along', 'already', 'alternet', 'amaze', 'amazing', 'amazingly', 'ameliagreenhall', 'american', 'amp', 'amymek', 'andcamping', 'andre', 'angelemichelle', 'anitaingle', 'annoying', 'another', 'answer', 'anti', 'antiharassment', 'anyone', 'anything', 'apartheid', 'arabic', 'arabthomness', 'archangel_dux', 'arena', 'argument', 'armedyoure', 'armenian', 'armpit', 'army', 'arquette', 'article', 'asad', 'ask', 'asked', 'askgoog', 'askhermore', 'asshole', 'astounding', 'athlete', 'attack', 'attacked', 'attacking', 'attracted', 'attractive', 'attributing', 'attrocities', 'auntysoapbox', 'australia', 'away', 'awful', 'awkward', 'awww', 'b', 'babbling', 'back', 'backing', 'backwards', 'bad', 'bag', 'baghdad', 'bamboozled', 'banter', 'barackobama', 'basically', 'bastendorfgames', 'batchelorshow', 'bcz', 'beadsland', 'beat', 'beautiful', 'beautifula', 'beavis', 'beckles', 'begun', 'behaving', 'behead', 'behind', 'belief', 'believe', 'best', 'better', 'beyond', 'bgs', 'biebervalue', 'big', 'bigot', 'bigotry', 'bigtime', 'bilalighumman', 'bill', 'bimbo', 'bimbolines', 'bit', 'bitch', 'bixs', 'blabber', 'block', 'blocked', 'bloke', 'blonde', 'blondemoment', 'blow', 'blumenthal', 'body', 'book', 'booted', 'boring', 'bos', 'bottle', 'bought', 'bout', 'bowl', 'boy', 'bq281473', 'breakfast', 'brekky', 'bringing', 'british', 'broke', 'bronny25', 'bruh', 'brushyblues', 'bsilverstrim77', 'budlightbro', 'built', 'bullied', 'burn', 'burning', 'burqua', 'bus', 'business', 'buttercupashby', 'butthead', 'button', 'buying', 'c2e2', 'call', 'cambrian_man', 'campagnebds', 'canned', 'cant', 'captive', 'car', 'card', 'case', 'cashing', 'castrating', 'catwalk', 'cause', 'caved', 'ccot', 'cdnkhadija', 'celebrating', 'celine', 'century', 'challenge', 'chance', 'change', 'changed', 'changing', 'channel', 'channel7', 'chaos', 'character', 'cheeseplus', 'chef', 'cheney', 'chicken', 'child', 'chloeandkelly', 'choice', 'christ', 'christian', 'christiansyazidis', 'christmas', 'chriswarcraft', 'chuck', 'chuckle', 'churner', 'cia', 'cityofmandurah', 'civilian', 'cjsajulga', 'claim', 'claiming', 'clarify', 'clearly', 'close', 'colin', 'colins', 'colonelkickhead', 'come', 'comedian', 'coming', 'comment', 'committed', 'compensation', 'competition', 'complains', 'completely', 'compromise', 'concerned', 'conclusion', 'conducting', 'configuration', 'confuse', 'conserv_miss', 'consider', 'conspiracy', 'constant', 'constantly', 'constructed', 'content', 'contradicted', 'contributing', 'cook', 'cooked', 'cooking', 'cordial', 'cornflakes', 'could', 'country', 'couple', 'court', 'coworkers', 'coz', 'crabfest15', 'crap', 'crash', 'created', 'creates', 'creating', 'credibility', 'cretin', 'critiquing', 'culture', 'cunt', 'cup', 'curd', 'curious', 'customer', 'cut', 'cuz', 'cytheria', 'd20', 'daesh', 'damn', 'danhickey2199', 'danis', 'data', 'dave', 'davidjo52951945', 'davidsgallant', 'dc', 'dead', 'deal', 'death', 'declared', 'deconstruct', 'deconstructing', 'deduction', 'defend', 'definitely', 'delicate', 'demanded', 'dentist', 'describes', 'desire', 'desk', 'desperately', 'dessert', 'destined', 'destroys', 'deusexjuice', 'devops', 'dick', 'dictatorship', 'didazahra', 'didnt', 'difference', 'different', 'direct', 'direction', 'directly', 'discrimination', 'disgrace', 'disgusted', 'disgusting', 'dish', 'disheartened', 'disturbing', 'divisiveness', 'dkim', 'doctor', 'doesnt', 'dogging', 'doh', 'dolly', 'domestic', 'done', 'dont', 'double', 'draskos', 'drdisco_', 'dream', 'dreamer', 'dreaminpng', 'drive', 'drivemaneuveroperate', 'driver', 'driving', 'dropped', 'dry', 'dubhe80', 'duckiemcphee', 'dude', 'due', 'dumb', 'dumbest', 'dummy', 'dye', 'dying', 'ear', 'earth', 'easier', 'easy', 'eat', 'ebola', 'ebooks', 'economics', 'econtried', 'edible', 'efficient', 'effort', 'egypt', 'egyptian', 'either', 'else', 'email', 'emilie', 'empty', 'endless', 'enemy', 'engaging', 'enough', 'enslaved', 'entertaining', 'entree', 'ep', 'episode', 'equal', 'equalpay', 'espn', 'eternity', 'etsho127', 'evacuated', 'evans', 'even', 'eventually', 'ever', 'every', 'everyone', 'everything', 'evidence', 'evilsunbro', 'ew', 'except', 'excited', 'excuse', 'executed', 'expect', 'expedition', 'expertise', 'explain', 'explained', 'expression', 'exterminate', 'extreme', 'eye', 'eyesmkr', 'ezidi', 'ezidipress', 'ezidis', 'face', 'faced', 'fact', 'faded', 'fail', 'fair', 'fan', 'fanatic', 'fascist', 'fat', 'feardept', 'feel', 'feeling', 'female', 'femfreefriday', 'feminism', 'feminist', 'fetch', 'fetish', 'fewer', 'fight', 'fighting', 'filthy', 'finally', 'find', 'fine', 'finger', 'first', 'flip', 'flying', 'folk', 'followed', 'food', 'foot', 'forbidden', 'force', 'forced', 'ford', 'form', 'formula', 'fought', 'foxnews', 'foxnewspolitics', 'free', 'freebsd', 'freebsdgirl', 'freedom', 'freezer', 'fried', 'friend', 'fuck', 'fucking', 'fucktards', 'fun', 'funding', 'fyoudbag', 'gailsimone', 'gal', 'game', 'gamergate', 'gangraped', 'gap', 'garbage', 'garydlum', 'gaters', 'gatery', 'gator', 'gbazov', 'gel', 'genius', 'genocide', 'get', 'getting', 'gg', 'ggautoblocker', 'ggreenwald', 'gilmore', 'girl', 'girlziplocked', 'give', 'given', 'giving', 'glad', 'glhf', 'glove', 'go', 'god', 'going', 'gon', 'gone', 'good', 'goodluck', 'gosh', 'got', 'govt', 'grafana', 'grahamdavida', 'great', 'greater', 'greenlinerzjm', 'grin', 'gross', 'ground', 'group', 'grow', 'grown', 'guardian', 'gueensland', 'guess', 'guilt', 'gulf', 'gumboots', 'guy', 'hadith', 'haha', 'hair', 'halalflaws', 'hamas', 'hand', 'handle', 'happen', 'happened', 'happens', 'happy', 'happycampers', 'harassed', 'harassment', 'haroonstyles', 'harshly', 'hate', 'hated', 'hatefilled', 'hating', 'hatred', 'havent', 'hawaiinshirts', 'hayles_comet', 'he', 'head', 'heart', 'hell', 'hello', 'help', 'helping', 'here', 'hide', 'hilarious', 'himat', 'hit', 'hitler', 'hockey', 'holder', 'home', 'homophobe', 'honestly', 'hope', 'hoping', 'hostage', 'however', 'hows', 'ht', 'http', 'httpstco6kgw1lejfr', 'httpstcoum5svjgazu', 'httpstcoxufwsigxfk', 'httpt', 'httptco', 'httptco1pl9gqrdp7', 'httptco4u', 'httptco5vsf5jroi6', 'httptco8xldnwbvzx', 'httptcobwr6ap0ooo', 'httptcocaxxus108l', 'httptcocbcr9u4fc9', 'httptcodajgdn1wy3', 'httptcoddecobanzx', 'httptcoganrh4k87a', 'httptcogbvojnmbcv', 'httptcoglncgkuukp', 'httptcoh8f7n04q5o', 'httptcom4jcka5ir0', 'httptcom5j2tpksm5', 'httptcomdb4iu9whd', 'httptcomxuw3hz4tb', 'httptconleyqfnkyp', 'httptcontojwo4lnt', 'httptcoocsy7crghf', 'httptcopfs5zlkt07', 'httptcopnhzjrhhqr', 'httptcoq95ei17sua', 'httptcoqaa6bwi4pm', 'httptcoqmdsdtfvya', 'httptcoqv', 'httptcorbthvmh9jj', 'httptcospmvzcjj6o', 'httptcot65iytpvdk', 'httptcotfsodcowbx', 'httptcoumkitlb5h9', 'httptcouq19q6pnaq', 'httptcovanp6y7clr', 'httptcowhy3a8o33z', 'httptcoyspbfitztb', 'hugged', 'human', 'humanistfury', 'humanity', 'hungrycampers', 'hw', 'hypatiadotca', 'hypocrite', 'ice', 'id', 'idea', 'ideaology', 'ideaor', 'ideology', 'idiot', 'idiotim', 'idontneedfeminism', 'ied', 'ignorance', 'ignorant', 'ignoring', 'ihatethiskid', 'illegal', 'ilovebreakfast', 'iloveobama', 'imagine', 'imperialism', 'implies', 'info', 'information', 'input', 'instant', 'instead', 'insufferable', 'insulted', 'insulting', 'integration', 'intel', 'interact', 'interest', 'interesting', 'international', 'internet', 'intersection', 'intolerance', 'invented', 'iraq', 'iron', 'isi', 'isisutterly', 'islam', 'islamdefense', 'islamic', 'islamist', 'isnt', 'israel', 'israeliregime', 'issue', 'itll', 'itsbariecool', 'itsfact', 'ive', 'ivyexec', 'izrinhariri', 'jac', 'jealous', 'jeffreygoldberg', 'jennykutner', 'jeremiahfelt', 'jew', 'jhamby', 'jihadis', 'jimcramer', 'jncatron', 'job', 'johncantile', 'johnnygjokaj', 'joke', 'journalist', 'judge', 'juliet777777', 'justhonest', 'justkelly_ok', 'kardashian', 'kat', 'katampandre', 'katandandre', 'katie', 'katieandnikki', 'keep', 'keyboard', 'keynote', 'kid', 'kidding', 'kill', 'killa', 'killed', 'killerblondes', 'killing', 'kind', 'kirkuk', 'kmactane', 'knew', 'know', 'knowingly', 'kobane', 'kuffir', 'kurd', 'kurdish', 'lad', 'lady', 'lajouetreine', 'large', 'last', 'latest', 'laugh', 'launcher', 'law', 'lazy', 'lb', 'le', 'lead', 'leaning', 'led', 'left', 'legitimately', 'lemon', 'lesson', 'letting', 'level', 'liar', 'liberate', 'libya', 'license', 'licking', 'lie', 'lied', 'life', 'light', 'like', 'likely', 'lilbeastunleash', 'lime', 'line', 'link', 'lipstick', 'lisamromano', 'lissasauras', 'listen', 'lithobolos', 'little', 'live', 'liver', 'lol', 'long', 'loo', 'look', 'looked', 'looking', 'lose', 'loser', 'lost', 'lot', 'love', 'low', 'lt3', 'luck', 'lunatic', 'm_m_myers', 'maajidnawaz', 'mad', 'madasahatter_17', 'maddr11', 'made', 'magazine', 'magnus919', 'maja_stina', 'major', 'majority', 'make', 'making', 'mami_mermelada', 'man', 'manbabies', 'manu', 'manure', 'many', 'map', 'marc_leibowitz', 'market', 'markimbriaco', 'maroon', 'marriage', 'married', 'masontillidie', 'math', 'matter', 'mattybboi83', 'maxblumenthal', 'maxcaras', 'may', 'maybe', 'mccheesy904', 'mean', 'meaning', 'meatball', 'medium', 'meh', 'mehdirhasan', 'mellym09', 'melting', 'mention', 'menu', 'messed', 'microbrain', 'middle', 'military', 'militia', 'minasmith64', 'minister', 'minority', 'miskelayla', 'miss', 'missed', 'missing', 'mkr', 'mkr2015', 'mkrkat', 'mmmm', 'model', 'moderate', 'modern', 'mohammed', 'monday', 'month', 'moron', 'mosul', 'mouth', 'moving', 'much', 'mugnezee', 'multiple', 'murde', 'murder', 'murdered', 'murtaza', 'muslim', 'mutilated', 'mykitchenrules', 'mystrongstate', 'naga', 'nainfidels', 'naminglisting', 'narîn', 'nasty', 'naturally', 'nazi', 'near', 'necessarily', 'need', 'needarethinkinformat', 'negated', 'negotiate', 'never', 'new', 'newscoverup', 'next', 'nice', 'nigelbigmeech', 'night', 'nikki', 'nobody', 'noise', 'none', 'nooo', 'nope', 'note', 'nothing', 'notsexist', 'novorossiyan', 'number', 'number10gov', 'nytimes', 'obamacare', 'obamas', 'obviously', 'occasion', 'offense', 'offensive', 'offering', 'oh', 'oil', 'oktar', 'old', 'oldgfatherclock', 'one', 'open', 'opener', 'opinion', 'opponent', 'opposed', 'optional', 'oreilly', 'org', 'origin', 'others', 'outside', 'overweight', 'p', 'page', 'painful', 'pakistan', 'paknsave', 'palestine', 'pancake', 'paraketa', 'parent', 'paris', 'participate', 'passport', 'past', 'pastor', 'patrickosgood', 'pawarnhoff', 'pay', 'paying', 'pc', 'peace', 'peacenothate_', 'pedophile', 'pedophilia', 'penalty', 'people', 'peopleschoice', 'perfect', 'period', 'perk', 'perl', 'personality', 'pervious', 'peymaneh123', 'phxken', 'pie', 'piece', 'pile', 'pilgars', 'pilot', 'pissing', 'pjnet', 'plane', 'planning', 'playing', 'playstations', 'please', 'pleasing', 'point', 'pole', 'police', 'political', 'politicalant', 'politics_pr', 'poor', 'poorly', 'population', 'portland', 'possible', 'post', 'posting', 'power', 'present', 'pressure', 'pretend', 'pretty', 'previous', 'price', 'prime', 'prisonersofwar', 'pro', 'probably', 'problem', 'problematic', 'producer', 'production', 'profile', 'project', 'promise', 'promo', 'promogirls', 'promoted', 'proof', 'propaganda', 'prophet', 'prospect', 'protecting', 'prove', 'provide', 'provision', 'psog', 'psogeco', 'public', 'punch', 'purse', 'put', 'question', 'questionsformen', 'quietly', 'quit', 'quite', 'quran', 'r', 'race', 'racist', 'raised', 'random', 'ransom', 'rape', 'raped', 'rapper', 'rapperguydmv', 'raqqa', 'raqqa_sl', 'rate', 'rather', 'ratio', 'ravenhuwolf', 'raw', 'react', 'read', 'readable', 'real', 'really', 'realtalk', 'reason', 'reasonably', 'rebel', 'recall', 'reckless', 'recognize', 'recommends', 'record', 'recruit', 'recuperate', 'redux', 'reevaluate', 'reference', 'referring', 'refine', 'regarding', 'regulation', 'rejected', 'relationship', 'release', 'religion', 'religious', 'relisha', 'reload', 'remember', 'reminded', 'rennie93', 'repeatedly', 'repetition', 'replacement', 'report', 'reputation', 'request', 'resorting', 'respond', 'restaurant', 'retreat', 'revolting', 'rigged', 'right', 'rinehart33', 'rip', 'rjennromao', 'rkhayer', 'rkinglive2dance', 'rob', 'robbed', 'robert', 'robinriedstra', 'roll', 'roof', 'room', 'rooshv', 'rose', 'rotherham', 'rougek68', 'round', 'routinely', 'rt', 'rts', 'rudawenglish', 'rudd', 'rude', 'rudoren', 'ruin', 'run', 'running', 'russian', 'said', 'sajid_fairooz', 'sake', 'salmon', 'salon', 'salty', 'santa', 'sarah_jane666', 'sas', 'satire', 'saudi', 'sausage', 'save', 'saw', 'say', 'scared', 'schmeezi', 'school', 'score', 'scratch', 'screencaps', 'script', 'scripted', 'scroll', 'scum', 'season', 'see', 'seen', 'segment', 'self', 'selfies', 'selling', 'sellout', 'semite', 'semzyxx', 'sensitive', 'sent', 'serious', 'serlasco', 'serve', 'served', 'service', 'serving', 'set', 'setup', 'sex', 'sexhonest', 'sexism', 'sexist', 'sexually', 'shami_is_back', 'shaz', 'shell', 'sherri', 'shia', 'shingal', 'shirt', 'shit', 'shoe0nhead', 'short', 'shovel', 'show', 'shower', 'shred', 'shut', 'sick', 'side', 'sighhhh', 'simpson', 'since', 'singer', 'sinjar', 'sirgoldenrod', 'six', 'skank', 'slap', 'slave', 'slaved', 'sleep', 'sleeping', 'slide', 'slightly', 'sloshedtrain2', 'slow', 'smack', 'smackem', 'small', 'smarter', 'smash', 'sold', 'soldier', 'someone', 'something', 'sometimes', 'somewhat', 'soon', 'sorbent', 'sorbet', 'sorry', 'sorrynotsorry', 'sound', 'source', 'space', 'spacekatgal', 'spam', 'spatchcock', 'speak', 'speaking', 'speech', 'spiritual', 'spoiled', 'sport', 'sports2inflatio', 'sputnik', 'srhbutts', 'stalin', 'stand', 'standard', 'standing', 'starius', 'started', 'starting', 'state', 'statistic', 'stats', 'stay', 'stayed', 'staying', 'step', 'steve', 'stiff', 'still', 'stood', 'stop', 'stopping', 'stopwadhwa2015', 'story', 'strategically', 'streaming', 'stretch', 'strike', 'strong', 'struggle', 'student', 'stuff', 'stupid', 'stylist', 'subject', 'subtle', 'success', 'suck', 'sudixitca', 'suicide', 'super', 'superior', 'support', 'supported', 'sure', 'surgery', 'swallow', 'switching', 'syazlicious', 'syria', 'systemic', 'tacky', 'taken', 'taking', 'tal', 'taliban', 'talk', 'talladega', 'taqiyya', 'tart', 'tasteless', 'tatibresolin', 'tbh', 'tbielawa', 'tcot', 'teach', 'teaching', 'team', 'tell', 'telling', 'tempting', 'terrible', 'terror', 'terrorism', 'terrorist', 'testicle', 'texasarlington', 'thanks', 'thatll', 'thats', 'theckman', 'thegoodguysau', 'themselvespffft', 'themuslimguy', 'thequinnspiracy', 'there', 'theyre', 'thing', 'think', 'thinking', 'third', 'thought', 'threw', 'throw', 'tied', 'tim', 'time', 'timespan', 'tiny', 'tip', 'tnr', 'today', 'todayreal', 'told', 'tolerate', 'tomato', 'tonight', 'tool', 'top', 'total', 'train', 'translator', 'treating', 'trend', 'tried', 'tripple', 'trolley', 'troop', 'trophy', 'truly', 'try', 'trying', 'turf', 'turk', 'tv', 'tw', 'tweet', 'twist', 'twista202', 'twitter', 'two', 'typed', 'typically', 'typo', 'u', 'ugly', 'ukraine', 'ukrainian', 'ultrafundamentalist', 'unacceptable', 'unapologetic', 'unashamed', 'uncalled', 'understand', 'understands', 'unfair', 'uninvolved', 'university', 'update', 'upon', 'use', 'user', 'username', 'usually', 'valenti', 'value', 'vc', 'vcs', 'venereveritas13', 'versa', 'verse', 'via', 'vice', 'victim', 'victorymonk', 'video', 'videobeautiful', 'violence', 'voice', 'vonta624', 'vote', 'voted', 'w', 'wadhwa', 'wait', 'waiting', 'wakeuplibsgtjoenbc', 'walk', 'wan', 'wanted', 'washed', 'washingtonpost', 'wasnt', 'watched', 'watching', 'way', 'week', 'weekly', 'well', 'went', 'werent', 'west', 'western', 'wheat', 'wheel', 'whereisyourdignity', 'whether', 'whiny', 'white', 'whiteblack', 'whitening', 'whole', 'wi', 'wife', 'win', 'wing', 'wish', 'without', 'witty', 'wizardryofozil', 'wks', 'wnba', 'wnyc', 'wocracial', 'woman', 'womenagainstfeminism', 'womeninterpret', 'word', 'work', 'worker', 'working', 'worse', 'worst', 'would', 'wouldnt', 'wouldve', 'wow', 'wrecking', 'write', 'writer', 'writing', 'wrong', 'xmjee', 'yall', 'yawn', 'yeah', 'year', 'yes', 'yesallwomen', 'yesyouresexist', 'yet', 'yield', 'youd', 'youll', 'young', 'youre', 'youtube', 'ypg', 'zaibatsunews', 'zene55', 'zero', 'zython86']\n",
            "{\"''\": 0, \"'0xjared\": 1, \"'17\": 2, \"'absolutely\": 3, \"'after\": 4, \"'alihadi68\": 5, \"'amberhasalamb\": 6, \"'amohedin\": 7, \"'anasmechch\": 8, \"'and\": 9, \"'antizholim\": 10, \"'arab_fury\": 11, \"'argh\": 12, \"'argonblue\": 13, \"'asem_1994\": 14, \"'at\": 15, \"'bahai144\": 16, \"'benkuchera\": 17, \"'bhamdailynews\": 18, \"'biebervalue\": 19, \"'blackopal80\": 20, \"'bristolben\": 21, \"'bruciebabe\": 22, \"'burcucekmece\": 23, \"'but\": 24, \"'buttercupashby\": 25, \"'can\": 26, \"'celine\": 27, \"'cemcfarland\": 28, \"'channel7\": 29, \"'christophheer52\": 30, \"'chuckpfarrer\": 31, \"'colin\": 32, \"'come\": 33, \"'cringing\": 34, \"'curious\": 35, \"'damnitscloudy\": 36, \"'dankmtl\": 37, \"'darchmare\": 38, \"'darrenkopp\": 39, \"'desertfox899\": 40, \"'dianh4\": 41, \"'did\": 42, \"'directhex\": 43, \"'discerningmumin\": 44, \"'do\": 45, \"'doammuslims\": 46, \"'dont\": 47, \"'edgeofthesandbx\": 48, \"'eloisepeace\": 49, \"'even\": 50, \"'exposefalsehood\": 51, \"'f3ew\": 52, \"'farbenstau\": 53, \"'finalbroadcast\": 54, \"'floss\": 55, \"'foodie_ben\": 56, \"'freebsdglri\": 57, \"'fuck\": 58, \"'gbabeuf\": 59, \"'glennf\": 60, \"'go\": 61, \"'goosenetworkusa\": 62, \"'halalflaws\": 63, \"'haroonstyles\": 64, \"'having\": 65, \"'hdmovieus\": 66, \"'how\": 67, \"'howtogetawaywithmurder\": 68, \"'httptcofdylhlkdcv\": 69, \"'httptcoltoxypkwww\": 70, \"'httptcozjbwagvnrg\": 71, \"'i\": 72, \"'if\": 73, \"'ilivundrurbed\": 74, \"'im\": 75, \"'important\": 76, \"'is\": 77, \"'it\": 78, \"'jihadi_11\": 79, \"'johnnyrejection\": 80, \"'just\": 81, \"'justdavidvideos\": 82, \"'kaitlynburnell\": 83, \"'kamaluf\": 84, \"'kat\": 85, \"'kim\": 86, \"'lactualaloupe\": 87, \"'ldstarr18\": 88, \"'lemon\": 89, \"'lessons\": 90, \"'lithobolos\": 91, \"'love\": 92, \"'lucaswj\": 93, \"'lynnemcgranger\": 94, \"'madasahatter_17\": 95, \"'mattstratton\": 96, \"'maxblumenthal\": 97, \"'meatgirls\": 98, \"'mechasauce\": 99, \"'mikeage\": 100, \"'misfitinchains\": 101, \"'mistertodd\": 102, \"'mkr\": 103, \"'mmmm\": 104, \"'most\": 105, \"'muslim\": 106, \"'muslimtwo\": 107, \"'myersnfl\": 108, \"'mykitchenrules\": 109, \"'nader_haq\": 110, \"'neilasaurus\": 111, \"'new_babylonia\": 112, \"'no\": 113, \"'nomcookiesnom\": 114, \"'not\": 115, \"'notchrissmith\": 116, \"'nscottg\": 117, \"'obsurfer84\": 118, \"'oh\": 119, \"'out\": 120, \"'owais00\": 121, \"'p8952_\": 122, \"'pardusxy\": 123, \"'peerworker\": 124, \"'pnibbler\": 125, \"'politicalant\": 126, \"'possibly\": 127, \"'pretty\": 128, \"'promo\": 129, \"'proudpatriot101\": 130, \"'psychbarakat\": 131, \"'r\": 132, \"'randomhero30\": 133, \"'raniakhalek\": 134, \"'rape\": 135, \"'rayyoosheh\": 136, \"'realryansipple\": 137, \"'rennie93\": 138, \"'reza_rahman\": 139, \"'rt\": 140, \"'rudawenglish\": 141, \"'saifullah666\": 142, \"'salon\": 143, \"'saltnburnem\": 144, \"'samkitsengupta\": 145, \"'semzyxx\": 146, \"'seriously\": 147, \"'sevilzadeh\": 148, \"'shermertron\": 149, \"'slagkick\": 150, \"'so\": 151, \"'sorry\": 152, \"'spacequeentbh\": 153, \"'sumersloan\": 154, \"'swiftonsecurity\": 155, \"'tarah\": 156, \"'that\": 157, \"'the\": 158, \"'thedoubleclicks\": 159, \"'thegeek_chick\": 160, \"'their\": 161, \"'thelindsayellis\": 162, \"'thelmasleaze\": 163, \"'themirai\": 164, \"'these\": 165, \"'they\": 166, \"'things\": 167, \"'this\": 168, \"'those\": 169, \"'tobyrobertbull\": 170, \"'toodles\": 171, \"'transic_nyc\": 172, \"'truaemusic\": 173, \"'uplay\": 174, \"'vandaliser\": 175, \"'venomous9\": 176, \"'vex0rian\": 177, \"'warriorsialkot\": 178, \"'watan71969\": 179, \"'watch\": 180, \"'we\": 181, \"'wetsprocket\": 182, \"'what\": 183, \"'who\": 184, \"'witch_sniffer\": 185, \"'with\": 186, \"'wow\": 187, \"'yeah\": 188, \"'yes\": 189, \"'you\": 190, \"'your\": 191, \"'yousufpoosuf\": 192, \"'yum\": 193, '0': 194, '06jank': 195, '1': 196, '11': 197, '12': 198, '14': 199, '1400': 200, '15': 201, '17': 202, '1shadeofritch': 203, '2': 204, '2027279099': 205, '22000': 206, '2ndbestidiot': 207, '3': 208, '3outof10': 209, '4': 210, '44': 211, '47': 212, '4x': 213, '5': 214, '6': 215, '7': 216, '80': 217, '800': 218, '90': 219, '911': 220, '98halima': 221, '99': 222, '[': 223, '[PAD]': 224, '[UNKNOWN]': 225, ']': 226, '__chris33__': 227, '_marisajane': 228, '``': 229, 'abducted': 230, 'abdul_a95': 231, 'aberration': 232, 'ability': 233, 'ablahad': 234, 'able': 235, 'absolutely': 236, 'abuse': 237, 'ac360': 238, 'accept': 239, 'acceptable': 240, 'accepted': 241, 'accessorizing': 242, 'account': 243, 'achieve': 244, 'across': 245, 'actoractress': 246, 'actually': 247, 'adjective': 248, 'admits': 249, 'adult': 250, 'afar': 251, 'afraid': 252, 'ago': 253, 'agree': 254, 'ahahahaha': 255, 'air': 256, 'airstrikes': 257, 'aisle': 258, 'ajwatamr': 259, 'akheemv': 260, 'aledthomas22': 261, 'alihashem_tv': 262, 'alive': 263, 'all_hailcaesar': 264, 'allegedly': 265, 'allstatejackie': 266, 'ally': 267, 'along': 268, 'already': 269, 'alternet': 270, 'amaze': 271, 'amazing': 272, 'amazingly': 273, 'ameliagreenhall': 274, 'american': 275, 'amp': 276, 'amymek': 277, 'andcamping': 278, 'andre': 279, 'angelemichelle': 280, 'anitaingle': 281, 'annoying': 282, 'another': 283, 'answer': 284, 'anti': 285, 'antiharassment': 286, 'anyone': 287, 'anything': 288, 'apartheid': 289, 'arabic': 290, 'arabthomness': 291, 'archangel_dux': 292, 'arena': 293, 'argument': 294, 'armedyoure': 295, 'armenian': 296, 'armpit': 297, 'army': 298, 'arquette': 299, 'article': 300, 'asad': 301, 'ask': 302, 'asked': 303, 'askgoog': 304, 'askhermore': 305, 'asshole': 306, 'astounding': 307, 'athlete': 308, 'attack': 309, 'attacked': 310, 'attacking': 311, 'attracted': 312, 'attractive': 313, 'attributing': 314, 'attrocities': 315, 'auntysoapbox': 316, 'australia': 317, 'away': 318, 'awful': 319, 'awkward': 320, 'awww': 321, 'b': 322, 'babbling': 323, 'back': 324, 'backing': 325, 'backwards': 326, 'bad': 327, 'bag': 328, 'baghdad': 329, 'bamboozled': 330, 'banter': 331, 'barackobama': 332, 'basically': 333, 'bastendorfgames': 334, 'batchelorshow': 335, 'bcz': 336, 'beadsland': 337, 'beat': 338, 'beautiful': 339, 'beautifula': 340, 'beavis': 341, 'beckles': 342, 'begun': 343, 'behaving': 344, 'behead': 345, 'behind': 346, 'belief': 347, 'believe': 348, 'best': 349, 'better': 350, 'beyond': 351, 'bgs': 352, 'biebervalue': 353, 'big': 354, 'bigot': 355, 'bigotry': 356, 'bigtime': 357, 'bilalighumman': 358, 'bill': 359, 'bimbo': 360, 'bimbolines': 361, 'bit': 362, 'bitch': 363, 'bixs': 364, 'blabber': 365, 'block': 366, 'blocked': 367, 'bloke': 368, 'blonde': 369, 'blondemoment': 370, 'blow': 371, 'blumenthal': 372, 'body': 373, 'book': 374, 'booted': 375, 'boring': 376, 'bos': 377, 'bottle': 378, 'bought': 379, 'bout': 380, 'bowl': 381, 'boy': 382, 'bq281473': 383, 'breakfast': 384, 'brekky': 385, 'bringing': 386, 'british': 387, 'broke': 388, 'bronny25': 389, 'bruh': 390, 'brushyblues': 391, 'bsilverstrim77': 392, 'budlightbro': 393, 'built': 394, 'bullied': 395, 'burn': 396, 'burning': 397, 'burqua': 398, 'bus': 399, 'business': 400, 'buttercupashby': 401, 'butthead': 402, 'button': 403, 'buying': 404, 'c2e2': 405, 'call': 406, 'cambrian_man': 407, 'campagnebds': 408, 'canned': 409, 'cant': 410, 'captive': 411, 'car': 412, 'card': 413, 'case': 414, 'cashing': 415, 'castrating': 416, 'catwalk': 417, 'cause': 418, 'caved': 419, 'ccot': 420, 'cdnkhadija': 421, 'celebrating': 422, 'celine': 423, 'century': 424, 'challenge': 425, 'chance': 426, 'change': 427, 'changed': 428, 'changing': 429, 'channel': 430, 'channel7': 431, 'chaos': 432, 'character': 433, 'cheeseplus': 434, 'chef': 435, 'cheney': 436, 'chicken': 437, 'child': 438, 'chloeandkelly': 439, 'choice': 440, 'christ': 441, 'christian': 442, 'christiansyazidis': 443, 'christmas': 444, 'chriswarcraft': 445, 'chuck': 446, 'chuckle': 447, 'churner': 448, 'cia': 449, 'cityofmandurah': 450, 'civilian': 451, 'cjsajulga': 452, 'claim': 453, 'claiming': 454, 'clarify': 455, 'clearly': 456, 'close': 457, 'colin': 458, 'colins': 459, 'colonelkickhead': 460, 'come': 461, 'comedian': 462, 'coming': 463, 'comment': 464, 'committed': 465, 'compensation': 466, 'competition': 467, 'complains': 468, 'completely': 469, 'compromise': 470, 'concerned': 471, 'conclusion': 472, 'conducting': 473, 'configuration': 474, 'confuse': 475, 'conserv_miss': 476, 'consider': 477, 'conspiracy': 478, 'constant': 479, 'constantly': 480, 'constructed': 481, 'content': 482, 'contradicted': 483, 'contributing': 484, 'cook': 485, 'cooked': 486, 'cooking': 487, 'cordial': 488, 'cornflakes': 489, 'could': 490, 'country': 491, 'couple': 492, 'court': 493, 'coworkers': 494, 'coz': 495, 'crabfest15': 496, 'crap': 497, 'crash': 498, 'created': 499, 'creates': 500, 'creating': 501, 'credibility': 502, 'cretin': 503, 'critiquing': 504, 'culture': 505, 'cunt': 506, 'cup': 507, 'curd': 508, 'curious': 509, 'customer': 510, 'cut': 511, 'cuz': 512, 'cytheria': 513, 'd20': 514, 'daesh': 515, 'damn': 516, 'danhickey2199': 517, 'danis': 518, 'data': 519, 'dave': 520, 'davidjo52951945': 521, 'davidsgallant': 522, 'dc': 523, 'dead': 524, 'deal': 525, 'death': 526, 'declared': 527, 'deconstruct': 528, 'deconstructing': 529, 'deduction': 530, 'defend': 531, 'definitely': 532, 'delicate': 533, 'demanded': 534, 'dentist': 535, 'describes': 536, 'desire': 537, 'desk': 538, 'desperately': 539, 'dessert': 540, 'destined': 541, 'destroys': 542, 'deusexjuice': 543, 'devops': 544, 'dick': 545, 'dictatorship': 546, 'didazahra': 547, 'didnt': 548, 'difference': 549, 'different': 550, 'direct': 551, 'direction': 552, 'directly': 553, 'discrimination': 554, 'disgrace': 555, 'disgusted': 556, 'disgusting': 557, 'dish': 558, 'disheartened': 559, 'disturbing': 560, 'divisiveness': 561, 'dkim': 562, 'doctor': 563, 'doesnt': 564, 'dogging': 565, 'doh': 566, 'dolly': 567, 'domestic': 568, 'done': 569, 'dont': 570, 'double': 571, 'draskos': 572, 'drdisco_': 573, 'dream': 574, 'dreamer': 575, 'dreaminpng': 576, 'drive': 577, 'drivemaneuveroperate': 578, 'driver': 579, 'driving': 580, 'dropped': 581, 'dry': 582, 'dubhe80': 583, 'duckiemcphee': 584, 'dude': 585, 'due': 586, 'dumb': 587, 'dumbest': 588, 'dummy': 589, 'dye': 590, 'dying': 591, 'ear': 592, 'earth': 593, 'easier': 594, 'easy': 595, 'eat': 596, 'ebola': 597, 'ebooks': 598, 'economics': 599, 'econtried': 600, 'edible': 601, 'efficient': 602, 'effort': 603, 'egypt': 604, 'egyptian': 605, 'either': 606, 'else': 607, 'email': 608, 'emilie': 609, 'empty': 610, 'endless': 611, 'enemy': 612, 'engaging': 613, 'enough': 614, 'enslaved': 615, 'entertaining': 616, 'entree': 617, 'ep': 618, 'episode': 619, 'equal': 620, 'equalpay': 621, 'espn': 622, 'eternity': 623, 'etsho127': 624, 'evacuated': 625, 'evans': 626, 'even': 627, 'eventually': 628, 'ever': 629, 'every': 630, 'everyone': 631, 'everything': 632, 'evidence': 633, 'evilsunbro': 634, 'ew': 635, 'except': 636, 'excited': 637, 'excuse': 638, 'executed': 639, 'expect': 640, 'expedition': 641, 'expertise': 642, 'explain': 643, 'explained': 644, 'expression': 645, 'exterminate': 646, 'extreme': 647, 'eye': 648, 'eyesmkr': 649, 'ezidi': 650, 'ezidipress': 651, 'ezidis': 652, 'face': 653, 'faced': 654, 'fact': 655, 'faded': 656, 'fail': 657, 'fair': 658, 'fan': 659, 'fanatic': 660, 'fascist': 661, 'fat': 662, 'feardept': 663, 'feel': 664, 'feeling': 665, 'female': 666, 'femfreefriday': 667, 'feminism': 668, 'feminist': 669, 'fetch': 670, 'fetish': 671, 'fewer': 672, 'fight': 673, 'fighting': 674, 'filthy': 675, 'finally': 676, 'find': 677, 'fine': 678, 'finger': 679, 'first': 680, 'flip': 681, 'flying': 682, 'folk': 683, 'followed': 684, 'food': 685, 'foot': 686, 'forbidden': 687, 'force': 688, 'forced': 689, 'ford': 690, 'form': 691, 'formula': 692, 'fought': 693, 'foxnews': 694, 'foxnewspolitics': 695, 'free': 696, 'freebsd': 697, 'freebsdgirl': 698, 'freedom': 699, 'freezer': 700, 'fried': 701, 'friend': 702, 'fuck': 703, 'fucking': 704, 'fucktards': 705, 'fun': 706, 'funding': 707, 'fyoudbag': 708, 'gailsimone': 709, 'gal': 710, 'game': 711, 'gamergate': 712, 'gangraped': 713, 'gap': 714, 'garbage': 715, 'garydlum': 716, 'gaters': 717, 'gatery': 718, 'gator': 719, 'gbazov': 720, 'gel': 721, 'genius': 722, 'genocide': 723, 'get': 724, 'getting': 725, 'gg': 726, 'ggautoblocker': 727, 'ggreenwald': 728, 'gilmore': 729, 'girl': 730, 'girlziplocked': 731, 'give': 732, 'given': 733, 'giving': 734, 'glad': 735, 'glhf': 736, 'glove': 737, 'go': 738, 'god': 739, 'going': 740, 'gon': 741, 'gone': 742, 'good': 743, 'goodluck': 744, 'gosh': 745, 'got': 746, 'govt': 747, 'grafana': 748, 'grahamdavida': 749, 'great': 750, 'greater': 751, 'greenlinerzjm': 752, 'grin': 753, 'gross': 754, 'ground': 755, 'group': 756, 'grow': 757, 'grown': 758, 'guardian': 759, 'gueensland': 760, 'guess': 761, 'guilt': 762, 'gulf': 763, 'gumboots': 764, 'guy': 765, 'hadith': 766, 'haha': 767, 'hair': 768, 'halalflaws': 769, 'hamas': 770, 'hand': 771, 'handle': 772, 'happen': 773, 'happened': 774, 'happens': 775, 'happy': 776, 'happycampers': 777, 'harassed': 778, 'harassment': 779, 'haroonstyles': 780, 'harshly': 781, 'hate': 782, 'hated': 783, 'hatefilled': 784, 'hating': 785, 'hatred': 786, 'havent': 787, 'hawaiinshirts': 788, 'hayles_comet': 789, 'he': 790, 'head': 791, 'heart': 792, 'hell': 793, 'hello': 794, 'help': 795, 'helping': 796, 'here': 797, 'hide': 798, 'hilarious': 799, 'himat': 800, 'hit': 801, 'hitler': 802, 'hockey': 803, 'holder': 804, 'home': 805, 'homophobe': 806, 'honestly': 807, 'hope': 808, 'hoping': 809, 'hostage': 810, 'however': 811, 'hows': 812, 'ht': 813, 'http': 814, 'httpstco6kgw1lejfr': 815, 'httpstcoum5svjgazu': 816, 'httpstcoxufwsigxfk': 817, 'httpt': 818, 'httptco': 819, 'httptco1pl9gqrdp7': 820, 'httptco4u': 821, 'httptco5vsf5jroi6': 822, 'httptco8xldnwbvzx': 823, 'httptcobwr6ap0ooo': 824, 'httptcocaxxus108l': 825, 'httptcocbcr9u4fc9': 826, 'httptcodajgdn1wy3': 827, 'httptcoddecobanzx': 828, 'httptcoganrh4k87a': 829, 'httptcogbvojnmbcv': 830, 'httptcoglncgkuukp': 831, 'httptcoh8f7n04q5o': 832, 'httptcom4jcka5ir0': 833, 'httptcom5j2tpksm5': 834, 'httptcomdb4iu9whd': 835, 'httptcomxuw3hz4tb': 836, 'httptconleyqfnkyp': 837, 'httptcontojwo4lnt': 838, 'httptcoocsy7crghf': 839, 'httptcopfs5zlkt07': 840, 'httptcopnhzjrhhqr': 841, 'httptcoq95ei17sua': 842, 'httptcoqaa6bwi4pm': 843, 'httptcoqmdsdtfvya': 844, 'httptcoqv': 845, 'httptcorbthvmh9jj': 846, 'httptcospmvzcjj6o': 847, 'httptcot65iytpvdk': 848, 'httptcotfsodcowbx': 849, 'httptcoumkitlb5h9': 850, 'httptcouq19q6pnaq': 851, 'httptcovanp6y7clr': 852, 'httptcowhy3a8o33z': 853, 'httptcoyspbfitztb': 854, 'hugged': 855, 'human': 856, 'humanistfury': 857, 'humanity': 858, 'hungrycampers': 859, 'hw': 860, 'hypatiadotca': 861, 'hypocrite': 862, 'ice': 863, 'id': 864, 'idea': 865, 'ideaology': 866, 'ideaor': 867, 'ideology': 868, 'idiot': 869, 'idiotim': 870, 'idontneedfeminism': 871, 'ied': 872, 'ignorance': 873, 'ignorant': 874, 'ignoring': 875, 'ihatethiskid': 876, 'illegal': 877, 'ilovebreakfast': 878, 'iloveobama': 879, 'imagine': 880, 'imperialism': 881, 'implies': 882, 'info': 883, 'information': 884, 'input': 885, 'instant': 886, 'instead': 887, 'insufferable': 888, 'insulted': 889, 'insulting': 890, 'integration': 891, 'intel': 892, 'interact': 893, 'interest': 894, 'interesting': 895, 'international': 896, 'internet': 897, 'intersection': 898, 'intolerance': 899, 'invented': 900, 'iraq': 901, 'iron': 902, 'isi': 903, 'isisutterly': 904, 'islam': 905, 'islamdefense': 906, 'islamic': 907, 'islamist': 908, 'isnt': 909, 'israel': 910, 'israeliregime': 911, 'issue': 912, 'itll': 913, 'itsbariecool': 914, 'itsfact': 915, 'ive': 916, 'ivyexec': 917, 'izrinhariri': 918, 'jac': 919, 'jealous': 920, 'jeffreygoldberg': 921, 'jennykutner': 922, 'jeremiahfelt': 923, 'jew': 924, 'jhamby': 925, 'jihadis': 926, 'jimcramer': 927, 'jncatron': 928, 'job': 929, 'johncantile': 930, 'johnnygjokaj': 931, 'joke': 932, 'journalist': 933, 'judge': 934, 'juliet777777': 935, 'justhonest': 936, 'justkelly_ok': 937, 'kardashian': 938, 'kat': 939, 'katampandre': 940, 'katandandre': 941, 'katie': 942, 'katieandnikki': 943, 'keep': 944, 'keyboard': 945, 'keynote': 946, 'kid': 947, 'kidding': 948, 'kill': 949, 'killa': 950, 'killed': 951, 'killerblondes': 952, 'killing': 953, 'kind': 954, 'kirkuk': 955, 'kmactane': 956, 'knew': 957, 'know': 958, 'knowingly': 959, 'kobane': 960, 'kuffir': 961, 'kurd': 962, 'kurdish': 963, 'lad': 964, 'lady': 965, 'lajouetreine': 966, 'large': 967, 'last': 968, 'latest': 969, 'laugh': 970, 'launcher': 971, 'law': 972, 'lazy': 973, 'lb': 974, 'le': 975, 'lead': 976, 'leaning': 977, 'led': 978, 'left': 979, 'legitimately': 980, 'lemon': 981, 'lesson': 982, 'letting': 983, 'level': 984, 'liar': 985, 'liberate': 986, 'libya': 987, 'license': 988, 'licking': 989, 'lie': 990, 'lied': 991, 'life': 992, 'light': 993, 'like': 994, 'likely': 995, 'lilbeastunleash': 996, 'lime': 997, 'line': 998, 'link': 999, 'lipstick': 1000, 'lisamromano': 1001, 'lissasauras': 1002, 'listen': 1003, 'lithobolos': 1004, 'little': 1005, 'live': 1006, 'liver': 1007, 'lol': 1008, 'long': 1009, 'loo': 1010, 'look': 1011, 'looked': 1012, 'looking': 1013, 'lose': 1014, 'loser': 1015, 'lost': 1016, 'lot': 1017, 'love': 1018, 'low': 1019, 'lt3': 1020, 'luck': 1021, 'lunatic': 1022, 'm_m_myers': 1023, 'maajidnawaz': 1024, 'mad': 1025, 'madasahatter_17': 1026, 'maddr11': 1027, 'made': 1028, 'magazine': 1029, 'magnus919': 1030, 'maja_stina': 1031, 'major': 1032, 'majority': 1033, 'make': 1034, 'making': 1035, 'mami_mermelada': 1036, 'man': 1037, 'manbabies': 1038, 'manu': 1039, 'manure': 1040, 'many': 1041, 'map': 1042, 'marc_leibowitz': 1043, 'market': 1044, 'markimbriaco': 1045, 'maroon': 1046, 'marriage': 1047, 'married': 1048, 'masontillidie': 1049, 'math': 1050, 'matter': 1051, 'mattybboi83': 1052, 'maxblumenthal': 1053, 'maxcaras': 1054, 'may': 1055, 'maybe': 1056, 'mccheesy904': 1057, 'mean': 1058, 'meaning': 1059, 'meatball': 1060, 'medium': 1061, 'meh': 1062, 'mehdirhasan': 1063, 'mellym09': 1064, 'melting': 1065, 'mention': 1066, 'menu': 1067, 'messed': 1068, 'microbrain': 1069, 'middle': 1070, 'military': 1071, 'militia': 1072, 'minasmith64': 1073, 'minister': 1074, 'minority': 1075, 'miskelayla': 1076, 'miss': 1077, 'missed': 1078, 'missing': 1079, 'mkr': 1080, 'mkr2015': 1081, 'mkrkat': 1082, 'mmmm': 1083, 'model': 1084, 'moderate': 1085, 'modern': 1086, 'mohammed': 1087, 'monday': 1088, 'month': 1089, 'moron': 1090, 'mosul': 1091, 'mouth': 1092, 'moving': 1093, 'much': 1094, 'mugnezee': 1095, 'multiple': 1096, 'murde': 1097, 'murder': 1098, 'murdered': 1099, 'murtaza': 1100, 'muslim': 1101, 'mutilated': 1102, 'mykitchenrules': 1103, 'mystrongstate': 1104, 'naga': 1105, 'nainfidels': 1106, 'naminglisting': 1107, 'narîn': 1108, 'nasty': 1109, 'naturally': 1110, 'nazi': 1111, 'near': 1112, 'necessarily': 1113, 'need': 1114, 'needarethinkinformat': 1115, 'negated': 1116, 'negotiate': 1117, 'never': 1118, 'new': 1119, 'newscoverup': 1120, 'next': 1121, 'nice': 1122, 'nigelbigmeech': 1123, 'night': 1124, 'nikki': 1125, 'nobody': 1126, 'noise': 1127, 'none': 1128, 'nooo': 1129, 'nope': 1130, 'note': 1131, 'nothing': 1132, 'notsexist': 1133, 'novorossiyan': 1134, 'number': 1135, 'number10gov': 1136, 'nytimes': 1137, 'obamacare': 1138, 'obamas': 1139, 'obviously': 1140, 'occasion': 1141, 'offense': 1142, 'offensive': 1143, 'offering': 1144, 'oh': 1145, 'oil': 1146, 'oktar': 1147, 'old': 1148, 'oldgfatherclock': 1149, 'one': 1150, 'open': 1151, 'opener': 1152, 'opinion': 1153, 'opponent': 1154, 'opposed': 1155, 'optional': 1156, 'oreilly': 1157, 'org': 1158, 'origin': 1159, 'others': 1160, 'outside': 1161, 'overweight': 1162, 'p': 1163, 'page': 1164, 'painful': 1165, 'pakistan': 1166, 'paknsave': 1167, 'palestine': 1168, 'pancake': 1169, 'paraketa': 1170, 'parent': 1171, 'paris': 1172, 'participate': 1173, 'passport': 1174, 'past': 1175, 'pastor': 1176, 'patrickosgood': 1177, 'pawarnhoff': 1178, 'pay': 1179, 'paying': 1180, 'pc': 1181, 'peace': 1182, 'peacenothate_': 1183, 'pedophile': 1184, 'pedophilia': 1185, 'penalty': 1186, 'people': 1187, 'peopleschoice': 1188, 'perfect': 1189, 'period': 1190, 'perk': 1191, 'perl': 1192, 'personality': 1193, 'pervious': 1194, 'peymaneh123': 1195, 'phxken': 1196, 'pie': 1197, 'piece': 1198, 'pile': 1199, 'pilgars': 1200, 'pilot': 1201, 'pissing': 1202, 'pjnet': 1203, 'plane': 1204, 'planning': 1205, 'playing': 1206, 'playstations': 1207, 'please': 1208, 'pleasing': 1209, 'point': 1210, 'pole': 1211, 'police': 1212, 'political': 1213, 'politicalant': 1214, 'politics_pr': 1215, 'poor': 1216, 'poorly': 1217, 'population': 1218, 'portland': 1219, 'possible': 1220, 'post': 1221, 'posting': 1222, 'power': 1223, 'present': 1224, 'pressure': 1225, 'pretend': 1226, 'pretty': 1227, 'previous': 1228, 'price': 1229, 'prime': 1230, 'prisonersofwar': 1231, 'pro': 1232, 'probably': 1233, 'problem': 1234, 'problematic': 1235, 'producer': 1236, 'production': 1237, 'profile': 1238, 'project': 1239, 'promise': 1240, 'promo': 1241, 'promogirls': 1242, 'promoted': 1243, 'proof': 1244, 'propaganda': 1245, 'prophet': 1246, 'prospect': 1247, 'protecting': 1248, 'prove': 1249, 'provide': 1250, 'provision': 1251, 'psog': 1252, 'psogeco': 1253, 'public': 1254, 'punch': 1255, 'purse': 1256, 'put': 1257, 'question': 1258, 'questionsformen': 1259, 'quietly': 1260, 'quit': 1261, 'quite': 1262, 'quran': 1263, 'r': 1264, 'race': 1265, 'racist': 1266, 'raised': 1267, 'random': 1268, 'ransom': 1269, 'rape': 1270, 'raped': 1271, 'rapper': 1272, 'rapperguydmv': 1273, 'raqqa': 1274, 'raqqa_sl': 1275, 'rate': 1276, 'rather': 1277, 'ratio': 1278, 'ravenhuwolf': 1279, 'raw': 1280, 'react': 1281, 'read': 1282, 'readable': 1283, 'real': 1284, 'really': 1285, 'realtalk': 1286, 'reason': 1287, 'reasonably': 1288, 'rebel': 1289, 'recall': 1290, 'reckless': 1291, 'recognize': 1292, 'recommends': 1293, 'record': 1294, 'recruit': 1295, 'recuperate': 1296, 'redux': 1297, 'reevaluate': 1298, 'reference': 1299, 'referring': 1300, 'refine': 1301, 'regarding': 1302, 'regulation': 1303, 'rejected': 1304, 'relationship': 1305, 'release': 1306, 'religion': 1307, 'religious': 1308, 'relisha': 1309, 'reload': 1310, 'remember': 1311, 'reminded': 1312, 'rennie93': 1313, 'repeatedly': 1314, 'repetition': 1315, 'replacement': 1316, 'report': 1317, 'reputation': 1318, 'request': 1319, 'resorting': 1320, 'respond': 1321, 'restaurant': 1322, 'retreat': 1323, 'revolting': 1324, 'rigged': 1325, 'right': 1326, 'rinehart33': 1327, 'rip': 1328, 'rjennromao': 1329, 'rkhayer': 1330, 'rkinglive2dance': 1331, 'rob': 1332, 'robbed': 1333, 'robert': 1334, 'robinriedstra': 1335, 'roll': 1336, 'roof': 1337, 'room': 1338, 'rooshv': 1339, 'rose': 1340, 'rotherham': 1341, 'rougek68': 1342, 'round': 1343, 'routinely': 1344, 'rt': 1345, 'rts': 1346, 'rudawenglish': 1347, 'rudd': 1348, 'rude': 1349, 'rudoren': 1350, 'ruin': 1351, 'run': 1352, 'running': 1353, 'russian': 1354, 'said': 1355, 'sajid_fairooz': 1356, 'sake': 1357, 'salmon': 1358, 'salon': 1359, 'salty': 1360, 'santa': 1361, 'sarah_jane666': 1362, 'sas': 1363, 'satire': 1364, 'saudi': 1365, 'sausage': 1366, 'save': 1367, 'saw': 1368, 'say': 1369, 'scared': 1370, 'schmeezi': 1371, 'school': 1372, 'score': 1373, 'scratch': 1374, 'screencaps': 1375, 'script': 1376, 'scripted': 1377, 'scroll': 1378, 'scum': 1379, 'season': 1380, 'see': 1381, 'seen': 1382, 'segment': 1383, 'self': 1384, 'selfies': 1385, 'selling': 1386, 'sellout': 1387, 'semite': 1388, 'semzyxx': 1389, 'sensitive': 1390, 'sent': 1391, 'serious': 1392, 'serlasco': 1393, 'serve': 1394, 'served': 1395, 'service': 1396, 'serving': 1397, 'set': 1398, 'setup': 1399, 'sex': 1400, 'sexhonest': 1401, 'sexism': 1402, 'sexist': 1403, 'sexually': 1404, 'shami_is_back': 1405, 'shaz': 1406, 'shell': 1407, 'sherri': 1408, 'shia': 1409, 'shingal': 1410, 'shirt': 1411, 'shit': 1412, 'shoe0nhead': 1413, 'short': 1414, 'shovel': 1415, 'show': 1416, 'shower': 1417, 'shred': 1418, 'shut': 1419, 'sick': 1420, 'side': 1421, 'sighhhh': 1422, 'simpson': 1423, 'since': 1424, 'singer': 1425, 'sinjar': 1426, 'sirgoldenrod': 1427, 'six': 1428, 'skank': 1429, 'slap': 1430, 'slave': 1431, 'slaved': 1432, 'sleep': 1433, 'sleeping': 1434, 'slide': 1435, 'slightly': 1436, 'sloshedtrain2': 1437, 'slow': 1438, 'smack': 1439, 'smackem': 1440, 'small': 1441, 'smarter': 1442, 'smash': 1443, 'sold': 1444, 'soldier': 1445, 'someone': 1446, 'something': 1447, 'sometimes': 1448, 'somewhat': 1449, 'soon': 1450, 'sorbent': 1451, 'sorbet': 1452, 'sorry': 1453, 'sorrynotsorry': 1454, 'sound': 1455, 'source': 1456, 'space': 1457, 'spacekatgal': 1458, 'spam': 1459, 'spatchcock': 1460, 'speak': 1461, 'speaking': 1462, 'speech': 1463, 'spiritual': 1464, 'spoiled': 1465, 'sport': 1466, 'sports2inflatio': 1467, 'sputnik': 1468, 'srhbutts': 1469, 'stalin': 1470, 'stand': 1471, 'standard': 1472, 'standing': 1473, 'starius': 1474, 'started': 1475, 'starting': 1476, 'state': 1477, 'statistic': 1478, 'stats': 1479, 'stay': 1480, 'stayed': 1481, 'staying': 1482, 'step': 1483, 'steve': 1484, 'stiff': 1485, 'still': 1486, 'stood': 1487, 'stop': 1488, 'stopping': 1489, 'stopwadhwa2015': 1490, 'story': 1491, 'strategically': 1492, 'streaming': 1493, 'stretch': 1494, 'strike': 1495, 'strong': 1496, 'struggle': 1497, 'student': 1498, 'stuff': 1499, 'stupid': 1500, 'stylist': 1501, 'subject': 1502, 'subtle': 1503, 'success': 1504, 'suck': 1505, 'sudixitca': 1506, 'suicide': 1507, 'super': 1508, 'superior': 1509, 'support': 1510, 'supported': 1511, 'sure': 1512, 'surgery': 1513, 'swallow': 1514, 'switching': 1515, 'syazlicious': 1516, 'syria': 1517, 'systemic': 1518, 'tacky': 1519, 'taken': 1520, 'taking': 1521, 'tal': 1522, 'taliban': 1523, 'talk': 1524, 'talladega': 1525, 'taqiyya': 1526, 'tart': 1527, 'tasteless': 1528, 'tatibresolin': 1529, 'tbh': 1530, 'tbielawa': 1531, 'tcot': 1532, 'teach': 1533, 'teaching': 1534, 'team': 1535, 'tell': 1536, 'telling': 1537, 'tempting': 1538, 'terrible': 1539, 'terror': 1540, 'terrorism': 1541, 'terrorist': 1542, 'testicle': 1543, 'texasarlington': 1544, 'thanks': 1545, 'thatll': 1546, 'thats': 1547, 'theckman': 1548, 'thegoodguysau': 1549, 'themselvespffft': 1550, 'themuslimguy': 1551, 'thequinnspiracy': 1552, 'there': 1553, 'theyre': 1554, 'thing': 1555, 'think': 1556, 'thinking': 1557, 'third': 1558, 'thought': 1559, 'threw': 1560, 'throw': 1561, 'tied': 1562, 'tim': 1563, 'time': 1564, 'timespan': 1565, 'tiny': 1566, 'tip': 1567, 'tnr': 1568, 'today': 1569, 'todayreal': 1570, 'told': 1571, 'tolerate': 1572, 'tomato': 1573, 'tonight': 1574, 'tool': 1575, 'top': 1576, 'total': 1577, 'train': 1578, 'translator': 1579, 'treating': 1580, 'trend': 1581, 'tried': 1582, 'tripple': 1583, 'trolley': 1584, 'troop': 1585, 'trophy': 1586, 'truly': 1587, 'try': 1588, 'trying': 1589, 'turf': 1590, 'turk': 1591, 'tv': 1592, 'tw': 1593, 'tweet': 1594, 'twist': 1595, 'twista202': 1596, 'twitter': 1597, 'two': 1598, 'typed': 1599, 'typically': 1600, 'typo': 1601, 'u': 1602, 'ugly': 1603, 'ukraine': 1604, 'ukrainian': 1605, 'ultrafundamentalist': 1606, 'unacceptable': 1607, 'unapologetic': 1608, 'unashamed': 1609, 'uncalled': 1610, 'understand': 1611, 'understands': 1612, 'unfair': 1613, 'uninvolved': 1614, 'university': 1615, 'update': 1616, 'upon': 1617, 'use': 1618, 'user': 1619, 'username': 1620, 'usually': 1621, 'valenti': 1622, 'value': 1623, 'vc': 1624, 'vcs': 1625, 'venereveritas13': 1626, 'versa': 1627, 'verse': 1628, 'via': 1629, 'vice': 1630, 'victim': 1631, 'victorymonk': 1632, 'video': 1633, 'videobeautiful': 1634, 'violence': 1635, 'voice': 1636, 'vonta624': 1637, 'vote': 1638, 'voted': 1639, 'w': 1640, 'wadhwa': 1641, 'wait': 1642, 'waiting': 1643, 'wakeuplibsgtjoenbc': 1644, 'walk': 1645, 'wan': 1646, 'wanted': 1647, 'washed': 1648, 'washingtonpost': 1649, 'wasnt': 1650, 'watched': 1651, 'watching': 1652, 'way': 1653, 'week': 1654, 'weekly': 1655, 'well': 1656, 'went': 1657, 'werent': 1658, 'west': 1659, 'western': 1660, 'wheat': 1661, 'wheel': 1662, 'whereisyourdignity': 1663, 'whether': 1664, 'whiny': 1665, 'white': 1666, 'whiteblack': 1667, 'whitening': 1668, 'whole': 1669, 'wi': 1670, 'wife': 1671, 'win': 1672, 'wing': 1673, 'wish': 1674, 'without': 1675, 'witty': 1676, 'wizardryofozil': 1677, 'wks': 1678, 'wnba': 1679, 'wnyc': 1680, 'wocracial': 1681, 'woman': 1682, 'womenagainstfeminism': 1683, 'womeninterpret': 1684, 'word': 1685, 'work': 1686, 'worker': 1687, 'working': 1688, 'worse': 1689, 'worst': 1690, 'would': 1691, 'wouldnt': 1692, 'wouldve': 1693, 'wow': 1694, 'wrecking': 1695, 'write': 1696, 'writer': 1697, 'writing': 1698, 'wrong': 1699, 'xmjee': 1700, 'yall': 1701, 'yawn': 1702, 'yeah': 1703, 'year': 1704, 'yes': 1705, 'yesallwomen': 1706, 'yesyouresexist': 1707, 'yet': 1708, 'yield': 1709, 'youd': 1710, 'youll': 1711, 'young': 1712, 'youre': 1713, 'youtube': 1714, 'ypg': 1715, 'zaibatsunews': 1716, 'zene55': 1717, 'zero': 1718, 'zython86': 1719}\n"
          ],
          "name": "stdout"
        }
      ]
    },
    {
      "cell_type": "code",
      "metadata": {
        "id": "F3q8sUv7x2-q"
      },
      "source": [
        ""
      ],
      "execution_count": null,
      "outputs": []
    }
  ]
}